{
 "cells": [
  {
   "cell_type": "markdown",
   "metadata": {},
   "source": [
    "# Data Exploration"
   ]
  },
  {
   "cell_type": "markdown",
   "metadata": {},
   "source": [
    "Perform Data Exploration on the Consolidated Dataset"
   ]
  },
  {
   "cell_type": "code",
   "execution_count": 1,
   "metadata": {},
   "outputs": [],
   "source": [
    "import pandas as pd\n",
    "import matplotlib.pyplot as plt\n",
    "import seaborn as sns\n",
    "import pickle\n",
    "\n",
    "%matplotlib inline"
   ]
  },
  {
   "cell_type": "code",
   "execution_count": 2,
   "metadata": {},
   "outputs": [],
   "source": [
    "path_df = \"./Pickles/all_articles_raw.pickle\"\n",
    "\n",
    "with open(path_df, 'rb') as data:\n",
    "    articles = pickle.load(data)"
   ]
  },
  {
   "cell_type": "markdown",
   "metadata": {},
   "source": [
    "## News Source"
   ]
  },
  {
   "cell_type": "code",
   "execution_count": 3,
   "metadata": {},
   "outputs": [
    {
     "data": {
      "text/html": [
       "<div>\n",
       "<style scoped>\n",
       "    .dataframe tbody tr th:only-of-type {\n",
       "        vertical-align: middle;\n",
       "    }\n",
       "\n",
       "    .dataframe tbody tr th {\n",
       "        vertical-align: top;\n",
       "    }\n",
       "\n",
       "    .dataframe thead th {\n",
       "        text-align: right;\n",
       "    }\n",
       "</style>\n",
       "<table border=\"1\" class=\"dataframe\">\n",
       "  <thead>\n",
       "    <tr style=\"text-align: right;\">\n",
       "      <th></th>\n",
       "      <th>source</th>\n",
       "      <th>title</th>\n",
       "      <th>article</th>\n",
       "      <th>category</th>\n",
       "    </tr>\n",
       "  </thead>\n",
       "  <tbody>\n",
       "    <tr>\n",
       "      <th>0</th>\n",
       "      <td>The Straits Times</td>\n",
       "      <td>Body found in garbage chute area of Woodlands ...</td>\n",
       "      <td>SINGAPORE - A man's body was found on the grou...</td>\n",
       "      <td>Singapore</td>\n",
       "    </tr>\n",
       "    <tr>\n",
       "      <th>1</th>\n",
       "      <td>The Straits Times</td>\n",
       "      <td>Formula One: Thai Alexander Albon given chance...</td>\n",
       "      <td>London (AFP) - Thai Formula One driver Alexand...</td>\n",
       "      <td>Sports</td>\n",
       "    </tr>\n",
       "    <tr>\n",
       "      <th>2</th>\n",
       "      <td>The Straits Times</td>\n",
       "      <td>The Straits Times bags 8 wins at Asian Digital...</td>\n",
       "      <td>SINGAPORE - The Straits Times bagged eight awa...</td>\n",
       "      <td>Singapore</td>\n",
       "    </tr>\n",
       "    <tr>\n",
       "      <th>3</th>\n",
       "      <td>The Straits Times</td>\n",
       "      <td>Games</td>\n",
       "      <td>Ready for a challenge? Try out daily Sudoku an...</td>\n",
       "      <td>Lifestyle</td>\n",
       "    </tr>\n",
       "    <tr>\n",
       "      <th>4</th>\n",
       "      <td>The Straits Times</td>\n",
       "      <td>Hong Kong cancels all remaining Monday flights...</td>\n",
       "      <td>HONG KONG (BLOOMBERG) – Hong Kong airport auth...</td>\n",
       "      <td>World</td>\n",
       "    </tr>\n",
       "  </tbody>\n",
       "</table>\n",
       "</div>"
      ],
      "text/plain": [
       "              source                                              title  \\\n",
       "0  The Straits Times  Body found in garbage chute area of Woodlands ...   \n",
       "1  The Straits Times  Formula One: Thai Alexander Albon given chance...   \n",
       "2  The Straits Times  The Straits Times bags 8 wins at Asian Digital...   \n",
       "3  The Straits Times                                              Games   \n",
       "4  The Straits Times  Hong Kong cancels all remaining Monday flights...   \n",
       "\n",
       "                                             article   category  \n",
       "0  SINGAPORE - A man's body was found on the grou...  Singapore  \n",
       "1  London (AFP) - Thai Formula One driver Alexand...     Sports  \n",
       "2  SINGAPORE - The Straits Times bagged eight awa...  Singapore  \n",
       "3  Ready for a challenge? Try out daily Sudoku an...  Lifestyle  \n",
       "4  HONG KONG (BLOOMBERG) – Hong Kong airport auth...      World  "
      ]
     },
     "execution_count": 3,
     "metadata": {},
     "output_type": "execute_result"
    }
   ],
   "source": [
    "articles.head()"
   ]
  },
  {
   "cell_type": "code",
   "execution_count": 4,
   "metadata": {},
   "outputs": [
    {
     "data": {
      "text/plain": [
       "6717"
      ]
     },
     "execution_count": 4,
     "metadata": {},
     "output_type": "execute_result"
    }
   ],
   "source": [
    "len(articles)"
   ]
  },
  {
   "cell_type": "code",
   "execution_count": 5,
   "metadata": {},
   "outputs": [
    {
     "data": {
      "text/plain": [
       "Text(0.5, 1.0, 'News Source')"
      ]
     },
     "execution_count": 5,
     "metadata": {},
     "output_type": "execute_result"
    },
    {
     "data": {
      "image/png": "[encoded data removed]",
      "text/plain": [
       "<Figure size 864x432 with 1 Axes>"
      ]
     },
     "metadata": {
      "needs_background": "light"
     },
     "output_type": "display_data"
    }
   ],
   "source": [
    "plt.figure(figsize=(12,6))\n",
    "sns.countplot(x='source',data=articles,order=articles['source'].value_counts().iloc[:10].index,).set_title(\"News Source\")"
   ]
  },
  {
   "cell_type": "code",
   "execution_count": 6,
   "metadata": {},
   "outputs": [
    {
     "data": {
      "text/plain": [
       "Channel News Asia    6042\n",
       "The Straits Times     308\n",
       "AsiaOne               284\n",
       "The New Paper          83\n",
       "Name: source, dtype: int64"
      ]
     },
     "execution_count": 6,
     "metadata": {},
     "output_type": "execute_result"
    }
   ],
   "source": [
    "articles['source'].value_counts()"
   ]
  },
  {
   "cell_type": "markdown",
   "metadata": {},
   "source": [
    "## Article Categories"
   ]
  },
  {
   "cell_type": "code",
   "execution_count": 7,
   "metadata": {},
   "outputs": [
    {
     "data": {
      "text/plain": [
       "Text(0.5, 1.0, 'Categories')"
      ]
     },
     "execution_count": 7,
     "metadata": {},
     "output_type": "execute_result"
    },
    {
     "data": {
      "image/png": "[encoded data removed]",
      "text/plain": [
       "<Figure size 864x432 with 1 Axes>"
      ]
     },
     "metadata": {
      "needs_background": "light"
     },
     "output_type": "display_data"
    }
   ],
   "source": [
    "plt.figure(figsize=(12,6))\n",
    "sns.countplot(x='category',data=articles,order=articles['category'].value_counts().iloc[:10].index,).set_title(\"Categories\")"
   ]
  },
  {
   "cell_type": "code",
   "execution_count": 8,
   "metadata": {},
   "outputs": [
    {
     "data": {
      "text/plain": [
       "World         2212\n",
       "Singapore     2098\n",
       "Sports        1075\n",
       "Business      1071\n",
       "Lifestyle      225\n",
       "Technology      36\n",
       "Name: category, dtype: int64"
      ]
     },
     "execution_count": 8,
     "metadata": {},
     "output_type": "execute_result"
    }
   ],
   "source": [
    "articles['category'].value_counts()"
   ]
  },
  {
   "cell_type": "markdown",
   "metadata": {},
   "source": [
    "## Article Length"
   ]
  },
  {
   "cell_type": "code",
   "execution_count": 9,
   "metadata": {},
   "outputs": [
    {
     "data": {
      "text/html": [
       "<div>\n",
       "<style scoped>\n",
       "    .dataframe tbody tr th:only-of-type {\n",
       "        vertical-align: middle;\n",
       "    }\n",
       "\n",
       "    .dataframe tbody tr th {\n",
       "        vertical-align: top;\n",
       "    }\n",
       "\n",
       "    .dataframe thead th {\n",
       "        text-align: right;\n",
       "    }\n",
       "</style>\n",
       "<table border=\"1\" class=\"dataframe\">\n",
       "  <thead>\n",
       "    <tr style=\"text-align: right;\">\n",
       "      <th></th>\n",
       "      <th>source</th>\n",
       "      <th>title</th>\n",
       "      <th>article</th>\n",
       "      <th>category</th>\n",
       "      <th>length_characters</th>\n",
       "      <th>length_words</th>\n",
       "    </tr>\n",
       "  </thead>\n",
       "  <tbody>\n",
       "    <tr>\n",
       "      <th>0</th>\n",
       "      <td>The Straits Times</td>\n",
       "      <td>Body found in garbage chute area of Woodlands ...</td>\n",
       "      <td>SINGAPORE - A man's body was found on the grou...</td>\n",
       "      <td>Singapore</td>\n",
       "      <td>581</td>\n",
       "      <td>101</td>\n",
       "    </tr>\n",
       "    <tr>\n",
       "      <th>1</th>\n",
       "      <td>The Straits Times</td>\n",
       "      <td>Formula One: Thai Alexander Albon given chance...</td>\n",
       "      <td>London (AFP) - Thai Formula One driver Alexand...</td>\n",
       "      <td>Sports</td>\n",
       "      <td>1208</td>\n",
       "      <td>219</td>\n",
       "    </tr>\n",
       "    <tr>\n",
       "      <th>2</th>\n",
       "      <td>The Straits Times</td>\n",
       "      <td>The Straits Times bags 8 wins at Asian Digital...</td>\n",
       "      <td>SINGAPORE - The Straits Times bagged eight awa...</td>\n",
       "      <td>Singapore</td>\n",
       "      <td>4026</td>\n",
       "      <td>654</td>\n",
       "    </tr>\n",
       "    <tr>\n",
       "      <th>3</th>\n",
       "      <td>The Straits Times</td>\n",
       "      <td>Games</td>\n",
       "      <td>Ready for a challenge? Try out daily Sudoku an...</td>\n",
       "      <td>Lifestyle</td>\n",
       "      <td>400</td>\n",
       "      <td>77</td>\n",
       "    </tr>\n",
       "    <tr>\n",
       "      <th>4</th>\n",
       "      <td>The Straits Times</td>\n",
       "      <td>Hong Kong cancels all remaining Monday flights...</td>\n",
       "      <td>HONG KONG (BLOOMBERG) – Hong Kong airport auth...</td>\n",
       "      <td>World</td>\n",
       "      <td>7814</td>\n",
       "      <td>1228</td>\n",
       "    </tr>\n",
       "  </tbody>\n",
       "</table>\n",
       "</div>"
      ],
      "text/plain": [
       "              source                                              title  \\\n",
       "0  The Straits Times  Body found in garbage chute area of Woodlands ...   \n",
       "1  The Straits Times  Formula One: Thai Alexander Albon given chance...   \n",
       "2  The Straits Times  The Straits Times bags 8 wins at Asian Digital...   \n",
       "3  The Straits Times                                              Games   \n",
       "4  The Straits Times  Hong Kong cancels all remaining Monday flights...   \n",
       "\n",
       "                                             article   category  \\\n",
       "0  SINGAPORE - A man's body was found on the grou...  Singapore   \n",
       "1  London (AFP) - Thai Formula One driver Alexand...     Sports   \n",
       "2  SINGAPORE - The Straits Times bagged eight awa...  Singapore   \n",
       "3  Ready for a challenge? Try out daily Sudoku an...  Lifestyle   \n",
       "4  HONG KONG (BLOOMBERG) – Hong Kong airport auth...      World   \n",
       "\n",
       "   length_characters  length_words  \n",
       "0                581           101  \n",
       "1               1208           219  \n",
       "2               4026           654  \n",
       "3                400            77  \n",
       "4               7814          1228  "
      ]
     },
     "execution_count": 9,
     "metadata": {},
     "output_type": "execute_result"
    }
   ],
   "source": [
    "articles['length_characters'] = articles['article'].apply(len)\n",
    "articles['length_words']=articles['article'].str.split().str.len()\n",
    "articles.head()"
   ]
  },
  {
   "cell_type": "code",
   "execution_count": 10,
   "metadata": {},
   "outputs": [
    {
     "data": {
      "image/png": "[encoded data removed]",
      "text/plain": [
       "<Figure size 576x432 with 1 Axes>"
      ]
     },
     "metadata": {
      "needs_background": "light"
     },
     "output_type": "display_data"
    }
   ],
   "source": [
    "plt.figure(figsize=(8,6))\n",
    "sns.distplot(articles['length_characters']).set_title('Article Character Length distribution');"
   ]
  },
  {
   "cell_type": "code",
   "execution_count": 11,
   "metadata": {},
   "outputs": [
    {
     "data": {
      "text/plain": [
       "count     6717.000000\n",
       "mean      2733.967545\n",
       "std       2149.934224\n",
       "min        147.000000\n",
       "25%       1431.000000\n",
       "50%       2185.000000\n",
       "75%       3367.000000\n",
       "max      29720.000000\n",
       "Name: length_characters, dtype: float64"
      ]
     },
     "execution_count": 11,
     "metadata": {},
     "output_type": "execute_result"
    }
   ],
   "source": [
    "articles['length_characters'].describe()"
   ]
  },
  {
   "cell_type": "code",
   "execution_count": 12,
   "metadata": {},
   "outputs": [
    {
     "data": {
      "image/png": "[encoded data removed]",
      "text/plain": [
       "<Figure size 576x432 with 1 Axes>"
      ]
     },
     "metadata": {
      "needs_background": "light"
     },
     "output_type": "display_data"
    }
   ],
   "source": [
    "plt.figure(figsize=(8,6))\n",
    "sns.distplot(articles['length_words']).set_title('Article Word Length distribution');"
   ]
  },
  {
   "cell_type": "code",
   "execution_count": 13,
   "metadata": {},
   "outputs": [
    {
     "data": {
      "text/plain": [
       "count    6717.000000\n",
       "mean      448.734405\n",
       "std       357.574246\n",
       "min        21.000000\n",
       "25%       235.000000\n",
       "50%       357.000000\n",
       "75%       553.000000\n",
       "max      5350.000000\n",
       "Name: length_words, dtype: float64"
      ]
     },
     "execution_count": 13,
     "metadata": {},
     "output_type": "execute_result"
    }
   ],
   "source": [
    "articles['length_words'].describe()"
   ]
  },
  {
   "cell_type": "markdown",
   "metadata": {},
   "source": [
    "### Longest Article"
   ]
  },
  {
   "cell_type": "code",
   "execution_count": 14,
   "metadata": {},
   "outputs": [
    {
     "data": {
      "text/html": [
       "<div>\n",
       "<style scoped>\n",
       "    .dataframe tbody tr th:only-of-type {\n",
       "        vertical-align: middle;\n",
       "    }\n",
       "\n",
       "    .dataframe tbody tr th {\n",
       "        vertical-align: top;\n",
       "    }\n",
       "\n",
       "    .dataframe thead th {\n",
       "        text-align: right;\n",
       "    }\n",
       "</style>\n",
       "<table border=\"1\" class=\"dataframe\">\n",
       "  <thead>\n",
       "    <tr style=\"text-align: right;\">\n",
       "      <th></th>\n",
       "      <th>source</th>\n",
       "      <th>title</th>\n",
       "      <th>article</th>\n",
       "      <th>category</th>\n",
       "      <th>length_characters</th>\n",
       "      <th>length_words</th>\n",
       "    </tr>\n",
       "  </thead>\n",
       "  <tbody>\n",
       "    <tr>\n",
       "      <th>338</th>\n",
       "      <td>The Straits Times</td>\n",
       "      <td>Multiple women say opera star Placido Domingo ...</td>\n",
       "      <td>\\nNEW YORK (AP) - For decades, Placido Domingo...</td>\n",
       "      <td>Lifestyle</td>\n",
       "      <td>29720</td>\n",
       "      <td>5350</td>\n",
       "    </tr>\n",
       "  </tbody>\n",
       "</table>\n",
       "</div>"
      ],
      "text/plain": [
       "                source                                              title  \\\n",
       "338  The Straits Times  Multiple women say opera star Placido Domingo ...   \n",
       "\n",
       "                                               article   category  \\\n",
       "338  \\nNEW YORK (AP) - For decades, Placido Domingo...  Lifestyle   \n",
       "\n",
       "     length_characters  length_words  \n",
       "338              29720          5350  "
      ]
     },
     "execution_count": 14,
     "metadata": {},
     "output_type": "execute_result"
    }
   ],
   "source": [
    "articles[articles['length_words']==5350]"
   ]
  },
  {
   "cell_type": "markdown",
   "metadata": {},
   "source": [
    "### Shortest Article"
   ]
  },
  {
   "cell_type": "code",
   "execution_count": 15,
   "metadata": {},
   "outputs": [],
   "source": [
    "liverpool = articles[articles['length_words']==21]"
   ]
  },
  {
   "cell_type": "code",
   "execution_count": 16,
   "metadata": {},
   "outputs": [
    {
     "data": {
      "text/plain": [
       "4473    LONDON: Liverpool have completed the signing o...\n",
       "Name: article, dtype: object"
      ]
     },
     "execution_count": 16,
     "metadata": {},
     "output_type": "execute_result"
    }
   ],
   "source": [
    "liverpool['article']"
   ]
  },
  {
   "cell_type": "markdown",
   "metadata": {},
   "source": [
    "### Article Length by Category"
   ]
  },
  {
   "cell_type": "code",
   "execution_count": 17,
   "metadata": {},
   "outputs": [
    {
     "data": {
      "image/png": "[encoded data removed]",
      "text/plain": [
       "<Figure size 864x432 with 1 Axes>"
      ]
     },
     "metadata": {
      "needs_background": "light"
     },
     "output_type": "display_data"
    }
   ],
   "source": [
    "plt.figure(figsize=(12,6))\n",
    "sns.boxplot(data=articles, x='category', y='length_words', width=.5);"
   ]
  },
  {
   "cell_type": "code",
   "execution_count": 18,
   "metadata": {},
   "outputs": [
    {
     "data": {
      "text/html": [
       "<div>\n",
       "<style scoped>\n",
       "    .dataframe tbody tr th:only-of-type {\n",
       "        vertical-align: middle;\n",
       "    }\n",
       "\n",
       "    .dataframe tbody tr th {\n",
       "        vertical-align: top;\n",
       "    }\n",
       "\n",
       "    .dataframe thead th {\n",
       "        text-align: right;\n",
       "    }\n",
       "</style>\n",
       "<table border=\"1\" class=\"dataframe\">\n",
       "  <thead>\n",
       "    <tr style=\"text-align: right;\">\n",
       "      <th></th>\n",
       "      <th>count</th>\n",
       "      <th>mean</th>\n",
       "      <th>std</th>\n",
       "      <th>min</th>\n",
       "      <th>25%</th>\n",
       "      <th>50%</th>\n",
       "      <th>75%</th>\n",
       "      <th>max</th>\n",
       "    </tr>\n",
       "    <tr>\n",
       "      <th>category</th>\n",
       "      <th></th>\n",
       "      <th></th>\n",
       "      <th></th>\n",
       "      <th></th>\n",
       "      <th></th>\n",
       "      <th></th>\n",
       "      <th></th>\n",
       "      <th></th>\n",
       "    </tr>\n",
       "  </thead>\n",
       "  <tbody>\n",
       "    <tr>\n",
       "      <th>Business</th>\n",
       "      <td>1071.0</td>\n",
       "      <td>411.882353</td>\n",
       "      <td>261.883789</td>\n",
       "      <td>39.0</td>\n",
       "      <td>235.50</td>\n",
       "      <td>360.0</td>\n",
       "      <td>534.0</td>\n",
       "      <td>3040.0</td>\n",
       "    </tr>\n",
       "    <tr>\n",
       "      <th>Lifestyle</th>\n",
       "      <td>225.0</td>\n",
       "      <td>854.506667</td>\n",
       "      <td>647.982839</td>\n",
       "      <td>39.0</td>\n",
       "      <td>418.00</td>\n",
       "      <td>638.0</td>\n",
       "      <td>1191.0</td>\n",
       "      <td>5350.0</td>\n",
       "    </tr>\n",
       "    <tr>\n",
       "      <th>Singapore</th>\n",
       "      <td>2098.0</td>\n",
       "      <td>534.345567</td>\n",
       "      <td>449.248883</td>\n",
       "      <td>39.0</td>\n",
       "      <td>250.00</td>\n",
       "      <td>407.5</td>\n",
       "      <td>678.0</td>\n",
       "      <td>4330.0</td>\n",
       "    </tr>\n",
       "    <tr>\n",
       "      <th>Sports</th>\n",
       "      <td>1075.0</td>\n",
       "      <td>291.392558</td>\n",
       "      <td>146.769275</td>\n",
       "      <td>21.0</td>\n",
       "      <td>174.00</td>\n",
       "      <td>258.0</td>\n",
       "      <td>374.0</td>\n",
       "      <td>1107.0</td>\n",
       "    </tr>\n",
       "    <tr>\n",
       "      <th>Technology</th>\n",
       "      <td>36.0</td>\n",
       "      <td>580.000000</td>\n",
       "      <td>417.543291</td>\n",
       "      <td>49.0</td>\n",
       "      <td>302.25</td>\n",
       "      <td>367.0</td>\n",
       "      <td>775.0</td>\n",
       "      <td>1706.0</td>\n",
       "    </tr>\n",
       "    <tr>\n",
       "      <th>World</th>\n",
       "      <td>2212.0</td>\n",
       "      <td>418.433544</td>\n",
       "      <td>265.335006</td>\n",
       "      <td>28.0</td>\n",
       "      <td>251.00</td>\n",
       "      <td>356.0</td>\n",
       "      <td>521.0</td>\n",
       "      <td>3140.0</td>\n",
       "    </tr>\n",
       "  </tbody>\n",
       "</table>\n",
       "</div>"
      ],
      "text/plain": [
       "             count        mean         std   min     25%    50%     75%  \\\n",
       "category                                                                  \n",
       "Business    1071.0  411.882353  261.883789  39.0  235.50  360.0   534.0   \n",
       "Lifestyle    225.0  854.506667  647.982839  39.0  418.00  638.0  1191.0   \n",
       "Singapore   2098.0  534.345567  449.248883  39.0  250.00  407.5   678.0   \n",
       "Sports      1075.0  291.392558  146.769275  21.0  174.00  258.0   374.0   \n",
       "Technology    36.0  580.000000  417.543291  49.0  302.25  367.0   775.0   \n",
       "World       2212.0  418.433544  265.335006  28.0  251.00  356.0   521.0   \n",
       "\n",
       "               max  \n",
       "category            \n",
       "Business    3040.0  \n",
       "Lifestyle   5350.0  \n",
       "Singapore   4330.0  \n",
       "Sports      1107.0  \n",
       "Technology  1706.0  \n",
       "World       3140.0  "
      ]
     },
     "execution_count": 18,
     "metadata": {},
     "output_type": "execute_result"
    }
   ],
   "source": [
    "articles.groupby('category')['length_words'].describe()"
   ]
  }
 ],
 "metadata": {
  "kernelspec": {
   "display_name": "Python 3",
   "language": "python",
   "name": "python3"
  },
  "language_info": {
   "codemirror_mode": {
    "name": "ipython",
    "version": 3
   },
   "file_extension": ".py",
   "mimetype": "text/x-python",
   "name": "python",
   "nbconvert_exporter": "python",
   "pygments_lexer": "ipython3",
   "version": "3.7.3"
  }
 },
 "nbformat": 4,
 "nbformat_minor": 2
}
