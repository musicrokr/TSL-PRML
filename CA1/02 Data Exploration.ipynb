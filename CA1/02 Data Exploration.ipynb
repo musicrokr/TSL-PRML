{
 "cells": [
  {
   "cell_type": "markdown",
   "metadata": {},
   "source": [
    "# Data Exploration"
   ]
  },
  {
   "cell_type": "markdown",
   "metadata": {},
   "source": [
    "Perform Data Exploration on the Consolidated Dataset"
   ]
  },
  {
   "cell_type": "code",
   "execution_count": 1,
   "metadata": {},
   "outputs": [],
   "source": [
    "import pandas as pd\n",
    "import matplotlib.pyplot as plt\n",
    "import seaborn as sns\n",
    "import pickle\n",
    "\n",
    "%matplotlib inline"
   ]
  },
  {
   "cell_type": "code",
   "execution_count": 2,
   "metadata": {},
   "outputs": [],
   "source": [
    "path_df = \"./Pickles/all_articles_raw.pickle\"\n",
    "\n",
    "with open(path_df, 'rb') as data:\n",
    "    articles = pickle.load(data)"
   ]
  },
  {
   "cell_type": "markdown",
   "metadata": {},
   "source": [
    "## News Source"
   ]
  },
  {
   "cell_type": "code",
   "execution_count": 3,
   "metadata": {},
   "outputs": [
    {
     "data": {
      "text/html": [
       "<div>\n",
       "<style scoped>\n",
       "    .dataframe tbody tr th:only-of-type {\n",
       "        vertical-align: middle;\n",
       "    }\n",
       "\n",
       "    .dataframe tbody tr th {\n",
       "        vertical-align: top;\n",
       "    }\n",
       "\n",
       "    .dataframe thead th {\n",
       "        text-align: right;\n",
       "    }\n",
       "</style>\n",
       "<table border=\"1\" class=\"dataframe\">\n",
       "  <thead>\n",
       "    <tr style=\"text-align: right;\">\n",
       "      <th></th>\n",
       "      <th>source</th>\n",
       "      <th>title</th>\n",
       "      <th>article</th>\n",
       "      <th>category</th>\n",
       "    </tr>\n",
       "  </thead>\n",
       "  <tbody>\n",
       "    <tr>\n",
       "      <th>0</th>\n",
       "      <td>The Straits Times</td>\n",
       "      <td>Sales for Handmaid's Tale sequel top 125,000 c...</td>\n",
       "      <td>\\nNEW YORK (AP) - Sales for Margaret Atwood's ...</td>\n",
       "      <td>Lifestyle</td>\n",
       "    </tr>\n",
       "    <tr>\n",
       "      <th>1</th>\n",
       "      <td>The Straits Times</td>\n",
       "      <td>R. Kelly a no-show in court on Minnesota solic...</td>\n",
       "      <td>\\nMINNEAPOLIS (AP) - Singer R. Kelly was a no-...</td>\n",
       "      <td>Lifestyle</td>\n",
       "    </tr>\n",
       "    <tr>\n",
       "      <th>2</th>\n",
       "      <td>The Straits Times</td>\n",
       "      <td>HK director Derek Tsang picks forest in Japan ...</td>\n",
       "      <td>\\nSoul Mate director Derek Tsang, 39, is known...</td>\n",
       "      <td>Lifestyle</td>\n",
       "    </tr>\n",
       "    <tr>\n",
       "      <th>3</th>\n",
       "      <td>The Straits Times</td>\n",
       "      <td>Tony Hadley, ex-frontman of Spandau Ballet, to...</td>\n",
       "      <td>\\nSINGAPORE - The voice behind Spandau Ballet ...</td>\n",
       "      <td>Lifestyle</td>\n",
       "    </tr>\n",
       "    <tr>\n",
       "      <th>4</th>\n",
       "      <td>The Straits Times</td>\n",
       "      <td>South Korean actor Sung Hoon holding meet-and-...</td>\n",
       "      <td>\\nSINGAPORE - South Korean heart-throb Sung Ho...</td>\n",
       "      <td>Lifestyle</td>\n",
       "    </tr>\n",
       "  </tbody>\n",
       "</table>\n",
       "</div>"
      ],
      "text/plain": [
       "              source                                              title  \\\n",
       "0  The Straits Times  Sales for Handmaid's Tale sequel top 125,000 c...   \n",
       "1  The Straits Times  R. Kelly a no-show in court on Minnesota solic...   \n",
       "2  The Straits Times  HK director Derek Tsang picks forest in Japan ...   \n",
       "3  The Straits Times  Tony Hadley, ex-frontman of Spandau Ballet, to...   \n",
       "4  The Straits Times  South Korean actor Sung Hoon holding meet-and-...   \n",
       "\n",
       "                                             article   category  \n",
       "0  \\nNEW YORK (AP) - Sales for Margaret Atwood's ...  Lifestyle  \n",
       "1  \\nMINNEAPOLIS (AP) - Singer R. Kelly was a no-...  Lifestyle  \n",
       "2  \\nSoul Mate director Derek Tsang, 39, is known...  Lifestyle  \n",
       "3  \\nSINGAPORE - The voice behind Spandau Ballet ...  Lifestyle  \n",
       "4  \\nSINGAPORE - South Korean heart-throb Sung Ho...  Lifestyle  "
      ]
     },
     "execution_count": 3,
     "metadata": {},
     "output_type": "execute_result"
    }
   ],
   "source": [
    "articles.head()"
   ]
  },
  {
   "cell_type": "code",
   "execution_count": 4,
   "metadata": {},
   "outputs": [
    {
     "data": {
      "text/plain": [
       "10919"
      ]
     },
     "execution_count": 4,
     "metadata": {},
     "output_type": "execute_result"
    }
   ],
   "source": [
    "len(articles)"
   ]
  },
  {
   "cell_type": "code",
   "execution_count": 5,
   "metadata": {},
   "outputs": [
    {
     "data": {
      "text/plain": [
       "Text(0.5, 1.0, 'News Source')"
      ]
     },
     "execution_count": 5,
     "metadata": {},
     "output_type": "execute_result"
    },
    {
     "data": {
      "image/png": "[encoded data removed]",
      "text/plain": [
       "<Figure size 864x432 with 1 Axes>"
      ]
     },
     "metadata": {
      "needs_background": "light"
     },
     "output_type": "display_data"
    }
   ],
   "source": [
    "plt.figure(figsize=(12,6))\n",
    "sns.countplot(x='source',data=articles,order=articles['source'].value_counts().iloc[:10].index,).set_title(\"News Source\")"
   ]
  },
  {
   "cell_type": "code",
   "execution_count": 6,
   "metadata": {},
   "outputs": [
    {
     "data": {
      "text/plain": [
       "Channel News Asia    6612\n",
       "The Straits Times    1810\n",
       "AsiaOne              1541\n",
       "The New Paper         956\n",
       "Name: source, dtype: int64"
      ]
     },
     "execution_count": 6,
     "metadata": {},
     "output_type": "execute_result"
    }
   ],
   "source": [
    "articles['source'].value_counts()"
   ]
  },
  {
   "cell_type": "markdown",
   "metadata": {},
   "source": [
    "## Article Categories"
   ]
  },
  {
   "cell_type": "code",
   "execution_count": 7,
   "metadata": {},
   "outputs": [
    {
     "data": {
      "text/plain": [
       "Text(0.5, 1.0, 'Categories')"
      ]
     },
     "execution_count": 7,
     "metadata": {},
     "output_type": "execute_result"
    },
    {
     "data": {
      "image/png": "[encoded data removed]",
      "text/plain": [
       "<Figure size 864x432 with 1 Axes>"
      ]
     },
     "metadata": {
      "needs_background": "light"
     },
     "output_type": "display_data"
    }
   ],
   "source": [
    "plt.figure(figsize=(12,6))\n",
    "sns.countplot(x='category',data=articles,order=articles['category'].value_counts().iloc[:10].index,).set_title(\"Categories\")"
   ]
  },
  {
   "cell_type": "code",
   "execution_count": 8,
   "metadata": {},
   "outputs": [
    {
     "data": {
      "text/plain": [
       "World         3005\n",
       "Lifestyle     2347\n",
       "Singapore     1552\n",
       "Technology    1400\n",
       "Business      1323\n",
       "Sports        1292\n",
       "Name: category, dtype: int64"
      ]
     },
     "execution_count": 8,
     "metadata": {},
     "output_type": "execute_result"
    }
   ],
   "source": [
    "articles['category'].value_counts()"
   ]
  },
  {
   "cell_type": "code",
   "execution_count": 9,
   "metadata": {},
   "outputs": [
    {
     "data": {
      "text/plain": [
       "array(['Lifestyle', 'World', 'Technology', 'Business', 'Singapore',\n",
       "       'Sports'], dtype=object)"
      ]
     },
     "execution_count": 9,
     "metadata": {},
     "output_type": "execute_result"
    }
   ],
   "source": [
    "all_categories= articles['category'].unique()\n",
    "all_categories"
   ]
  },
  {
   "cell_type": "code",
   "execution_count": 10,
   "metadata": {},
   "outputs": [],
   "source": [
    "sampled_data =[]\n",
    "for category in all_categories:\n",
    "    df = articles[articles['category']==category].sample(n=1000)\n",
    "    sampled_data.append(df)"
   ]
  },
  {
   "cell_type": "code",
   "execution_count": 11,
   "metadata": {},
   "outputs": [
    {
     "data": {
      "text/html": [
       "<div>\n",
       "<style scoped>\n",
       "    .dataframe tbody tr th:only-of-type {\n",
       "        vertical-align: middle;\n",
       "    }\n",
       "\n",
       "    .dataframe tbody tr th {\n",
       "        vertical-align: top;\n",
       "    }\n",
       "\n",
       "    .dataframe thead th {\n",
       "        text-align: right;\n",
       "    }\n",
       "</style>\n",
       "<table border=\"1\" class=\"dataframe\">\n",
       "  <thead>\n",
       "    <tr style=\"text-align: right;\">\n",
       "      <th></th>\n",
       "      <th>source</th>\n",
       "      <th>title</th>\n",
       "      <th>article</th>\n",
       "      <th>category</th>\n",
       "    </tr>\n",
       "  </thead>\n",
       "  <tbody>\n",
       "    <tr>\n",
       "      <th>619</th>\n",
       "      <td>The Straits Times</td>\n",
       "      <td>Myth, magic and memoirs at storytelling festival</td>\n",
       "      <td>\\nSINGAPORE - From the complicated life story ...</td>\n",
       "      <td>Lifestyle</td>\n",
       "    </tr>\n",
       "    <tr>\n",
       "      <th>2852</th>\n",
       "      <td>AsiaOne</td>\n",
       "      <td>Beyond the ski slopes: Why the wealthy have ey...</td>\n",
       "      <td>It's a hot, sunny day, and I'm looking out at ...</td>\n",
       "      <td>Lifestyle</td>\n",
       "    </tr>\n",
       "    <tr>\n",
       "      <th>958</th>\n",
       "      <td>The Straits Times</td>\n",
       "      <td>Critics gush over the spectacle and story of A...</td>\n",
       "      <td>\\nLOS ANGELES, UNITED STATES (REUTERS) - Film ...</td>\n",
       "      <td>Lifestyle</td>\n",
       "    </tr>\n",
       "    <tr>\n",
       "      <th>3058</th>\n",
       "      <td>AsiaOne</td>\n",
       "      <td>Spaces we love: Singaporean homes washed in na...</td>\n",
       "      <td>If you want a home bathed in light, there are ...</td>\n",
       "      <td>Lifestyle</td>\n",
       "    </tr>\n",
       "    <tr>\n",
       "      <th>5954</th>\n",
       "      <td>Channel News Asia</td>\n",
       "      <td>NaN</td>\n",
       "      <td>Amid colossal portraits and clean lines of bla...</td>\n",
       "      <td>Lifestyle</td>\n",
       "    </tr>\n",
       "  </tbody>\n",
       "</table>\n",
       "</div>"
      ],
      "text/plain": [
       "                 source                                              title  \\\n",
       "619   The Straits Times   Myth, magic and memoirs at storytelling festival   \n",
       "2852            AsiaOne  Beyond the ski slopes: Why the wealthy have ey...   \n",
       "958   The Straits Times  Critics gush over the spectacle and story of A...   \n",
       "3058            AsiaOne  Spaces we love: Singaporean homes washed in na...   \n",
       "5954  Channel News Asia                                                NaN   \n",
       "\n",
       "                                                article   category  \n",
       "619   \\nSINGAPORE - From the complicated life story ...  Lifestyle  \n",
       "2852  It's a hot, sunny day, and I'm looking out at ...  Lifestyle  \n",
       "958   \\nLOS ANGELES, UNITED STATES (REUTERS) - Film ...  Lifestyle  \n",
       "3058  If you want a home bathed in light, there are ...  Lifestyle  \n",
       "5954  Amid colossal portraits and clean lines of bla...  Lifestyle  "
      ]
     },
     "execution_count": 11,
     "metadata": {},
     "output_type": "execute_result"
    }
   ],
   "source": [
    "all_articles = pd.concat(sampled_data)\n",
    "all_articles.head()"
   ]
  },
  {
   "cell_type": "code",
   "execution_count": 12,
   "metadata": {},
   "outputs": [
    {
     "data": {
      "text/plain": [
       "World         1000\n",
       "Business      1000\n",
       "Technology    1000\n",
       "Singapore     1000\n",
       "Sports        1000\n",
       "Lifestyle     1000\n",
       "Name: category, dtype: int64"
      ]
     },
     "execution_count": 12,
     "metadata": {},
     "output_type": "execute_result"
    }
   ],
   "source": [
    "all_articles['category'].value_counts()"
   ]
  },
  {
   "cell_type": "markdown",
   "metadata": {},
   "source": [
    "## Article Length"
   ]
  },
  {
   "cell_type": "code",
   "execution_count": 13,
   "metadata": {},
   "outputs": [
    {
     "data": {
      "text/html": [
       "<div>\n",
       "<style scoped>\n",
       "    .dataframe tbody tr th:only-of-type {\n",
       "        vertical-align: middle;\n",
       "    }\n",
       "\n",
       "    .dataframe tbody tr th {\n",
       "        vertical-align: top;\n",
       "    }\n",
       "\n",
       "    .dataframe thead th {\n",
       "        text-align: right;\n",
       "    }\n",
       "</style>\n",
       "<table border=\"1\" class=\"dataframe\">\n",
       "  <thead>\n",
       "    <tr style=\"text-align: right;\">\n",
       "      <th></th>\n",
       "      <th>source</th>\n",
       "      <th>title</th>\n",
       "      <th>article</th>\n",
       "      <th>category</th>\n",
       "      <th>length_characters</th>\n",
       "      <th>length_words</th>\n",
       "    </tr>\n",
       "  </thead>\n",
       "  <tbody>\n",
       "    <tr>\n",
       "      <th>619</th>\n",
       "      <td>The Straits Times</td>\n",
       "      <td>Myth, magic and memoirs at storytelling festival</td>\n",
       "      <td>\\nSINGAPORE - From the complicated life story ...</td>\n",
       "      <td>Lifestyle</td>\n",
       "      <td>3603</td>\n",
       "      <td>589</td>\n",
       "    </tr>\n",
       "    <tr>\n",
       "      <th>2852</th>\n",
       "      <td>AsiaOne</td>\n",
       "      <td>Beyond the ski slopes: Why the wealthy have ey...</td>\n",
       "      <td>It's a hot, sunny day, and I'm looking out at ...</td>\n",
       "      <td>Lifestyle</td>\n",
       "      <td>9642</td>\n",
       "      <td>1500</td>\n",
       "    </tr>\n",
       "    <tr>\n",
       "      <th>958</th>\n",
       "      <td>The Straits Times</td>\n",
       "      <td>Critics gush over the spectacle and story of A...</td>\n",
       "      <td>\\nLOS ANGELES, UNITED STATES (REUTERS) - Film ...</td>\n",
       "      <td>Lifestyle</td>\n",
       "      <td>2390</td>\n",
       "      <td>374</td>\n",
       "    </tr>\n",
       "    <tr>\n",
       "      <th>3058</th>\n",
       "      <td>AsiaOne</td>\n",
       "      <td>Spaces we love: Singaporean homes washed in na...</td>\n",
       "      <td>If you want a home bathed in light, there are ...</td>\n",
       "      <td>Lifestyle</td>\n",
       "      <td>1645</td>\n",
       "      <td>286</td>\n",
       "    </tr>\n",
       "    <tr>\n",
       "      <th>5954</th>\n",
       "      <td>Channel News Asia</td>\n",
       "      <td>NaN</td>\n",
       "      <td>Amid colossal portraits and clean lines of bla...</td>\n",
       "      <td>Lifestyle</td>\n",
       "      <td>1985</td>\n",
       "      <td>300</td>\n",
       "    </tr>\n",
       "  </tbody>\n",
       "</table>\n",
       "</div>"
      ],
      "text/plain": [
       "                 source                                              title  \\\n",
       "619   The Straits Times   Myth, magic and memoirs at storytelling festival   \n",
       "2852            AsiaOne  Beyond the ski slopes: Why the wealthy have ey...   \n",
       "958   The Straits Times  Critics gush over the spectacle and story of A...   \n",
       "3058            AsiaOne  Spaces we love: Singaporean homes washed in na...   \n",
       "5954  Channel News Asia                                                NaN   \n",
       "\n",
       "                                                article   category  \\\n",
       "619   \\nSINGAPORE - From the complicated life story ...  Lifestyle   \n",
       "2852  It's a hot, sunny day, and I'm looking out at ...  Lifestyle   \n",
       "958   \\nLOS ANGELES, UNITED STATES (REUTERS) - Film ...  Lifestyle   \n",
       "3058  If you want a home bathed in light, there are ...  Lifestyle   \n",
       "5954  Amid colossal portraits and clean lines of bla...  Lifestyle   \n",
       "\n",
       "      length_characters  length_words  \n",
       "619                3603           589  \n",
       "2852               9642          1500  \n",
       "958                2390           374  \n",
       "3058               1645           286  \n",
       "5954               1985           300  "
      ]
     },
     "execution_count": 13,
     "metadata": {},
     "output_type": "execute_result"
    }
   ],
   "source": [
    "all_articles['length_characters'] = all_articles['article'].apply(len)\n",
    "all_articles['length_words']=all_articles['article'].str.split().str.len()\n",
    "all_articles.head()"
   ]
  },
  {
   "cell_type": "code",
   "execution_count": 14,
   "metadata": {},
   "outputs": [
    {
     "data": {
      "image/png": "[encoded data removed]",
      "text/plain": [
       "<Figure size 576x432 with 1 Axes>"
      ]
     },
     "metadata": {
      "needs_background": "light"
     },
     "output_type": "display_data"
    }
   ],
   "source": [
    "plt.figure(figsize=(8,6))\n",
    "sns.distplot(all_articles['length_characters']).set_title('Article Character Length distribution');"
   ]
  },
  {
   "cell_type": "code",
   "execution_count": 15,
   "metadata": {},
   "outputs": [
    {
     "data": {
      "text/plain": [
       "count     6000.000000\n",
       "mean      2679.103000\n",
       "std       1888.825415\n",
       "min        111.000000\n",
       "25%       1484.000000\n",
       "50%       2235.000000\n",
       "75%       3294.500000\n",
       "max      23548.000000\n",
       "Name: length_characters, dtype: float64"
      ]
     },
     "execution_count": 15,
     "metadata": {},
     "output_type": "execute_result"
    }
   ],
   "source": [
    "all_articles['length_characters'].describe()"
   ]
  },
  {
   "cell_type": "code",
   "execution_count": 16,
   "metadata": {},
   "outputs": [
    {
     "data": {
      "image/png": "[encoded data removed]",
      "text/plain": [
       "<Figure size 576x432 with 1 Axes>"
      ]
     },
     "metadata": {
      "needs_background": "light"
     },
     "output_type": "display_data"
    }
   ],
   "source": [
    "plt.figure(figsize=(8,6))\n",
    "sns.distplot(all_articles['length_words']).set_title('Article Word Length distribution');"
   ]
  },
  {
   "cell_type": "code",
   "execution_count": 17,
   "metadata": {},
   "outputs": [
    {
     "data": {
      "text/plain": [
       "count    6000.000000\n",
       "mean      441.378333\n",
       "std       312.157835\n",
       "min        21.000000\n",
       "25%       242.000000\n",
       "50%       367.000000\n",
       "75%       547.000000\n",
       "max      3908.000000\n",
       "Name: length_words, dtype: float64"
      ]
     },
     "execution_count": 17,
     "metadata": {},
     "output_type": "execute_result"
    }
   ],
   "source": [
    "all_articles['length_words'].describe()"
   ]
  },
  {
   "cell_type": "markdown",
   "metadata": {},
   "source": [
    "### Longest Article"
   ]
  },
  {
   "cell_type": "code",
   "execution_count": 18,
   "metadata": {},
   "outputs": [
    {
     "data": {
      "text/html": [
       "<div>\n",
       "<style scoped>\n",
       "    .dataframe tbody tr th:only-of-type {\n",
       "        vertical-align: middle;\n",
       "    }\n",
       "\n",
       "    .dataframe tbody tr th {\n",
       "        vertical-align: top;\n",
       "    }\n",
       "\n",
       "    .dataframe thead th {\n",
       "        text-align: right;\n",
       "    }\n",
       "</style>\n",
       "<table border=\"1\" class=\"dataframe\">\n",
       "  <thead>\n",
       "    <tr style=\"text-align: right;\">\n",
       "      <th></th>\n",
       "      <th>source</th>\n",
       "      <th>title</th>\n",
       "      <th>article</th>\n",
       "      <th>category</th>\n",
       "      <th>length_characters</th>\n",
       "      <th>length_words</th>\n",
       "    </tr>\n",
       "  </thead>\n",
       "  <tbody>\n",
       "  </tbody>\n",
       "</table>\n",
       "</div>"
      ],
      "text/plain": [
       "Empty DataFrame\n",
       "Columns: [source, title, article, category, length_characters, length_words]\n",
       "Index: []"
      ]
     },
     "execution_count": 18,
     "metadata": {},
     "output_type": "execute_result"
    }
   ],
   "source": [
    "all_articles[all_articles['length_words']==5350]"
   ]
  },
  {
   "cell_type": "markdown",
   "metadata": {},
   "source": [
    "### Shortest Article"
   ]
  },
  {
   "cell_type": "code",
   "execution_count": 19,
   "metadata": {},
   "outputs": [],
   "source": [
    "liverpool = all_articles[all_articles['length_words']==21]"
   ]
  },
  {
   "cell_type": "code",
   "execution_count": 20,
   "metadata": {},
   "outputs": [
    {
     "data": {
      "text/plain": [
       "8232    KUALA LUMPUR: The first image of a black hole ...\n",
       "Name: article, dtype: object"
      ]
     },
     "execution_count": 20,
     "metadata": {},
     "output_type": "execute_result"
    }
   ],
   "source": [
    "liverpool['article']"
   ]
  },
  {
   "cell_type": "markdown",
   "metadata": {},
   "source": [
    "### Article Length by Category"
   ]
  },
  {
   "cell_type": "code",
   "execution_count": 21,
   "metadata": {},
   "outputs": [
    {
     "data": {
      "image/png": "[encoded data removed]",
      "text/plain": [
       "<Figure size 864x432 with 1 Axes>"
      ]
     },
     "metadata": {
      "needs_background": "light"
     },
     "output_type": "display_data"
    }
   ],
   "source": [
    "plt.figure(figsize=(12,6))\n",
    "sns.boxplot(data=all_articles, x='category', y='length_words', width=.5);"
   ]
  },
  {
   "cell_type": "code",
   "execution_count": 22,
   "metadata": {},
   "outputs": [
    {
     "data": {
      "text/html": [
       "<div>\n",
       "<style scoped>\n",
       "    .dataframe tbody tr th:only-of-type {\n",
       "        vertical-align: middle;\n",
       "    }\n",
       "\n",
       "    .dataframe tbody tr th {\n",
       "        vertical-align: top;\n",
       "    }\n",
       "\n",
       "    .dataframe thead th {\n",
       "        text-align: right;\n",
       "    }\n",
       "</style>\n",
       "<table border=\"1\" class=\"dataframe\">\n",
       "  <thead>\n",
       "    <tr style=\"text-align: right;\">\n",
       "      <th></th>\n",
       "      <th>count</th>\n",
       "      <th>mean</th>\n",
       "      <th>std</th>\n",
       "      <th>min</th>\n",
       "      <th>25%</th>\n",
       "      <th>50%</th>\n",
       "      <th>75%</th>\n",
       "      <th>max</th>\n",
       "    </tr>\n",
       "    <tr>\n",
       "      <th>category</th>\n",
       "      <th></th>\n",
       "      <th></th>\n",
       "      <th></th>\n",
       "      <th></th>\n",
       "      <th></th>\n",
       "      <th></th>\n",
       "      <th></th>\n",
       "      <th></th>\n",
       "    </tr>\n",
       "  </thead>\n",
       "  <tbody>\n",
       "    <tr>\n",
       "      <th>Business</th>\n",
       "      <td>1000.0</td>\n",
       "      <td>427.343</td>\n",
       "      <td>262.458892</td>\n",
       "      <td>35.0</td>\n",
       "      <td>254.50</td>\n",
       "      <td>378.0</td>\n",
       "      <td>550.25</td>\n",
       "      <td>2783.0</td>\n",
       "    </tr>\n",
       "    <tr>\n",
       "      <th>Lifestyle</th>\n",
       "      <td>1000.0</td>\n",
       "      <td>522.596</td>\n",
       "      <td>416.101427</td>\n",
       "      <td>39.0</td>\n",
       "      <td>250.75</td>\n",
       "      <td>381.5</td>\n",
       "      <td>634.25</td>\n",
       "      <td>3361.0</td>\n",
       "    </tr>\n",
       "    <tr>\n",
       "      <th>Singapore</th>\n",
       "      <td>1000.0</td>\n",
       "      <td>497.289</td>\n",
       "      <td>357.320637</td>\n",
       "      <td>61.0</td>\n",
       "      <td>275.00</td>\n",
       "      <td>409.0</td>\n",
       "      <td>616.25</td>\n",
       "      <td>3908.0</td>\n",
       "    </tr>\n",
       "    <tr>\n",
       "      <th>Sports</th>\n",
       "      <td>1000.0</td>\n",
       "      <td>331.576</td>\n",
       "      <td>166.362907</td>\n",
       "      <td>40.0</td>\n",
       "      <td>199.75</td>\n",
       "      <td>305.0</td>\n",
       "      <td>430.25</td>\n",
       "      <td>1107.0</td>\n",
       "    </tr>\n",
       "    <tr>\n",
       "      <th>Technology</th>\n",
       "      <td>1000.0</td>\n",
       "      <td>454.584</td>\n",
       "      <td>325.689636</td>\n",
       "      <td>21.0</td>\n",
       "      <td>245.00</td>\n",
       "      <td>386.0</td>\n",
       "      <td>592.00</td>\n",
       "      <td>3586.0</td>\n",
       "    </tr>\n",
       "    <tr>\n",
       "      <th>World</th>\n",
       "      <td>1000.0</td>\n",
       "      <td>414.882</td>\n",
       "      <td>242.516284</td>\n",
       "      <td>42.0</td>\n",
       "      <td>255.00</td>\n",
       "      <td>362.0</td>\n",
       "      <td>518.75</td>\n",
       "      <td>2211.0</td>\n",
       "    </tr>\n",
       "  </tbody>\n",
       "</table>\n",
       "</div>"
      ],
      "text/plain": [
       "             count     mean         std   min     25%    50%     75%     max\n",
       "category                                                                    \n",
       "Business    1000.0  427.343  262.458892  35.0  254.50  378.0  550.25  2783.0\n",
       "Lifestyle   1000.0  522.596  416.101427  39.0  250.75  381.5  634.25  3361.0\n",
       "Singapore   1000.0  497.289  357.320637  61.0  275.00  409.0  616.25  3908.0\n",
       "Sports      1000.0  331.576  166.362907  40.0  199.75  305.0  430.25  1107.0\n",
       "Technology  1000.0  454.584  325.689636  21.0  245.00  386.0  592.00  3586.0\n",
       "World       1000.0  414.882  242.516284  42.0  255.00  362.0  518.75  2211.0"
      ]
     },
     "execution_count": 22,
     "metadata": {},
     "output_type": "execute_result"
    }
   ],
   "source": [
    "all_articles.groupby('category')['length_words'].describe()"
   ]
  },
  {
   "cell_type": "code",
   "execution_count": 23,
   "metadata": {},
   "outputs": [],
   "source": [
    "#Export to Serialized Object\n",
    "with open('Pickles/sampled_articles_raw.pickle', 'wb') as output:\n",
    "    pickle.dump(all_articles, output)"
   ]
  }
 ],
 "metadata": {
  "kernelspec": {
   "display_name": "Python 3",
   "language": "python",
   "name": "python3"
  },
  "language_info": {
   "codemirror_mode": {
    "name": "ipython",
    "version": 3
   },
   "file_extension": ".py",
   "mimetype": "text/x-python",
   "name": "python",
   "nbconvert_exporter": "python",
   "pygments_lexer": "ipython3",
   "version": "3.7.3"
  }
 },
 "nbformat": 4,
 "nbformat_minor": 2
}
