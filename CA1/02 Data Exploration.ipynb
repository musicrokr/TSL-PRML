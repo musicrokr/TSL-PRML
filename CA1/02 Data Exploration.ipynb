{
 "cells": [
  {
   "cell_type": "markdown",
   "metadata": {},
   "source": [
    "# Data Exploration"
   ]
  },
  {
   "cell_type": "markdown",
   "metadata": {},
   "source": [
    "Perform Data Exploration on the Consolidated Dataset"
   ]
  },
  {
   "cell_type": "code",
   "execution_count": 1,
   "metadata": {},
   "outputs": [],
   "source": [
    "import pandas as pd\n",
    "import matplotlib.pyplot as plt\n",
    "import seaborn as sns\n",
    "import pickle\n",
    "\n",
    "%matplotlib inline"
   ]
  },
  {
   "cell_type": "code",
   "execution_count": 2,
   "metadata": {},
   "outputs": [],
   "source": [
    "path_df = \"./Pickles/all_articles_raw.pickle\"\n",
    "\n",
    "with open(path_df, 'rb') as data:\n",
    "    articles = pickle.load(data)"
   ]
  },
  {
   "cell_type": "markdown",
   "metadata": {},
   "source": [
    "## News Source"
   ]
  },
  {
   "cell_type": "code",
   "execution_count": 3,
   "metadata": {},
   "outputs": [
    {
     "data": {
      "text/html": [
       "<div>\n",
       "<style scoped>\n",
       "    .dataframe tbody tr th:only-of-type {\n",
       "        vertical-align: middle;\n",
       "    }\n",
       "\n",
       "    .dataframe tbody tr th {\n",
       "        vertical-align: top;\n",
       "    }\n",
       "\n",
       "    .dataframe thead th {\n",
       "        text-align: right;\n",
       "    }\n",
       "</style>\n",
       "<table border=\"1\" class=\"dataframe\">\n",
       "  <thead>\n",
       "    <tr style=\"text-align: right;\">\n",
       "      <th></th>\n",
       "      <th>source</th>\n",
       "      <th>title</th>\n",
       "      <th>article</th>\n",
       "      <th>category</th>\n",
       "    </tr>\n",
       "  </thead>\n",
       "  <tbody>\n",
       "    <tr>\n",
       "      <th>0</th>\n",
       "      <td>The Straits Times</td>\n",
       "      <td>Sales for Handmaid's Tale sequel top 125,000 c...</td>\n",
       "      <td>\\nNEW YORK (AP) - Sales for Margaret Atwood's ...</td>\n",
       "      <td>Lifestyle</td>\n",
       "    </tr>\n",
       "    <tr>\n",
       "      <th>1</th>\n",
       "      <td>The Straits Times</td>\n",
       "      <td>R. Kelly a no-show in court on Minnesota solic...</td>\n",
       "      <td>\\nMINNEAPOLIS (AP) - Singer R. Kelly was a no-...</td>\n",
       "      <td>Lifestyle</td>\n",
       "    </tr>\n",
       "    <tr>\n",
       "      <th>2</th>\n",
       "      <td>The Straits Times</td>\n",
       "      <td>HK director Derek Tsang picks forest in Japan ...</td>\n",
       "      <td>\\nSoul Mate director Derek Tsang, 39, is known...</td>\n",
       "      <td>Lifestyle</td>\n",
       "    </tr>\n",
       "    <tr>\n",
       "      <th>3</th>\n",
       "      <td>The Straits Times</td>\n",
       "      <td>Tony Hadley, ex-frontman of Spandau Ballet, to...</td>\n",
       "      <td>\\nSINGAPORE - The voice behind Spandau Ballet ...</td>\n",
       "      <td>Lifestyle</td>\n",
       "    </tr>\n",
       "    <tr>\n",
       "      <th>4</th>\n",
       "      <td>The Straits Times</td>\n",
       "      <td>South Korean actor Sung Hoon holding meet-and-...</td>\n",
       "      <td>\\nSINGAPORE - South Korean heart-throb Sung Ho...</td>\n",
       "      <td>Lifestyle</td>\n",
       "    </tr>\n",
       "  </tbody>\n",
       "</table>\n",
       "</div>"
      ],
      "text/plain": [
       "              source                                              title  \\\n",
       "0  The Straits Times  Sales for Handmaid's Tale sequel top 125,000 c...   \n",
       "1  The Straits Times  R. Kelly a no-show in court on Minnesota solic...   \n",
       "2  The Straits Times  HK director Derek Tsang picks forest in Japan ...   \n",
       "3  The Straits Times  Tony Hadley, ex-frontman of Spandau Ballet, to...   \n",
       "4  The Straits Times  South Korean actor Sung Hoon holding meet-and-...   \n",
       "\n",
       "                                             article   category  \n",
       "0  \\nNEW YORK (AP) - Sales for Margaret Atwood's ...  Lifestyle  \n",
       "1  \\nMINNEAPOLIS (AP) - Singer R. Kelly was a no-...  Lifestyle  \n",
       "2  \\nSoul Mate director Derek Tsang, 39, is known...  Lifestyle  \n",
       "3  \\nSINGAPORE - The voice behind Spandau Ballet ...  Lifestyle  \n",
       "4  \\nSINGAPORE - South Korean heart-throb Sung Ho...  Lifestyle  "
      ]
     },
     "execution_count": 3,
     "metadata": {},
     "output_type": "execute_result"
    }
   ],
   "source": [
    "articles.head()"
   ]
  },
  {
   "cell_type": "code",
   "execution_count": 4,
   "metadata": {},
   "outputs": [
    {
     "data": {
      "text/plain": [
       "10919"
      ]
     },
     "execution_count": 4,
     "metadata": {},
     "output_type": "execute_result"
    }
   ],
   "source": [
    "len(articles)"
   ]
  },
  {
   "cell_type": "code",
   "execution_count": 5,
   "metadata": {},
   "outputs": [
    {
     "data": {
      "text/plain": [
       "Text(0.5, 1.0, 'News Source')"
      ]
     },
     "execution_count": 5,
     "metadata": {},
     "output_type": "execute_result"
    },
    {
     "data": {
      "image/png": "[encoded data removed]",
      "text/plain": [
       "<Figure size 864x432 with 1 Axes>"
      ]
     },
     "metadata": {
      "needs_background": "light"
     },
     "output_type": "display_data"
    }
   ],
   "source": [
    "plt.figure(figsize=(12,6))\n",
    "sns.countplot(x='source',data=articles,order=articles['source'].value_counts().iloc[:10].index,).set_title(\"News Source\")"
   ]
  },
  {
   "cell_type": "code",
   "execution_count": 6,
   "metadata": {},
   "outputs": [
    {
     "data": {
      "text/plain": [
       "Channel News Asia    6612\n",
       "The Straits Times    1810\n",
       "AsiaOne              1541\n",
       "The New Paper         956\n",
       "Name: source, dtype: int64"
      ]
     },
     "execution_count": 6,
     "metadata": {},
     "output_type": "execute_result"
    }
   ],
   "source": [
    "articles['source'].value_counts()"
   ]
  },
  {
   "cell_type": "markdown",
   "metadata": {},
   "source": [
    "## Article Categories"
   ]
  },
  {
   "cell_type": "code",
   "execution_count": 7,
   "metadata": {},
   "outputs": [
    {
     "data": {
      "text/plain": [
       "Text(0.5, 1.0, 'Categories')"
      ]
     },
     "execution_count": 7,
     "metadata": {},
     "output_type": "execute_result"
    },
    {
     "data": {
      "image/png": "[encoded data removed]",
      "text/plain": [
       "<Figure size 864x432 with 1 Axes>"
      ]
     },
     "metadata": {
      "needs_background": "light"
     },
     "output_type": "display_data"
    }
   ],
   "source": [
    "plt.figure(figsize=(12,6))\n",
    "sns.countplot(x='category',data=articles,order=articles['category'].value_counts().iloc[:10].index,).set_title(\"Categories\")"
   ]
  },
  {
   "cell_type": "code",
   "execution_count": 8,
   "metadata": {},
   "outputs": [
    {
     "data": {
      "text/plain": [
       "World         3005\n",
       "Lifestyle     2347\n",
       "Singapore     1552\n",
       "Technology    1400\n",
       "Business      1323\n",
       "Sports        1292\n",
       "Name: category, dtype: int64"
      ]
     },
     "execution_count": 8,
     "metadata": {},
     "output_type": "execute_result"
    }
   ],
   "source": [
    "articles['category'].value_counts()"
   ]
  },
  {
   "cell_type": "code",
   "execution_count": 9,
   "metadata": {},
   "outputs": [
    {
     "data": {
      "text/plain": [
       "array(['Lifestyle', 'World', 'Technology', 'Business', 'Singapore',\n",
       "       'Sports'], dtype=object)"
      ]
     },
     "execution_count": 9,
     "metadata": {},
     "output_type": "execute_result"
    }
   ],
   "source": [
    "all_categories= articles['category'].unique()\n",
    "all_categories"
   ]
  },
  {
   "cell_type": "code",
   "execution_count": 10,
   "metadata": {},
   "outputs": [],
   "source": [
    "sampled_data =[]\n",
    "for category in all_categories:\n",
    "    df = articles[articles['category']==category].sample(n=1200)\n",
    "    sampled_data.append(df)"
   ]
  },
  {
   "cell_type": "code",
   "execution_count": 11,
   "metadata": {},
   "outputs": [
    {
     "data": {
      "text/html": [
       "<div>\n",
       "<style scoped>\n",
       "    .dataframe tbody tr th:only-of-type {\n",
       "        vertical-align: middle;\n",
       "    }\n",
       "\n",
       "    .dataframe tbody tr th {\n",
       "        vertical-align: top;\n",
       "    }\n",
       "\n",
       "    .dataframe thead th {\n",
       "        text-align: right;\n",
       "    }\n",
       "</style>\n",
       "<table border=\"1\" class=\"dataframe\">\n",
       "  <thead>\n",
       "    <tr style=\"text-align: right;\">\n",
       "      <th></th>\n",
       "      <th>source</th>\n",
       "      <th>title</th>\n",
       "      <th>article</th>\n",
       "      <th>category</th>\n",
       "    </tr>\n",
       "  </thead>\n",
       "  <tbody>\n",
       "    <tr>\n",
       "      <th>3007</th>\n",
       "      <td>AsiaOne</td>\n",
       "      <td>7 factors to consider when looking for an HDB ...</td>\n",
       "      <td>Whether you’re buying an HDB resale flat as a ...</td>\n",
       "      <td>Lifestyle</td>\n",
       "    </tr>\n",
       "    <tr>\n",
       "      <th>1005</th>\n",
       "      <td>The Straits Times</td>\n",
       "      <td>Jung Joon-young first to be charged in K-pop s...</td>\n",
       "      <td>\\nSEOUL - He was the first to be arrested in t...</td>\n",
       "      <td>Lifestyle</td>\n",
       "    </tr>\n",
       "    <tr>\n",
       "      <th>1168</th>\n",
       "      <td>The Straits Times</td>\n",
       "      <td>Music mogul Dr Dre gets flak over boast that h...</td>\n",
       "      <td>\\nLOS ANGELES - Look who is talking about a la...</td>\n",
       "      <td>Lifestyle</td>\n",
       "    </tr>\n",
       "    <tr>\n",
       "      <th>5621</th>\n",
       "      <td>Channel News Asia</td>\n",
       "      <td>NaN</td>\n",
       "      <td>We thought Colonel Sanders , was quirky enough...</td>\n",
       "      <td>Lifestyle</td>\n",
       "    </tr>\n",
       "    <tr>\n",
       "      <th>5828</th>\n",
       "      <td>Channel News Asia</td>\n",
       "      <td>NaN</td>\n",
       "      <td>The Mexican government has questioned Louis Vu...</td>\n",
       "      <td>Lifestyle</td>\n",
       "    </tr>\n",
       "  </tbody>\n",
       "</table>\n",
       "</div>"
      ],
      "text/plain": [
       "                 source                                              title  \\\n",
       "3007            AsiaOne  7 factors to consider when looking for an HDB ...   \n",
       "1005  The Straits Times  Jung Joon-young first to be charged in K-pop s...   \n",
       "1168  The Straits Times  Music mogul Dr Dre gets flak over boast that h...   \n",
       "5621  Channel News Asia                                                NaN   \n",
       "5828  Channel News Asia                                                NaN   \n",
       "\n",
       "                                                article   category  \n",
       "3007  Whether you’re buying an HDB resale flat as a ...  Lifestyle  \n",
       "1005  \\nSEOUL - He was the first to be arrested in t...  Lifestyle  \n",
       "1168  \\nLOS ANGELES - Look who is talking about a la...  Lifestyle  \n",
       "5621  We thought Colonel Sanders , was quirky enough...  Lifestyle  \n",
       "5828  The Mexican government has questioned Louis Vu...  Lifestyle  "
      ]
     },
     "execution_count": 11,
     "metadata": {},
     "output_type": "execute_result"
    }
   ],
   "source": [
    "all_articles = pd.concat(sampled_data)\n",
    "all_articles.head()"
   ]
  },
  {
   "cell_type": "code",
   "execution_count": 12,
   "metadata": {},
   "outputs": [],
   "source": [
    "#all_articles=articles"
   ]
  },
  {
   "cell_type": "code",
   "execution_count": 13,
   "metadata": {},
   "outputs": [
    {
     "data": {
      "text/plain": [
       "Sports        1200\n",
       "Technology    1200\n",
       "Lifestyle     1200\n",
       "Business      1200\n",
       "Singapore     1200\n",
       "World         1200\n",
       "Name: category, dtype: int64"
      ]
     },
     "execution_count": 13,
     "metadata": {},
     "output_type": "execute_result"
    }
   ],
   "source": [
    "all_articles['category'].value_counts()"
   ]
  },
  {
   "cell_type": "markdown",
   "metadata": {},
   "source": [
    "## Article Length"
   ]
  },
  {
   "cell_type": "code",
   "execution_count": 14,
   "metadata": {},
   "outputs": [
    {
     "data": {
      "text/html": [
       "<div>\n",
       "<style scoped>\n",
       "    .dataframe tbody tr th:only-of-type {\n",
       "        vertical-align: middle;\n",
       "    }\n",
       "\n",
       "    .dataframe tbody tr th {\n",
       "        vertical-align: top;\n",
       "    }\n",
       "\n",
       "    .dataframe thead th {\n",
       "        text-align: right;\n",
       "    }\n",
       "</style>\n",
       "<table border=\"1\" class=\"dataframe\">\n",
       "  <thead>\n",
       "    <tr style=\"text-align: right;\">\n",
       "      <th></th>\n",
       "      <th>source</th>\n",
       "      <th>title</th>\n",
       "      <th>article</th>\n",
       "      <th>category</th>\n",
       "      <th>length_characters</th>\n",
       "      <th>length_words</th>\n",
       "    </tr>\n",
       "  </thead>\n",
       "  <tbody>\n",
       "    <tr>\n",
       "      <th>3007</th>\n",
       "      <td>AsiaOne</td>\n",
       "      <td>7 factors to consider when looking for an HDB ...</td>\n",
       "      <td>Whether you’re buying an HDB resale flat as a ...</td>\n",
       "      <td>Lifestyle</td>\n",
       "      <td>9771</td>\n",
       "      <td>1769</td>\n",
       "    </tr>\n",
       "    <tr>\n",
       "      <th>1005</th>\n",
       "      <td>The Straits Times</td>\n",
       "      <td>Jung Joon-young first to be charged in K-pop s...</td>\n",
       "      <td>\\nSEOUL - He was the first to be arrested in t...</td>\n",
       "      <td>Lifestyle</td>\n",
       "      <td>2162</td>\n",
       "      <td>324</td>\n",
       "    </tr>\n",
       "    <tr>\n",
       "      <th>1168</th>\n",
       "      <td>The Straits Times</td>\n",
       "      <td>Music mogul Dr Dre gets flak over boast that h...</td>\n",
       "      <td>\\nLOS ANGELES - Look who is talking about a la...</td>\n",
       "      <td>Lifestyle</td>\n",
       "      <td>1108</td>\n",
       "      <td>182</td>\n",
       "    </tr>\n",
       "    <tr>\n",
       "      <th>5621</th>\n",
       "      <td>Channel News Asia</td>\n",
       "      <td>NaN</td>\n",
       "      <td>We thought Colonel Sanders , was quirky enough...</td>\n",
       "      <td>Lifestyle</td>\n",
       "      <td>1193</td>\n",
       "      <td>207</td>\n",
       "    </tr>\n",
       "    <tr>\n",
       "      <th>5828</th>\n",
       "      <td>Channel News Asia</td>\n",
       "      <td>NaN</td>\n",
       "      <td>The Mexican government has questioned Louis Vu...</td>\n",
       "      <td>Lifestyle</td>\n",
       "      <td>1484</td>\n",
       "      <td>231</td>\n",
       "    </tr>\n",
       "  </tbody>\n",
       "</table>\n",
       "</div>"
      ],
      "text/plain": [
       "                 source                                              title  \\\n",
       "3007            AsiaOne  7 factors to consider when looking for an HDB ...   \n",
       "1005  The Straits Times  Jung Joon-young first to be charged in K-pop s...   \n",
       "1168  The Straits Times  Music mogul Dr Dre gets flak over boast that h...   \n",
       "5621  Channel News Asia                                                NaN   \n",
       "5828  Channel News Asia                                                NaN   \n",
       "\n",
       "                                                article   category  \\\n",
       "3007  Whether you’re buying an HDB resale flat as a ...  Lifestyle   \n",
       "1005  \\nSEOUL - He was the first to be arrested in t...  Lifestyle   \n",
       "1168  \\nLOS ANGELES - Look who is talking about a la...  Lifestyle   \n",
       "5621  We thought Colonel Sanders , was quirky enough...  Lifestyle   \n",
       "5828  The Mexican government has questioned Louis Vu...  Lifestyle   \n",
       "\n",
       "      length_characters  length_words  \n",
       "3007               9771          1769  \n",
       "1005               2162           324  \n",
       "1168               1108           182  \n",
       "5621               1193           207  \n",
       "5828               1484           231  "
      ]
     },
     "execution_count": 14,
     "metadata": {},
     "output_type": "execute_result"
    }
   ],
   "source": [
    "all_articles['length_characters'] = all_articles['article'].apply(len)\n",
    "all_articles['length_words']=all_articles['article'].str.split().str.len()\n",
    "all_articles.head()"
   ]
  },
  {
   "cell_type": "code",
   "execution_count": 15,
   "metadata": {},
   "outputs": [
    {
     "data": {
      "image/png": "[encoded data removed]",
      "text/plain": [
       "<Figure size 576x432 with 1 Axes>"
      ]
     },
     "metadata": {
      "needs_background": "light"
     },
     "output_type": "display_data"
    }
   ],
   "source": [
    "plt.figure(figsize=(8,6))\n",
    "sns.distplot(all_articles['length_characters']).set_title('Article Character Length distribution');"
   ]
  },
  {
   "cell_type": "code",
   "execution_count": 16,
   "metadata": {},
   "outputs": [
    {
     "data": {
      "text/plain": [
       "count     7200.000000\n",
       "mean      2686.456667\n",
       "std       1912.585901\n",
       "min        205.000000\n",
       "25%       1486.750000\n",
       "50%       2250.000000\n",
       "75%       3311.000000\n",
       "max      23548.000000\n",
       "Name: length_characters, dtype: float64"
      ]
     },
     "execution_count": 16,
     "metadata": {},
     "output_type": "execute_result"
    }
   ],
   "source": [
    "all_articles['length_characters'].describe()"
   ]
  },
  {
   "cell_type": "code",
   "execution_count": 17,
   "metadata": {},
   "outputs": [
    {
     "data": {
      "image/png": "[encoded data removed]",
      "text/plain": [
       "<Figure size 576x432 with 1 Axes>"
      ]
     },
     "metadata": {
      "needs_background": "light"
     },
     "output_type": "display_data"
    }
   ],
   "source": [
    "plt.figure(figsize=(8,6))\n",
    "sns.distplot(all_articles['length_words']).set_title('Article Word Length distribution');"
   ]
  },
  {
   "cell_type": "code",
   "execution_count": 18,
   "metadata": {},
   "outputs": [
    {
     "data": {
      "text/plain": [
       "count    7200.000000\n",
       "mean      442.361667\n",
       "std       315.890639\n",
       "min        35.000000\n",
       "25%       244.000000\n",
       "50%       369.000000\n",
       "75%       548.000000\n",
       "max      3896.000000\n",
       "Name: length_words, dtype: float64"
      ]
     },
     "execution_count": 18,
     "metadata": {},
     "output_type": "execute_result"
    }
   ],
   "source": [
    "all_articles['length_words'].describe()"
   ]
  },
  {
   "cell_type": "markdown",
   "metadata": {},
   "source": [
    "### Longest Article"
   ]
  },
  {
   "cell_type": "code",
   "execution_count": 19,
   "metadata": {},
   "outputs": [
    {
     "data": {
      "text/html": [
       "<div>\n",
       "<style scoped>\n",
       "    .dataframe tbody tr th:only-of-type {\n",
       "        vertical-align: middle;\n",
       "    }\n",
       "\n",
       "    .dataframe tbody tr th {\n",
       "        vertical-align: top;\n",
       "    }\n",
       "\n",
       "    .dataframe thead th {\n",
       "        text-align: right;\n",
       "    }\n",
       "</style>\n",
       "<table border=\"1\" class=\"dataframe\">\n",
       "  <thead>\n",
       "    <tr style=\"text-align: right;\">\n",
       "      <th></th>\n",
       "      <th>source</th>\n",
       "      <th>title</th>\n",
       "      <th>article</th>\n",
       "      <th>category</th>\n",
       "      <th>length_characters</th>\n",
       "      <th>length_words</th>\n",
       "    </tr>\n",
       "  </thead>\n",
       "  <tbody>\n",
       "  </tbody>\n",
       "</table>\n",
       "</div>"
      ],
      "text/plain": [
       "Empty DataFrame\n",
       "Columns: [source, title, article, category, length_characters, length_words]\n",
       "Index: []"
      ]
     },
     "execution_count": 19,
     "metadata": {},
     "output_type": "execute_result"
    }
   ],
   "source": [
    "all_articles[all_articles['length_words']==5350]"
   ]
  },
  {
   "cell_type": "markdown",
   "metadata": {},
   "source": [
    "### Shortest Article"
   ]
  },
  {
   "cell_type": "code",
   "execution_count": 20,
   "metadata": {},
   "outputs": [],
   "source": [
    "liverpool = all_articles[all_articles['length_words']==21]"
   ]
  },
  {
   "cell_type": "code",
   "execution_count": 21,
   "metadata": {},
   "outputs": [
    {
     "data": {
      "text/plain": [
       "Series([], Name: article, dtype: object)"
      ]
     },
     "execution_count": 21,
     "metadata": {},
     "output_type": "execute_result"
    }
   ],
   "source": [
    "liverpool['article']"
   ]
  },
  {
   "cell_type": "markdown",
   "metadata": {},
   "source": [
    "### Article Length by Category"
   ]
  },
  {
   "cell_type": "code",
   "execution_count": 22,
   "metadata": {},
   "outputs": [
    {
     "data": {
      "image/png": "[encoded data removed]",
      "text/plain": [
       "<Figure size 864x432 with 1 Axes>"
      ]
     },
     "metadata": {
      "needs_background": "light"
     },
     "output_type": "display_data"
    }
   ],
   "source": [
    "plt.figure(figsize=(12,6))\n",
    "sns.boxplot(data=all_articles, x='category', y='length_words', width=.5);"
   ]
  },
  {
   "cell_type": "code",
   "execution_count": 23,
   "metadata": {},
   "outputs": [
    {
     "data": {
      "text/html": [
       "<div>\n",
       "<style scoped>\n",
       "    .dataframe tbody tr th:only-of-type {\n",
       "        vertical-align: middle;\n",
       "    }\n",
       "\n",
       "    .dataframe tbody tr th {\n",
       "        vertical-align: top;\n",
       "    }\n",
       "\n",
       "    .dataframe thead th {\n",
       "        text-align: right;\n",
       "    }\n",
       "</style>\n",
       "<table border=\"1\" class=\"dataframe\">\n",
       "  <thead>\n",
       "    <tr style=\"text-align: right;\">\n",
       "      <th></th>\n",
       "      <th>count</th>\n",
       "      <th>mean</th>\n",
       "      <th>std</th>\n",
       "      <th>min</th>\n",
       "      <th>25%</th>\n",
       "      <th>50%</th>\n",
       "      <th>75%</th>\n",
       "      <th>max</th>\n",
       "    </tr>\n",
       "    <tr>\n",
       "      <th>category</th>\n",
       "      <th></th>\n",
       "      <th></th>\n",
       "      <th></th>\n",
       "      <th></th>\n",
       "      <th></th>\n",
       "      <th></th>\n",
       "      <th></th>\n",
       "      <th></th>\n",
       "    </tr>\n",
       "  </thead>\n",
       "  <tbody>\n",
       "    <tr>\n",
       "      <th>Business</th>\n",
       "      <td>1200.0</td>\n",
       "      <td>426.053333</td>\n",
       "      <td>268.747567</td>\n",
       "      <td>35.0</td>\n",
       "      <td>250.0</td>\n",
       "      <td>377.0</td>\n",
       "      <td>542.00</td>\n",
       "      <td>3040.0</td>\n",
       "    </tr>\n",
       "    <tr>\n",
       "      <th>Lifestyle</th>\n",
       "      <td>1200.0</td>\n",
       "      <td>517.174167</td>\n",
       "      <td>413.830306</td>\n",
       "      <td>64.0</td>\n",
       "      <td>251.0</td>\n",
       "      <td>387.0</td>\n",
       "      <td>614.25</td>\n",
       "      <td>3847.0</td>\n",
       "    </tr>\n",
       "    <tr>\n",
       "      <th>Singapore</th>\n",
       "      <td>1200.0</td>\n",
       "      <td>493.639167</td>\n",
       "      <td>344.590190</td>\n",
       "      <td>43.0</td>\n",
       "      <td>280.0</td>\n",
       "      <td>420.5</td>\n",
       "      <td>613.00</td>\n",
       "      <td>3896.0</td>\n",
       "    </tr>\n",
       "    <tr>\n",
       "      <th>Sports</th>\n",
       "      <td>1200.0</td>\n",
       "      <td>324.609167</td>\n",
       "      <td>163.173055</td>\n",
       "      <td>40.0</td>\n",
       "      <td>197.0</td>\n",
       "      <td>297.0</td>\n",
       "      <td>418.00</td>\n",
       "      <td>1107.0</td>\n",
       "    </tr>\n",
       "    <tr>\n",
       "      <th>Technology</th>\n",
       "      <td>1200.0</td>\n",
       "      <td>466.093333</td>\n",
       "      <td>342.683091</td>\n",
       "      <td>36.0</td>\n",
       "      <td>248.0</td>\n",
       "      <td>393.0</td>\n",
       "      <td>606.25</td>\n",
       "      <td>3586.0</td>\n",
       "    </tr>\n",
       "    <tr>\n",
       "      <th>World</th>\n",
       "      <td>1200.0</td>\n",
       "      <td>426.600833</td>\n",
       "      <td>263.947634</td>\n",
       "      <td>43.0</td>\n",
       "      <td>268.0</td>\n",
       "      <td>368.0</td>\n",
       "      <td>527.25</td>\n",
       "      <td>3873.0</td>\n",
       "    </tr>\n",
       "  </tbody>\n",
       "</table>\n",
       "</div>"
      ],
      "text/plain": [
       "             count        mean         std   min    25%    50%     75%     max\n",
       "category                                                                      \n",
       "Business    1200.0  426.053333  268.747567  35.0  250.0  377.0  542.00  3040.0\n",
       "Lifestyle   1200.0  517.174167  413.830306  64.0  251.0  387.0  614.25  3847.0\n",
       "Singapore   1200.0  493.639167  344.590190  43.0  280.0  420.5  613.00  3896.0\n",
       "Sports      1200.0  324.609167  163.173055  40.0  197.0  297.0  418.00  1107.0\n",
       "Technology  1200.0  466.093333  342.683091  36.0  248.0  393.0  606.25  3586.0\n",
       "World       1200.0  426.600833  263.947634  43.0  268.0  368.0  527.25  3873.0"
      ]
     },
     "execution_count": 23,
     "metadata": {},
     "output_type": "execute_result"
    }
   ],
   "source": [
    "all_articles.groupby('category')['length_words'].describe()"
   ]
  },
  {
   "cell_type": "code",
   "execution_count": 24,
   "metadata": {},
   "outputs": [],
   "source": [
    "#Export to Serialized Object\n",
    "with open('Pickles/sampled_articles_raw.pickle', 'wb') as output:\n",
    "    pickle.dump(all_articles, output)"
   ]
  }
 ],
 "metadata": {
  "kernelspec": {
   "display_name": "Python 3",
   "language": "python",
   "name": "python3"
  },
  "language_info": {
   "codemirror_mode": {
    "name": "ipython",
    "version": 3
   },
   "file_extension": ".py",
   "mimetype": "text/x-python",
   "name": "python",
   "nbconvert_exporter": "python",
   "pygments_lexer": "ipython3",
   "version": "3.7.3"
  }
 },
 "nbformat": 4,
 "nbformat_minor": 2
}
