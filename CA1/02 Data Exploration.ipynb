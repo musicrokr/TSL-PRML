{
 "cells": [
  {
   "cell_type": "markdown",
   "metadata": {},
   "source": [
    "# Data Exploration"
   ]
  },
  {
   "cell_type": "markdown",
   "metadata": {},
   "source": [
    "Perform Data Exploration on the Consolidated Dataset"
   ]
  },
  {
   "cell_type": "code",
   "execution_count": 1,
   "metadata": {},
   "outputs": [],
   "source": [
    "import pandas as pd\n",
    "import matplotlib.pyplot as plt\n",
    "import seaborn as sns\n",
    "import pickle\n",
    "\n",
    "%matplotlib inline"
   ]
  },
  {
   "cell_type": "code",
   "execution_count": 2,
   "metadata": {},
   "outputs": [],
   "source": [
    "path_df = \"./Pickles/all_articles_raw.pickle\"\n",
    "\n",
    "with open(path_df, 'rb') as data:\n",
    "    articles = pickle.load(data)"
   ]
  },
  {
   "cell_type": "markdown",
   "metadata": {},
   "source": [
    "## News Source"
   ]
  },
  {
   "cell_type": "code",
   "execution_count": 3,
   "metadata": {},
   "outputs": [
    {
     "data": {
      "text/html": [
       "<div>\n",
       "<style scoped>\n",
       "    .dataframe tbody tr th:only-of-type {\n",
       "        vertical-align: middle;\n",
       "    }\n",
       "\n",
       "    .dataframe tbody tr th {\n",
       "        vertical-align: top;\n",
       "    }\n",
       "\n",
       "    .dataframe thead th {\n",
       "        text-align: right;\n",
       "    }\n",
       "</style>\n",
       "<table border=\"1\" class=\"dataframe\">\n",
       "  <thead>\n",
       "    <tr style=\"text-align: right;\">\n",
       "      <th></th>\n",
       "      <th>source</th>\n",
       "      <th>title</th>\n",
       "      <th>article</th>\n",
       "      <th>category</th>\n",
       "    </tr>\n",
       "  </thead>\n",
       "  <tbody>\n",
       "    <tr>\n",
       "      <th>0</th>\n",
       "      <td>Channel News Asia</td>\n",
       "      <td>NaN</td>\n",
       "      <td>CAIRO: Egypt's communications ministry will be...</td>\n",
       "      <td>Business</td>\n",
       "    </tr>\n",
       "    <tr>\n",
       "      <th>1</th>\n",
       "      <td>The Straits Times</td>\n",
       "      <td>China suspends mainland movies, stars from Tai...</td>\n",
       "      <td>\\nSHANGHAI/TAIPEI (REUTERS) - China's film reg...</td>\n",
       "      <td>World</td>\n",
       "    </tr>\n",
       "    <tr>\n",
       "      <th>2</th>\n",
       "      <td>The Straits Times</td>\n",
       "      <td>Singapore shares open lower on Monday as oil s...</td>\n",
       "      <td>\\nSINGAPORE - Singapore shares started the wee...</td>\n",
       "      <td>Business</td>\n",
       "    </tr>\n",
       "    <tr>\n",
       "      <th>3</th>\n",
       "      <td>The Straits Times</td>\n",
       "      <td>Ahn Jae-hyun apologises to actress after affai...</td>\n",
       "      <td>\\nAhn Jae-hyun has not resorted to tit-for-tat...</td>\n",
       "      <td>Lifestyle</td>\n",
       "    </tr>\n",
       "    <tr>\n",
       "      <th>4</th>\n",
       "      <td>The Straits Times</td>\n",
       "      <td>Andy Hui scandal: TVB to lose nearly $2m to re...</td>\n",
       "      <td>\\nSINGAPORE - The guilty parties have said sor...</td>\n",
       "      <td>Lifestyle</td>\n",
       "    </tr>\n",
       "  </tbody>\n",
       "</table>\n",
       "</div>"
      ],
      "text/plain": [
       "              source                                              title  \\\n",
       "0  Channel News Asia                                                NaN   \n",
       "1  The Straits Times  China suspends mainland movies, stars from Tai...   \n",
       "2  The Straits Times  Singapore shares open lower on Monday as oil s...   \n",
       "3  The Straits Times  Ahn Jae-hyun apologises to actress after affai...   \n",
       "4  The Straits Times  Andy Hui scandal: TVB to lose nearly $2m to re...   \n",
       "\n",
       "                                             article   category  \n",
       "0  CAIRO: Egypt's communications ministry will be...   Business  \n",
       "1  \\nSHANGHAI/TAIPEI (REUTERS) - China's film reg...      World  \n",
       "2  \\nSINGAPORE - Singapore shares started the wee...   Business  \n",
       "3  \\nAhn Jae-hyun has not resorted to tit-for-tat...  Lifestyle  \n",
       "4  \\nSINGAPORE - The guilty parties have said sor...  Lifestyle  "
      ]
     },
     "execution_count": 3,
     "metadata": {},
     "output_type": "execute_result"
    }
   ],
   "source": [
    "articles.head()"
   ]
  },
  {
   "cell_type": "code",
   "execution_count": 4,
   "metadata": {},
   "outputs": [
    {
     "data": {
      "text/plain": [
       "10919"
      ]
     },
     "execution_count": 4,
     "metadata": {},
     "output_type": "execute_result"
    }
   ],
   "source": [
    "len(articles)"
   ]
  },
  {
   "cell_type": "code",
   "execution_count": 5,
   "metadata": {},
   "outputs": [
    {
     "data": {
      "text/plain": [
       "Text(0.5, 1.0, 'News Source')"
      ]
     },
     "execution_count": 5,
     "metadata": {},
     "output_type": "execute_result"
    },
    {
     "data": {
      "image/png": "[encoded data removed]",
      "text/plain": [
       "<Figure size 864x432 with 1 Axes>"
      ]
     },
     "metadata": {
      "needs_background": "light"
     },
     "output_type": "display_data"
    }
   ],
   "source": [
    "plt.figure(figsize=(12,6))\n",
    "sns.countplot(x='source',data=articles,order=articles['source'].value_counts().iloc[:10].index,).set_title(\"News Source\")"
   ]
  },
  {
   "cell_type": "code",
   "execution_count": 6,
   "metadata": {},
   "outputs": [
    {
     "data": {
      "text/plain": [
       "Channel News Asia    6612\n",
       "The Straits Times    1810\n",
       "AsiaOne              1541\n",
       "The New Paper         956\n",
       "Name: source, dtype: int64"
      ]
     },
     "execution_count": 6,
     "metadata": {},
     "output_type": "execute_result"
    }
   ],
   "source": [
    "articles['source'].value_counts()"
   ]
  },
  {
   "cell_type": "markdown",
   "metadata": {},
   "source": [
    "## Article Categories"
   ]
  },
  {
   "cell_type": "code",
   "execution_count": 7,
   "metadata": {},
   "outputs": [
    {
     "data": {
      "text/plain": [
       "Text(0.5, 1.0, 'Categories')"
      ]
     },
     "execution_count": 7,
     "metadata": {},
     "output_type": "execute_result"
    },
    {
     "data": {
      "image/png": "[encoded data removed]",
      "text/plain": [
       "<Figure size 864x432 with 1 Axes>"
      ]
     },
     "metadata": {
      "needs_background": "light"
     },
     "output_type": "display_data"
    }
   ],
   "source": [
    "plt.figure(figsize=(12,6))\n",
    "sns.countplot(x='category',data=articles,order=articles['category'].value_counts().iloc[:10].index,).set_title(\"Categories\")"
   ]
  },
  {
   "cell_type": "code",
   "execution_count": 8,
   "metadata": {},
   "outputs": [
    {
     "data": {
      "text/plain": [
       "World         3005\n",
       "Lifestyle     2347\n",
       "Singapore     1552\n",
       "Technology    1400\n",
       "Business      1323\n",
       "Sports        1292\n",
       "Name: category, dtype: int64"
      ]
     },
     "execution_count": 8,
     "metadata": {},
     "output_type": "execute_result"
    }
   ],
   "source": [
    "articles['category'].value_counts()"
   ]
  },
  {
   "cell_type": "code",
   "execution_count": 9,
   "metadata": {},
   "outputs": [
    {
     "data": {
      "text/plain": [
       "array(['Business', 'World', 'Lifestyle', 'Singapore', 'Sports',\n",
       "       'Technology'], dtype=object)"
      ]
     },
     "execution_count": 9,
     "metadata": {},
     "output_type": "execute_result"
    }
   ],
   "source": [
    "all_categories= articles['category'].unique()\n",
    "all_categories"
   ]
  },
  {
   "cell_type": "code",
   "execution_count": 10,
   "metadata": {},
   "outputs": [],
   "source": [
    "sampled_data =[]\n",
    "for category in all_categories:\n",
    "    df = articles[articles['category']==category].sample(n=1200)\n",
    "    sampled_data.append(df)"
   ]
  },
  {
   "cell_type": "code",
   "execution_count": 11,
   "metadata": {},
   "outputs": [
    {
     "data": {
      "text/html": [
       "<div>\n",
       "<style scoped>\n",
       "    .dataframe tbody tr th:only-of-type {\n",
       "        vertical-align: middle;\n",
       "    }\n",
       "\n",
       "    .dataframe tbody tr th {\n",
       "        vertical-align: top;\n",
       "    }\n",
       "\n",
       "    .dataframe thead th {\n",
       "        text-align: right;\n",
       "    }\n",
       "</style>\n",
       "<table border=\"1\" class=\"dataframe\">\n",
       "  <thead>\n",
       "    <tr style=\"text-align: right;\">\n",
       "      <th></th>\n",
       "      <th>source</th>\n",
       "      <th>title</th>\n",
       "      <th>article</th>\n",
       "      <th>category</th>\n",
       "    </tr>\n",
       "  </thead>\n",
       "  <tbody>\n",
       "    <tr>\n",
       "      <th>8192</th>\n",
       "      <td>AsiaOne</td>\n",
       "      <td>Honestbee applies for court protection from cr...</td>\n",
       "      <td>SINGAPORE - Troubled retail start-up Honestbee...</td>\n",
       "      <td>Business</td>\n",
       "    </tr>\n",
       "    <tr>\n",
       "      <th>6604</th>\n",
       "      <td>Channel News Asia</td>\n",
       "      <td>NaN</td>\n",
       "      <td>LONDON: Boris Johnson, the UK prime minister, ...</td>\n",
       "      <td>Business</td>\n",
       "    </tr>\n",
       "    <tr>\n",
       "      <th>1459</th>\n",
       "      <td>Channel News Asia</td>\n",
       "      <td>NaN</td>\n",
       "      <td>PARIS: Japan and South Korea are showing no si...</td>\n",
       "      <td>Business</td>\n",
       "    </tr>\n",
       "    <tr>\n",
       "      <th>257</th>\n",
       "      <td>Channel News Asia</td>\n",
       "      <td>NaN</td>\n",
       "      <td>NEW YORK: Wall Street stocks tumbled on Tuesda...</td>\n",
       "      <td>Business</td>\n",
       "    </tr>\n",
       "    <tr>\n",
       "      <th>8586</th>\n",
       "      <td>Channel News Asia</td>\n",
       "      <td>NaN</td>\n",
       "      <td>WASHINGTON: General Motors Co said Wednesday i...</td>\n",
       "      <td>Business</td>\n",
       "    </tr>\n",
       "  </tbody>\n",
       "</table>\n",
       "</div>"
      ],
      "text/plain": [
       "                 source                                              title  \\\n",
       "8192            AsiaOne  Honestbee applies for court protection from cr...   \n",
       "6604  Channel News Asia                                                NaN   \n",
       "1459  Channel News Asia                                                NaN   \n",
       "257   Channel News Asia                                                NaN   \n",
       "8586  Channel News Asia                                                NaN   \n",
       "\n",
       "                                                article  category  \n",
       "8192  SINGAPORE - Troubled retail start-up Honestbee...  Business  \n",
       "6604  LONDON: Boris Johnson, the UK prime minister, ...  Business  \n",
       "1459  PARIS: Japan and South Korea are showing no si...  Business  \n",
       "257   NEW YORK: Wall Street stocks tumbled on Tuesda...  Business  \n",
       "8586  WASHINGTON: General Motors Co said Wednesday i...  Business  "
      ]
     },
     "execution_count": 11,
     "metadata": {},
     "output_type": "execute_result"
    }
   ],
   "source": [
    "all_articles = pd.concat(sampled_data)\n",
    "all_articles.head()"
   ]
  },
  {
   "cell_type": "code",
   "execution_count": 12,
   "metadata": {},
   "outputs": [],
   "source": [
    "#all_articles=articles"
   ]
  },
  {
   "cell_type": "code",
   "execution_count": 13,
   "metadata": {},
   "outputs": [
    {
     "data": {
      "text/plain": [
       "Sports        1200\n",
       "Technology    1200\n",
       "Business      1200\n",
       "Lifestyle     1200\n",
       "Singapore     1200\n",
       "World         1200\n",
       "Name: category, dtype: int64"
      ]
     },
     "execution_count": 13,
     "metadata": {},
     "output_type": "execute_result"
    }
   ],
   "source": [
    "all_articles['category'].value_counts()"
   ]
  },
  {
   "cell_type": "markdown",
   "metadata": {},
   "source": [
    "## Article Length"
   ]
  },
  {
   "cell_type": "code",
   "execution_count": 14,
   "metadata": {},
   "outputs": [
    {
     "data": {
      "text/html": [
       "<div>\n",
       "<style scoped>\n",
       "    .dataframe tbody tr th:only-of-type {\n",
       "        vertical-align: middle;\n",
       "    }\n",
       "\n",
       "    .dataframe tbody tr th {\n",
       "        vertical-align: top;\n",
       "    }\n",
       "\n",
       "    .dataframe thead th {\n",
       "        text-align: right;\n",
       "    }\n",
       "</style>\n",
       "<table border=\"1\" class=\"dataframe\">\n",
       "  <thead>\n",
       "    <tr style=\"text-align: right;\">\n",
       "      <th></th>\n",
       "      <th>source</th>\n",
       "      <th>title</th>\n",
       "      <th>article</th>\n",
       "      <th>category</th>\n",
       "      <th>length_characters</th>\n",
       "      <th>length_words</th>\n",
       "    </tr>\n",
       "  </thead>\n",
       "  <tbody>\n",
       "    <tr>\n",
       "      <th>8192</th>\n",
       "      <td>AsiaOne</td>\n",
       "      <td>Honestbee applies for court protection from cr...</td>\n",
       "      <td>SINGAPORE - Troubled retail start-up Honestbee...</td>\n",
       "      <td>Business</td>\n",
       "      <td>4279</td>\n",
       "      <td>672</td>\n",
       "    </tr>\n",
       "    <tr>\n",
       "      <th>6604</th>\n",
       "      <td>Channel News Asia</td>\n",
       "      <td>NaN</td>\n",
       "      <td>LONDON: Boris Johnson, the UK prime minister, ...</td>\n",
       "      <td>Business</td>\n",
       "      <td>4956</td>\n",
       "      <td>889</td>\n",
       "    </tr>\n",
       "    <tr>\n",
       "      <th>1459</th>\n",
       "      <td>Channel News Asia</td>\n",
       "      <td>NaN</td>\n",
       "      <td>PARIS: Japan and South Korea are showing no si...</td>\n",
       "      <td>Business</td>\n",
       "      <td>6081</td>\n",
       "      <td>981</td>\n",
       "    </tr>\n",
       "    <tr>\n",
       "      <th>257</th>\n",
       "      <td>Channel News Asia</td>\n",
       "      <td>NaN</td>\n",
       "      <td>NEW YORK: Wall Street stocks tumbled on Tuesda...</td>\n",
       "      <td>Business</td>\n",
       "      <td>1767</td>\n",
       "      <td>298</td>\n",
       "    </tr>\n",
       "    <tr>\n",
       "      <th>8586</th>\n",
       "      <td>Channel News Asia</td>\n",
       "      <td>NaN</td>\n",
       "      <td>WASHINGTON: General Motors Co said Wednesday i...</td>\n",
       "      <td>Business</td>\n",
       "      <td>2619</td>\n",
       "      <td>410</td>\n",
       "    </tr>\n",
       "  </tbody>\n",
       "</table>\n",
       "</div>"
      ],
      "text/plain": [
       "                 source                                              title  \\\n",
       "8192            AsiaOne  Honestbee applies for court protection from cr...   \n",
       "6604  Channel News Asia                                                NaN   \n",
       "1459  Channel News Asia                                                NaN   \n",
       "257   Channel News Asia                                                NaN   \n",
       "8586  Channel News Asia                                                NaN   \n",
       "\n",
       "                                                article  category  \\\n",
       "8192  SINGAPORE - Troubled retail start-up Honestbee...  Business   \n",
       "6604  LONDON: Boris Johnson, the UK prime minister, ...  Business   \n",
       "1459  PARIS: Japan and South Korea are showing no si...  Business   \n",
       "257   NEW YORK: Wall Street stocks tumbled on Tuesda...  Business   \n",
       "8586  WASHINGTON: General Motors Co said Wednesday i...  Business   \n",
       "\n",
       "      length_characters  length_words  \n",
       "8192               4279           672  \n",
       "6604               4956           889  \n",
       "1459               6081           981  \n",
       "257                1767           298  \n",
       "8586               2619           410  "
      ]
     },
     "execution_count": 14,
     "metadata": {},
     "output_type": "execute_result"
    }
   ],
   "source": [
    "all_articles['length_characters'] = all_articles['article'].apply(len)\n",
    "all_articles['length_words']=all_articles['article'].str.split().str.len()\n",
    "all_articles.head()"
   ]
  },
  {
   "cell_type": "code",
   "execution_count": 15,
   "metadata": {},
   "outputs": [
    {
     "data": {
      "image/png": "[encoded data removed]",
      "text/plain": [
       "<Figure size 576x432 with 1 Axes>"
      ]
     },
     "metadata": {
      "needs_background": "light"
     },
     "output_type": "display_data"
    }
   ],
   "source": [
    "plt.figure(figsize=(8,6))\n",
    "sns.distplot(all_articles['length_characters']).set_title('Article Character Length distribution');"
   ]
  },
  {
   "cell_type": "code",
   "execution_count": 16,
   "metadata": {},
   "outputs": [
    {
     "data": {
      "text/plain": [
       "count     7200.000000\n",
       "mean      2690.051250\n",
       "std       1889.042881\n",
       "min        111.000000\n",
       "25%       1484.000000\n",
       "50%       2252.000000\n",
       "75%       3336.000000\n",
       "max      23548.000000\n",
       "Name: length_characters, dtype: float64"
      ]
     },
     "execution_count": 16,
     "metadata": {},
     "output_type": "execute_result"
    }
   ],
   "source": [
    "all_articles['length_characters'].describe()"
   ]
  },
  {
   "cell_type": "code",
   "execution_count": 17,
   "metadata": {},
   "outputs": [
    {
     "data": {
      "image/png": "[encoded data removed]",
      "text/plain": [
       "<Figure size 576x432 with 1 Axes>"
      ]
     },
     "metadata": {
      "needs_background": "light"
     },
     "output_type": "display_data"
    }
   ],
   "source": [
    "plt.figure(figsize=(8,6))\n",
    "sns.distplot(all_articles['length_words']).set_title('Article Word Length distribution');"
   ]
  },
  {
   "cell_type": "code",
   "execution_count": 18,
   "metadata": {},
   "outputs": [
    {
     "data": {
      "text/plain": [
       "count    7200.000000\n",
       "mean      443.219444\n",
       "std       313.545445\n",
       "min        21.000000\n",
       "25%       243.000000\n",
       "50%       368.500000\n",
       "75%       552.000000\n",
       "max      3908.000000\n",
       "Name: length_words, dtype: float64"
      ]
     },
     "execution_count": 18,
     "metadata": {},
     "output_type": "execute_result"
    }
   ],
   "source": [
    "all_articles['length_words'].describe()"
   ]
  },
  {
   "cell_type": "markdown",
   "metadata": {},
   "source": [
    "### Longest Article"
   ]
  },
  {
   "cell_type": "code",
   "execution_count": 19,
   "metadata": {},
   "outputs": [
    {
     "data": {
      "text/plain": [
       "\"SINGAPORE: In a country where most people do not think twice about buying new clothes, Mr Leow Yee Shiang has not bought a single piece of clothing in the past two years., The 31-year-old civil servant practises what he calls a “minimalist lifestyle”. He rarely shops, and has only bought four items for himself this year – a water bottle, socks, lenses for his sunglasses and a motorcycle plate number., What sparked the decision? Mr Leow said it happened early last year when he was packing his belongings for his return to Singapore from Australia, where he had been living with his wife for two years because of work. , Among some of the items which he threw out included his wedding photo and its frame, as well as the love letters he got from his wife when they were dating. It means that he can now “focus on cherishing” their relationship, he said with a smile., Another person who has gone to the extremes to reduce his carbon footprint is Mr Tan Hang Chong., Mr Tan is the co-founder of Foodscape Collective, a community group that aims to raise awareness about food waste. He does not switch on the lights in his house, even at night. Instead, he relies on light which filters in from the corridors or neighbouring flats, and even showers in the dark., Mr Tan said that the idea to live this way occurred to him after he started pondering about ways to reduce his electricity bill several years ago. “I realised that while I was always so conscious about light pollution and its impact on wildlife ... why not harness the light pollution?” he said., Mr Leow and Mr Tan may be outliers but anecdotally, more and more Singaporeans are taking the effort to do their bit for the environment — in particular, by using reuseable straws and bringing their own tote bags for grocery shopping., Many of those who swear by reuseable straws would recall watching a video of a turtle with a straw stuck in its nose, which went viral on social media some years ago., The ,  got a boost last year, with big corporations such as coffee giant Starbucks announcing that they would eliminate plastic straws and other disposables from their premises., The surge in sales of reusable straws comes on the heels of other trendy environmental efforts such as the use of tote bags, which at one point were seen as the panacea to plastic bags and freely given out at some retail establishments., In Singapore, several supermarkets have also introduced reusable bags for sale, or have given them away for free to discourage consumers from using plastic bags., Such initiatives come as the effects of climate change are being felt around the world with increasing intensity — from erratic weather patterns to melting of glaciers, and rising sea levels. Singapore has not been spared either, with long spells of hot weather and heavier rainfall becoming the new normal in recent years., Indeed, Prime Minister Lee Hsien Loong recently urged the nation to see climate-change mitigation measures like how it treats the Singapore Armed Forces (SAF) — “with utmost seriousness”., “Both the SAF and climate change defences are existential for us. These are , ,” he said during his National Day Rally speech on Aug 18, noting that low-lying Singapore is especially vulnerable to , ., While there has been a greater awareness among Singaporeans on the gravity of the climate change problem in recent years, not everyone is aware of what they can do to make a meaningful difference — beyond the use of reuseable straws and bags, which some environmentalists have noted do not make a huge impact in the grand scheme of things., Mr Ho Xiang Tian, 23, the co-founder of sustainability interest group LepakInSG, recounted an incident where he had refused a straw at a food establishment, only to see the cashier accidentally knock over an entire packet of straws onto the floor, rendering them unusable., “It was in that instant when I realised that I could refuse a straw 100 times, but in three seconds the cashier negated all my efforts,” he said., Still, environmental experts and activists reiterated the importance of individual action. After all, great social movements start from the convictions of a few before reaching a tipping point, they noted. , The world will be “on a path to failure” if people do not believe in individual actions, said Mr Michael Broadhead, a board member at environmental non-profit Centre for a Responsible Future and founder of EarthFest Singapore., “Any social change at the beginning has a few people making change. They do it because they see a better way and are passionate about it,” he said. “Eventually these people spread awareness and educate more people to adopt those habits, reaching a tipping point to become mainstream.”, Despite its detractors, the anti-plastic straw movement around the world is a case in point: Individual actions can generate enough momentum to lead to changes in business and government policies., Starbucks, for instance, announced last year that it would ,  by 2020. At home, fast-food chain McDonalds announced earlier this week that it would remove straws from selected outlets., These developments — or “small victories” as some would say — suggest that if individuals make other lifestyle changes, they can collectively make a tangible impact in saving the environment. , Here is an in-depth look at five things which individuals can do to make a real difference:, The air-conditioner is ubiquitous in Singapore given its tropical climate — it is found in 99 per cent of condominium units, and almost every public building here, for example. , While Singapore’s first prime minister, the late Mr Lee Kuan Yew, had once described air-conditioning as the greatest invention in history and viewed air-conditioners in civil-service buildings as key to public efficiency, air-conditioners can consume up to half of a building’s energy needs, contributing to climate change. , The amount of energy required to cool Singapore is expected to grow by 73 per cent between 2010 and 2030, said Associate Professor Lee Poh Seng from the Department of Mechanical Engineering at the National University of Singapore (NUS)., Not only are air-conditioners prevalent in most buildings, they are turned on excessively: A survey conducted late-2017 by environmental news website Eco-Business found that 68 per cent of Singapore residents felt that it was too cold in buildings – the highest proportion among six ASEAN countries surveyed., Without any change in consumption habits, energy consumption in all ASEAN countries is likely to increase by a compound annual growth rate of 5.7 per cent by 2030., According to the SP Group’s website, the air-conditioner is the biggest energy guzzler at home, with its power input reaching as high as 3,000 watts., Based on calculations from “What is My Carbon Footprint” website, an individual living in a Housing and Development Board (HDB) flat who often uses air-conditioner and other large electrical appliances — such as refrigerators, water heaters and televisions — can generate 1 tonne of carbon emissions a year., By reducing usage, the individual can cut his or her carbon footprint by half., However, based on random interviews with some Singaporeans, it seems that giving up air-conditioning or just setting the machine a few degrees Celsius higher is a big ask for people here. , Ms Priya Chandran, a first-year student at Nanyang Technological University, said that she would usually leave her air-conditioner at home running for up to 10 hours a day overnight., While the 21-year-old is aware of its environmental impact, she considers the air-conditioner as necessary in Singapore’s hot and humid climate., “It's very hot. When I'm outside, I don't have the same access to air-conditioning that I have at home, so I would like to make optimal use of that comfort while I'm resting,” she said., When asked if she was prepared to switch to environment-friendly options at home, Ms Chandran said that she would only do so if they offered the same chillness as her current air-conditioner, and if the alternatives were within her budget., Mr Rishvinder Singh, who lives in a four-room HDB flat, said his family leaves two of their air-conditioners switched on for up to five hours each night., When told that he could potentially cut his carbon footprint by half if he were to stop using air-conditioners, Mr Singh, 25, said that while he would consider reducing usage, he would need regular reminders to do so., “Although there are a lot of push factors against using the air-conditioner frequently because of climate change, it’s a very difficult change to implement throughout the entire country because Singapore is hot and humid, even at night,” said the teacher., Leaving the car at home and making greater use of public transport is another step that Singaporeans can take to reduce their carbon footprints., The number of cars on the roads in Singapore remains high, even as the Government continues to promote public transport as part of its 2040 land transport master plan., As of July, figures from the Land Transport Authority showed that there were about 967,800 vehicles on the road. Of these, 556,200 were private cars while another 91,700 were taxis and private-hire cars., According to the National Climate Change Secretariat, private cars make up the largest share of emissions by the transport sector at 35 per cent. This is followed by commercial vehicles (26 per cent), taxis (17 per cent), bus (15 per cent), MRT and LRT (4 per cent) and motorcycles (3 per cent)., While there are no official figures available on the amount of carbon emissions generated by private car use, the transport sector made up close to 14 per cent of total emissions in 2014, and the figure is projected to increase by 0.5 per cent next year under a business-as-usual scenario., A study by Assistant Professor Lynette Cheah from the Singapore University of Technology and Design estimated that cars alone generated 2.2 kg of carbon per litre of petrol., Figures from the Transport Ministry also show that travelling by car generates about 14 times more emissions (187 gCO2/passenger-km) compared with travelling by MRT (13 gCO2/passenger-km)., In a separate study, the average occupancy of cars in Singapore was found to be about 1.7 people per car — and this reflected “immense inefficiencies”, said Asst Prof Cheah. , Like many working professionals, lawyer Melissa Tham, 29, typically travels by car. Each day, she either takes a private-hire car or gets a lift from her family to travel from her home in Upper Thomson to her workplace at Marina Bay Financial Centre., This comes up to 0.02 tonnes of carbon emissions per week, or about 1 tonne per year., The figure excludes her travels by private-hire car or taxis during the weekend, which can come up to about six trips each weekend., While Ms Tham is aware that travelling via public transport will significantly reduce her carbon footprint, she cited convenience as the key reason for continuing to take private-hire cars or taxis., “I live with my parents and we don’t live near an MRT station, with the nearest being 20 minutes away, and it’s really too long and time consuming for me to walk there,” she said., She added that with a new MRT station coming up near her home, she might switch to public transport in future., For Mr Ash Lim, 45, cost had been the major factor — rather than a desire to save the environment — in giving up his car about three years ago., The managing director of a theatre company said that he had decided not to get another car after he scrapped his car in 2016 due to high Certificate of Entitlement (COE) prices., He added that using the train to get from his Aljunied home to his workplace in the Central Business District “was not really difficult”. He only takes a taxi or private-hire car about twice a week, he said., Nevertheless, he said he may think about getting a car again if he moves to another place further from his office, for example. On whether the level of carbon emissions generated from driving would be a consideration, he said it would be “a small, but not deciding factor”., Building more connected infrastructure is one of the ways in which the Government hopes to cut down on emissions intensity generated by road transport. In 2017, 67 per cent of trips during peak hours were made by public transport. The Government is aiming to increase this to 75 per cent by 2030, and 85 per cent by 2050., However, Asst Prof Cheah noted that several hurdles remain in the drive for a car-lite nation, such as the growing population and a tendency for car owners to drive as much as they can to maximise their financial outlay on the vehicles., A tax based on mileage rather than ownership, which is currently the case, could deter people from taking the car, she added., Reducing meat consumption is one of the most significant ways for an individual to reduce his or her carbon footprint., The animal agriculture sector has been identified as a key source of greenhouse gas, with deforestation to grow crops for animal feed contributing to global warming., Beef in particular, is more potent in terms of carbon emissions than other forms of meat. More resources are required to produce beef. Cows also release methane which is 25 times more effective at trapping heat than carbon dioxide., A 2014 study of meals in the United Kingdom found that vegetarians generated about half the amount of carbon dioxide (3.8kg) compared to those who had more than 100g of meat a day (7.2 kg)., A study by medical journal The Lancet in January recommended that people eat a plant-based diet, with the occasional inclusion of meat, dairy and sugar in their meals., However, figures from the Agri-Food and Veterinary Authority showed that on average, each Singaporean ate 2kg of beef, 3kg of mutton and 20kg of pork in 2017.  This works out to about 68g of meat consumed per day — nearly five times the 14g of meat a day recommended by The Lancet study. , Some environmentally-conscious individuals admitted that they had struggled to make a complete switch to vegetarianism or veganism due to nutritional issues or opposition by family members., Vegetarians are those who do not eat meat products while vegans do not eat meat and other products derived from animals such as milk or honey., However, there are Singaporeans who have successfully made the change such as Mr Hilmi Hayan, an entrepreneur and bodybuilder. The 25-year-old decided to go vegan several years ago after watching a small bird killed for food., Mr Hilmi, who rarely ate vegetables before turning vegan, said that he subsequently learnt about the destruction and level of carbon emission involved in producing meat, and this reaffirmed his decision to stay vegan., Last year, Singaporeans threw out about 7.7 million tonnes of waste, enough to fill about 15,000 Olympic-size swimming pools. On a daily basis, this is equivalent to the weight of more than 1,400 double-decker buses., Mr Leow, the civil servant who practises a minimalist lifestyle, felt that Singaporeans’ tendency to buy things and throw them away soon after was symptomatic of the country’s affluence., He has only 20 pieces of clothing in total and he avoids spending money on new items unless they are absolutely necessary. He extends the life of his personal possessions by repairing or repurposing them., Mr Leow is an anomaly in Singapore, where most people are victims of “fast fashion”., In 2016, a CNA survey of 1,000 respondents found that on average, Singaporeans bought about 34 pieces of new clothing each year, driven by the lure of cheap prices. They also threw out an average of 27 items of clothing per year., Only 6 per cent of 220,000 tonnes of textiles and leather generated in Singapore was recycled last year., According to the United Nations, if the fashion industry does not adopt more sustainable methods of production, it will represent 26 per cent of global carbon emissions, up from 10 per cent now., Corporate communications senior executive Manesh Rangarajan, for example, buys at least one new item each month, including clothes. Despite being aware of the environmental costs of the mostly imported fast-fashion, Mr Manesh felt that there is little incentive to buy local products to reduce the environmental cost of clothes., Mr Manesh, who refreshes his wardrobe every two to three years, said: “It’s hard to think about carbon footprint when you live in Singapore where everything is imported.”, “The made-in-Singapore items are mostly pricey and the affordability of ready-to-wear items by bigger brands is a bigger draw,” said the 30-year-old who window shops online on a daily basis., The aviation industry generates 2 per cent of global carbon dioxide emissions, and 12 per cent of carbon emissions among all forms of transport., While they seem small, figures by the European Environment Agency show that flying emits 285g of carbon dioxide per kilometre, exceeding 158g by road and 14g by rail for each passenger., A study in 2012 on the carbon footprint of the aviation industry also found that within Asia, Singapore generated 9.8 million tonnes of carbon emissions in terms of departing flights, second only to Hong Kong (10.4 million tonnes)., The study also found that the route between London and Singapore generated the highest amount of carbon emissions., With Singapore being a travel hub and its citizens avid travellers, this amount of carbon emissions is unlikely to abate. Last year, Changi Airport Group posted its highest passenger haul of 65.6 million, a 5.5 per cent increase from the year before., While the global aviation industry has committed to improving its fuel efficiency per year from 2009 to 2020 and reduce its net aviation carbon emissions in half by 2050 (relative to 2005 levels), it remains to be seen whether travellers’ mindsets will change., Consultant Yoong Leong Yan flies to Kuala Lumpur monthly for work., On the idea of taking a coach instead of a flight, the 51-year-old said: “The coach is not convenient because of the time and because you need to get on and off at the checkpoint immigration.”, He added: “My main consideration is the efficiency (of the travel mode) and to get ... the business done.”, Still, some are making the adjustments, including Mr Tan, the co-founder of Foodscape Collective. He tries to limit his travel, only travelling in the region when he needs to. He also lengthens his stay when he travels — getting more done, instead of having to fly to and fro — and offsets his carbon emissions through green activities., While making changes to their lifestyle could significantly cut down Singaporeans’ average carbon emissions, several interviewed cited cost, inconvenience or peer-pressure as reasons for not doing so. Some also pointed to Singapore’s negligible contribution to global carbon emissions, and felt that any drastic changes to their lifestyles — along with the inconveniences — are not worth it., The website What is My Carbon Footprint showed that the average Singaporean generates 9 tonnes of carbon emissions annually, more than twice the world’s average, and more than four times the target to maintain a sustainable footprint., At the same time, Singapore contributes to only 0.1 per cent of global carbon emissions., Reflecting a common mindset among most individuals, Mr Manesh said: , Green advocates, however, want Singaporeans to know that individual actions count much more than they think., Ms Melissa Tan, 27, founder of Bamboo Straw Girl, a business selling biodegradable straws, stressed that changing everyday habits would encourage people to think about the consequences of their actions., “When collective change becomes a habit, our values as a community change. This will be reflected in the policies we push for,” she said., Ultimately, governments and businesses are the real game-changers — but it is individuals who collectively send a message and drive the behaviours of governments and businesses. , Said Mr Ho of Lepak in SG: , Worldwide, there is a growing sense that corporations and governments are not pulling their weight on climate action policies, amid various reports and studies sounding the alarm on the pace of global warming., The perceived lack of urgency has led to climate strikes being held regularly around the world, such as the Fridays for Future school strikes launched by Swedish student activist Greta Thunberg., The activism has also reached Singapore’s shores, with a group of youths organising the Singapore Climate Rally at Hong Lim Park on Sep 21 to push the Government to adopt more stringent climate action policies., Ms Annika Mock, 20, who is part of the rally’s organising committee, said that youths are living in “a very important moment in history”, with governments’ actions today likely to “echo into the decades” to come., At a country level, Mr Marc Allen, technical director at energy and climate change consultancy Engeco, said that consumers have the power to lobby for change by demanding low-carbon options and transparency in emission data., Mr Allen cited the examples of banks and institutional investors relooking the impact of their portfolios on the environment, as a result of public pressure., The impact of public pressure has not gone unnoticed in Singapore, with a spate of recent moves by companies to adopt more environmentally-friendly alternatives. NTUC FairPrice, for instance, announced on Wednesday (Sept 4) that shoppers will be charged for plastic bags at selected outlets. , While more stringent, sustainable policies entail trade-offs — such as in the form of higher costs of eco-friendly production methods — economic growth and combating climate change do not necessarily have to be mutually exclusive, experts stressed., Moving towards a smaller carbon footprint could also create economic opportunities for governments, especially in the areas of innovative business models and new technology, said Mr Allen., The Singapore Government has been proactive in fighting climate change: Apart from initiatives such as the introduction of carbon tax at the start of this year, it launched the Zero Waste Masterplan last month which aims to reduce the waste sent to the landfill each day by 30 per cent by 2030., Still, some Singapore government and business leaders have alluded to the fact that even if Singapore were to cut its carbon emissions, it would have little impact on a global scale., But this does not mean that Singapore’s role does not matter on the international stage, said Nee Soon Group Representation Constituency Member of Parliament Louis Ng., Ms Melissa Low, a research fellow at NUS’ Energy Studies Institute, stressed that Singapore’s size “should not be an excuse for inaction”., She noted that while Singapore accounted for a minute percentage of global emissions, some activists had pointed out that industries based here could generate a much larger carbon footprint through their emissions in other countries and measures are needed to mitigate against that., Mr Ng said that Singapore’s hosting of next month’s meetings by the United Nation’s Intergovernmental Panel on Climate Change indicates that the world looked to Singapore “as a leader”., “If we do something, the rest will follow. Even (former United States president) Barack Obama has said that Singapore punches above its weight. We do it for economic and other issues, why don’t we do it for climate change as well?” he added.\""
      ]
     },
     "execution_count": 19,
     "metadata": {},
     "output_type": "execute_result"
    }
   ],
   "source": [
    "longest = all_articles[all_articles['length_words']==all_articles['length_words'].max()]['article'].iloc[0]\n",
    "longest"
   ]
  },
  {
   "cell_type": "markdown",
   "metadata": {},
   "source": [
    "### Shortest Article"
   ]
  },
  {
   "cell_type": "code",
   "execution_count": 20,
   "metadata": {},
   "outputs": [
    {
     "data": {
      "text/plain": [
       "'KUALA LUMPUR: The first image of a black hole was unveiled on Wednesday (Apr 10) by astronomers, hailed as an \"'"
      ]
     },
     "execution_count": 20,
     "metadata": {},
     "output_type": "execute_result"
    }
   ],
   "source": [
    "shortest = all_articles[all_articles['length_words']==all_articles['length_words'].min()]['article'].iloc[0]\n",
    "shortest"
   ]
  },
  {
   "cell_type": "markdown",
   "metadata": {},
   "source": [
    "### Article Length by Category"
   ]
  },
  {
   "cell_type": "code",
   "execution_count": 21,
   "metadata": {},
   "outputs": [
    {
     "data": {
      "image/png": "[encoded data removed]",
      "text/plain": [
       "<Figure size 864x432 with 1 Axes>"
      ]
     },
     "metadata": {
      "needs_background": "light"
     },
     "output_type": "display_data"
    }
   ],
   "source": [
    "plt.figure(figsize=(12,6))\n",
    "sns.boxplot(data=all_articles, x='category', y='length_words', width=.5);"
   ]
  },
  {
   "cell_type": "code",
   "execution_count": 22,
   "metadata": {},
   "outputs": [
    {
     "data": {
      "text/html": [
       "<div>\n",
       "<style scoped>\n",
       "    .dataframe tbody tr th:only-of-type {\n",
       "        vertical-align: middle;\n",
       "    }\n",
       "\n",
       "    .dataframe tbody tr th {\n",
       "        vertical-align: top;\n",
       "    }\n",
       "\n",
       "    .dataframe thead th {\n",
       "        text-align: right;\n",
       "    }\n",
       "</style>\n",
       "<table border=\"1\" class=\"dataframe\">\n",
       "  <thead>\n",
       "    <tr style=\"text-align: right;\">\n",
       "      <th></th>\n",
       "      <th>count</th>\n",
       "      <th>mean</th>\n",
       "      <th>std</th>\n",
       "      <th>min</th>\n",
       "      <th>25%</th>\n",
       "      <th>50%</th>\n",
       "      <th>75%</th>\n",
       "      <th>max</th>\n",
       "    </tr>\n",
       "    <tr>\n",
       "      <th>category</th>\n",
       "      <th></th>\n",
       "      <th></th>\n",
       "      <th></th>\n",
       "      <th></th>\n",
       "      <th></th>\n",
       "      <th></th>\n",
       "      <th></th>\n",
       "      <th></th>\n",
       "    </tr>\n",
       "  </thead>\n",
       "  <tbody>\n",
       "    <tr>\n",
       "      <th>Business</th>\n",
       "      <td>1200.0</td>\n",
       "      <td>431.266667</td>\n",
       "      <td>277.480230</td>\n",
       "      <td>35.0</td>\n",
       "      <td>251.00</td>\n",
       "      <td>380.5</td>\n",
       "      <td>552.00</td>\n",
       "      <td>3040.0</td>\n",
       "    </tr>\n",
       "    <tr>\n",
       "      <th>Lifestyle</th>\n",
       "      <td>1200.0</td>\n",
       "      <td>521.651667</td>\n",
       "      <td>404.268522</td>\n",
       "      <td>39.0</td>\n",
       "      <td>260.00</td>\n",
       "      <td>385.5</td>\n",
       "      <td>634.00</td>\n",
       "      <td>3361.0</td>\n",
       "    </tr>\n",
       "    <tr>\n",
       "      <th>Singapore</th>\n",
       "      <td>1200.0</td>\n",
       "      <td>500.735833</td>\n",
       "      <td>351.121645</td>\n",
       "      <td>61.0</td>\n",
       "      <td>278.75</td>\n",
       "      <td>420.5</td>\n",
       "      <td>622.00</td>\n",
       "      <td>3908.0</td>\n",
       "    </tr>\n",
       "    <tr>\n",
       "      <th>Sports</th>\n",
       "      <td>1200.0</td>\n",
       "      <td>327.443333</td>\n",
       "      <td>163.310723</td>\n",
       "      <td>40.0</td>\n",
       "      <td>199.00</td>\n",
       "      <td>300.0</td>\n",
       "      <td>423.50</td>\n",
       "      <td>1107.0</td>\n",
       "    </tr>\n",
       "    <tr>\n",
       "      <th>Technology</th>\n",
       "      <td>1200.0</td>\n",
       "      <td>460.778333</td>\n",
       "      <td>340.592660</td>\n",
       "      <td>21.0</td>\n",
       "      <td>243.75</td>\n",
       "      <td>390.5</td>\n",
       "      <td>596.25</td>\n",
       "      <td>3586.0</td>\n",
       "    </tr>\n",
       "    <tr>\n",
       "      <th>World</th>\n",
       "      <td>1200.0</td>\n",
       "      <td>417.440833</td>\n",
       "      <td>244.716963</td>\n",
       "      <td>41.0</td>\n",
       "      <td>256.00</td>\n",
       "      <td>364.0</td>\n",
       "      <td>525.00</td>\n",
       "      <td>2462.0</td>\n",
       "    </tr>\n",
       "  </tbody>\n",
       "</table>\n",
       "</div>"
      ],
      "text/plain": [
       "             count        mean         std   min     25%    50%     75%  \\\n",
       "category                                                                  \n",
       "Business    1200.0  431.266667  277.480230  35.0  251.00  380.5  552.00   \n",
       "Lifestyle   1200.0  521.651667  404.268522  39.0  260.00  385.5  634.00   \n",
       "Singapore   1200.0  500.735833  351.121645  61.0  278.75  420.5  622.00   \n",
       "Sports      1200.0  327.443333  163.310723  40.0  199.00  300.0  423.50   \n",
       "Technology  1200.0  460.778333  340.592660  21.0  243.75  390.5  596.25   \n",
       "World       1200.0  417.440833  244.716963  41.0  256.00  364.0  525.00   \n",
       "\n",
       "               max  \n",
       "category            \n",
       "Business    3040.0  \n",
       "Lifestyle   3361.0  \n",
       "Singapore   3908.0  \n",
       "Sports      1107.0  \n",
       "Technology  3586.0  \n",
       "World       2462.0  "
      ]
     },
     "execution_count": 22,
     "metadata": {},
     "output_type": "execute_result"
    }
   ],
   "source": [
    "all_articles.groupby('category')['length_words'].describe()"
   ]
  },
  {
   "cell_type": "code",
   "execution_count": null,
   "metadata": {},
   "outputs": [],
   "source": [
    "#Export to Serialized Object\n",
    "with open('Pickles/sampled_articles_raw.pickle', 'wb') as output:\n",
    "    pickle.dump(all_articles, output)"
   ]
  }
 ],
 "metadata": {
  "kernelspec": {
   "display_name": "Python 3",
   "language": "python",
   "name": "python3"
  },
  "language_info": {
   "codemirror_mode": {
    "name": "ipython",
    "version": 3
   },
   "file_extension": ".py",
   "mimetype": "text/x-python",
   "name": "python",
   "nbconvert_exporter": "python",
   "pygments_lexer": "ipython3",
   "version": "3.7.3"
  }
 },
 "nbformat": 4,
 "nbformat_minor": 2
}
