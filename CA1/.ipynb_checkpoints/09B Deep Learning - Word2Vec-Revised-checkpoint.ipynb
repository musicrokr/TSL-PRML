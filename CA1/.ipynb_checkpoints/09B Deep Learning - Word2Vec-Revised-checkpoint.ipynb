{
 "cells": [
  {
   "cell_type": "markdown",
   "metadata": {},
   "source": [
    "https://rajmak.wordpress.com/2017/12/07/text-classification-classifying-product-titles-using-convolutional-neural-network-and-word2vec-embedding/"
   ]
  },
  {
   "cell_type": "code",
   "execution_count": 23,
   "metadata": {},
   "outputs": [],
   "source": [
    "import pickle\n",
    "import os\n",
    "import numpy as np\n",
    "import sklearn.metrics as metrics\n",
    "import matplotlib.pyplot as plt\n",
    "\n",
    "\n",
    "from tensorflow.keras.callbacks import ModelCheckpoint,CSVLogger\n",
    "from tensorflow.keras.layers import Activation, Conv1D, Dense, Embedding, Flatten, Input, MaxPooling1D,Dropout\n",
    "from tensorflow.keras.models import Sequential\n",
    "from tensorflow.keras.preprocessing.text import Tokenizer\n",
    "from tensorflow.keras.preprocessing.sequence import pad_sequences\n",
    "from sklearn.datasets import fetch_20newsgroups\n",
    "from sklearn.datasets.base import get_data_home\n",
    "from tensorflow.keras.metrics import categorical_accuracy\n",
    "from sklearn.model_selection import train_test_split\n",
    "from tensorflow.keras.preprocessing import text, sequence\n",
    "from sklearn.preprocessing import LabelBinarizer, LabelEncoder\n",
    "from tensorflow.keras import utils\n",
    "from tensorflow.keras.models import Model\n",
    "from tensorflow.keras import optimizers\n",
    "from sklearn.metrics import classification_report, confusion_matrix, accuracy_score\n",
    "\n",
    "import seaborn as sns\n",
    "\n",
    "from tensorflow.keras.callbacks import ModelCheckpoint,CSVLogger\n",
    "from tensorflow.keras.models import Model\n",
    "from tensorflow.keras.layers import Input\n",
    "from tensorflow.keras.layers import Dense\n",
    "from tensorflow.keras.layers import Flatten\n",
    "from tensorflow.keras.layers import Conv2D\n",
    "from tensorflow.keras.layers import Dropout\n",
    "from tensorflow.keras.layers import MaxPooling2D\n",
    "from tensorflow.keras.layers import BatchNormalization\n",
    "from tensorflow.keras.layers import Activation\n",
    "from tensorflow.keras.utils import to_categorical\n",
    "from tensorflow.keras.datasets import cifar10\n",
    "from tensorflow.keras import optimizers\n",
    "from tensorflow.keras import regularizers\n",
    "import gensim"
   ]
  },
  {
   "cell_type": "code",
   "execution_count": 24,
   "metadata": {},
   "outputs": [],
   "source": [
    "MAX_NB_WORDS = 200000\n",
    "MAX_SEQUENCE_LENGTH = 30\n",
    "EMBEDDING_DIM = 300"
   ]
  },
  {
   "cell_type": "code",
   "execution_count": 25,
   "metadata": {},
   "outputs": [],
   "source": [
    "category_mapping = {\n",
    "    'Singapore': 1,\n",
    "    'Sports': 2,\n",
    "    'Lifestyle': 3,\n",
    "    'World': 4,\n",
    "    'Business': 5,\n",
    "    'Technology': 6\n",
    "}"
   ]
  },
  {
   "cell_type": "code",
   "execution_count": 26,
   "metadata": {},
   "outputs": [],
   "source": [
    "#!pip install gensim"
   ]
  },
  {
   "cell_type": "code",
   "execution_count": 27,
   "metadata": {},
   "outputs": [],
   "source": [
    "#Processed Data Frame [ Do Not Use this, Use the Training, Tesing and Validation Data Sets Instead]\n",
    "data_path = \"./Pickles/all_articles_processed.pickle\"\n",
    "with open(data_path, 'rb') as data:\n",
    "    df = pickle.load(data)"
   ]
  },
  {
   "cell_type": "code",
   "execution_count": 28,
   "metadata": {},
   "outputs": [],
   "source": [
    "df['category'].value_counts()\n",
    "df=df.sample(frac=1)"
   ]
  },
  {
   "cell_type": "code",
   "execution_count": 29,
   "metadata": {},
   "outputs": [
    {
     "name": "stdout",
     "output_type": "stream",
     "text": [
      "Train size: 5040\n",
      "Test size: 2160\n"
     ]
    }
   ],
   "source": [
    "train_size = int(len(df) * .7)\n",
    "print (\"Train size: %d\" % train_size)\n",
    "print (\"Test size: %d\" % (len(df) - train_size))"
   ]
  },
  {
   "cell_type": "code",
   "execution_count": 30,
   "metadata": {},
   "outputs": [
    {
     "data": {
      "text/plain": [
       "array(['Lifestyle', 'World', 'Technology', 'Singapore', 'Sports',\n",
       "       'Business'], dtype=object)"
      ]
     },
     "execution_count": 30,
     "metadata": {},
     "output_type": "execute_result"
    }
   ],
   "source": [
    "df['category'].unique()"
   ]
  },
  {
   "cell_type": "code",
   "execution_count": 31,
   "metadata": {},
   "outputs": [],
   "source": [
    "train_posts = df['article'][:train_size]\n",
    "train_tags = df['category'][:train_size]\n",
    "\n",
    "test_posts = df['article'][train_size:]\n",
    "test_tags = df['category'][train_size:]"
   ]
  },
  {
   "cell_type": "code",
   "execution_count": 32,
   "metadata": {},
   "outputs": [],
   "source": [
    "max_words = 1000\n",
    "tokenize = text.Tokenizer(num_words=MAX_NB_WORDS, char_level=False)"
   ]
  },
  {
   "cell_type": "code",
   "execution_count": 33,
   "metadata": {},
   "outputs": [],
   "source": [
    "tokenize.fit_on_texts(train_posts) # only fit on train\n",
    "x_train = tokenize.texts_to_matrix(train_posts)\n",
    "x_test = tokenize.texts_to_matrix(test_posts)"
   ]
  },
  {
   "cell_type": "code",
   "execution_count": 34,
   "metadata": {},
   "outputs": [],
   "source": [
    "x_train = tokenize.texts_to_sequences(train_posts)\n",
    "x_test = tokenize.texts_to_sequences(test_posts)\n",
    "\n",
    "x_train = pad_sequences(x_train, maxlen=MAX_SEQUENCE_LENGTH)\n",
    "x_test = pad_sequences(x_test, maxlen=MAX_SEQUENCE_LENGTH)"
   ]
  },
  {
   "cell_type": "code",
   "execution_count": 35,
   "metadata": {},
   "outputs": [],
   "source": [
    "encoder = LabelEncoder()\n",
    "encoder.fit(train_tags)\n",
    "y_train = encoder.transform(train_tags)\n",
    "y_test = encoder.transform(test_tags)"
   ]
  },
  {
   "cell_type": "code",
   "execution_count": 36,
   "metadata": {},
   "outputs": [],
   "source": [
    "num_classes = np.max(y_train) + 1\n",
    "y_train = utils.to_categorical(y_train, num_classes)\n",
    "y_test = utils.to_categorical(y_test, num_classes)"
   ]
  },
  {
   "cell_type": "code",
   "execution_count": 37,
   "metadata": {},
   "outputs": [
    {
     "name": "stdout",
     "output_type": "stream",
     "text": [
      "x_train shape: (5040, 30)\n",
      "x_test shape: (2160, 30)\n",
      "y_train shape: (5040, 6)\n",
      "y_test shape: (2160, 6)\n"
     ]
    }
   ],
   "source": [
    "print('x_train shape:', x_train.shape)\n",
    "print('x_test shape:', x_test.shape)\n",
    "print('y_train shape:', y_train.shape)\n",
    "print('y_test shape:', y_test.shape)"
   ]
  },
  {
   "cell_type": "code",
   "execution_count": 38,
   "metadata": {},
   "outputs": [],
   "source": [
    "from gensim.models import Word2Vec\n",
    "word2vec= gensim.models.KeyedVectors.load_word2vec_format(\"GoogleNews-vectors-negative300.bin.gz\", binary=True)\n",
    "word2vec .init_sims(replace=True)"
   ]
  },
  {
   "cell_type": "code",
   "execution_count": 39,
   "metadata": {},
   "outputs": [
    {
     "name": "stdout",
     "output_type": "stream",
     "text": [
      "Found 3000000 word vectors of word2vec\n"
     ]
    }
   ],
   "source": [
    "print('Found %s word vectors of word2vec' % len(word2vec .vocab))"
   ]
  },
  {
   "cell_type": "code",
   "execution_count": 58,
   "metadata": {},
   "outputs": [
    {
     "name": "stdout",
     "output_type": "stream",
     "text": [
      "Found 60281 word vectors of word2vec\n"
     ]
    }
   ],
   "source": [
    "vocab_size = len(tokenize.word_index) \n",
    "print('Found %s word vectors of word2vec' % vocab_size)"
   ]
  },
  {
   "cell_type": "code",
   "execution_count": 40,
   "metadata": {},
   "outputs": [
    {
     "name": "stdout",
     "output_type": "stream",
     "text": [
      "Odd word out: chair\n",
      "----------\n",
      "Cosine similarity between TV and baby: 0.15223125\n",
      "----------\n",
      "Most similar words to Computers: computer, laptops, PCs, laptop_computers, desktop_computers, Computers, laptop, notebook_computers, Dell_OptiPlex_desktop, automated_seismographs\n",
      "----------\n"
     ]
    },
    {
     "name": "stderr",
     "output_type": "stream",
     "text": [
      "C:\\ProgramData\\Anaconda3\\lib\\site-packages\\gensim\\models\\keyedvectors.py:877: FutureWarning: arrays to stack must be passed as a \"sequence\" type such as list or tuple. Support for non-sequence iterables such as generators is deprecated as of NumPy 1.16 and will raise an error in the future.\n",
      "  vectors = vstack(self.word_vec(word, use_norm=True) for word in used_words).astype(REAL)\n"
     ]
    }
   ],
   "source": [
    "print(\"Odd word out:\", word2vec.doesnt_match(\"banana chair grapes carrot\".split()))\n",
    "print(\"-\"*10)\n",
    "print(\"Cosine similarity between TV and baby:\", word2vec.similarity(\"tv\", \"baby\"))\n",
    "print(\"-\"*10)\n",
    "print(\"Most similar words to Computers:\", \", \".join(map(lambda x: x[0], word2vec.most_similar(\"computers\"))))\n",
    "print(\"-\"*10)"
   ]
  },
  {
   "cell_type": "code",
   "execution_count": 41,
   "metadata": {},
   "outputs": [
    {
     "name": "stdout",
     "output_type": "stream",
     "text": [
      "Null word embeddings: 30351\n"
     ]
    }
   ],
   "source": [
    "from tensorflow.keras.layers import Embedding\n",
    "word_index = tokenize.word_index\n",
    "nb_words = min(MAX_NB_WORDS, len(word_index))+1\n",
    "\n",
    "embedding_matrix = np.zeros((nb_words, EMBEDDING_DIM))\n",
    "for word, i in word_index.items():\n",
    "    if word in word2vec.vocab:\n",
    "        embedding_matrix[i] = word2vec.word_vec(word)\n",
    "print('Null word embeddings: %d' % np.sum(np.sum(embedding_matrix, axis=1) == 0))\n",
    "\n",
    "embedding_layer = Embedding(embedding_matrix.shape[0], # or len(word_index) + 1\n",
    "                            embedding_matrix.shape[1], # or EMBEDDING_DIM,\n",
    "                            weights=[embedding_matrix],\n",
    "                            input_length=MAX_SEQUENCE_LENGTH,\n",
    "                            trainable=False)"
   ]
  },
  {
   "cell_type": "code",
   "execution_count": 59,
   "metadata": {},
   "outputs": [
    {
     "data": {
      "text/plain": [
       "0.4965246097443639"
      ]
     },
     "execution_count": 59,
     "metadata": {},
     "output_type": "execute_result"
    }
   ],
   "source": [
    "nonzero_elements = np.count_nonzero(np.count_nonzero(embedding_matrix, axis=1))\n",
    "nonzero_elements / vocab_size"
   ]
  },
  {
   "cell_type": "code",
   "execution_count": 42,
   "metadata": {},
   "outputs": [],
   "source": [
    "def createModel():# Build the model\n",
    "    model = Sequential()\n",
    "    model.add(embedding_layer)\n",
    "    model.add(Dropout(0.2))\n",
    "    model.add(Conv1D(300, 3, padding='valid',activation='relu',strides=2))\n",
    "    model.add(Conv1D(150, 3, padding='valid',activation='relu',strides=2))\n",
    "    model.add(Conv1D(75, 3, padding='valid',activation='relu',strides=2))\n",
    "    model.add(Flatten())\n",
    "    model.add(Dropout(0.2))\n",
    "    model.add(Dense(150,activation='sigmoid'))\n",
    "    model.add(Dropout(0.2))\n",
    "    model.add(Dense(num_classes,activation='sigmoid'))\n",
    "\n",
    "    model.compile(loss='binary_crossentropy',optimizer='adam',metrics=['acc'])\n",
    "\n",
    "    return model"
   ]
  },
  {
   "cell_type": "code",
   "execution_count": 43,
   "metadata": {},
   "outputs": [
    {
     "name": "stdout",
     "output_type": "stream",
     "text": [
      "Model: \"sequential_2\"\n",
      "_________________________________________________________________\n",
      "Layer (type)                 Output Shape              Param #   \n",
      "=================================================================\n",
      "embedding_1 (Embedding)      (None, 30, 300)           18084600  \n",
      "_________________________________________________________________\n",
      "dropout_6 (Dropout)          (None, 30, 300)           0         \n",
      "_________________________________________________________________\n",
      "conv1d_6 (Conv1D)            (None, 14, 300)           270300    \n",
      "_________________________________________________________________\n",
      "conv1d_7 (Conv1D)            (None, 6, 150)            135150    \n",
      "_________________________________________________________________\n",
      "conv1d_8 (Conv1D)            (None, 2, 75)             33825     \n",
      "_________________________________________________________________\n",
      "flatten_2 (Flatten)          (None, 150)               0         \n",
      "_________________________________________________________________\n",
      "dropout_7 (Dropout)          (None, 150)               0         \n",
      "_________________________________________________________________\n",
      "dense_4 (Dense)              (None, 150)               22650     \n",
      "_________________________________________________________________\n",
      "dropout_8 (Dropout)          (None, 150)               0         \n",
      "_________________________________________________________________\n",
      "dense_5 (Dense)              (None, 6)                 906       \n",
      "=================================================================\n",
      "Total params: 18,547,431\n",
      "Trainable params: 462,831\n",
      "Non-trainable params: 18,084,600\n",
      "_________________________________________________________________\n"
     ]
    }
   ],
   "source": [
    "model       = createModel() # This is meant for training\n",
    "modelGo     = createModel() # This is used for final testing\n",
    "\n",
    "model.summary()"
   ]
  },
  {
   "cell_type": "code",
   "execution_count": 45,
   "metadata": {},
   "outputs": [],
   "source": [
    "modelname   = 'w2v_cnn'\n",
    "filepath        = modelname + \".hdf5\"\n",
    "checkpoint      = ModelCheckpoint(filepath, \n",
    "                                  monitor='val_acc', \n",
    "                                  verbose=0, \n",
    "                                  save_best_only=True, \n",
    "                                  mode='max')\n",
    "\n",
    "                            # Log the epoch detail into csv\n",
    "csv_logger      = CSVLogger(modelname +'.csv')\n",
    "callbacks_list  = [checkpoint,csv_logger]"
   ]
  },
  {
   "cell_type": "code",
   "execution_count": 46,
   "metadata": {},
   "outputs": [
    {
     "name": "stderr",
     "output_type": "stream",
     "text": [
      "WARNING: Logging before flag parsing goes to stderr.\n",
      "W0917 22:09:54.663403 19168 deprecation.py:323] From C:\\Users\\darry\\AppData\\Roaming\\Python\\Python37\\site-packages\\tensorflow_core\\python\\ops\\nn_impl.py:183: where (from tensorflow.python.ops.array_ops) is deprecated and will be removed in a future version.\n",
      "Instructions for updating:\n",
      "Use tf.where in 2.0, which has the same broadcast rule as np.where\n"
     ]
    },
    {
     "name": "stdout",
     "output_type": "stream",
     "text": [
      "Train on 5040 samples, validate on 2160 samples\n",
      "Epoch 1/100\n",
      "5040/5040 [==============================] - 4s 733us/sample - loss: 0.4773 - acc: 0.8164 - val_loss: 0.4379 - val_acc: 0.8333\n",
      "Epoch 2/100\n",
      "5040/5040 [==============================] - 3s 582us/sample - loss: 0.4071 - acc: 0.8396 - val_loss: 0.3500 - val_acc: 0.8569\n",
      "Epoch 3/100\n",
      "5040/5040 [==============================] - 3s 577us/sample - loss: 0.3454 - acc: 0.8580 - val_loss: 0.3267 - val_acc: 0.8627\n",
      "Epoch 4/100\n",
      "5040/5040 [==============================] - 3s 580us/sample - loss: 0.3209 - acc: 0.8643 - val_loss: 0.3095 - val_acc: 0.8667\n",
      "Epoch 5/100\n",
      "5040/5040 [==============================] - 3s 579us/sample - loss: 0.3014 - acc: 0.8674 - val_loss: 0.3003 - val_acc: 0.8696\n",
      "Epoch 6/100\n",
      "5040/5040 [==============================] - 3s 579us/sample - loss: 0.2806 - acc: 0.8758 - val_loss: 0.2887 - val_acc: 0.8768\n",
      "Epoch 7/100\n",
      "5040/5040 [==============================] - 3s 581us/sample - loss: 0.2591 - acc: 0.8878 - val_loss: 0.2846 - val_acc: 0.8805\n",
      "Epoch 8/100\n",
      "5040/5040 [==============================] - 3s 578us/sample - loss: 0.2435 - acc: 0.8976 - val_loss: 0.2832 - val_acc: 0.8819\n",
      "Epoch 9/100\n",
      "5040/5040 [==============================] - 3s 574us/sample - loss: 0.2224 - acc: 0.9084 - val_loss: 0.2771 - val_acc: 0.8863\n",
      "Epoch 10/100\n",
      "5040/5040 [==============================] - 3s 550us/sample - loss: 0.2024 - acc: 0.9180 - val_loss: 0.2806 - val_acc: 0.8853\n",
      "Epoch 11/100\n",
      "5040/5040 [==============================] - 3s 548us/sample - loss: 0.1796 - acc: 0.9300 - val_loss: 0.2919 - val_acc: 0.8835\n",
      "Epoch 12/100\n",
      "5040/5040 [==============================] - 3s 548us/sample - loss: 0.1608 - acc: 0.9380 - val_loss: 0.2969 - val_acc: 0.8841\n",
      "Epoch 13/100\n",
      "5040/5040 [==============================] - 3s 547us/sample - loss: 0.1405 - acc: 0.9481 - val_loss: 0.3172 - val_acc: 0.8792\n",
      "Epoch 14/100\n",
      "5040/5040 [==============================] - 3s 547us/sample - loss: 0.1180 - acc: 0.9585 - val_loss: 0.3362 - val_acc: 0.8770\n",
      "Epoch 15/100\n",
      "5040/5040 [==============================] - 3s 549us/sample - loss: 0.1106 - acc: 0.9614 - val_loss: 0.3397 - val_acc: 0.8784\n",
      "Epoch 16/100\n",
      "5040/5040 [==============================] - 3s 547us/sample - loss: 0.0878 - acc: 0.9721 - val_loss: 0.3630 - val_acc: 0.8760\n",
      "Epoch 17/100\n",
      "5040/5040 [==============================] - 3s 547us/sample - loss: 0.0783 - acc: 0.9750 - val_loss: 0.3956 - val_acc: 0.8716\n",
      "Epoch 18/100\n",
      "5040/5040 [==============================] - 3s 546us/sample - loss: 0.0728 - acc: 0.9777 - val_loss: 0.3796 - val_acc: 0.8757\n",
      "Epoch 19/100\n",
      "5040/5040 [==============================] - 3s 550us/sample - loss: 0.0622 - acc: 0.9817 - val_loss: 0.3935 - val_acc: 0.8752\n",
      "Epoch 20/100\n",
      "5040/5040 [==============================] - 3s 545us/sample - loss: 0.0536 - acc: 0.9856 - val_loss: 0.4110 - val_acc: 0.8725\n",
      "Epoch 21/100\n",
      "5040/5040 [==============================] - 3s 547us/sample - loss: 0.0526 - acc: 0.9851 - val_loss: 0.4115 - val_acc: 0.8731\n",
      "Epoch 22/100\n",
      "5040/5040 [==============================] - 3s 549us/sample - loss: 0.0507 - acc: 0.9852 - val_loss: 0.4074 - val_acc: 0.8779\n",
      "Epoch 23/100\n",
      "5040/5040 [==============================] - 3s 550us/sample - loss: 0.0474 - acc: 0.9858 - val_loss: 0.4140 - val_acc: 0.8759\n",
      "Epoch 24/100\n",
      "5040/5040 [==============================] - 3s 542us/sample - loss: 0.0419 - acc: 0.9873 - val_loss: 0.4386 - val_acc: 0.8735\n",
      "Epoch 25/100\n",
      "5040/5040 [==============================] - 3s 543us/sample - loss: 0.0424 - acc: 0.9881 - val_loss: 0.4529 - val_acc: 0.8735\n",
      "Epoch 26/100\n",
      "5040/5040 [==============================] - 3s 545us/sample - loss: 0.0391 - acc: 0.9884 - val_loss: 0.4388 - val_acc: 0.8748\n",
      "Epoch 27/100\n",
      "5040/5040 [==============================] - 3s 546us/sample - loss: 0.0378 - acc: 0.9889 - val_loss: 0.4397 - val_acc: 0.8769\n",
      "Epoch 28/100\n",
      "5040/5040 [==============================] - 3s 544us/sample - loss: 0.0369 - acc: 0.9886 - val_loss: 0.4498 - val_acc: 0.8732\n",
      "Epoch 29/100\n",
      "5040/5040 [==============================] - 3s 546us/sample - loss: 0.0344 - acc: 0.9897 - val_loss: 0.4529 - val_acc: 0.8742\n",
      "Epoch 30/100\n",
      "5040/5040 [==============================] - 3s 543us/sample - loss: 0.0328 - acc: 0.9896 - val_loss: 0.4641 - val_acc: 0.8733\n",
      "Epoch 31/100\n",
      "5040/5040 [==============================] - 3s 547us/sample - loss: 0.0322 - acc: 0.9904 - val_loss: 0.4606 - val_acc: 0.8756\n",
      "Epoch 32/100\n",
      "5040/5040 [==============================] - 3s 546us/sample - loss: 0.0326 - acc: 0.9895 - val_loss: 0.4716 - val_acc: 0.8729\n",
      "Epoch 33/100\n",
      "5040/5040 [==============================] - 3s 549us/sample - loss: 0.0313 - acc: 0.9896 - val_loss: 0.4924 - val_acc: 0.8703\n",
      "Epoch 34/100\n",
      "5040/5040 [==============================] - 3s 544us/sample - loss: 0.0304 - acc: 0.9892 - val_loss: 0.4802 - val_acc: 0.8731\n",
      "Epoch 35/100\n",
      "5040/5040 [==============================] - 3s 543us/sample - loss: 0.0313 - acc: 0.9903 - val_loss: 0.5013 - val_acc: 0.8686\n",
      "Epoch 36/100\n",
      "5040/5040 [==============================] - 3s 547us/sample - loss: 0.0304 - acc: 0.9899 - val_loss: 0.4832 - val_acc: 0.8747\n",
      "Epoch 37/100\n",
      "5040/5040 [==============================] - 3s 546us/sample - loss: 0.0278 - acc: 0.9903 - val_loss: 0.4956 - val_acc: 0.8742\n",
      "Epoch 38/100\n",
      "5040/5040 [==============================] - 3s 547us/sample - loss: 0.0265 - acc: 0.9908 - val_loss: 0.4955 - val_acc: 0.8740\n",
      "Epoch 39/100\n",
      "5040/5040 [==============================] - 3s 547us/sample - loss: 0.0263 - acc: 0.9904 - val_loss: 0.5041 - val_acc: 0.8722\n",
      "Epoch 40/100\n",
      "5040/5040 [==============================] - 3s 547us/sample - loss: 0.0269 - acc: 0.9906 - val_loss: 0.4955 - val_acc: 0.8743\n",
      "Epoch 41/100\n",
      "5040/5040 [==============================] - 3s 546us/sample - loss: 0.0262 - acc: 0.9908 - val_loss: 0.4994 - val_acc: 0.8722\n",
      "Epoch 42/100\n",
      "5040/5040 [==============================] - 3s 550us/sample - loss: 0.0236 - acc: 0.9910 - val_loss: 0.5072 - val_acc: 0.8755\n",
      "Epoch 43/100\n",
      "5040/5040 [==============================] - 3s 554us/sample - loss: 0.0224 - acc: 0.9917 - val_loss: 0.5187 - val_acc: 0.8744\n",
      "Epoch 44/100\n",
      "5040/5040 [==============================] - 3s 576us/sample - loss: 0.0241 - acc: 0.9910 - val_loss: 0.5208 - val_acc: 0.8721\n",
      "Epoch 45/100\n",
      "5040/5040 [==============================] - 3s 554us/sample - loss: 0.0214 - acc: 0.9915 - val_loss: 0.5187 - val_acc: 0.8739\n",
      "Epoch 46/100\n",
      "5040/5040 [==============================] - 3s 559us/sample - loss: 0.0238 - acc: 0.9906 - val_loss: 0.5187 - val_acc: 0.8715\n",
      "Epoch 47/100\n",
      "5040/5040 [==============================] - 3s 557us/sample - loss: 0.0216 - acc: 0.9908 - val_loss: 0.5310 - val_acc: 0.8730\n",
      "Epoch 48/100\n",
      "5040/5040 [==============================] - 3s 543us/sample - loss: 0.0235 - acc: 0.9906 - val_loss: 0.5350 - val_acc: 0.8748\n",
      "Epoch 49/100\n",
      "5040/5040 [==============================] - 3s 545us/sample - loss: 0.0207 - acc: 0.9914 - val_loss: 0.5319 - val_acc: 0.8731\n",
      "Epoch 50/100\n",
      "5040/5040 [==============================] - 3s 550us/sample - loss: 0.0213 - acc: 0.9922 - val_loss: 0.5453 - val_acc: 0.8715\n",
      "Epoch 51/100\n",
      "5040/5040 [==============================] - 3s 548us/sample - loss: 0.0200 - acc: 0.9916 - val_loss: 0.5399 - val_acc: 0.8717\n",
      "Epoch 52/100\n",
      "5040/5040 [==============================] - 3s 548us/sample - loss: 0.0197 - acc: 0.9922 - val_loss: 0.5476 - val_acc: 0.8744\n",
      "Epoch 53/100\n",
      "5040/5040 [==============================] - 3s 545us/sample - loss: 0.0196 - acc: 0.9920 - val_loss: 0.5588 - val_acc: 0.8719\n",
      "Epoch 54/100\n",
      "5040/5040 [==============================] - 3s 544us/sample - loss: 0.0200 - acc: 0.9916 - val_loss: 0.5452 - val_acc: 0.8721\n",
      "Epoch 55/100\n",
      "5040/5040 [==============================] - 3s 548us/sample - loss: 0.0208 - acc: 0.9916 - val_loss: 0.5566 - val_acc: 0.8725\n",
      "Epoch 56/100\n",
      "5040/5040 [==============================] - 3s 548us/sample - loss: 0.0198 - acc: 0.9912 - val_loss: 0.5575 - val_acc: 0.8718\n",
      "Epoch 57/100\n",
      "5040/5040 [==============================] - 3s 545us/sample - loss: 0.0186 - acc: 0.9919 - val_loss: 0.5608 - val_acc: 0.8704\n",
      "Epoch 58/100\n",
      "5040/5040 [==============================] - 3s 541us/sample - loss: 0.0189 - acc: 0.9922 - val_loss: 0.5667 - val_acc: 0.8744\n",
      "Epoch 59/100\n",
      "5040/5040 [==============================] - 3s 543us/sample - loss: 0.0165 - acc: 0.9922 - val_loss: 0.5659 - val_acc: 0.8728\n",
      "Epoch 60/100\n",
      "5040/5040 [==============================] - 3s 548us/sample - loss: 0.0175 - acc: 0.9922 - val_loss: 0.5715 - val_acc: 0.8713\n",
      "Epoch 61/100\n",
      "5040/5040 [==============================] - 3s 543us/sample - loss: 0.0155 - acc: 0.9930 - val_loss: 0.5772 - val_acc: 0.8709\n",
      "Epoch 62/100\n",
      "5040/5040 [==============================] - 3s 542us/sample - loss: 0.0170 - acc: 0.9923 - val_loss: 0.5941 - val_acc: 0.8703\n",
      "Epoch 63/100\n",
      "5040/5040 [==============================] - 3s 539us/sample - loss: 0.0184 - acc: 0.9915 - val_loss: 0.5998 - val_acc: 0.8677\n",
      "Epoch 64/100\n",
      "5040/5040 [==============================] - 3s 544us/sample - loss: 0.0206 - acc: 0.9914 - val_loss: 0.5789 - val_acc: 0.8745\n",
      "Epoch 65/100\n",
      "5040/5040 [==============================] - 3s 542us/sample - loss: 0.0213 - acc: 0.9901 - val_loss: 0.6133 - val_acc: 0.8685\n",
      "Epoch 66/100\n",
      "5040/5040 [==============================] - 3s 540us/sample - loss: 0.0213 - acc: 0.9904 - val_loss: 0.5876 - val_acc: 0.8741\n",
      "Epoch 67/100\n",
      "5040/5040 [==============================] - 3s 540us/sample - loss: 0.0191 - acc: 0.9913 - val_loss: 0.5712 - val_acc: 0.8734\n",
      "Epoch 68/100\n",
      "5040/5040 [==============================] - 3s 539us/sample - loss: 0.0173 - acc: 0.9924 - val_loss: 0.5878 - val_acc: 0.8711\n",
      "Epoch 69/100\n",
      "5040/5040 [==============================] - 3s 538us/sample - loss: 0.0169 - acc: 0.9911 - val_loss: 0.5975 - val_acc: 0.8718\n",
      "Epoch 70/100\n",
      "5040/5040 [==============================] - 3s 540us/sample - loss: 0.0175 - acc: 0.9921 - val_loss: 0.5971 - val_acc: 0.8713\n",
      "Epoch 71/100\n",
      "5040/5040 [==============================] - 3s 543us/sample - loss: 0.0193 - acc: 0.9912 - val_loss: 0.5910 - val_acc: 0.8708\n",
      "Epoch 72/100\n",
      "5040/5040 [==============================] - 3s 548us/sample - loss: 0.0165 - acc: 0.9919 - val_loss: 0.5938 - val_acc: 0.8743\n",
      "Epoch 73/100\n",
      "5040/5040 [==============================] - 3s 544us/sample - loss: 0.0158 - acc: 0.9924 - val_loss: 0.6025 - val_acc: 0.8727\n",
      "Epoch 74/100\n",
      "5040/5040 [==============================] - 3s 543us/sample - loss: 0.0163 - acc: 0.9918 - val_loss: 0.6071 - val_acc: 0.8699\n",
      "Epoch 75/100\n",
      "5040/5040 [==============================] - 3s 543us/sample - loss: 0.0170 - acc: 0.9913 - val_loss: 0.6285 - val_acc: 0.8685\n",
      "Epoch 76/100\n",
      "5040/5040 [==============================] - 3s 542us/sample - loss: 0.0160 - acc: 0.9923 - val_loss: 0.6014 - val_acc: 0.8717\n",
      "Epoch 77/100\n",
      "5040/5040 [==============================] - 3s 541us/sample - loss: 0.0164 - acc: 0.9923 - val_loss: 0.6202 - val_acc: 0.8686\n",
      "Epoch 78/100\n",
      "5040/5040 [==============================] - 3s 597us/sample - loss: 0.0154 - acc: 0.9923 - val_loss: 0.6093 - val_acc: 0.8695\n",
      "Epoch 79/100\n",
      "5040/5040 [==============================] - 3s 690us/sample - loss: 0.0158 - acc: 0.9919 - val_loss: 0.6323 - val_acc: 0.8668\n",
      "Epoch 80/100\n",
      "5040/5040 [==============================] - 3s 636us/sample - loss: 0.0158 - acc: 0.9918 - val_loss: 0.6210 - val_acc: 0.8691\n",
      "Epoch 81/100\n",
      "5040/5040 [==============================] - 3s 568us/sample - loss: 0.0144 - acc: 0.9922 - val_loss: 0.6196 - val_acc: 0.8713\n",
      "Epoch 82/100\n",
      "5040/5040 [==============================] - 3s 554us/sample - loss: 0.0153 - acc: 0.9924 - val_loss: 0.6168 - val_acc: 0.8714\n",
      "Epoch 83/100\n",
      "5040/5040 [==============================] - 3s 559us/sample - loss: 0.0145 - acc: 0.9921 - val_loss: 0.6447 - val_acc: 0.8681\n",
      "Epoch 84/100\n",
      "5040/5040 [==============================] - 3s 553us/sample - loss: 0.0146 - acc: 0.9928 - val_loss: 0.6476 - val_acc: 0.8703\n",
      "Epoch 85/100\n",
      "5040/5040 [==============================] - 3s 553us/sample - loss: 0.0156 - acc: 0.9921 - val_loss: 0.6322 - val_acc: 0.8694\n",
      "Epoch 86/100\n",
      "5040/5040 [==============================] - 3s 569us/sample - loss: 0.0145 - acc: 0.9921 - val_loss: 0.6360 - val_acc: 0.8678\n",
      "Epoch 87/100\n",
      "5040/5040 [==============================] - 3s 556us/sample - loss: 0.0143 - acc: 0.9922 - val_loss: 0.6424 - val_acc: 0.8712\n",
      "Epoch 88/100\n",
      "5040/5040 [==============================] - 3s 564us/sample - loss: 0.0135 - acc: 0.9925 - val_loss: 0.6459 - val_acc: 0.8731\n",
      "Epoch 89/100\n",
      "5040/5040 [==============================] - 3s 556us/sample - loss: 0.0138 - acc: 0.9927 - val_loss: 0.6615 - val_acc: 0.8704\n",
      "Epoch 90/100\n",
      "5040/5040 [==============================] - 3s 546us/sample - loss: 0.0156 - acc: 0.9916 - val_loss: 0.6653 - val_acc: 0.8706\n",
      "Epoch 91/100\n",
      "5040/5040 [==============================] - 3s 548us/sample - loss: 0.0160 - acc: 0.9919 - val_loss: 0.6771 - val_acc: 0.8675\n",
      "Epoch 92/100\n",
      "5040/5040 [==============================] - 3s 548us/sample - loss: 0.0147 - acc: 0.9919 - val_loss: 0.6732 - val_acc: 0.8684\n",
      "Epoch 93/100\n",
      "5040/5040 [==============================] - 3s 544us/sample - loss: 0.0156 - acc: 0.9921 - val_loss: 0.6719 - val_acc: 0.8681\n",
      "Epoch 94/100\n",
      "5040/5040 [==============================] - 3s 554us/sample - loss: 0.0134 - acc: 0.9927 - val_loss: 0.6775 - val_acc: 0.8660\n",
      "Epoch 95/100\n",
      "5040/5040 [==============================] - 3s 548us/sample - loss: 0.0137 - acc: 0.9925 - val_loss: 0.6741 - val_acc: 0.8674\n",
      "Epoch 96/100\n",
      "5040/5040 [==============================] - 3s 556us/sample - loss: 0.0148 - acc: 0.9921 - val_loss: 0.6679 - val_acc: 0.8674\n",
      "Epoch 97/100\n",
      "5040/5040 [==============================] - 3s 551us/sample - loss: 0.0147 - acc: 0.9925 - val_loss: 0.6857 - val_acc: 0.8653\n",
      "Epoch 98/100\n",
      "5040/5040 [==============================] - 3s 545us/sample - loss: 0.0130 - acc: 0.9927 - val_loss: 0.6814 - val_acc: 0.8671\n",
      "Epoch 99/100\n",
      "5040/5040 [==============================] - 3s 544us/sample - loss: 0.0134 - acc: 0.9925 - val_loss: 0.6779 - val_acc: 0.8691\n",
      "Epoch 100/100\n",
      "5040/5040 [==============================] - 3s 541us/sample - loss: 0.0132 - acc: 0.9926 - val_loss: 0.6749 - val_acc: 0.8691\n"
     ]
    },
    {
     "data": {
      "text/plain": [
       "<tensorflow.python.keras.callbacks.History at 0x22b4618fcf8>"
      ]
     },
     "execution_count": 46,
     "metadata": {},
     "output_type": "execute_result"
    }
   ],
   "source": [
    "model.fit(x_train, \n",
    "          y_train, \n",
    "          validation_data=(x_test, y_test), \n",
    "          epochs=100, \n",
    "          batch_size=128,\n",
    "          shuffle=True,\n",
    "          callbacks=callbacks_list)"
   ]
  },
  {
   "cell_type": "code",
   "execution_count": 47,
   "metadata": {},
   "outputs": [],
   "source": [
    "optmz       = optimizers.RMSprop(lr=0.0001)"
   ]
  },
  {
   "cell_type": "code",
   "execution_count": 48,
   "metadata": {},
   "outputs": [],
   "source": [
    "modelGo.load_weights(filepath)\n",
    "modelGo.compile(loss='categorical_crossentropy', \n",
    "                optimizer=optmz, \n",
    "                metrics=['accuracy'])"
   ]
  },
  {
   "cell_type": "code",
   "execution_count": 49,
   "metadata": {},
   "outputs": [],
   "source": [
    "# Make classification on the test dataset\n",
    "predicts    = modelGo.predict(x_test)\n",
    "\n",
    "# Prepare the classification output\n",
    "# for the classification report\n",
    "predout     = np.argmax(predicts,axis=1)\n",
    "testout     = np.argmax(y_test,axis=1)\n",
    "\n",
    "# the labels for the classfication report\n",
    "testScores  = metrics.accuracy_score(testout,predout)\n",
    "confusion   = metrics.confusion_matrix(testout,predout)"
   ]
  },
  {
   "cell_type": "code",
   "execution_count": 50,
   "metadata": {},
   "outputs": [
    {
     "name": "stdout",
     "output_type": "stream",
     "text": [
      "Best accuracy (on testing dataset): 62.96%\n",
      "              precision    recall  f1-score   support\n",
      "\n",
      "   Singapore     0.5013    0.5578    0.5280       346\n",
      "      Sports     0.7281    0.6917    0.7094       360\n",
      "   Lifestyle     0.5153    0.5674    0.5401       356\n",
      "       World     0.9035    0.8845    0.8939       381\n",
      "    Business     0.5886    0.5152    0.5495       361\n",
      "  Technology     0.5483    0.5421    0.5452       356\n",
      "\n",
      "    accuracy                         0.6296      2160\n",
      "   macro avg     0.6308    0.6265    0.6277      2160\n",
      "weighted avg     0.6347    0.6296    0.6312      2160\n",
      "\n",
      "[[193  12  40   5  53  43]\n",
      " [ 10 249  45  11  18  27]\n",
      " [ 36  30 202   8  42  38]\n",
      " [  7   6  12 337   3  16]\n",
      " [ 88  14  33   5 186  35]\n",
      " [ 51  31  60   7  14 193]]\n"
     ]
    }
   ],
   "source": [
    "print(\"Best accuracy (on testing dataset): %.2f%%\" % (testScores*100))\n",
    "print(metrics.classification_report(testout,predout,target_names=category_mapping,digits=4))\n",
    "print(confusion)"
   ]
  },
  {
   "cell_type": "code",
   "execution_count": 51,
   "metadata": {},
   "outputs": [
    {
     "data": {
      "image/png": "[encoded data removed]",
      "text/plain": [
       "<Figure size 921.6x432 with 2 Axes>"
      ]
     },
     "metadata": {
      "needs_background": "light"
     },
     "output_type": "display_data"
    }
   ],
   "source": [
    "conf_matrix = confusion_matrix(testout, predout)\n",
    "plt.figure(figsize=(12.8,6))\n",
    "sns.heatmap(conf_matrix, \n",
    "            annot=True,\n",
    "            xticklabels=category_mapping, \n",
    "            yticklabels=category_mapping,\n",
    "            cmap=\"Greens\")\n",
    "plt.ylabel('Predicted')\n",
    "plt.xlabel('Actual')\n",
    "plt.title('Confusion matrix')\n",
    "plt.show()"
   ]
  },
  {
   "cell_type": "code",
   "execution_count": 52,
   "metadata": {},
   "outputs": [
    {
     "data": {
      "image/png": "[encoded data removed]",
      "text/plain": [
       "<Figure size 432x288 with 1 Axes>"
      ]
     },
     "metadata": {
      "needs_background": "light"
     },
     "output_type": "display_data"
    }
   ],
   "source": [
    "import pandas as pd\n",
    "\n",
    "records     = pd.read_csv(modelname +'.csv')\n",
    "plt.figure()\n",
    "plt.subplot(211)\n",
    "plt.plot(records['val_loss'], label='train')\n",
    "plt.plot(records['loss'], label='test')\n",
    "plt.yticks([0,0.20,0.40,0.60,0.80,1.00])\n",
    "plt.title('Loss value',fontsize=12)\n",
    "plt.legend()\n",
    "plt.show()"
   ]
  },
  {
   "cell_type": "code",
   "execution_count": 54,
   "metadata": {},
   "outputs": [
    {
     "data": {
      "image/png": "[encoded data removed]",
      "text/plain": [
       "<Figure size 432x288 with 1 Axes>"
      ]
     },
     "metadata": {
      "needs_background": "light"
     },
     "output_type": "display_data"
    }
   ],
   "source": [
    "plt.subplot(212)\n",
    "plt.plot(records['val_acc'], label='train')\n",
    "plt.plot(records['acc'], label='test')\n",
    "plt.yticks([0.6,0.7,0.8,0.9,1.0])\n",
    "plt.title('Accuracy',fontsize=12)\n",
    "plt.legend()\n",
    "plt.show()"
   ]
  },
  {
   "cell_type": "code",
   "execution_count": null,
   "metadata": {},
   "outputs": [],
   "source": []
  },
  {
   "cell_type": "code",
   "execution_count": null,
   "metadata": {},
   "outputs": [],
   "source": [
    "model.fit(x_train, y_train, validation_data=(x_test, y_test), epochs=2, batch_size=128)\n",
    "score = model.evaluate(x_test, y_test,verbose=0)\n",
    "print('Test loss:', score[0])\n",
    "print('Test accuracy:', score[1])"
   ]
  },
  {
   "cell_type": "code",
   "execution_count": null,
   "metadata": {},
   "outputs": [],
   "source": []
  }
 ],
 "metadata": {
  "kernelspec": {
   "display_name": "Python 3",
   "language": "python",
   "name": "python3"
  },
  "language_info": {
   "codemirror_mode": {
    "name": "ipython",
    "version": 3
   },
   "file_extension": ".py",
   "mimetype": "text/x-python",
   "name": "python",
   "nbconvert_exporter": "python",
   "pygments_lexer": "ipython3",
   "version": "3.7.0"
  }
 },
 "nbformat": 4,
 "nbformat_minor": 2
}
