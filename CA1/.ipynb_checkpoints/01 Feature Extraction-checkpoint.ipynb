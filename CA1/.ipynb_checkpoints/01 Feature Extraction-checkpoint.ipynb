{
 "cells": [
  {
   "cell_type": "code",
   "execution_count": 1,
   "metadata": {},
   "outputs": [],
   "source": [
    "import pandas as pd\n",
    "import nltk\n",
    "from nltk.corpus import stopwords\n",
    "from nltk.stem import WordNetLemmatizer\n",
    "from sklearn.feature_extraction.text import TfidfVectorizer\n",
    "from sklearn.model_selection import train_test_split"
   ]
  },
  {
   "cell_type": "markdown",
   "metadata": {},
   "source": [
    "##for multiple files\n",
    "folderDirectory = r'./Input/articles/'\n",
    "all_files = glob.glob(folderDirectory + \"/*.xls\")\n",
    "\n",
    "li = []\n",
    "\n",
    "for filename in all_files:\n",
    "    df = pd.read_excel(filename, index_col=None, header=0)\n",
    "    li.append(df)\n",
    "    df['File']=filename\n",
    "    df['File']=df['File'].str.split('\\\\').str[1]\n",
    "\n",
    "rawData = pd.concat(li, axis=0, ignore_index=True)"
   ]
  },
  {
   "cell_type": "code",
   "execution_count": 2,
   "metadata": {},
   "outputs": [
    {
     "data": {
      "text/html": [
       "<div>\n",
       "<style scoped>\n",
       "    .dataframe tbody tr th:only-of-type {\n",
       "        vertical-align: middle;\n",
       "    }\n",
       "\n",
       "    .dataframe tbody tr th {\n",
       "        vertical-align: top;\n",
       "    }\n",
       "\n",
       "    .dataframe thead th {\n",
       "        text-align: right;\n",
       "    }\n",
       "</style>\n",
       "<table border=\"1\" class=\"dataframe\">\n",
       "  <thead>\n",
       "    <tr style=\"text-align: right;\">\n",
       "      <th></th>\n",
       "      <th>Unnamed: 0</th>\n",
       "      <th>Unnamed: 0.1</th>\n",
       "      <th>link</th>\n",
       "      <th>title</th>\n",
       "      <th>topics</th>\n",
       "      <th>category</th>\n",
       "      <th>sub_category</th>\n",
       "      <th>author</th>\n",
       "      <th>date</th>\n",
       "      <th>article</th>\n",
       "      <th>File</th>\n",
       "    </tr>\n",
       "  </thead>\n",
       "  <tbody>\n",
       "    <tr>\n",
       "      <th>0</th>\n",
       "      <td>7</td>\n",
       "      <td>0</td>\n",
       "      <td>http://www.straitstimes.com/singapore/body-fou...</td>\n",
       "      <td>Body found in garbage chute area of Woodlands ...</td>\n",
       "      <td>['POLICE', 'HDB']</td>\n",
       "      <td>Singapore</td>\n",
       "      <td>NaN</td>\n",
       "      <td>['Malavika Menon']</td>\n",
       "      <td>Published2 min ago</td>\n",
       "      <td>SINGAPORE - A man's body was found on the grou...</td>\n",
       "      <td>08122019195416.xlsx</td>\n",
       "    </tr>\n",
       "    <tr>\n",
       "      <th>1</th>\n",
       "      <td>8</td>\n",
       "      <td>0</td>\n",
       "      <td>https://www.straitstimes.com/sport/formula-one...</td>\n",
       "      <td>Formula One: Thai Alexander Albon given chance...</td>\n",
       "      <td>['THAILAND', 'GRAND PRIX', 'ALEXANDER ALBON']</td>\n",
       "      <td>Sport</td>\n",
       "      <td>Formula-One</td>\n",
       "      <td>[]</td>\n",
       "      <td>Published2 min ago</td>\n",
       "      <td>London (AFP) - Thai Formula One driver Alexand...</td>\n",
       "      <td>08122019195547.xlsx</td>\n",
       "    </tr>\n",
       "    <tr>\n",
       "      <th>2</th>\n",
       "      <td>9</td>\n",
       "      <td>0</td>\n",
       "      <td>https://www.straitstimes.com/singapore/the-str...</td>\n",
       "      <td>The Straits Times bags 8 wins at Asian Digital...</td>\n",
       "      <td>['SINGAPORE PRESS HOLDINGS', 'AWARDS AND PRIZE...</td>\n",
       "      <td>Singapore</td>\n",
       "      <td>NaN</td>\n",
       "      <td>['Lydia Lam']</td>\n",
       "      <td>PublishedNov 1, 2017, 6:26 pm SGT</td>\n",
       "      <td>SINGAPORE - The Straits Times bagged eight awa...</td>\n",
       "      <td>08122019195820.xlsx</td>\n",
       "    </tr>\n",
       "    <tr>\n",
       "      <th>3</th>\n",
       "      <td>10</td>\n",
       "      <td>0</td>\n",
       "      <td>https://www.straitstimes.com/lifestyle/play-su...</td>\n",
       "      <td>Games</td>\n",
       "      <td>['ST GAMES']</td>\n",
       "      <td>Lifestyle</td>\n",
       "      <td>NaN</td>\n",
       "      <td>[]</td>\n",
       "      <td>PublishedAug 8, 2018, 4:00 am SGT</td>\n",
       "      <td>Ready for a challenge? Try out daily Sudoku an...</td>\n",
       "      <td>08122019195820.xlsx</td>\n",
       "    </tr>\n",
       "    <tr>\n",
       "      <th>4</th>\n",
       "      <td>11</td>\n",
       "      <td>0</td>\n",
       "      <td>https://www.straitstimes.com/asia/east-asia/fl...</td>\n",
       "      <td>Hong Kong cancels all remaining Monday flights...</td>\n",
       "      <td>['HONG KONG PROTESTS', 'CHINA', 'POLICE']</td>\n",
       "      <td>Asia</td>\n",
       "      <td>East-Asia</td>\n",
       "      <td>[]</td>\n",
       "      <td>Published10 hours ago</td>\n",
       "      <td>HONG KONG (BLOOMBERG) – Hong Kong airport auth...</td>\n",
       "      <td>08122019195820.xlsx</td>\n",
       "    </tr>\n",
       "  </tbody>\n",
       "</table>\n",
       "</div>"
      ],
      "text/plain": [
       "   Unnamed: 0  Unnamed: 0.1  \\\n",
       "0           7             0   \n",
       "1           8             0   \n",
       "2           9             0   \n",
       "3          10             0   \n",
       "4          11             0   \n",
       "\n",
       "                                                link  \\\n",
       "0  http://www.straitstimes.com/singapore/body-fou...   \n",
       "1  https://www.straitstimes.com/sport/formula-one...   \n",
       "2  https://www.straitstimes.com/singapore/the-str...   \n",
       "3  https://www.straitstimes.com/lifestyle/play-su...   \n",
       "4  https://www.straitstimes.com/asia/east-asia/fl...   \n",
       "\n",
       "                                               title  \\\n",
       "0  Body found in garbage chute area of Woodlands ...   \n",
       "1  Formula One: Thai Alexander Albon given chance...   \n",
       "2  The Straits Times bags 8 wins at Asian Digital...   \n",
       "3                                              Games   \n",
       "4  Hong Kong cancels all remaining Monday flights...   \n",
       "\n",
       "                                              topics   category sub_category  \\\n",
       "0                                  ['POLICE', 'HDB']  Singapore          NaN   \n",
       "1      ['THAILAND', 'GRAND PRIX', 'ALEXANDER ALBON']      Sport  Formula-One   \n",
       "2  ['SINGAPORE PRESS HOLDINGS', 'AWARDS AND PRIZE...  Singapore          NaN   \n",
       "3                                       ['ST GAMES']  Lifestyle          NaN   \n",
       "4          ['HONG KONG PROTESTS', 'CHINA', 'POLICE']       Asia    East-Asia   \n",
       "\n",
       "               author                               date  \\\n",
       "0  ['Malavika Menon']                 Published2 min ago   \n",
       "1                  []                 Published2 min ago   \n",
       "2       ['Lydia Lam']  PublishedNov 1, 2017, 6:26 pm SGT   \n",
       "3                  []  PublishedAug 8, 2018, 4:00 am SGT   \n",
       "4                  []              Published10 hours ago   \n",
       "\n",
       "                                             article                 File  \n",
       "0  SINGAPORE - A man's body was found on the grou...  08122019195416.xlsx  \n",
       "1  London (AFP) - Thai Formula One driver Alexand...  08122019195547.xlsx  \n",
       "2  SINGAPORE - The Straits Times bagged eight awa...  08122019195820.xlsx  \n",
       "3  Ready for a challenge? Try out daily Sudoku an...  08122019195820.xlsx  \n",
       "4  HONG KONG (BLOOMBERG) – Hong Kong airport auth...  08122019195820.xlsx  "
      ]
     },
     "execution_count": 2,
     "metadata": {},
     "output_type": "execute_result"
    }
   ],
   "source": [
    "#for single file\n",
    "rawData = pd.read_excel(\"./articles/Straits Times.xlsx\")\n",
    "rawData.head()"
   ]
  },
  {
   "cell_type": "code",
   "execution_count": 3,
   "metadata": {},
   "outputs": [],
   "source": [
    "proceessedData = rawData"
   ]
  },
  {
   "cell_type": "code",
   "execution_count": 4,
   "metadata": {},
   "outputs": [
    {
     "ename": "SyntaxError",
     "evalue": "invalid syntax (<ipython-input-4-20f972be7a13>, line 1)",
     "output_type": "error",
     "traceback": [
      "\u001b[1;36m  File \u001b[1;32m\"<ipython-input-4-20f972be7a13>\"\u001b[1;36m, line \u001b[1;32m1\u001b[0m\n\u001b[1;33m    article only = proceessedData[['article']]\u001b[0m\n\u001b[1;37m               ^\u001b[0m\n\u001b[1;31mSyntaxError\u001b[0m\u001b[1;31m:\u001b[0m invalid syntax\n"
     ]
    }
   ],
   "source": [
    "artionly = proceessedData[['article']]"
   ]
  },
  {
   "cell_type": "markdown",
   "metadata": {},
   "source": [
    "The following data cleaning was performed.\n",
    "<ol>\n",
    "    <li>Convert all articles to lower case</li>\n",
    "    <li>Remove special breakline characters</li>\n",
    "    <li>Removal of Stopwords</li>\n",
    "    <li>Lemmatization of text</li>\n",
    "</ol>"
   ]
  },
  {
   "cell_type": "code",
   "execution_count": null,
   "metadata": {},
   "outputs": [],
   "source": []
  },
  {
   "cell_type": "code",
   "execution_count": null,
   "metadata": {},
   "outputs": [],
   "source": []
  },
  {
   "cell_type": "markdown",
   "metadata": {},
   "source": [
    "# Text Representation"
   ]
  },
  {
   "cell_type": "markdown",
   "metadata": {},
   "source": [
    "Bag of Words methods will be used"
   ]
  },
  {
   "cell_type": "code",
   "execution_count": null,
   "metadata": {},
   "outputs": [],
   "source": [
    "rawData"
   ]
  }
 ],
 "metadata": {
  "kernelspec": {
   "display_name": "Python 3",
   "language": "python",
   "name": "python3"
  },
  "language_info": {
   "codemirror_mode": {
    "name": "ipython",
    "version": 3
   },
   "file_extension": ".py",
   "mimetype": "text/x-python",
   "name": "python",
   "nbconvert_exporter": "python",
   "pygments_lexer": "ipython3",
   "version": "3.7.3"
  }
 },
 "nbformat": 4,
 "nbformat_minor": 2
}
