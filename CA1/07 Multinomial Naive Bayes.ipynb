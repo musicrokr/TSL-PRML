{
 "cells": [
  {
   "cell_type": "code",
   "execution_count": 23,
   "metadata": {},
   "outputs": [],
   "source": [
    "import pandas as pd\n",
    "import seaborn as sns\n",
    "import matplotlib.pyplot as plt\n",
    "import glob\n",
    "import pickle\n",
    "\n",
    "from sklearn.naive_bayes import MultinomialNB\n",
    "from sklearn.pipeline import Pipeline\n",
    "from sklearn.feature_extraction.text import TfidfTransformer\n",
    "from sklearn.feature_extraction.text import CountVectorizer, TfidfVectorizer\n",
    "from sklearn.model_selection import train_test_split\n",
    "from sklearn.metrics import classification_report, confusion_matrix, accuracy_score"
   ]
  },
  {
   "cell_type": "code",
   "execution_count": 24,
   "metadata": {},
   "outputs": [],
   "source": [
    "category_mapping = {\n",
    "    'Singapore': 1,\n",
    "    'Sports': 2,\n",
    "    'Lifestyle': 3,\n",
    "    'World': 4,\n",
    "    'Business': 5,\n",
    "    'Technology': 6\n",
    "}"
   ]
  },
  {
   "cell_type": "code",
   "execution_count": 25,
   "metadata": {},
   "outputs": [],
   "source": [
    "#Processed Data Frame [ Do Not Use this, Use the Training, Tesing and Validation Data Sets Instead]\n",
    "data_path = \"./Pickles/all_articles_processed.pickle\"\n",
    "with open(data_path, 'rb') as data:\n",
    "    all_articles = pickle.load(data)\n",
    "    \n",
    "#TD-IDF Features    \n",
    "#Training Features\n",
    "training_features_path = \"./Pickles/tdidf_training_features.pickle\"\n",
    "with open(training_features_path, 'rb') as data:\n",
    "    tdidf_training_features = pickle.load(data)\n",
    "    \n",
    "#Training Labels\n",
    "training_labels_path = \"./Pickles/tdidf_training_labels.pickle\"\n",
    "with open(training_labels_path, 'rb') as data:\n",
    "    tdidf_training_labels = pickle.load(data)\n",
    "    \n",
    "#Test Features\n",
    "test_features_path = \"./Pickles/tdidf_test_features.pickle\"\n",
    "with open(test_features_path, 'rb') as data:\n",
    "    tdidf_test_features = pickle.load(data)\n",
    "    \n",
    "#Test Labels\n",
    "test_labels_path = \"./Pickles/tdidf_test_labels.pickle\"\n",
    "with open(test_labels_path, 'rb') as data:\n",
    "    tdidf_test_labels = pickle.load(data)\n",
    "    \n",
    "#Validation Features\n",
    "test_features_path = \"./Pickles/tdidf_validation_features.pickle\"\n",
    "with open(test_features_path, 'rb') as data:\n",
    "    tdidf_validation_features = pickle.load(data)\n",
    "    \n",
    "#Validation Labels\n",
    "test_labels_path = \"./Pickles/tdidf_validation_labels.pickle\"\n",
    "with open(test_labels_path, 'rb') as data:\n",
    "    tdidf_validation_labels = pickle.load(data)\n",
    "    \n",
    "    \n",
    "#Sequence Vector Features    \n",
    "#Training Features\n",
    "training_features_path = \"./Pickles/sv_training_features.pickle\"\n",
    "with open(training_features_path, 'rb') as data:\n",
    "    sv_training_features = pickle.load(data)\n",
    "    \n",
    "#Training Labels\n",
    "training_labels_path = \"./Pickles/sv_training_labels.pickle\"\n",
    "with open(training_labels_path, 'rb') as data:\n",
    "    sv_training_labels = pickle.load(data)\n",
    "    \n",
    "#Test Features\n",
    "test_features_path = \"./Pickles/sv_test_features.pickle\"\n",
    "with open(test_features_path, 'rb') as data:\n",
    "    sv_test_features = pickle.load(data)\n",
    "    \n",
    "#Test Labels\n",
    "test_labels_path = \"./Pickles/sv_test_labels.pickle\"\n",
    "with open(test_labels_path, 'rb') as data:\n",
    "    sv_test_labels = pickle.load(data)\n",
    "    \n",
    "#Validation Features\n",
    "test_features_path = \"./Pickles/sv_validation_features.pickle\"\n",
    "with open(test_features_path, 'rb') as data:\n",
    "    sv_validation_features = pickle.load(data)\n",
    "    \n",
    "#Validation Labels\n",
    "test_labels_path = \"./Pickles/sv_validation_labels.pickle\"\n",
    "with open(test_labels_path, 'rb') as data:\n",
    "    sv_validation_labels = pickle.load(data)"
   ]
  },
  {
   "cell_type": "code",
   "execution_count": 26,
   "metadata": {},
   "outputs": [
    {
     "data": {
      "text/plain": [
       "MultinomialNB(alpha=1.0, class_prior=None, fit_prior=True)"
      ]
     },
     "execution_count": 26,
     "metadata": {},
     "output_type": "execute_result"
    }
   ],
   "source": [
    "mnb = MultinomialNB()\n",
    "mnb"
   ]
  },
  {
   "cell_type": "markdown",
   "metadata": {},
   "source": [
    "## Using TD-IDF Features"
   ]
  },
  {
   "cell_type": "code",
   "execution_count": 27,
   "metadata": {},
   "outputs": [
    {
     "data": {
      "text/plain": [
       "MultinomialNB(alpha=1.0, class_prior=None, fit_prior=True)"
      ]
     },
     "execution_count": 27,
     "metadata": {},
     "output_type": "execute_result"
    }
   ],
   "source": [
    "mnb.fit(tdidf_training_features, tdidf_training_labels)"
   ]
  },
  {
   "cell_type": "code",
   "execution_count": 28,
   "metadata": {},
   "outputs": [],
   "source": [
    "mnb_pred = mnb.predict(tdidf_test_features)"
   ]
  },
  {
   "cell_type": "code",
   "execution_count": 29,
   "metadata": {},
   "outputs": [
    {
     "name": "stdout",
     "output_type": "stream",
     "text": [
      "The Training Accuracy is:  0.8916666666666667\n",
      "The Testing Accuracy is:  0.8138888888888889\n",
      "The Validation Accuracy is:  0.7722222222222223\n"
     ]
    }
   ],
   "source": [
    "# Training Accuracy\n",
    "print(\"The Training Accuracy is: \",accuracy_score(tdidf_training_labels, mnb.predict(tdidf_training_features)))\n",
    "\n",
    "# Testing Accuracy\n",
    "print(\"The Testing Accuracy is: \",accuracy_score(tdidf_test_labels, mnb.predict(tdidf_test_features)))\n",
    "\n",
    "# Validation Accuracy\n",
    "print(\"The Validation Accuracy is: \",accuracy_score(tdidf_validation_labels, mnb.predict(tdidf_validation_features)))"
   ]
  },
  {
   "cell_type": "code",
   "execution_count": 30,
   "metadata": {},
   "outputs": [
    {
     "name": "stdout",
     "output_type": "stream",
     "text": [
      "accuracy 0.8138888888888889\n",
      "              precision    recall  f1-score   support\n",
      "\n",
      "   Singapore       0.89      0.78      0.83       130\n",
      "      Sports       0.97      0.96      0.97       130\n",
      "   Lifestyle       0.80      0.95      0.87       113\n",
      "       World       0.83      0.70      0.76       113\n",
      "    Business       0.66      0.76      0.71       110\n",
      "  Technology       0.74      0.73      0.73       124\n",
      "\n",
      "    accuracy                           0.81       720\n",
      "   macro avg       0.82      0.81      0.81       720\n",
      "weighted avg       0.82      0.81      0.81       720\n",
      "\n",
      "Wall time: 183 ms\n"
     ]
    }
   ],
   "source": [
    "%%time\n",
    "from sklearn.metrics import classification_report\n",
    "mnb_pred = mnb.predict(tdidf_test_features)\n",
    "\n",
    "print('accuracy %s' % accuracy_score(mnb_pred, tdidf_test_labels))\n",
    "print(classification_report(tdidf_test_labels, mnb_pred,target_names=category_mapping))"
   ]
  },
  {
   "cell_type": "code",
   "execution_count": 31,
   "metadata": {},
   "outputs": [
    {
     "name": "stdout",
     "output_type": "stream",
     "text": [
      "accuracy 0.7722222222222223\n",
      "              precision    recall  f1-score   support\n",
      "\n",
      "   Singapore       0.84      0.74      0.79       133\n",
      "      Sports       0.96      0.97      0.97       107\n",
      "   Lifestyle       0.78      0.89      0.83       115\n",
      "       World       0.76      0.71      0.73       126\n",
      "    Business       0.62      0.57      0.59       119\n",
      "  Technology       0.69      0.78      0.73       120\n",
      "\n",
      "    accuracy                           0.77       720\n",
      "   macro avg       0.77      0.78      0.77       720\n",
      "weighted avg       0.77      0.77      0.77       720\n",
      "\n",
      "Wall time: 176 ms\n"
     ]
    }
   ],
   "source": [
    "%%time\n",
    "from sklearn.metrics import classification_report\n",
    "mnb_pred = mnb.predict(tdidf_validation_features)\n",
    "\n",
    "print('accuracy %s' % accuracy_score(mnb_pred, tdidf_validation_labels))\n",
    "print(classification_report(tdidf_validation_labels, mnb_pred,target_names=category_mapping))"
   ]
  },
  {
   "cell_type": "code",
   "execution_count": 32,
   "metadata": {},
   "outputs": [
    {
     "data": {
      "image/png": "[encoded data removed]",
      "text/plain": [
       "<Figure size 921.6x432 with 2 Axes>"
      ]
     },
     "metadata": {
      "needs_background": "light"
     },
     "output_type": "display_data"
    }
   ],
   "source": [
    "aux_df = all_articles[['category', 'category_code']].drop_duplicates().sort_values('category_code')\n",
    "conf_matrix = confusion_matrix(tdidf_test_labels, mnb_pred)\n",
    "plt.figure(figsize=(12.8,6))\n",
    "sns.heatmap(conf_matrix, \n",
    "            annot=True,\n",
    "            xticklabels=category_mapping, \n",
    "            yticklabels=category_mapping,\n",
    "            cmap=\"Greens\")\n",
    "plt.ylabel('Predicted')\n",
    "plt.xlabel('Actual')\n",
    "plt.title('Confusion matrix')\n",
    "plt.show()"
   ]
  },
  {
   "cell_type": "code",
   "execution_count": 33,
   "metadata": {},
   "outputs": [],
   "source": [
    "d = {\n",
    "     'Model': 'Multinomial Naïve Bayes',\n",
    "    'Features': 'TD-IDF',\n",
    "     'Training Set Accuracy': accuracy_score(tdidf_training_labels, mnb.predict(tdidf_training_features)),\n",
    "     'Test Set Accuracy': accuracy_score(tdidf_test_labels, mnb.predict(tdidf_test_features))\n",
    "}\n",
    "\n",
    "df_models_mnb = pd.DataFrame(d, index=[0])"
   ]
  },
  {
   "cell_type": "code",
   "execution_count": 34,
   "metadata": {},
   "outputs": [
    {
     "data": {
      "text/html": [
       "<div>\n",
       "<style scoped>\n",
       "    .dataframe tbody tr th:only-of-type {\n",
       "        vertical-align: middle;\n",
       "    }\n",
       "\n",
       "    .dataframe tbody tr th {\n",
       "        vertical-align: top;\n",
       "    }\n",
       "\n",
       "    .dataframe thead th {\n",
       "        text-align: right;\n",
       "    }\n",
       "</style>\n",
       "<table border=\"1\" class=\"dataframe\">\n",
       "  <thead>\n",
       "    <tr style=\"text-align: right;\">\n",
       "      <th></th>\n",
       "      <th>Model</th>\n",
       "      <th>Features</th>\n",
       "      <th>Training Set Accuracy</th>\n",
       "      <th>Test Set Accuracy</th>\n",
       "    </tr>\n",
       "  </thead>\n",
       "  <tbody>\n",
       "    <tr>\n",
       "      <th>0</th>\n",
       "      <td>Multinomial Naïve Bayes</td>\n",
       "      <td>TD-IDF</td>\n",
       "      <td>0.891667</td>\n",
       "      <td>0.813889</td>\n",
       "    </tr>\n",
       "  </tbody>\n",
       "</table>\n",
       "</div>"
      ],
      "text/plain": [
       "                     Model Features  Training Set Accuracy  Test Set Accuracy\n",
       "0  Multinomial Naïve Bayes   TD-IDF               0.891667           0.813889"
      ]
     },
     "execution_count": 34,
     "metadata": {},
     "output_type": "execute_result"
    }
   ],
   "source": [
    "df_models_mnb"
   ]
  },
  {
   "cell_type": "code",
   "execution_count": 35,
   "metadata": {},
   "outputs": [],
   "source": [
    "with open('Models/MNB_best_model_tdidf.pickle', 'wb') as output:\n",
    "    pickle.dump(mnb, output)"
   ]
  },
  {
   "cell_type": "markdown",
   "metadata": {},
   "source": [
    "## Using Sequence Vector Features"
   ]
  },
  {
   "cell_type": "code",
   "execution_count": 36,
   "metadata": {},
   "outputs": [
    {
     "data": {
      "text/plain": [
       "MultinomialNB(alpha=1.0, class_prior=None, fit_prior=True)"
      ]
     },
     "execution_count": 36,
     "metadata": {},
     "output_type": "execute_result"
    }
   ],
   "source": [
    "mnb.fit(sv_training_features, sv_training_labels)"
   ]
  },
  {
   "cell_type": "code",
   "execution_count": 37,
   "metadata": {},
   "outputs": [],
   "source": [
    "mnb_pred = mnb.predict(sv_test_features)"
   ]
  },
  {
   "cell_type": "code",
   "execution_count": 38,
   "metadata": {},
   "outputs": [
    {
     "name": "stdout",
     "output_type": "stream",
     "text": [
      "The Training Accuracy is:  0.23628472222222222\n",
      "The Testing Accuracy is:  0.2222222222222222\n",
      "The Validation Accuracy is:  0.1986111111111111\n"
     ]
    }
   ],
   "source": [
    "# Training Accuracy\n",
    "print(\"The Training Accuracy is: \",accuracy_score(sv_training_labels, mnb.predict(sv_training_features)))\n",
    "\n",
    "# Testing Accuracy\n",
    "print(\"The Testing Accuracy is: \",accuracy_score(sv_test_labels, mnb.predict(sv_test_features)))\n",
    "\n",
    "# Validation Accuracy\n",
    "print(\"The Validation Accuracy is: \",accuracy_score(sv_validation_labels, mnb.predict(sv_validation_features)))"
   ]
  },
  {
   "cell_type": "code",
   "execution_count": 39,
   "metadata": {},
   "outputs": [
    {
     "name": "stdout",
     "output_type": "stream",
     "text": [
      "accuracy 0.2222222222222222\n",
      "              precision    recall  f1-score   support\n",
      "\n",
      "   Singapore       0.00      0.00      0.00       130\n",
      "      Sports       0.23      0.93      0.37       130\n",
      "   Lifestyle       0.30      0.08      0.13       113\n",
      "       World       0.15      0.09      0.11       113\n",
      "    Business       0.23      0.03      0.05       110\n",
      "  Technology       0.22      0.14      0.17       124\n",
      "\n",
      "    accuracy                           0.22       720\n",
      "   macro avg       0.19      0.21      0.14       720\n",
      "weighted avg       0.18      0.22      0.14       720\n",
      "\n",
      "Wall time: 6.98 ms\n"
     ]
    }
   ],
   "source": [
    "%%time\n",
    "from sklearn.metrics import classification_report\n",
    "mnb_pred = mnb.predict(sv_test_features)\n",
    "\n",
    "print('accuracy %s' % accuracy_score(mnb_pred, sv_test_labels))\n",
    "print(classification_report(sv_test_labels, mnb_pred,target_names=category_mapping))"
   ]
  },
  {
   "cell_type": "code",
   "execution_count": 40,
   "metadata": {},
   "outputs": [
    {
     "name": "stdout",
     "output_type": "stream",
     "text": [
      "accuracy 0.1986111111111111\n",
      "              precision    recall  f1-score   support\n",
      "\n",
      "   Singapore       0.00      0.00      0.00       133\n",
      "      Sports       0.18      0.89      0.30       107\n",
      "   Lifestyle       0.37      0.15      0.21       115\n",
      "       World       0.14      0.06      0.08       126\n",
      "    Business       0.23      0.04      0.07       119\n",
      "  Technology       0.24      0.16      0.19       120\n",
      "\n",
      "    accuracy                           0.20       720\n",
      "   macro avg       0.19      0.22      0.14       720\n",
      "weighted avg       0.19      0.20      0.14       720\n",
      "\n",
      "Wall time: 5.98 ms\n"
     ]
    }
   ],
   "source": [
    "%%time\n",
    "from sklearn.metrics import classification_report\n",
    "mnb_pred = mnb.predict(sv_validation_features)\n",
    "\n",
    "print('accuracy %s' % accuracy_score(mnb_pred, sv_validation_labels))\n",
    "print(classification_report(sv_validation_labels, mnb_pred,target_names=category_mapping))"
   ]
  },
  {
   "cell_type": "code",
   "execution_count": 41,
   "metadata": {},
   "outputs": [
    {
     "data": {
      "image/png": "[encoded data removed]",
      "text/plain": [
       "<Figure size 921.6x432 with 2 Axes>"
      ]
     },
     "metadata": {
      "needs_background": "light"
     },
     "output_type": "display_data"
    }
   ],
   "source": [
    "aux_df = all_articles[['category', 'category_code']].drop_duplicates().sort_values('category_code')\n",
    "conf_matrix = confusion_matrix(sv_test_labels, mnb_pred)\n",
    "plt.figure(figsize=(12.8,6))\n",
    "sns.heatmap(conf_matrix, \n",
    "            annot=True,\n",
    "            xticklabels=category_mapping, \n",
    "            yticklabels=category_mapping,\n",
    "            cmap=\"Greens\")\n",
    "plt.ylabel('Predicted')\n",
    "plt.xlabel('Actual')\n",
    "plt.title('Confusion Matrix')\n",
    "plt.show()"
   ]
  },
  {
   "cell_type": "code",
   "execution_count": 42,
   "metadata": {},
   "outputs": [],
   "source": [
    "d = {\n",
    "     'Model': 'Multinomial Naïve Bayes',\n",
    "    'Features': 'Sequence Vectors',\n",
    "     'Training Set Accuracy': accuracy_score(sv_training_labels, mnb.predict(sv_training_features)),\n",
    "     'Test Set Accuracy': accuracy_score(sv_test_labels, mnb.predict(sv_test_features))\n",
    "}\n",
    "\n",
    "df_models_mnb_sv = pd.DataFrame(d, index=[0])"
   ]
  },
  {
   "cell_type": "code",
   "execution_count": 43,
   "metadata": {},
   "outputs": [
    {
     "data": {
      "text/html": [
       "<div>\n",
       "<style scoped>\n",
       "    .dataframe tbody tr th:only-of-type {\n",
       "        vertical-align: middle;\n",
       "    }\n",
       "\n",
       "    .dataframe tbody tr th {\n",
       "        vertical-align: top;\n",
       "    }\n",
       "\n",
       "    .dataframe thead th {\n",
       "        text-align: right;\n",
       "    }\n",
       "</style>\n",
       "<table border=\"1\" class=\"dataframe\">\n",
       "  <thead>\n",
       "    <tr style=\"text-align: right;\">\n",
       "      <th></th>\n",
       "      <th>Model</th>\n",
       "      <th>Features</th>\n",
       "      <th>Training Set Accuracy</th>\n",
       "      <th>Test Set Accuracy</th>\n",
       "    </tr>\n",
       "  </thead>\n",
       "  <tbody>\n",
       "    <tr>\n",
       "      <th>0</th>\n",
       "      <td>Multinomial Naïve Bayes</td>\n",
       "      <td>TD-IDF</td>\n",
       "      <td>0.891667</td>\n",
       "      <td>0.813889</td>\n",
       "    </tr>\n",
       "    <tr>\n",
       "      <th>0</th>\n",
       "      <td>Multinomial Naïve Bayes</td>\n",
       "      <td>Sequence Vectors</td>\n",
       "      <td>0.236285</td>\n",
       "      <td>0.222222</td>\n",
       "    </tr>\n",
       "  </tbody>\n",
       "</table>\n",
       "</div>"
      ],
      "text/plain": [
       "                     Model          Features  Training Set Accuracy  \\\n",
       "0  Multinomial Naïve Bayes            TD-IDF               0.891667   \n",
       "0  Multinomial Naïve Bayes  Sequence Vectors               0.236285   \n",
       "\n",
       "   Test Set Accuracy  \n",
       "0           0.813889  \n",
       "0           0.222222  "
      ]
     },
     "execution_count": 43,
     "metadata": {},
     "output_type": "execute_result"
    }
   ],
   "source": [
    "df_model_evaluation = df_models_mnb.append(df_models_mnb_sv)\n",
    "df_model_evaluation"
   ]
  },
  {
   "cell_type": "code",
   "execution_count": 44,
   "metadata": {},
   "outputs": [],
   "source": [
    "with open('Models/MNB_best_model_tdidf.pickle', 'wb') as output:\n",
    "    pickle.dump(mnb, output)\n",
    "    \n",
    "with open('Models/MNB_best_model_details.pickle', 'wb') as output:\n",
    "    pickle.dump(df_model_evaluation, output)"
   ]
  }
 ],
 "metadata": {
  "kernelspec": {
   "display_name": "Python 3",
   "language": "python",
   "name": "python3"
  },
  "language_info": {
   "codemirror_mode": {
    "name": "ipython",
    "version": 3
   },
   "file_extension": ".py",
   "mimetype": "text/x-python",
   "name": "python",
   "nbconvert_exporter": "python",
   "pygments_lexer": "ipython3",
   "version": "3.7.3"
  }
 },
 "nbformat": 4,
 "nbformat_minor": 2
}
