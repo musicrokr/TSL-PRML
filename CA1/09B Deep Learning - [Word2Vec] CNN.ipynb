{
 "cells": [
  {
   "cell_type": "markdown",
   "metadata": {},
   "source": [
    "https://rajmak.wordpress.com/2017/12/07/text-classification-classifying-product-titles-using-convolutional-neural-network-and-word2vec-embedding/"
   ]
  },
  {
   "cell_type": "code",
   "execution_count": 31,
   "metadata": {},
   "outputs": [],
   "source": [
    "import pickle\n",
    "import os\n",
    "import numpy as np\n",
    "import sklearn.metrics as metrics\n",
    "import matplotlib.pyplot as plt\n",
    "import seaborn as sns\n",
    "\n",
    "from tensorflow.keras.callbacks import ModelCheckpoint,CSVLogger\n",
    "from tensorflow.keras.layers import Activation, Conv1D, Dense, Embedding, Flatten, Input, MaxPooling1D,Dropout\n",
    "from tensorflow.keras.models import Sequential\n",
    "from tensorflow.keras.preprocessing.text import Tokenizer\n",
    "from tensorflow.keras.preprocessing.sequence import pad_sequences\n",
    "from sklearn.datasets import fetch_20newsgroups\n",
    "from sklearn.datasets.base import get_data_home\n",
    "from tensorflow.keras.metrics import categorical_accuracy\n",
    "from sklearn.model_selection import train_test_split\n",
    "from tensorflow.keras.preprocessing import text, sequence\n",
    "from sklearn.preprocessing import LabelBinarizer, LabelEncoder\n",
    "from tensorflow.keras import utils\n",
    "from tensorflow.keras.models import Model\n",
    "from tensorflow.keras import optimizers\n",
    "from sklearn.metrics import classification_report, confusion_matrix, accuracy_score\n",
    "import gensim"
   ]
  },
  {
   "cell_type": "code",
   "execution_count": 32,
   "metadata": {},
   "outputs": [],
   "source": [
    "MAX_NB_WORDS = 200000\n",
    "MAX_SEQUENCE_LENGTH = 30\n",
    "EMBEDDING_DIM = 300"
   ]
  },
  {
   "cell_type": "code",
   "execution_count": 33,
   "metadata": {},
   "outputs": [],
   "source": [
    "category_mapping = {\n",
    "    'Singapore': 1,\n",
    "    'Sports': 2,\n",
    "    'Lifestyle': 3,\n",
    "    'World': 4,\n",
    "    'Business': 5,\n",
    "    'Technology': 6\n",
    "}"
   ]
  },
  {
   "cell_type": "code",
   "execution_count": 34,
   "metadata": {},
   "outputs": [],
   "source": [
    "#Processed Data Frame [ Do Not Use this, Use the Training, Tesing and Validation Data Sets Instead]\n",
    "data_path = \"./Pickles/all_articles_processed.pickle\"\n",
    "with open(data_path, 'rb') as data:\n",
    "    df = pickle.load(data)"
   ]
  },
  {
   "cell_type": "code",
   "execution_count": 35,
   "metadata": {},
   "outputs": [],
   "source": [
    "df['category'].value_counts()\n",
    "df=df.sample(frac=1)"
   ]
  },
  {
   "cell_type": "code",
   "execution_count": 36,
   "metadata": {},
   "outputs": [
    {
     "name": "stdout",
     "output_type": "stream",
     "text": [
      "Train size: 5040\n",
      "Test size: 2160\n"
     ]
    }
   ],
   "source": [
    "train_size = int(len(df) * .7)\n",
    "print (\"Train size: %d\" % train_size)\n",
    "print (\"Test size: %d\" % (len(df) - train_size))"
   ]
  },
  {
   "cell_type": "code",
   "execution_count": 37,
   "metadata": {},
   "outputs": [
    {
     "data": {
      "text/plain": [
       "array(['World', 'Singapore', 'Business', 'Sports', 'Technology',\n",
       "       'Lifestyle'], dtype=object)"
      ]
     },
     "execution_count": 37,
     "metadata": {},
     "output_type": "execute_result"
    }
   ],
   "source": [
    "df['category'].unique()"
   ]
  },
  {
   "cell_type": "code",
   "execution_count": 38,
   "metadata": {},
   "outputs": [],
   "source": [
    "train_posts = df['article'][:train_size]\n",
    "train_tags = df['category'][:train_size]\n",
    "\n",
    "test_posts = df['article'][train_size:]\n",
    "test_tags = df['category'][train_size:]"
   ]
  },
  {
   "cell_type": "code",
   "execution_count": 39,
   "metadata": {},
   "outputs": [],
   "source": [
    "max_words = 1000\n",
    "tokenize = text.Tokenizer(num_words=MAX_NB_WORDS, char_level=False)"
   ]
  },
  {
   "cell_type": "code",
   "execution_count": 40,
   "metadata": {},
   "outputs": [],
   "source": [
    "tokenize.fit_on_texts(train_posts) # only fit on train\n",
    "x_train = tokenize.texts_to_matrix(train_posts)\n",
    "x_test = tokenize.texts_to_matrix(test_posts)"
   ]
  },
  {
   "cell_type": "code",
   "execution_count": 41,
   "metadata": {},
   "outputs": [],
   "source": [
    "x_train = tokenize.texts_to_sequences(train_posts)\n",
    "x_test = tokenize.texts_to_sequences(test_posts)\n",
    "\n",
    "x_train = pad_sequences(x_train, maxlen=MAX_SEQUENCE_LENGTH)\n",
    "x_test = pad_sequences(x_test, maxlen=MAX_SEQUENCE_LENGTH)"
   ]
  },
  {
   "cell_type": "code",
   "execution_count": 42,
   "metadata": {},
   "outputs": [],
   "source": [
    "encoder = LabelEncoder()\n",
    "encoder.fit(train_tags)\n",
    "y_train = encoder.transform(train_tags)\n",
    "y_test = encoder.transform(test_tags)"
   ]
  },
  {
   "cell_type": "code",
   "execution_count": 43,
   "metadata": {},
   "outputs": [],
   "source": [
    "num_classes = np.max(y_train) + 1\n",
    "y_train = utils.to_categorical(y_train, num_classes)\n",
    "y_test = utils.to_categorical(y_test, num_classes)"
   ]
  },
  {
   "cell_type": "code",
   "execution_count": 44,
   "metadata": {},
   "outputs": [
    {
     "name": "stdout",
     "output_type": "stream",
     "text": [
      "x_train shape: (5040, 30)\n",
      "x_test shape: (2160, 30)\n",
      "y_train shape: (5040, 6)\n",
      "y_test shape: (2160, 6)\n"
     ]
    }
   ],
   "source": [
    "print('x_train shape:', x_train.shape)\n",
    "print('x_test shape:', x_test.shape)\n",
    "print('y_train shape:', y_train.shape)\n",
    "print('y_test shape:', y_test.shape)"
   ]
  },
  {
   "cell_type": "code",
   "execution_count": 45,
   "metadata": {},
   "outputs": [
    {
     "name": "stderr",
     "output_type": "stream",
     "text": [
      "C:\\Users\\User\\Anaconda3\\lib\\site-packages\\smart_open\\smart_open_lib.py:398: UserWarning: This function is deprecated, use smart_open.open instead. See the migration notes for details: https://github.com/RaRe-Technologies/smart_open/blob/master/README.rst#migrating-to-the-new-open-function\n",
      "  'See the migration notes for details: %s' % _MIGRATION_NOTES_URL\n"
     ]
    }
   ],
   "source": [
    "from gensim.models import Word2Vec\n",
    "word2vec= gensim.models.KeyedVectors.load_word2vec_format(\"./GoogleNews-vectors-negative300.bin.gz\", binary=True)\n",
    "word2vec .init_sims(replace=True)"
   ]
  },
  {
   "cell_type": "code",
   "execution_count": 46,
   "metadata": {},
   "outputs": [
    {
     "name": "stdout",
     "output_type": "stream",
     "text": [
      "Found 3000000 word vectors of word2vec\n"
     ]
    }
   ],
   "source": [
    "print('Found %s word vectors of word2vec' % len(word2vec .vocab))"
   ]
  },
  {
   "cell_type": "code",
   "execution_count": 47,
   "metadata": {},
   "outputs": [
    {
     "name": "stdout",
     "output_type": "stream",
     "text": [
      "Found 60102 word vectors of word2vec\n"
     ]
    }
   ],
   "source": [
    "vocab_size = len(tokenize.word_index) \n",
    "print('Found %s word vectors of word2vec' % vocab_size)"
   ]
  },
  {
   "cell_type": "code",
   "execution_count": 48,
   "metadata": {},
   "outputs": [
    {
     "name": "stdout",
     "output_type": "stream",
     "text": [
      "Null word embeddings: 30297\n"
     ]
    }
   ],
   "source": [
    "from tensorflow.keras.layers import Embedding\n",
    "word_index = tokenize.word_index\n",
    "nb_words = min(MAX_NB_WORDS, len(word_index))+1\n",
    "\n",
    "embedding_matrix = np.zeros((nb_words, EMBEDDING_DIM))\n",
    "for word, i in word_index.items():\n",
    "    if word in word2vec.vocab:\n",
    "        embedding_matrix[i] = word2vec.word_vec(word)\n",
    "print('Null word embeddings: %d' % np.sum(np.sum(embedding_matrix, axis=1) == 0))\n",
    "\n",
    "embedding_layer = Embedding(embedding_matrix.shape[0], # or len(word_index) + 1\n",
    "                            embedding_matrix.shape[1], # or EMBEDDING_DIM,\n",
    "                            weights=[embedding_matrix],\n",
    "                            input_length=MAX_SEQUENCE_LENGTH,\n",
    "                            trainable=False)"
   ]
  },
  {
   "cell_type": "code",
   "execution_count": 49,
   "metadata": {},
   "outputs": [
    {
     "data": {
      "text/plain": [
       "0.4959235965525274"
      ]
     },
     "execution_count": 49,
     "metadata": {},
     "output_type": "execute_result"
    }
   ],
   "source": [
    "nonzero_elements = np.count_nonzero(np.count_nonzero(embedding_matrix, axis=1))\n",
    "nonzero_elements / vocab_size"
   ]
  },
  {
   "cell_type": "code",
   "execution_count": 50,
   "metadata": {},
   "outputs": [],
   "source": [
    "def createModel():# Build the model\n",
    "    model = Sequential()\n",
    "    model.add(embedding_layer)\n",
    "    model.add(Dropout(0.2))\n",
    "    model.add(Conv1D(300, 3, padding='valid',activation='relu',strides=2))\n",
    "    model.add(Conv1D(150, 3, padding='valid',activation='relu',strides=2))\n",
    "    model.add(Conv1D(75, 3, padding='valid',activation='relu',strides=2))\n",
    "    model.add(Flatten())\n",
    "    model.add(Dropout(0.2))\n",
    "    model.add(Dense(150,activation='sigmoid'))\n",
    "    model.add(Dropout(0.2))\n",
    "    model.add(Dense(num_classes,activation='sigmoid'))\n",
    "\n",
    "    model.compile(loss='binary_crossentropy',optimizer='adam',metrics=['accuracy'])\n",
    "\n",
    "    return model"
   ]
  },
  {
   "cell_type": "code",
   "execution_count": 51,
   "metadata": {},
   "outputs": [
    {
     "name": "stdout",
     "output_type": "stream",
     "text": [
      "_________________________________________________________________\n",
      "Layer (type)                 Output Shape              Param #   \n",
      "=================================================================\n",
      "embedding_1 (Embedding)      (None, 30, 300)           18030900  \n",
      "_________________________________________________________________\n",
      "dropout_6 (Dropout)          (None, 30, 300)           0         \n",
      "_________________________________________________________________\n",
      "conv1d_6 (Conv1D)            (None, 14, 300)           270300    \n",
      "_________________________________________________________________\n",
      "conv1d_7 (Conv1D)            (None, 6, 150)            135150    \n",
      "_________________________________________________________________\n",
      "conv1d_8 (Conv1D)            (None, 2, 75)             33825     \n",
      "_________________________________________________________________\n",
      "flatten_2 (Flatten)          (None, 150)               0         \n",
      "_________________________________________________________________\n",
      "dropout_7 (Dropout)          (None, 150)               0         \n",
      "_________________________________________________________________\n",
      "dense_4 (Dense)              (None, 150)               22650     \n",
      "_________________________________________________________________\n",
      "dropout_8 (Dropout)          (None, 150)               0         \n",
      "_________________________________________________________________\n",
      "dense_5 (Dense)              (None, 6)                 906       \n",
      "=================================================================\n",
      "Total params: 18,493,731\n",
      "Trainable params: 462,831\n",
      "Non-trainable params: 18,030,900\n",
      "_________________________________________________________________\n"
     ]
    }
   ],
   "source": [
    "model       = createModel() # This is meant for training\n",
    "modelGo     = createModel() # This is used for final testing\n",
    "\n",
    "model.summary()"
   ]
  },
  {
   "cell_type": "code",
   "execution_count": 52,
   "metadata": {},
   "outputs": [],
   "source": [
    "modelname   = 'w2v_cnn'\n",
    "filepath        = modelname + \".hdf5\"\n",
    "checkpoint      = ModelCheckpoint(filepath, \n",
    "                                  monitor='val_acc', \n",
    "                                  verbose=0, \n",
    "                                  save_best_only=True, \n",
    "                                  mode='max')\n",
    "\n",
    "                            # Log the epoch detail into csv\n",
    "csv_logger      = CSVLogger(modelname +'.csv')\n",
    "callbacks_list  = [checkpoint,csv_logger]"
   ]
  },
  {
   "cell_type": "code",
   "execution_count": 53,
   "metadata": {},
   "outputs": [
    {
     "name": "stdout",
     "output_type": "stream",
     "text": [
      "Train on 5040 samples, validate on 2160 samples\n",
      "Epoch 1/100\n",
      "5040/5040 [==============================] - 6s 1ms/sample - loss: 0.4791 - acc: 0.8154 - val_loss: 0.4338 - val_acc: 0.8333\n",
      "Epoch 2/100\n",
      "5040/5040 [==============================] - 4s 805us/sample - loss: 0.4157 - acc: 0.8356 - val_loss: 0.3711 - val_acc: 0.8485\n",
      "Epoch 3/100\n",
      "5040/5040 [==============================] - 4s 801us/sample - loss: 0.3501 - acc: 0.8567 - val_loss: 0.3307 - val_acc: 0.8609\n",
      "Epoch 4/100\n",
      "5040/5040 [==============================] - 4s 808us/sample - loss: 0.3132 - acc: 0.8662 - val_loss: 0.3020 - val_acc: 0.8696\n",
      "Epoch 5/100\n",
      "5040/5040 [==============================] - 4s 814us/sample - loss: 0.2877 - acc: 0.8738 - val_loss: 0.3010 - val_acc: 0.8725\n",
      "Epoch 6/100\n",
      "5040/5040 [==============================] - 4s 825us/sample - loss: 0.2729 - acc: 0.8802 - val_loss: 0.3052 - val_acc: 0.8736\n",
      "Epoch 7/100\n",
      "5040/5040 [==============================] - 4s 814us/sample - loss: 0.2553 - acc: 0.8918 - val_loss: 0.2951 - val_acc: 0.8742\n",
      "Epoch 8/100\n",
      "5040/5040 [==============================] - 4s 811us/sample - loss: 0.2377 - acc: 0.8992 - val_loss: 0.2949 - val_acc: 0.8756\n",
      "Epoch 9/100\n",
      "5040/5040 [==============================] - 4s 799us/sample - loss: 0.2191 - acc: 0.9103 - val_loss: 0.3003 - val_acc: 0.8758\n",
      "Epoch 10/100\n",
      "5040/5040 [==============================] - 4s 754us/sample - loss: 0.2006 - acc: 0.9194 - val_loss: 0.3057 - val_acc: 0.8732\n",
      "Epoch 11/100\n",
      "5040/5040 [==============================] - 4s 757us/sample - loss: 0.1808 - acc: 0.9304 - val_loss: 0.3101 - val_acc: 0.8723\n",
      "Epoch 12/100\n",
      "5040/5040 [==============================] - 4s 786us/sample - loss: 0.1674 - acc: 0.9345 - val_loss: 0.3149 - val_acc: 0.8761\n",
      "Epoch 13/100\n",
      "5040/5040 [==============================] - 4s 769us/sample - loss: 0.1425 - acc: 0.9478 - val_loss: 0.3275 - val_acc: 0.8735\n",
      "Epoch 14/100\n",
      "5040/5040 [==============================] - 4s 744us/sample - loss: 0.1238 - acc: 0.9573 - val_loss: 0.3369 - val_acc: 0.8738\n",
      "Epoch 15/100\n",
      "5040/5040 [==============================] - 4s 751us/sample - loss: 0.1105 - acc: 0.9624 - val_loss: 0.3753 - val_acc: 0.8633\n",
      "Epoch 16/100\n",
      "5040/5040 [==============================] - 4s 759us/sample - loss: 0.0992 - acc: 0.9663 - val_loss: 0.3733 - val_acc: 0.8708\n",
      "Epoch 17/100\n",
      "5040/5040 [==============================] - 4s 752us/sample - loss: 0.0853 - acc: 0.9729 - val_loss: 0.3902 - val_acc: 0.8681\n",
      "Epoch 18/100\n",
      "5040/5040 [==============================] - 4s 750us/sample - loss: 0.0712 - acc: 0.9792 - val_loss: 0.3938 - val_acc: 0.8668\n",
      "Epoch 19/100\n",
      "5040/5040 [==============================] - 4s 750us/sample - loss: 0.0618 - acc: 0.9825 - val_loss: 0.4235 - val_acc: 0.8651\n",
      "Epoch 20/100\n",
      "5040/5040 [==============================] - 4s 733us/sample - loss: 0.0588 - acc: 0.9822 - val_loss: 0.4308 - val_acc: 0.8642\n",
      "Epoch 21/100\n",
      "5040/5040 [==============================] - 4s 729us/sample - loss: 0.0542 - acc: 0.9844 - val_loss: 0.4238 - val_acc: 0.8708\n",
      "Epoch 22/100\n",
      "5040/5040 [==============================] - 4s 737us/sample - loss: 0.0485 - acc: 0.9868 - val_loss: 0.4351 - val_acc: 0.8670\n",
      "Epoch 23/100\n",
      "5040/5040 [==============================] - 4s 772us/sample - loss: 0.0441 - acc: 0.9876 - val_loss: 0.4473 - val_acc: 0.8666\n",
      "Epoch 24/100\n",
      "5040/5040 [==============================] - 4s 817us/sample - loss: 0.0404 - acc: 0.9882 - val_loss: 0.4634 - val_acc: 0.8661\n",
      "Epoch 25/100\n",
      "5040/5040 [==============================] - 4s 758us/sample - loss: 0.0421 - acc: 0.9877 - val_loss: 0.4558 - val_acc: 0.8682\n",
      "Epoch 26/100\n",
      "5040/5040 [==============================] - 4s 777us/sample - loss: 0.0415 - acc: 0.9873 - val_loss: 0.4614 - val_acc: 0.8694\n",
      "Epoch 27/100\n",
      "5040/5040 [==============================] - 4s 760us/sample - loss: 0.0375 - acc: 0.9891 - val_loss: 0.4666 - val_acc: 0.8639\n",
      "Epoch 28/100\n",
      "5040/5040 [==============================] - 4s 744us/sample - loss: 0.0386 - acc: 0.9884 - val_loss: 0.4832 - val_acc: 0.8680\n",
      "Epoch 29/100\n",
      "5040/5040 [==============================] - 4s 737us/sample - loss: 0.0358 - acc: 0.9892 - val_loss: 0.4759 - val_acc: 0.8683\n",
      "Epoch 30/100\n",
      "5040/5040 [==============================] - 4s 738us/sample - loss: 0.0331 - acc: 0.9897 - val_loss: 0.4806 - val_acc: 0.8665\n",
      "Epoch 31/100\n",
      "5040/5040 [==============================] - 4s 761us/sample - loss: 0.0325 - acc: 0.9896 - val_loss: 0.4996 - val_acc: 0.8610\n",
      "Epoch 32/100\n",
      "5040/5040 [==============================] - 4s 759us/sample - loss: 0.0306 - acc: 0.9905 - val_loss: 0.4901 - val_acc: 0.8674\n",
      "Epoch 33/100\n",
      "5040/5040 [==============================] - 4s 733us/sample - loss: 0.0323 - acc: 0.9896 - val_loss: 0.5122 - val_acc: 0.8664\n",
      "Epoch 34/100\n",
      "5040/5040 [==============================] - 4s 733us/sample - loss: 0.0316 - acc: 0.9895 - val_loss: 0.5070 - val_acc: 0.8657\n",
      "Epoch 35/100\n",
      "5040/5040 [==============================] - 4s 726us/sample - loss: 0.0295 - acc: 0.9902 - val_loss: 0.5080 - val_acc: 0.8657\n",
      "Epoch 36/100\n",
      "5040/5040 [==============================] - 4s 731us/sample - loss: 0.0275 - acc: 0.9906 - val_loss: 0.5080 - val_acc: 0.8689\n",
      "Epoch 37/100\n",
      "5040/5040 [==============================] - 4s 733us/sample - loss: 0.0265 - acc: 0.9913 - val_loss: 0.5204 - val_acc: 0.8661\n",
      "Epoch 38/100\n",
      "5040/5040 [==============================] - 4s 736us/sample - loss: 0.0290 - acc: 0.9898 - val_loss: 0.5316 - val_acc: 0.8632\n",
      "Epoch 39/100\n",
      "5040/5040 [==============================] - 4s 805us/sample - loss: 0.0281 - acc: 0.9905 - val_loss: 0.5233 - val_acc: 0.8664\n",
      "Epoch 40/100\n",
      "5040/5040 [==============================] - 4s 751us/sample - loss: 0.0267 - acc: 0.9901 - val_loss: 0.5322 - val_acc: 0.8677\n",
      "Epoch 41/100\n",
      "5040/5040 [==============================] - 4s 761us/sample - loss: 0.0244 - acc: 0.9909 - val_loss: 0.5288 - val_acc: 0.8685\n",
      "Epoch 42/100\n",
      "5040/5040 [==============================] - 4s 740us/sample - loss: 0.0256 - acc: 0.9901 - val_loss: 0.5392 - val_acc: 0.8653\n",
      "Epoch 43/100\n",
      "5040/5040 [==============================] - 4s 769us/sample - loss: 0.0248 - acc: 0.9908 - val_loss: 0.5326 - val_acc: 0.8695\n",
      "Epoch 44/100\n",
      "5040/5040 [==============================] - 4s 742us/sample - loss: 0.0240 - acc: 0.9909 - val_loss: 0.5456 - val_acc: 0.8654\n",
      "Epoch 45/100\n",
      "5040/5040 [==============================] - 4s 753us/sample - loss: 0.0247 - acc: 0.9904 - val_loss: 0.5413 - val_acc: 0.8664\n",
      "Epoch 46/100\n",
      "5040/5040 [==============================] - 4s 743us/sample - loss: 0.0227 - acc: 0.9912 - val_loss: 0.5402 - val_acc: 0.8659\n",
      "Epoch 47/100\n",
      "5040/5040 [==============================] - 4s 740us/sample - loss: 0.0210 - acc: 0.9916 - val_loss: 0.5475 - val_acc: 0.8677\n",
      "Epoch 48/100\n",
      "5040/5040 [==============================] - 4s 754us/sample - loss: 0.0214 - acc: 0.9911 - val_loss: 0.5596 - val_acc: 0.8648\n",
      "Epoch 49/100\n",
      "5040/5040 [==============================] - 4s 747us/sample - loss: 0.0205 - acc: 0.9914 - val_loss: 0.5797 - val_acc: 0.8647\n",
      "Epoch 50/100\n",
      "5040/5040 [==============================] - 4s 751us/sample - loss: 0.0210 - acc: 0.9908 - val_loss: 0.6027 - val_acc: 0.8613\n",
      "Epoch 51/100\n",
      "5040/5040 [==============================] - 4s 729us/sample - loss: 0.0242 - acc: 0.9906 - val_loss: 0.5759 - val_acc: 0.8638\n",
      "Epoch 52/100\n",
      "5040/5040 [==============================] - 4s 734us/sample - loss: 0.0213 - acc: 0.9914 - val_loss: 0.5742 - val_acc: 0.8656\n",
      "Epoch 53/100\n",
      "5040/5040 [==============================] - 4s 728us/sample - loss: 0.0204 - acc: 0.9910 - val_loss: 0.5659 - val_acc: 0.8662\n",
      "Epoch 54/100\n",
      "5040/5040 [==============================] - 4s 727us/sample - loss: 0.0191 - acc: 0.9923 - val_loss: 0.5835 - val_acc: 0.8665\n",
      "Epoch 55/100\n",
      "5040/5040 [==============================] - 4s 728us/sample - loss: 0.0190 - acc: 0.9918 - val_loss: 0.5934 - val_acc: 0.8631\n",
      "Epoch 56/100\n",
      "5040/5040 [==============================] - 4s 723us/sample - loss: 0.0189 - acc: 0.9921 - val_loss: 0.6009 - val_acc: 0.8605\n",
      "Epoch 57/100\n",
      "5040/5040 [==============================] - 4s 735us/sample - loss: 0.0202 - acc: 0.9915 - val_loss: 0.5869 - val_acc: 0.8653\n",
      "Epoch 58/100\n",
      "5040/5040 [==============================] - 4s 761us/sample - loss: 0.0187 - acc: 0.9919 - val_loss: 0.5917 - val_acc: 0.8641\n",
      "Epoch 59/100\n"
     ]
    },
    {
     "name": "stdout",
     "output_type": "stream",
     "text": [
      "5040/5040 [==============================] - 4s 735us/sample - loss: 0.0182 - acc: 0.9917 - val_loss: 0.6077 - val_acc: 0.8595\n",
      "Epoch 60/100\n",
      "5040/5040 [==============================] - 4s 740us/sample - loss: 0.0181 - acc: 0.9923 - val_loss: 0.5997 - val_acc: 0.8641\n",
      "Epoch 61/100\n",
      "5040/5040 [==============================] - 4s 746us/sample - loss: 0.0185 - acc: 0.9914 - val_loss: 0.6000 - val_acc: 0.8644\n",
      "Epoch 62/100\n",
      "5040/5040 [==============================] - 4s 736us/sample - loss: 0.0180 - acc: 0.9919 - val_loss: 0.6078 - val_acc: 0.8619\n",
      "Epoch 63/100\n",
      "5040/5040 [==============================] - 4s 740us/sample - loss: 0.0176 - acc: 0.9919 - val_loss: 0.6094 - val_acc: 0.8647\n",
      "Epoch 64/100\n",
      "5040/5040 [==============================] - 4s 747us/sample - loss: 0.0173 - acc: 0.9923 - val_loss: 0.6198 - val_acc: 0.8635\n",
      "Epoch 65/100\n",
      "5040/5040 [==============================] - 4s 740us/sample - loss: 0.0181 - acc: 0.9915 - val_loss: 0.6395 - val_acc: 0.8626\n",
      "Epoch 66/100\n",
      "5040/5040 [==============================] - 4s 760us/sample - loss: 0.0162 - acc: 0.9924 - val_loss: 0.6320 - val_acc: 0.8625\n",
      "Epoch 67/100\n",
      "5040/5040 [==============================] - 4s 743us/sample - loss: 0.0184 - acc: 0.9905 - val_loss: 0.6311 - val_acc: 0.8623\n",
      "Epoch 68/100\n",
      "5040/5040 [==============================] - 4s 737us/sample - loss: 0.0200 - acc: 0.9903 - val_loss: 0.6348 - val_acc: 0.8603\n",
      "Epoch 69/100\n",
      "5040/5040 [==============================] - 4s 738us/sample - loss: 0.0172 - acc: 0.9918 - val_loss: 0.6330 - val_acc: 0.8622\n",
      "Epoch 70/100\n",
      "5040/5040 [==============================] - 4s 734us/sample - loss: 0.0178 - acc: 0.9909 - val_loss: 0.6265 - val_acc: 0.8607\n",
      "Epoch 71/100\n",
      "5040/5040 [==============================] - 4s 739us/sample - loss: 0.0173 - acc: 0.9914 - val_loss: 0.6363 - val_acc: 0.8633\n",
      "Epoch 72/100\n",
      "5040/5040 [==============================] - 4s 739us/sample - loss: 0.0171 - acc: 0.9912 - val_loss: 0.6587 - val_acc: 0.8592\n",
      "Epoch 73/100\n",
      "5040/5040 [==============================] - 4s 730us/sample - loss: 0.0191 - acc: 0.9906 - val_loss: 0.6487 - val_acc: 0.8606\n",
      "Epoch 74/100\n",
      "5040/5040 [==============================] - 4s 738us/sample - loss: 0.0174 - acc: 0.9918 - val_loss: 0.6389 - val_acc: 0.8637\n",
      "Epoch 75/100\n",
      "5040/5040 [==============================] - 4s 777us/sample - loss: 0.0168 - acc: 0.9919 - val_loss: 0.6370 - val_acc: 0.8675\n",
      "Epoch 76/100\n",
      "5040/5040 [==============================] - 4s 745us/sample - loss: 0.0168 - acc: 0.9918 - val_loss: 0.6525 - val_acc: 0.8630\n",
      "Epoch 77/100\n",
      "5040/5040 [==============================] - 4s 738us/sample - loss: 0.0170 - acc: 0.9916 - val_loss: 0.6487 - val_acc: 0.8623\n",
      "Epoch 78/100\n",
      "5040/5040 [==============================] - 4s 731us/sample - loss: 0.0158 - acc: 0.9926 - val_loss: 0.6479 - val_acc: 0.8629\n",
      "Epoch 79/100\n",
      "5040/5040 [==============================] - 4s 732us/sample - loss: 0.0170 - acc: 0.9918 - val_loss: 0.6636 - val_acc: 0.8640\n",
      "Epoch 80/100\n",
      "5040/5040 [==============================] - 4s 741us/sample - loss: 0.0186 - acc: 0.9911 - val_loss: 0.6455 - val_acc: 0.8619\n",
      "Epoch 81/100\n",
      "5040/5040 [==============================] - 4s 729us/sample - loss: 0.0151 - acc: 0.9928 - val_loss: 0.6581 - val_acc: 0.8626\n",
      "Epoch 82/100\n",
      "5040/5040 [==============================] - 4s 735us/sample - loss: 0.0148 - acc: 0.9928 - val_loss: 0.6766 - val_acc: 0.8590\n",
      "Epoch 83/100\n",
      "5040/5040 [==============================] - 4s 738us/sample - loss: 0.0167 - acc: 0.9923 - val_loss: 0.6878 - val_acc: 0.8614\n",
      "Epoch 84/100\n",
      "5040/5040 [==============================] - 4s 750us/sample - loss: 0.0157 - acc: 0.9926 - val_loss: 0.6863 - val_acc: 0.8609\n",
      "Epoch 85/100\n",
      "5040/5040 [==============================] - 4s 729us/sample - loss: 0.0158 - acc: 0.9920 - val_loss: 0.6729 - val_acc: 0.8579\n",
      "Epoch 86/100\n",
      "5040/5040 [==============================] - 4s 732us/sample - loss: 0.0145 - acc: 0.9925 - val_loss: 0.6881 - val_acc: 0.8598\n",
      "Epoch 87/100\n",
      "5040/5040 [==============================] - 4s 725us/sample - loss: 0.0154 - acc: 0.9919 - val_loss: 0.6988 - val_acc: 0.8603\n",
      "Epoch 88/100\n",
      "5040/5040 [==============================] - 4s 731us/sample - loss: 0.0175 - acc: 0.9913 - val_loss: 0.7103 - val_acc: 0.8601\n",
      "Epoch 89/100\n",
      "5040/5040 [==============================] - 4s 728us/sample - loss: 0.0146 - acc: 0.9926 - val_loss: 0.6929 - val_acc: 0.8600\n",
      "Epoch 90/100\n",
      "5040/5040 [==============================] - 4s 728us/sample - loss: 0.0157 - acc: 0.9923 - val_loss: 0.6971 - val_acc: 0.8595\n",
      "Epoch 91/100\n",
      "5040/5040 [==============================] - 4s 731us/sample - loss: 0.0161 - acc: 0.9915 - val_loss: 0.7091 - val_acc: 0.8590\n",
      "Epoch 92/100\n",
      "5040/5040 [==============================] - 4s 732us/sample - loss: 0.0172 - acc: 0.9912 - val_loss: 0.7123 - val_acc: 0.8585\n",
      "Epoch 93/100\n",
      "5040/5040 [==============================] - 4s 763us/sample - loss: 0.0194 - acc: 0.9906 - val_loss: 0.6931 - val_acc: 0.8612\n",
      "Epoch 94/100\n",
      "5040/5040 [==============================] - 4s 737us/sample - loss: 0.0204 - acc: 0.9905 - val_loss: 0.7048 - val_acc: 0.8639\n",
      "Epoch 95/100\n",
      "5040/5040 [==============================] - 4s 730us/sample - loss: 0.0185 - acc: 0.9912 - val_loss: 0.6764 - val_acc: 0.8630\n",
      "Epoch 96/100\n",
      "5040/5040 [==============================] - 4s 740us/sample - loss: 0.0174 - acc: 0.9916 - val_loss: 0.6688 - val_acc: 0.8630\n",
      "Epoch 97/100\n",
      "5040/5040 [==============================] - 4s 726us/sample - loss: 0.0170 - acc: 0.9912 - val_loss: 0.6790 - val_acc: 0.8619\n",
      "Epoch 98/100\n",
      "5040/5040 [==============================] - 4s 736us/sample - loss: 0.0177 - acc: 0.9908 - val_loss: 0.6642 - val_acc: 0.8641\n",
      "Epoch 99/100\n",
      "5040/5040 [==============================] - 4s 729us/sample - loss: 0.0142 - acc: 0.9930 - val_loss: 0.6817 - val_acc: 0.8622\n",
      "Epoch 100/100\n",
      "5040/5040 [==============================] - 4s 730us/sample - loss: 0.0157 - acc: 0.9914 - val_loss: 0.6845 - val_acc: 0.8643\n"
     ]
    },
    {
     "data": {
      "text/plain": [
       "<tensorflow.python.keras.callbacks.History at 0x2470c7b5be0>"
      ]
     },
     "execution_count": 53,
     "metadata": {},
     "output_type": "execute_result"
    }
   ],
   "source": [
    "model.fit(x_train, \n",
    "          y_train, \n",
    "          validation_data=(x_test, y_test), \n",
    "          epochs=100, \n",
    "          batch_size=128,\n",
    "          shuffle=True,\n",
    "          callbacks=callbacks_list)"
   ]
  },
  {
   "cell_type": "code",
   "execution_count": 54,
   "metadata": {},
   "outputs": [],
   "source": [
    "optmz       = optimizers.RMSprop(lr=0.0001)"
   ]
  },
  {
   "cell_type": "code",
   "execution_count": 55,
   "metadata": {},
   "outputs": [],
   "source": [
    "modelGo.load_weights(filepath)\n",
    "modelGo.compile(loss='categorical_crossentropy', \n",
    "                optimizer=optmz, \n",
    "                metrics=['accuracy'])"
   ]
  },
  {
   "cell_type": "code",
   "execution_count": 56,
   "metadata": {},
   "outputs": [],
   "source": [
    "# Make classification on the test dataset\n",
    "predicts    = modelGo.predict(x_test)\n",
    "\n",
    "# Prepare the classification output\n",
    "# for the classification report\n",
    "predout     = np.argmax(predicts,axis=1)\n",
    "testout     = np.argmax(y_test,axis=1)\n",
    "\n",
    "# the labels for the classfication report\n",
    "testScores  = metrics.accuracy_score(testout,predout)\n",
    "confusion   = metrics.confusion_matrix(testout,predout)"
   ]
  },
  {
   "cell_type": "code",
   "execution_count": 57,
   "metadata": {},
   "outputs": [
    {
     "name": "stdout",
     "output_type": "stream",
     "text": [
      "Best accuracy (on testing dataset): 60.56%\n",
      "              precision    recall  f1-score   support\n",
      "\n",
      "   Singapore     0.5503    0.4339    0.4852       378\n",
      "      Sports     0.6295    0.7345    0.6780       354\n",
      "   Lifestyle     0.5342    0.5285    0.5313       369\n",
      "       World     0.9110    0.8273    0.8672       359\n",
      "    Business     0.5297    0.5791    0.5533       354\n",
      "  Technology     0.5040    0.5405    0.5216       346\n",
      "\n",
      "    accuracy                         0.6056      2160\n",
      "   macro avg     0.6098    0.6073    0.6061      2160\n",
      "weighted avg     0.6097    0.6056    0.6052      2160\n",
      "\n",
      "[[164  20  40   3 102  49]\n",
      " [  3 260  35   9  15  32]\n",
      " [ 25  46 195   6  34  63]\n",
      " [  0  28  10 297  10  14]\n",
      " [ 58  30  31   4 205  26]\n",
      " [ 48  29  54   7  21 187]]\n"
     ]
    }
   ],
   "source": [
    "print(\"Best accuracy (on testing dataset): %.2f%%\" % (testScores*100))\n",
    "print(metrics.classification_report(testout,predout,target_names=category_mapping,digits=4))\n",
    "print(confusion)"
   ]
  },
  {
   "cell_type": "code",
   "execution_count": 58,
   "metadata": {},
   "outputs": [
    {
     "data": {
      "image/png": "[encoded data removed]",
      "text/plain": [
       "<Figure size 921.6x432 with 2 Axes>"
      ]
     },
     "metadata": {
      "needs_background": "light"
     },
     "output_type": "display_data"
    }
   ],
   "source": [
    "conf_matrix = confusion_matrix(testout, predout)\n",
    "plt.figure(figsize=(12.8,6))\n",
    "sns.heatmap(conf_matrix, \n",
    "            annot=True,\n",
    "            xticklabels=category_mapping, \n",
    "            yticklabels=category_mapping,\n",
    "            cmap=\"Greens\")\n",
    "plt.ylabel('Predicted')\n",
    "plt.xlabel('Actual')\n",
    "plt.title('Confusion matrix')\n",
    "plt.show()"
   ]
  }
 ],
 "metadata": {
  "kernelspec": {
   "display_name": "Python 3",
   "language": "python",
   "name": "python3"
  },
  "language_info": {
   "codemirror_mode": {
    "name": "ipython",
    "version": 3
   },
   "file_extension": ".py",
   "mimetype": "text/x-python",
   "name": "python",
   "nbconvert_exporter": "python",
   "pygments_lexer": "ipython3",
   "version": "3.7.0"
  }
 },
 "nbformat": 4,
 "nbformat_minor": 2
}
