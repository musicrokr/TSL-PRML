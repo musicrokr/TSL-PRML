{
 "cells": [
  {
   "cell_type": "code",
   "execution_count": null,
   "metadata": {},
   "outputs": [],
   "source": [
    "#Load Data Frame\n",
    "data_path = \"./Pickles/articles.pickle\"\n",
    "with open(data_path, 'rb') as data:\n",
    "    df = pickle.load(data)\n",
    "    \n",
    "#Training Features\n",
    "training_features_path = \"./Pickles/training_features.pickle\"\n",
    "with open(training_features_path, 'rb') as data:\n",
    "    training_features = pickle.load(data)\n",
    "    \n",
    "#Training Labels\n",
    "training_labels_path = \"./Pickles/training_labels.pickle\"\n",
    "with open(training_labels_path, 'rb') as data:\n",
    "    training_labels = pickle.load(data)\n",
    "    \n",
    "#Test Features\n",
    "test_features_path = \"./Pickles/test_features.pickle\"\n",
    "with open(test_features_path, 'rb') as data:\n",
    "    test_features = pickle.load(data)\n",
    "    \n",
    "#Test Labels\n",
    "test_labels_path = \"./Pickles/test_labels.pickle\"\n",
    "with open(test_labels_path, 'rb') as data:\n",
    "    test_labels = pickle.load(data)"
   ]
  },
  {
   "cell_type": "code",
   "execution_count": null,
   "metadata": {},
   "outputs": [],
   "source": [
    "with open('Models/decisionTree_best_model.pickle', 'wb') as output:\n",
    "    pickle.dump(best_lrc, output)\n",
    "    \n",
    "with open('Models/decisionTree_best_model_details.pickle', 'wb') as output:\n",
    "    pickle.dump(df_models_lrc, output)"
   ]
  }
 ],
 "metadata": {
  "kernelspec": {
   "display_name": "Python 3",
   "language": "python",
   "name": "python3"
  },
  "language_info": {
   "codemirror_mode": {
    "name": "ipython",
    "version": 3
   },
   "file_extension": ".py",
   "mimetype": "text/x-python",
   "name": "python",
   "nbconvert_exporter": "python",
   "pygments_lexer": "ipython3",
   "version": "3.7.0"
  }
 },
 "nbformat": 4,
 "nbformat_minor": 2
}
