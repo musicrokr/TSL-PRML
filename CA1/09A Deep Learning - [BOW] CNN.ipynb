{
 "cells": [
  {
   "cell_type": "code",
   "execution_count": 1,
   "metadata": {},
   "outputs": [],
   "source": [
    "import pickle\n",
    "import os\n",
    "import numpy as np\n",
    "import sklearn.metrics as metrics\n",
    "import matplotlib.pyplot as plt\n",
    "\n",
    "\n",
    "from tensorflow.keras.callbacks import ModelCheckpoint,CSVLogger\n",
    "from tensorflow.keras.layers import Activation, Conv1D, Dense, Embedding, Flatten, Input, MaxPooling1D,Dropout\n",
    "from tensorflow.keras.models import Sequential\n",
    "from tensorflow.keras.preprocessing.text import Tokenizer\n",
    "from tensorflow.keras.preprocessing.sequence import pad_sequences\n",
    "from sklearn.datasets import fetch_20newsgroups\n",
    "from sklearn.datasets.base import get_data_home\n",
    "from tensorflow.keras.metrics import categorical_accuracy\n",
    "from sklearn.model_selection import train_test_split\n",
    "from tensorflow.keras.preprocessing import text, sequence\n",
    "from sklearn.preprocessing import LabelBinarizer, LabelEncoder\n",
    "from tensorflow.keras import utils\n",
    "from tensorflow.keras.models import Model\n",
    "from tensorflow.keras import optimizers\n",
    "from sklearn.metrics import classification_report, confusion_matrix, accuracy_score\n",
    "\n",
    "import seaborn as sns\n",
    "\n",
    "from tensorflow.keras.callbacks import ModelCheckpoint,CSVLogger\n",
    "from tensorflow.keras.models import Model\n",
    "from tensorflow.keras.layers import Input\n",
    "from tensorflow.keras.layers import Dense\n",
    "from tensorflow.keras.layers import Flatten\n",
    "from tensorflow.keras.layers import Conv2D\n",
    "from tensorflow.keras.layers import Dropout\n",
    "from tensorflow.keras.layers import MaxPooling2D\n",
    "from tensorflow.keras.layers import BatchNormalization\n",
    "from tensorflow.keras.layers import Activation\n",
    "from tensorflow.keras.utils import to_categorical\n",
    "from tensorflow.keras.datasets import cifar10\n",
    "from tensorflow.keras import optimizers\n",
    "from tensorflow.keras import regularizers\n"
   ]
  },
  {
   "cell_type": "code",
   "execution_count": 2,
   "metadata": {},
   "outputs": [],
   "source": [
    "category_mapping = {\n",
    "    'Singapore': 1,\n",
    "    'Sports': 2,\n",
    "    'Lifestyle': 3,\n",
    "    'World': 4,\n",
    "    'Business': 5,\n",
    "    'Technology': 6\n",
    "}"
   ]
  },
  {
   "cell_type": "code",
   "execution_count": 3,
   "metadata": {},
   "outputs": [],
   "source": [
    "#Processed Data Frame [ Do Not Use this, Use the Training, Tesing and Validation Data Sets Instead]\n",
    "data_path = \"./Pickles/all_articles_processed.pickle\"\n",
    "with open(data_path, 'rb') as data:\n",
    "    df = pickle.load(data)"
   ]
  },
  {
   "cell_type": "code",
   "execution_count": 4,
   "metadata": {},
   "outputs": [],
   "source": [
    "df['category'].value_counts()\n",
    "df=df.sample(frac=1)"
   ]
  },
  {
   "cell_type": "code",
   "execution_count": 5,
   "metadata": {},
   "outputs": [
    {
     "name": "stdout",
     "output_type": "stream",
     "text": [
      "Train size: 5040\n",
      "Test size: 2160\n"
     ]
    }
   ],
   "source": [
    "train_size = int(len(df) * .7)\n",
    "print (\"Train size: %d\" % train_size)\n",
    "print (\"Test size: %d\" % (len(df) - train_size))"
   ]
  },
  {
   "cell_type": "code",
   "execution_count": 6,
   "metadata": {},
   "outputs": [],
   "source": [
    "train_posts = df['article'][:train_size]\n",
    "train_tags = df['category'][:train_size]\n",
    "\n",
    "test_posts = df['article'][train_size:]\n",
    "test_tags = df['category'][train_size:]"
   ]
  },
  {
   "cell_type": "code",
   "execution_count": 7,
   "metadata": {},
   "outputs": [
    {
     "data": {
      "text/plain": [
       "World         865\n",
       "Business      849\n",
       "Lifestyle     835\n",
       "Technology    834\n",
       "Singapore     830\n",
       "Sports        827\n",
       "Name: category, dtype: int64"
      ]
     },
     "execution_count": 7,
     "metadata": {},
     "output_type": "execute_result"
    }
   ],
   "source": [
    "train_tags.value_counts()"
   ]
  },
  {
   "cell_type": "code",
   "execution_count": 8,
   "metadata": {},
   "outputs": [
    {
     "data": {
      "text/plain": [
       "Sports        373\n",
       "Singapore     370\n",
       "Technology    366\n",
       "Lifestyle     365\n",
       "Business      351\n",
       "World         335\n",
       "Name: category, dtype: int64"
      ]
     },
     "execution_count": 8,
     "metadata": {},
     "output_type": "execute_result"
    }
   ],
   "source": [
    "test_tags.value_counts()"
   ]
  },
  {
   "cell_type": "code",
   "execution_count": 9,
   "metadata": {},
   "outputs": [],
   "source": [
    "max_words = 1000\n",
    "tokenize = text.Tokenizer(num_words=max_words, char_level=False)"
   ]
  },
  {
   "cell_type": "code",
   "execution_count": 10,
   "metadata": {},
   "outputs": [],
   "source": [
    "tokenize.fit_on_texts(train_posts) # only fit on train\n",
    "x_train = tokenize.texts_to_matrix(train_posts)\n",
    "x_test = tokenize.texts_to_matrix(test_posts)"
   ]
  },
  {
   "cell_type": "code",
   "execution_count": 11,
   "metadata": {},
   "outputs": [],
   "source": [
    "encoder = LabelEncoder()\n",
    "encoder.fit(train_tags)\n",
    "y_train = encoder.transform(train_tags)\n",
    "y_test = encoder.transform(test_tags)"
   ]
  },
  {
   "cell_type": "code",
   "execution_count": 12,
   "metadata": {},
   "outputs": [],
   "source": [
    "num_classes = np.max(y_train) + 1\n",
    "y_train = utils.to_categorical(y_train, num_classes)\n",
    "y_test = utils.to_categorical(y_test, num_classes)"
   ]
  },
  {
   "cell_type": "code",
   "execution_count": 13,
   "metadata": {},
   "outputs": [
    {
     "name": "stdout",
     "output_type": "stream",
     "text": [
      "x_train shape: (5040, 1000)\n",
      "x_test shape: (2160, 1000)\n",
      "y_train shape: (5040, 6)\n",
      "y_test shape: (2160, 6)\n"
     ]
    }
   ],
   "source": [
    "print('x_train shape:', x_train.shape)\n",
    "print('x_test shape:', x_test.shape)\n",
    "print('y_train shape:', y_train.shape)\n",
    "print('y_test shape:', y_test.shape)"
   ]
  },
  {
   "cell_type": "code",
   "execution_count": 14,
   "metadata": {},
   "outputs": [],
   "source": [
    "batch_size = 32\n",
    "epochs = 50"
   ]
  },
  {
   "cell_type": "code",
   "execution_count": 15,
   "metadata": {},
   "outputs": [],
   "source": [
    "def createModel():# Build the model\n",
    "    model = Sequential()\n",
    "    model.add(Dense(512, input_shape=(max_words,)))\n",
    "    model.add(Activation('relu'))\n",
    "    model.add(Dropout(0.5))\n",
    "    model.add(Dense(num_classes))\n",
    "    model.add(Activation('softmax'))    \n",
    "    model.compile(loss='binary_crossentropy',\n",
    "                  optimizer='adam',\n",
    "                  metrics=['accuracy'])\n",
    "    return model"
   ]
  },
  {
   "cell_type": "code",
   "execution_count": 16,
   "metadata": {},
   "outputs": [
    {
     "name": "stdout",
     "output_type": "stream",
     "text": [
      "Model: \"sequential\"\n",
      "_________________________________________________________________\n",
      "Layer (type)                 Output Shape              Param #   \n",
      "=================================================================\n",
      "dense (Dense)                (None, 512)               512512    \n",
      "_________________________________________________________________\n",
      "activation (Activation)      (None, 512)               0         \n",
      "_________________________________________________________________\n",
      "dropout (Dropout)            (None, 512)               0         \n",
      "_________________________________________________________________\n",
      "dense_1 (Dense)              (None, 6)                 3078      \n",
      "_________________________________________________________________\n",
      "activation_1 (Activation)    (None, 6)                 0         \n",
      "=================================================================\n",
      "Total params: 515,590\n",
      "Trainable params: 515,590\n",
      "Non-trainable params: 0\n",
      "_________________________________________________________________\n"
     ]
    }
   ],
   "source": [
    "model       = createModel() # This is meant for training\n",
    "modelGo     = createModel() # This is used for final testing\n",
    "\n",
    "model.summary()"
   ]
  },
  {
   "cell_type": "code",
   "execution_count": 17,
   "metadata": {},
   "outputs": [],
   "source": [
    "modelname   = 'bow_cnn'\n",
    "filepath        = modelname + \".hdf5\"\n",
    "checkpoint      = ModelCheckpoint(filepath, \n",
    "                                  monitor='val_accuracy', \n",
    "                                  verbose=0, \n",
    "                                  save_best_only=True, \n",
    "                                  mode='max')\n",
    "\n",
    "                            # Log the epoch detail into csv\n",
    "csv_logger      = CSVLogger(modelname +'.csv')\n",
    "callbacks_list  = [checkpoint,csv_logger]"
   ]
  },
  {
   "cell_type": "code",
   "execution_count": 18,
   "metadata": {},
   "outputs": [
    {
     "name": "stderr",
     "output_type": "stream",
     "text": [
      "WARNING: Logging before flag parsing goes to stderr.\n",
      "W0917 21:16:18.403352 14092 deprecation.py:323] From C:\\Users\\darry\\AppData\\Roaming\\Python\\Python37\\site-packages\\tensorflow_core\\python\\ops\\math_grad.py:1394: where (from tensorflow.python.ops.array_ops) is deprecated and will be removed in a future version.\n",
      "Instructions for updating:\n",
      "Use tf.where in 2.0, which has the same broadcast rule as np.where\n"
     ]
    },
    {
     "name": "stdout",
     "output_type": "stream",
     "text": [
      "Train on 5040 samples, validate on 2160 samples\n",
      "Epoch 1/100\n",
      "5040/5040 [==============================] - 1s 151us/sample - loss: 0.2777 - accuracy: 0.8859 - val_loss: 0.1954 - val_accuracy: 0.9237\n",
      "Epoch 2/100\n",
      "5040/5040 [==============================] - 0s 35us/sample - loss: 0.1545 - accuracy: 0.9404 - val_loss: 0.1751 - val_accuracy: 0.9318\n",
      "Epoch 3/100\n",
      "5040/5040 [==============================] - 0s 35us/sample - loss: 0.1186 - accuracy: 0.9553 - val_loss: 0.1703 - val_accuracy: 0.9351\n",
      "Epoch 4/100\n",
      "5040/5040 [==============================] - 0s 32us/sample - loss: 0.0947 - accuracy: 0.9650 - val_loss: 0.1724 - val_accuracy: 0.9346\n",
      "Epoch 5/100\n",
      "5040/5040 [==============================] - 0s 34us/sample - loss: 0.0776 - accuracy: 0.9724 - val_loss: 0.1751 - val_accuracy: 0.9369\n",
      "Epoch 6/100\n",
      "5040/5040 [==============================] - 0s 32us/sample - loss: 0.0635 - accuracy: 0.9788 - val_loss: 0.1859 - val_accuracy: 0.9326\n",
      "Epoch 7/100\n",
      "5040/5040 [==============================] - 0s 31us/sample - loss: 0.0554 - accuracy: 0.9813 - val_loss: 0.1873 - val_accuracy: 0.9346\n",
      "Epoch 8/100\n",
      "5040/5040 [==============================] - 0s 31us/sample - loss: 0.0473 - accuracy: 0.9856 - val_loss: 0.1933 - val_accuracy: 0.9347\n",
      "Epoch 9/100\n",
      "5040/5040 [==============================] - 0s 31us/sample - loss: 0.0410 - accuracy: 0.9877 - val_loss: 0.2003 - val_accuracy: 0.9337\n",
      "Epoch 10/100\n",
      "5040/5040 [==============================] - 0s 31us/sample - loss: 0.0382 - accuracy: 0.9889 - val_loss: 0.2020 - val_accuracy: 0.9353\n",
      "Epoch 11/100\n",
      "5040/5040 [==============================] - 0s 31us/sample - loss: 0.0343 - accuracy: 0.9896 - val_loss: 0.2069 - val_accuracy: 0.9336\n",
      "Epoch 12/100\n",
      "5040/5040 [==============================] - 0s 31us/sample - loss: 0.0325 - accuracy: 0.9896 - val_loss: 0.2116 - val_accuracy: 0.9353\n",
      "Epoch 13/100\n",
      "5040/5040 [==============================] - 0s 31us/sample - loss: 0.0285 - accuracy: 0.9912 - val_loss: 0.2203 - val_accuracy: 0.9337\n",
      "Epoch 14/100\n",
      "5040/5040 [==============================] - 0s 31us/sample - loss: 0.0287 - accuracy: 0.9906 - val_loss: 0.2202 - val_accuracy: 0.9356\n",
      "Epoch 15/100\n",
      "5040/5040 [==============================] - 0s 31us/sample - loss: 0.0277 - accuracy: 0.9912 - val_loss: 0.2231 - val_accuracy: 0.9346\n",
      "Epoch 16/100\n",
      "5040/5040 [==============================] - 0s 32us/sample - loss: 0.0257 - accuracy: 0.9914 - val_loss: 0.2286 - val_accuracy: 0.9344\n",
      "Epoch 17/100\n",
      "5040/5040 [==============================] - 0s 31us/sample - loss: 0.0234 - accuracy: 0.9919 - val_loss: 0.2329 - val_accuracy: 0.9326\n",
      "Epoch 18/100\n",
      "5040/5040 [==============================] - 0s 31us/sample - loss: 0.0235 - accuracy: 0.9915 - val_loss: 0.2361 - val_accuracy: 0.9338\n",
      "Epoch 19/100\n",
      "5040/5040 [==============================] - 0s 31us/sample - loss: 0.0236 - accuracy: 0.9920 - val_loss: 0.2369 - val_accuracy: 0.9329\n",
      "Epoch 20/100\n",
      "5040/5040 [==============================] - 0s 31us/sample - loss: 0.0249 - accuracy: 0.9910 - val_loss: 0.2377 - val_accuracy: 0.9319\n",
      "Epoch 21/100\n",
      "5040/5040 [==============================] - 0s 31us/sample - loss: 0.0228 - accuracy: 0.9919 - val_loss: 0.2395 - val_accuracy: 0.9323\n",
      "Epoch 22/100\n",
      "5040/5040 [==============================] - 0s 31us/sample - loss: 0.0208 - accuracy: 0.9925 - val_loss: 0.2447 - val_accuracy: 0.9329\n",
      "Epoch 23/100\n",
      "5040/5040 [==============================] - 0s 31us/sample - loss: 0.0238 - accuracy: 0.9914 - val_loss: 0.2537 - val_accuracy: 0.9305\n",
      "Epoch 24/100\n",
      "5040/5040 [==============================] - 0s 32us/sample - loss: 0.0227 - accuracy: 0.9918 - val_loss: 0.2431 - val_accuracy: 0.9348\n",
      "Epoch 25/100\n",
      "5040/5040 [==============================] - 0s 32us/sample - loss: 0.0203 - accuracy: 0.9927 - val_loss: 0.2481 - val_accuracy: 0.9336\n",
      "Epoch 26/100\n",
      "5040/5040 [==============================] - 0s 31us/sample - loss: 0.0232 - accuracy: 0.9914 - val_loss: 0.2489 - val_accuracy: 0.9336\n",
      "Epoch 27/100\n",
      "5040/5040 [==============================] - 0s 31us/sample - loss: 0.0223 - accuracy: 0.9912 - val_loss: 0.2512 - val_accuracy: 0.9332\n",
      "Epoch 28/100\n",
      "5040/5040 [==============================] - 0s 32us/sample - loss: 0.0224 - accuracy: 0.9922 - val_loss: 0.2517 - val_accuracy: 0.9332\n",
      "Epoch 29/100\n",
      "5040/5040 [==============================] - 0s 31us/sample - loss: 0.0202 - accuracy: 0.9925 - val_loss: 0.2543 - val_accuracy: 0.9317\n",
      "Epoch 30/100\n",
      "5040/5040 [==============================] - 0s 32us/sample - loss: 0.0208 - accuracy: 0.9920 - val_loss: 0.2588 - val_accuracy: 0.9344\n",
      "Epoch 31/100\n",
      "5040/5040 [==============================] - 0s 32us/sample - loss: 0.0210 - accuracy: 0.9920 - val_loss: 0.2568 - val_accuracy: 0.9339\n",
      "Epoch 32/100\n",
      "5040/5040 [==============================] - 0s 31us/sample - loss: 0.0227 - accuracy: 0.9914 - val_loss: 0.2535 - val_accuracy: 0.9335\n",
      "Epoch 33/100\n",
      "5040/5040 [==============================] - 0s 32us/sample - loss: 0.0193 - accuracy: 0.9917 - val_loss: 0.2610 - val_accuracy: 0.9336\n",
      "Epoch 34/100\n",
      "5040/5040 [==============================] - 0s 31us/sample - loss: 0.0212 - accuracy: 0.9913 - val_loss: 0.2546 - val_accuracy: 0.9355\n",
      "Epoch 35/100\n",
      "5040/5040 [==============================] - 0s 31us/sample - loss: 0.0191 - accuracy: 0.9923 - val_loss: 0.2596 - val_accuracy: 0.9331\n",
      "Epoch 36/100\n",
      "5040/5040 [==============================] - 0s 32us/sample - loss: 0.0205 - accuracy: 0.9924 - val_loss: 0.2589 - val_accuracy: 0.9336\n",
      "Epoch 37/100\n",
      "5040/5040 [==============================] - 0s 31us/sample - loss: 0.0180 - accuracy: 0.9933 - val_loss: 0.2647 - val_accuracy: 0.9338\n",
      "Epoch 38/100\n",
      "5040/5040 [==============================] - 0s 31us/sample - loss: 0.0181 - accuracy: 0.9929 - val_loss: 0.2653 - val_accuracy: 0.9346\n",
      "Epoch 39/100\n",
      "5040/5040 [==============================] - 0s 31us/sample - loss: 0.0179 - accuracy: 0.9928 - val_loss: 0.2719 - val_accuracy: 0.9335\n",
      "Epoch 40/100\n",
      "5040/5040 [==============================] - 0s 31us/sample - loss: 0.0203 - accuracy: 0.9921 - val_loss: 0.2691 - val_accuracy: 0.9339\n",
      "Epoch 41/100\n",
      "5040/5040 [==============================] - 0s 31us/sample - loss: 0.0198 - accuracy: 0.9920 - val_loss: 0.2660 - val_accuracy: 0.9335\n",
      "Epoch 42/100\n",
      "5040/5040 [==============================] - 0s 31us/sample - loss: 0.0192 - accuracy: 0.9920 - val_loss: 0.2669 - val_accuracy: 0.9336\n",
      "Epoch 43/100\n",
      "5040/5040 [==============================] - 0s 32us/sample - loss: 0.0181 - accuracy: 0.9924 - val_loss: 0.2709 - val_accuracy: 0.9346\n",
      "Epoch 44/100\n",
      "5040/5040 [==============================] - 0s 31us/sample - loss: 0.0206 - accuracy: 0.9919 - val_loss: 0.2719 - val_accuracy: 0.9331\n",
      "Epoch 45/100\n",
      "5040/5040 [==============================] - 0s 31us/sample - loss: 0.0195 - accuracy: 0.9921 - val_loss: 0.2711 - val_accuracy: 0.9314\n",
      "Epoch 46/100\n",
      "5040/5040 [==============================] - 0s 31us/sample - loss: 0.0196 - accuracy: 0.9925 - val_loss: 0.2706 - val_accuracy: 0.9322\n",
      "Epoch 47/100\n",
      "5040/5040 [==============================] - 0s 31us/sample - loss: 0.0214 - accuracy: 0.9919 - val_loss: 0.2710 - val_accuracy: 0.9330\n",
      "Epoch 48/100\n",
      "5040/5040 [==============================] - 0s 31us/sample - loss: 0.0184 - accuracy: 0.9925 - val_loss: 0.2705 - val_accuracy: 0.9337\n",
      "Epoch 49/100\n",
      "5040/5040 [==============================] - 0s 31us/sample - loss: 0.0196 - accuracy: 0.9919 - val_loss: 0.2687 - val_accuracy: 0.9333\n",
      "Epoch 50/100\n",
      "5040/5040 [==============================] - 0s 31us/sample - loss: 0.0192 - accuracy: 0.9926 - val_loss: 0.2758 - val_accuracy: 0.9312\n",
      "Epoch 51/100\n",
      "5040/5040 [==============================] - 0s 31us/sample - loss: 0.0196 - accuracy: 0.9925 - val_loss: 0.2713 - val_accuracy: 0.9316\n",
      "Epoch 52/100\n",
      "5040/5040 [==============================] - 0s 31us/sample - loss: 0.0175 - accuracy: 0.9926 - val_loss: 0.2741 - val_accuracy: 0.9308\n",
      "Epoch 53/100\n",
      "5040/5040 [==============================] - 0s 31us/sample - loss: 0.0186 - accuracy: 0.9925 - val_loss: 0.2783 - val_accuracy: 0.9316\n",
      "Epoch 54/100\n",
      "5040/5040 [==============================] - 0s 31us/sample - loss: 0.0178 - accuracy: 0.9928 - val_loss: 0.2790 - val_accuracy: 0.9337\n",
      "Epoch 55/100\n",
      "5040/5040 [==============================] - 0s 32us/sample - loss: 0.0173 - accuracy: 0.9929 - val_loss: 0.2793 - val_accuracy: 0.9326\n"
     ]
    },
    {
     "name": "stdout",
     "output_type": "stream",
     "text": [
      "Epoch 56/100\n",
      "5040/5040 [==============================] - 0s 31us/sample - loss: 0.0176 - accuracy: 0.9916 - val_loss: 0.2778 - val_accuracy: 0.9333\n",
      "Epoch 57/100\n",
      "5040/5040 [==============================] - 0s 31us/sample - loss: 0.0197 - accuracy: 0.9918 - val_loss: 0.2736 - val_accuracy: 0.9335\n",
      "Epoch 58/100\n",
      "5040/5040 [==============================] - 0s 31us/sample - loss: 0.0186 - accuracy: 0.9918 - val_loss: 0.2792 - val_accuracy: 0.9327\n",
      "Epoch 59/100\n",
      "5040/5040 [==============================] - 0s 31us/sample - loss: 0.0178 - accuracy: 0.9922 - val_loss: 0.2823 - val_accuracy: 0.9329\n",
      "Epoch 60/100\n",
      "5040/5040 [==============================] - 0s 31us/sample - loss: 0.0196 - accuracy: 0.9916 - val_loss: 0.2792 - val_accuracy: 0.9322\n",
      "Epoch 61/100\n",
      "5040/5040 [==============================] - 0s 31us/sample - loss: 0.0188 - accuracy: 0.9926 - val_loss: 0.2764 - val_accuracy: 0.9327\n",
      "Epoch 62/100\n",
      "5040/5040 [==============================] - 0s 31us/sample - loss: 0.0201 - accuracy: 0.9911 - val_loss: 0.2747 - val_accuracy: 0.9330\n",
      "Epoch 63/100\n",
      "5040/5040 [==============================] - 0s 31us/sample - loss: 0.0175 - accuracy: 0.9924 - val_loss: 0.2789 - val_accuracy: 0.9332\n",
      "Epoch 64/100\n",
      "5040/5040 [==============================] - 0s 31us/sample - loss: 0.0184 - accuracy: 0.9918 - val_loss: 0.2806 - val_accuracy: 0.9324\n",
      "Epoch 65/100\n",
      "5040/5040 [==============================] - 0s 31us/sample - loss: 0.0176 - accuracy: 0.9922 - val_loss: 0.2812 - val_accuracy: 0.9336\n",
      "Epoch 66/100\n",
      "5040/5040 [==============================] - 0s 31us/sample - loss: 0.0173 - accuracy: 0.9921 - val_loss: 0.2859 - val_accuracy: 0.9320\n",
      "Epoch 67/100\n",
      "5040/5040 [==============================] - 0s 31us/sample - loss: 0.0170 - accuracy: 0.9927 - val_loss: 0.2914 - val_accuracy: 0.9323\n",
      "Epoch 68/100\n",
      "5040/5040 [==============================] - 0s 31us/sample - loss: 0.0171 - accuracy: 0.9923 - val_loss: 0.2846 - val_accuracy: 0.9329\n",
      "Epoch 69/100\n",
      "5040/5040 [==============================] - 0s 31us/sample - loss: 0.0165 - accuracy: 0.9926 - val_loss: 0.2858 - val_accuracy: 0.9316\n",
      "Epoch 70/100\n",
      "5040/5040 [==============================] - 0s 31us/sample - loss: 0.0173 - accuracy: 0.9920 - val_loss: 0.2857 - val_accuracy: 0.9326\n",
      "Epoch 71/100\n",
      "5040/5040 [==============================] - 0s 31us/sample - loss: 0.0175 - accuracy: 0.9919 - val_loss: 0.2881 - val_accuracy: 0.9316\n",
      "Epoch 72/100\n",
      "5040/5040 [==============================] - 0s 31us/sample - loss: 0.0170 - accuracy: 0.9925 - val_loss: 0.2859 - val_accuracy: 0.9327\n",
      "Epoch 73/100\n",
      "5040/5040 [==============================] - 0s 31us/sample - loss: 0.0170 - accuracy: 0.9920 - val_loss: 0.2860 - val_accuracy: 0.9336\n",
      "Epoch 74/100\n",
      "5040/5040 [==============================] - 0s 31us/sample - loss: 0.0143 - accuracy: 0.9934 - val_loss: 0.2921 - val_accuracy: 0.9327\n",
      "Epoch 75/100\n",
      "5040/5040 [==============================] - 0s 31us/sample - loss: 0.0175 - accuracy: 0.9916 - val_loss: 0.2907 - val_accuracy: 0.9312\n",
      "Epoch 76/100\n",
      "5040/5040 [==============================] - 0s 31us/sample - loss: 0.0162 - accuracy: 0.9925 - val_loss: 0.2907 - val_accuracy: 0.9331\n",
      "Epoch 77/100\n",
      "5040/5040 [==============================] - 0s 31us/sample - loss: 0.0162 - accuracy: 0.9916 - val_loss: 0.2929 - val_accuracy: 0.9333\n",
      "Epoch 78/100\n",
      "5040/5040 [==============================] - 0s 31us/sample - loss: 0.0163 - accuracy: 0.9925 - val_loss: 0.2926 - val_accuracy: 0.9343\n",
      "Epoch 79/100\n",
      "5040/5040 [==============================] - 0s 31us/sample - loss: 0.0158 - accuracy: 0.9927 - val_loss: 0.2964 - val_accuracy: 0.9325\n",
      "Epoch 80/100\n",
      "5040/5040 [==============================] - 0s 31us/sample - loss: 0.0181 - accuracy: 0.9922 - val_loss: 0.2923 - val_accuracy: 0.9329\n",
      "Epoch 81/100\n",
      "5040/5040 [==============================] - 0s 31us/sample - loss: 0.0158 - accuracy: 0.9928 - val_loss: 0.2963 - val_accuracy: 0.9327\n",
      "Epoch 82/100\n",
      "5040/5040 [==============================] - 0s 31us/sample - loss: 0.0162 - accuracy: 0.9923 - val_loss: 0.2947 - val_accuracy: 0.9321\n",
      "Epoch 83/100\n",
      "5040/5040 [==============================] - 0s 31us/sample - loss: 0.0172 - accuracy: 0.9926 - val_loss: 0.2956 - val_accuracy: 0.9332\n",
      "Epoch 84/100\n",
      "5040/5040 [==============================] - 0s 31us/sample - loss: 0.0165 - accuracy: 0.9922 - val_loss: 0.2971 - val_accuracy: 0.9332\n",
      "Epoch 85/100\n",
      "5040/5040 [==============================] - 0s 31us/sample - loss: 0.0151 - accuracy: 0.9925 - val_loss: 0.2964 - val_accuracy: 0.9329\n",
      "Epoch 86/100\n",
      "5040/5040 [==============================] - 0s 31us/sample - loss: 0.0157 - accuracy: 0.9927 - val_loss: 0.2978 - val_accuracy: 0.9319\n",
      "Epoch 87/100\n",
      "5040/5040 [==============================] - 0s 31us/sample - loss: 0.0146 - accuracy: 0.9931 - val_loss: 0.2975 - val_accuracy: 0.9329\n",
      "Epoch 88/100\n",
      "5040/5040 [==============================] - 0s 32us/sample - loss: 0.0153 - accuracy: 0.9923 - val_loss: 0.2992 - val_accuracy: 0.9332\n",
      "Epoch 89/100\n",
      "5040/5040 [==============================] - 0s 31us/sample - loss: 0.0143 - accuracy: 0.9932 - val_loss: 0.2998 - val_accuracy: 0.9329\n",
      "Epoch 90/100\n",
      "5040/5040 [==============================] - 0s 31us/sample - loss: 0.0143 - accuracy: 0.9931 - val_loss: 0.3069 - val_accuracy: 0.9319\n",
      "Epoch 91/100\n",
      "5040/5040 [==============================] - 0s 31us/sample - loss: 0.0170 - accuracy: 0.9923 - val_loss: 0.3048 - val_accuracy: 0.9319\n",
      "Epoch 92/100\n",
      "5040/5040 [==============================] - 0s 31us/sample - loss: 0.0154 - accuracy: 0.9926 - val_loss: 0.3076 - val_accuracy: 0.9319\n",
      "Epoch 93/100\n",
      "5040/5040 [==============================] - 0s 31us/sample - loss: 0.0147 - accuracy: 0.9928 - val_loss: 0.3045 - val_accuracy: 0.9325\n",
      "Epoch 94/100\n",
      "5040/5040 [==============================] - 0s 31us/sample - loss: 0.0151 - accuracy: 0.9925 - val_loss: 0.3071 - val_accuracy: 0.9333\n",
      "Epoch 95/100\n",
      "5040/5040 [==============================] - 0s 31us/sample - loss: 0.0155 - accuracy: 0.9916 - val_loss: 0.3080 - val_accuracy: 0.9323\n",
      "Epoch 96/100\n",
      "5040/5040 [==============================] - 0s 31us/sample - loss: 0.0160 - accuracy: 0.9921 - val_loss: 0.3052 - val_accuracy: 0.9319\n",
      "Epoch 97/100\n",
      "5040/5040 [==============================] - 0s 31us/sample - loss: 0.0154 - accuracy: 0.9926 - val_loss: 0.2992 - val_accuracy: 0.9336\n",
      "Epoch 98/100\n",
      "5040/5040 [==============================] - 0s 31us/sample - loss: 0.0165 - accuracy: 0.9918 - val_loss: 0.3014 - val_accuracy: 0.9337\n",
      "Epoch 99/100\n",
      "5040/5040 [==============================] - 0s 31us/sample - loss: 0.0156 - accuracy: 0.9919 - val_loss: 0.3021 - val_accuracy: 0.9318\n",
      "Epoch 100/100\n",
      "5040/5040 [==============================] - 0s 31us/sample - loss: 0.0160 - accuracy: 0.9923 - val_loss: 0.3069 - val_accuracy: 0.9325\n"
     ]
    },
    {
     "data": {
      "text/plain": [
       "<tensorflow.python.keras.callbacks.History at 0x1ee093580f0>"
      ]
     },
     "execution_count": 18,
     "metadata": {},
     "output_type": "execute_result"
    }
   ],
   "source": [
    "model.fit(x_train, \n",
    "          y_train, \n",
    "          validation_data=(x_test, y_test), \n",
    "          epochs=100, \n",
    "          batch_size=128,\n",
    "          shuffle=True,\n",
    "          callbacks=callbacks_list)"
   ]
  },
  {
   "cell_type": "code",
   "execution_count": 19,
   "metadata": {},
   "outputs": [],
   "source": [
    "optmz       = optimizers.RMSprop(lr=0.0001)"
   ]
  },
  {
   "cell_type": "code",
   "execution_count": 20,
   "metadata": {},
   "outputs": [],
   "source": [
    "modelGo.load_weights(filepath)\n",
    "modelGo.compile(loss='categorical_crossentropy', \n",
    "                optimizer=optmz, \n",
    "                metrics=['accuracy'])"
   ]
  },
  {
   "cell_type": "code",
   "execution_count": 21,
   "metadata": {},
   "outputs": [],
   "source": [
    "# Make classification on the test dataset\n",
    "predicts    = modelGo.predict(x_test)\n",
    "\n",
    "# Prepare the classification output\n",
    "# for the classification report\n",
    "predout     = np.argmax(predicts,axis=1)\n",
    "testout     = np.argmax(y_test,axis=1)\n",
    "\n",
    "# the labels for the classfication report\n",
    "testScores  = metrics.accuracy_score(testout,predout)\n",
    "confusion   = metrics.confusion_matrix(testout,predout)"
   ]
  },
  {
   "cell_type": "code",
   "execution_count": 22,
   "metadata": {},
   "outputs": [
    {
     "name": "stdout",
     "output_type": "stream",
     "text": [
      "Best accuracy (on testing dataset): 80.46%\n",
      "              precision    recall  f1-score   support\n",
      "\n",
      "   Singapore     0.6764    0.6610    0.6686       351\n",
      "      Sports     0.8725    0.8247    0.8479       365\n",
      "   Lifestyle     0.8306    0.8081    0.8192       370\n",
      "       World     0.9588    0.9357    0.9471       373\n",
      "    Business     0.7512    0.8251    0.7865       366\n",
      "  Technology     0.7370    0.7612    0.7489       335\n",
      "\n",
      "    accuracy                         0.8046      2160\n",
      "   macro avg     0.8044    0.8026    0.8030      2160\n",
      "weighted avg     0.8068    0.8046    0.8052      2160\n",
      "\n",
      "[[232   5  21   1  53  39]\n",
      " [ 11 301  13   3  18  19]\n",
      " [ 23  16 299   4  15  13]\n",
      " [  1   3   4 349   0  16]\n",
      " [ 35  10  14   1 302   4]\n",
      " [ 41  10   9   6  14 255]]\n"
     ]
    }
   ],
   "source": [
    "print(\"Best accuracy (on testing dataset): %.2f%%\" % (testScores*100))\n",
    "print(metrics.classification_report(testout,predout,target_names=category_mapping,digits=4))\n",
    "print(confusion)"
   ]
  },
  {
   "cell_type": "code",
   "execution_count": 23,
   "metadata": {},
   "outputs": [
    {
     "data": {
      "image/png": "[encoded data removed]",
      "text/plain": [
       "<Figure size 921.6x432 with 2 Axes>"
      ]
     },
     "metadata": {
      "needs_background": "light"
     },
     "output_type": "display_data"
    }
   ],
   "source": [
    "conf_matrix = confusion_matrix(testout, predout)\n",
    "plt.figure(figsize=(12.8,6))\n",
    "sns.heatmap(conf_matrix, \n",
    "            annot=True,\n",
    "            xticklabels=category_mapping, \n",
    "            yticklabels=category_mapping,\n",
    "            cmap=\"Greens\")\n",
    "plt.ylabel('Predicted')\n",
    "plt.xlabel('Actual')\n",
    "plt.title('Confusion matrix')\n",
    "plt.show()"
   ]
  },
  {
   "cell_type": "code",
   "execution_count": 24,
   "metadata": {},
   "outputs": [
    {
     "data": {
      "image/png": "[encoded data removed]",
      "text/plain": [
       "<Figure size 432x288 with 1 Axes>"
      ]
     },
     "metadata": {
      "needs_background": "light"
     },
     "output_type": "display_data"
    }
   ],
   "source": [
    "import pandas as pd\n",
    "\n",
    "records     = pd.read_csv(modelname +'.csv')\n",
    "plt.figure()\n",
    "plt.subplot(211)\n",
    "plt.plot(records['val_loss'], label='train')\n",
    "plt.plot(records['loss'], label='test')\n",
    "plt.yticks([0,0.20,0.40,0.60,0.80,1.00])\n",
    "plt.title('Loss value',fontsize=12)\n",
    "plt.legend()\n",
    "plt.show()"
   ]
  },
  {
   "cell_type": "code",
   "execution_count": 27,
   "metadata": {},
   "outputs": [
    {
     "data": {
      "image/png": "[encoded data removed]",
      "text/plain": [
       "<Figure size 432x288 with 1 Axes>"
      ]
     },
     "metadata": {
      "needs_background": "light"
     },
     "output_type": "display_data"
    }
   ],
   "source": [
    "plt.subplot(212)\n",
    "plt.plot(records['val_accuracy'], label='train')\n",
    "plt.plot(records['accuracy'], label='test')\n",
    "plt.yticks([0.6,0.7,0.8,0.9,1.0])\n",
    "plt.title('Accuracy',fontsize=12)\n",
    "plt.legend()\n",
    "plt.show()"
   ]
  },
  {
   "cell_type": "code",
   "execution_count": null,
   "metadata": {},
   "outputs": [],
   "source": []
  }
 ],
 "metadata": {
  "kernelspec": {
   "display_name": "Python 3",
   "language": "python",
   "name": "python3"
  },
  "language_info": {
   "codemirror_mode": {
    "name": "ipython",
    "version": 3
   },
   "file_extension": ".py",
   "mimetype": "text/x-python",
   "name": "python",
   "nbconvert_exporter": "python",
   "pygments_lexer": "ipython3",
   "version": "3.7.3"
  }
 },
 "nbformat": 4,
 "nbformat_minor": 2
}
