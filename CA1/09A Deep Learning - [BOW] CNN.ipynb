{
 "cells": [
  {
   "cell_type": "code",
   "execution_count": 24,
   "metadata": {},
   "outputs": [],
   "source": [
    "import pickle\n",
    "import os\n",
    "import numpy as np\n",
    "import sklearn.metrics as metrics\n",
    "import matplotlib.pyplot as plt\n",
    "import seaborn as sns\n",
    "\n",
    "\n",
    "from tensorflow.keras.callbacks import ModelCheckpoint,CSVLogger\n",
    "from tensorflow.keras.layers import Activation, Conv1D, Dense, Embedding, Flatten, Input, MaxPooling1D,Dropout\n",
    "from tensorflow.keras.models import Sequential\n",
    "from tensorflow.keras.preprocessing.text import Tokenizer\n",
    "from tensorflow.keras.preprocessing.sequence import pad_sequences\n",
    "from sklearn.datasets import fetch_20newsgroups\n",
    "from sklearn.datasets.base import get_data_home\n",
    "from tensorflow.keras.metrics import categorical_accuracy\n",
    "from sklearn.model_selection import train_test_split\n",
    "from tensorflow.keras.preprocessing import text, sequence\n",
    "from sklearn.preprocessing import LabelBinarizer, LabelEncoder\n",
    "from tensorflow.keras import utils\n",
    "from tensorflow.keras.models import Model\n",
    "from tensorflow.keras import optimizers\n",
    "from sklearn.metrics import classification_report, confusion_matrix, accuracy_score"
   ]
  },
  {
   "cell_type": "code",
   "execution_count": 25,
   "metadata": {},
   "outputs": [],
   "source": [
    "category_mapping = {\n",
    "    'Singapore': 1,\n",
    "    'Sports': 2,\n",
    "    'Lifestyle': 3,\n",
    "    'World': 4,\n",
    "    'Business': 5,\n",
    "    'Technology': 6\n",
    "}"
   ]
  },
  {
   "cell_type": "code",
   "execution_count": 26,
   "metadata": {},
   "outputs": [],
   "source": [
    "#Processed Data Frame [ Do Not Use this, Use the Training, Tesing and Validation Data Sets Instead]\n",
    "data_path = \"./Pickles/all_articles_processed.pickle\"\n",
    "with open(data_path, 'rb') as data:\n",
    "    df = pickle.load(data)"
   ]
  },
  {
   "cell_type": "code",
   "execution_count": 27,
   "metadata": {},
   "outputs": [],
   "source": [
    "df['category'].value_counts()\n",
    "df=df.sample(frac=1)"
   ]
  },
  {
   "cell_type": "code",
   "execution_count": 28,
   "metadata": {},
   "outputs": [
    {
     "name": "stdout",
     "output_type": "stream",
     "text": [
      "Train size: 5040\n",
      "Test size: 2160\n"
     ]
    }
   ],
   "source": [
    "train_size = int(len(df) * .7)\n",
    "print (\"Train size: %d\" % train_size)\n",
    "print (\"Test size: %d\" % (len(df) - train_size))"
   ]
  },
  {
   "cell_type": "code",
   "execution_count": 29,
   "metadata": {},
   "outputs": [],
   "source": [
    "train_posts = df['article'][:train_size]\n",
    "train_tags = df['category'][:train_size]\n",
    "\n",
    "test_posts = df['article'][train_size:]\n",
    "test_tags = df['category'][train_size:]"
   ]
  },
  {
   "cell_type": "code",
   "execution_count": 30,
   "metadata": {},
   "outputs": [
    {
     "data": {
      "text/plain": [
       "Sports        873\n",
       "Singapore     842\n",
       "World         839\n",
       "Lifestyle     836\n",
       "Business      830\n",
       "Technology    820\n",
       "Name: category, dtype: int64"
      ]
     },
     "execution_count": 30,
     "metadata": {},
     "output_type": "execute_result"
    }
   ],
   "source": [
    "train_tags.value_counts()"
   ]
  },
  {
   "cell_type": "code",
   "execution_count": 31,
   "metadata": {},
   "outputs": [
    {
     "data": {
      "text/plain": [
       "Technology    380\n",
       "Business      370\n",
       "Lifestyle     364\n",
       "World         361\n",
       "Singapore     358\n",
       "Sports        327\n",
       "Name: category, dtype: int64"
      ]
     },
     "execution_count": 31,
     "metadata": {},
     "output_type": "execute_result"
    }
   ],
   "source": [
    "test_tags.value_counts()"
   ]
  },
  {
   "cell_type": "code",
   "execution_count": 32,
   "metadata": {},
   "outputs": [],
   "source": [
    "max_words = 1000\n",
    "tokenize = text.Tokenizer(num_words=max_words, char_level=False)"
   ]
  },
  {
   "cell_type": "code",
   "execution_count": 33,
   "metadata": {},
   "outputs": [],
   "source": [
    "tokenize.fit_on_texts(train_posts) # only fit on train\n",
    "x_train = tokenize.texts_to_matrix(train_posts)\n",
    "x_test = tokenize.texts_to_matrix(test_posts)"
   ]
  },
  {
   "cell_type": "code",
   "execution_count": 34,
   "metadata": {},
   "outputs": [],
   "source": [
    "encoder = LabelEncoder()\n",
    "encoder.fit(train_tags)\n",
    "y_train = encoder.transform(train_tags)\n",
    "y_test = encoder.transform(test_tags)"
   ]
  },
  {
   "cell_type": "code",
   "execution_count": 35,
   "metadata": {},
   "outputs": [],
   "source": [
    "num_classes = np.max(y_train) + 1\n",
    "y_train = utils.to_categorical(y_train, num_classes)\n",
    "y_test = utils.to_categorical(y_test, num_classes)"
   ]
  },
  {
   "cell_type": "code",
   "execution_count": 36,
   "metadata": {},
   "outputs": [
    {
     "name": "stdout",
     "output_type": "stream",
     "text": [
      "x_train shape: (5040, 1000)\n",
      "x_test shape: (2160, 1000)\n",
      "y_train shape: (5040, 6)\n",
      "y_test shape: (2160, 6)\n"
     ]
    }
   ],
   "source": [
    "print('x_train shape:', x_train.shape)\n",
    "print('x_test shape:', x_test.shape)\n",
    "print('y_train shape:', y_train.shape)\n",
    "print('y_test shape:', y_test.shape)"
   ]
  },
  {
   "cell_type": "code",
   "execution_count": 38,
   "metadata": {},
   "outputs": [],
   "source": [
    "def createModel():# Build the model\n",
    "    model = Sequential()\n",
    "    model.add(Dense(512, input_shape=(max_words,)))\n",
    "    model.add(Activation('relu'))\n",
    "    model.add(Dropout(0.5))\n",
    "    model.add(Dense(num_classes))\n",
    "    model.add(Activation('softmax'))    \n",
    "    model.compile(loss='binary_crossentropy',\n",
    "                  optimizer='adam',\n",
    "                  metrics=['accuracy'])\n",
    "    return model"
   ]
  },
  {
   "cell_type": "code",
   "execution_count": 39,
   "metadata": {},
   "outputs": [
    {
     "name": "stdout",
     "output_type": "stream",
     "text": [
      "_________________________________________________________________\n",
      "Layer (type)                 Output Shape              Param #   \n",
      "=================================================================\n",
      "dense_4 (Dense)              (None, 512)               512512    \n",
      "_________________________________________________________________\n",
      "activation_4 (Activation)    (None, 512)               0         \n",
      "_________________________________________________________________\n",
      "dropout_2 (Dropout)          (None, 512)               0         \n",
      "_________________________________________________________________\n",
      "dense_5 (Dense)              (None, 6)                 3078      \n",
      "_________________________________________________________________\n",
      "activation_5 (Activation)    (None, 6)                 0         \n",
      "=================================================================\n",
      "Total params: 515,590\n",
      "Trainable params: 515,590\n",
      "Non-trainable params: 0\n",
      "_________________________________________________________________\n"
     ]
    }
   ],
   "source": [
    "model       = createModel() # This is meant for training\n",
    "modelGo     = createModel() # This is used for final testing\n",
    "\n",
    "model.summary()"
   ]
  },
  {
   "cell_type": "code",
   "execution_count": 40,
   "metadata": {},
   "outputs": [],
   "source": [
    "modelname   = 'bow_cnn'\n",
    "filepath        = modelname + \".hdf5\"\n",
    "checkpoint      = ModelCheckpoint(filepath, \n",
    "                                  monitor='val_acc', \n",
    "                                  verbose=0, \n",
    "                                  save_best_only=True, \n",
    "                                  mode='max')\n",
    "\n",
    "                            # Log the epoch detail into csv\n",
    "csv_logger      = CSVLogger(modelname +'.csv')\n",
    "callbacks_list  = [checkpoint,csv_logger]"
   ]
  },
  {
   "cell_type": "code",
   "execution_count": 41,
   "metadata": {},
   "outputs": [
    {
     "name": "stdout",
     "output_type": "stream",
     "text": [
      "Train on 5040 samples, validate on 2160 samples\n",
      "Epoch 1/100\n",
      "5040/5040 [==============================] - 2s 375us/sample - loss: 0.2831 - acc: 0.8855 - val_loss: 0.1913 - val_acc: 0.9245\n",
      "Epoch 2/100\n",
      "5040/5040 [==============================] - 1s 172us/sample - loss: 0.1593 - acc: 0.9375 - val_loss: 0.1695 - val_acc: 0.9330\n",
      "Epoch 3/100\n",
      "5040/5040 [==============================] - 1s 162us/sample - loss: 0.1233 - acc: 0.9541 - val_loss: 0.1638 - val_acc: 0.9369\n",
      "Epoch 4/100\n",
      "5040/5040 [==============================] - 1s 160us/sample - loss: 0.0978 - acc: 0.9647 - val_loss: 0.1672 - val_acc: 0.9373\n",
      "Epoch 5/100\n",
      "5040/5040 [==============================] - 1s 151us/sample - loss: 0.0803 - acc: 0.9702 - val_loss: 0.1690 - val_acc: 0.9360\n",
      "Epoch 6/100\n",
      "5040/5040 [==============================] - 1s 151us/sample - loss: 0.0661 - acc: 0.9774 - val_loss: 0.1776 - val_acc: 0.9364\n",
      "Epoch 7/100\n",
      "5040/5040 [==============================] - 1s 156us/sample - loss: 0.0561 - acc: 0.9822 - val_loss: 0.1838 - val_acc: 0.9353\n",
      "Epoch 8/100\n",
      "5040/5040 [==============================] - 1s 152us/sample - loss: 0.0484 - acc: 0.9848 - val_loss: 0.1866 - val_acc: 0.9350\n",
      "Epoch 9/100\n",
      "5040/5040 [==============================] - 1s 153us/sample - loss: 0.0420 - acc: 0.9868 - val_loss: 0.1932 - val_acc: 0.9340\n",
      "Epoch 10/100\n",
      "5040/5040 [==============================] - 1s 156us/sample - loss: 0.0396 - acc: 0.9880 - val_loss: 0.1981 - val_acc: 0.9353\n",
      "Epoch 11/100\n",
      "5040/5040 [==============================] - 1s 152us/sample - loss: 0.0356 - acc: 0.9891 - val_loss: 0.2040 - val_acc: 0.9346\n",
      "Epoch 12/100\n",
      "5040/5040 [==============================] - 1s 153us/sample - loss: 0.0340 - acc: 0.9896 - val_loss: 0.2088 - val_acc: 0.9327\n",
      "Epoch 13/100\n",
      "5040/5040 [==============================] - 1s 153us/sample - loss: 0.0299 - acc: 0.9896 - val_loss: 0.2146 - val_acc: 0.9340\n",
      "Epoch 14/100\n",
      "5040/5040 [==============================] - 1s 152us/sample - loss: 0.0303 - acc: 0.9902 - val_loss: 0.2152 - val_acc: 0.9343\n",
      "Epoch 15/100\n",
      "5040/5040 [==============================] - 1s 149us/sample - loss: 0.0278 - acc: 0.9910 - val_loss: 0.2198 - val_acc: 0.9326\n",
      "Epoch 16/100\n",
      "5040/5040 [==============================] - 1s 150us/sample - loss: 0.0273 - acc: 0.9911 - val_loss: 0.2210 - val_acc: 0.9329\n",
      "Epoch 17/100\n",
      "5040/5040 [==============================] - 1s 151us/sample - loss: 0.0264 - acc: 0.9907 - val_loss: 0.2266 - val_acc: 0.9334\n",
      "Epoch 18/100\n",
      "5040/5040 [==============================] - 1s 147us/sample - loss: 0.0253 - acc: 0.9912 - val_loss: 0.2253 - val_acc: 0.9338\n",
      "Epoch 19/100\n",
      "5040/5040 [==============================] - 1s 146us/sample - loss: 0.0263 - acc: 0.9909 - val_loss: 0.2288 - val_acc: 0.9336\n",
      "Epoch 20/100\n",
      "5040/5040 [==============================] - 1s 149us/sample - loss: 0.0264 - acc: 0.9908 - val_loss: 0.2328 - val_acc: 0.9326\n",
      "Epoch 21/100\n",
      "5040/5040 [==============================] - 1s 149us/sample - loss: 0.0252 - acc: 0.9914 - val_loss: 0.2301 - val_acc: 0.9339\n",
      "Epoch 22/100\n",
      "5040/5040 [==============================] - 1s 145us/sample - loss: 0.0245 - acc: 0.9912 - val_loss: 0.2334 - val_acc: 0.9333\n",
      "Epoch 23/100\n",
      "5040/5040 [==============================] - 1s 146us/sample - loss: 0.0263 - acc: 0.9904 - val_loss: 0.2350 - val_acc: 0.9334\n",
      "Epoch 24/100\n",
      "5040/5040 [==============================] - 1s 145us/sample - loss: 0.0252 - acc: 0.9906 - val_loss: 0.2383 - val_acc: 0.9337\n",
      "Epoch 25/100\n",
      "5040/5040 [==============================] - 1s 148us/sample - loss: 0.0242 - acc: 0.9906 - val_loss: 0.2402 - val_acc: 0.9337\n",
      "Epoch 26/100\n",
      "5040/5040 [==============================] - 1s 146us/sample - loss: 0.0239 - acc: 0.9910 - val_loss: 0.2412 - val_acc: 0.9325\n",
      "Epoch 27/100\n",
      "5040/5040 [==============================] - 1s 147us/sample - loss: 0.0232 - acc: 0.9909 - val_loss: 0.2399 - val_acc: 0.9336\n",
      "Epoch 28/100\n",
      "5040/5040 [==============================] - 1s 147us/sample - loss: 0.0224 - acc: 0.9914 - val_loss: 0.2458 - val_acc: 0.9328\n",
      "Epoch 29/100\n",
      "5040/5040 [==============================] - 1s 153us/sample - loss: 0.0238 - acc: 0.9908 - val_loss: 0.2472 - val_acc: 0.9309\n",
      "Epoch 30/100\n",
      "5040/5040 [==============================] - 1s 149us/sample - loss: 0.0240 - acc: 0.9907 - val_loss: 0.2450 - val_acc: 0.9332\n",
      "Epoch 31/100\n",
      "5040/5040 [==============================] - 1s 148us/sample - loss: 0.0221 - acc: 0.9914 - val_loss: 0.2506 - val_acc: 0.9331\n",
      "Epoch 32/100\n",
      "5040/5040 [==============================] - 1s 151us/sample - loss: 0.0209 - acc: 0.9916 - val_loss: 0.2525 - val_acc: 0.9332\n",
      "Epoch 33/100\n",
      "5040/5040 [==============================] - 1s 144us/sample - loss: 0.0224 - acc: 0.9917 - val_loss: 0.2517 - val_acc: 0.9319\n",
      "Epoch 34/100\n",
      "5040/5040 [==============================] - 1s 155us/sample - loss: 0.0210 - acc: 0.9915 - val_loss: 0.2533 - val_acc: 0.9328\n",
      "Epoch 35/100\n",
      "5040/5040 [==============================] - 1s 149us/sample - loss: 0.0218 - acc: 0.9914 - val_loss: 0.2509 - val_acc: 0.9333\n",
      "Epoch 36/100\n",
      "5040/5040 [==============================] - 1s 149us/sample - loss: 0.0211 - acc: 0.9914 - val_loss: 0.2548 - val_acc: 0.9314\n",
      "Epoch 37/100\n",
      "5040/5040 [==============================] - 1s 149us/sample - loss: 0.0197 - acc: 0.9920 - val_loss: 0.2594 - val_acc: 0.9337\n",
      "Epoch 38/100\n",
      "5040/5040 [==============================] - 1s 153us/sample - loss: 0.0199 - acc: 0.9913 - val_loss: 0.2582 - val_acc: 0.9321\n",
      "Epoch 39/100\n",
      "5040/5040 [==============================] - 1s 151us/sample - loss: 0.0206 - acc: 0.9914 - val_loss: 0.2571 - val_acc: 0.9315\n",
      "Epoch 40/100\n",
      "5040/5040 [==============================] - 1s 143us/sample - loss: 0.0210 - acc: 0.9911 - val_loss: 0.2593 - val_acc: 0.9328\n",
      "Epoch 41/100\n",
      "5040/5040 [==============================] - 1s 155us/sample - loss: 0.0217 - acc: 0.9909 - val_loss: 0.2643 - val_acc: 0.9324\n",
      "Epoch 42/100\n",
      "5040/5040 [==============================] - 1s 155us/sample - loss: 0.0198 - acc: 0.9922 - val_loss: 0.2631 - val_acc: 0.9307\n",
      "Epoch 43/100\n",
      "5040/5040 [==============================] - 1s 153us/sample - loss: 0.0203 - acc: 0.9910 - val_loss: 0.2629 - val_acc: 0.9316\n",
      "Epoch 44/100\n",
      "5040/5040 [==============================] - 1s 149us/sample - loss: 0.0191 - acc: 0.9920 - val_loss: 0.2662 - val_acc: 0.9300\n",
      "Epoch 45/100\n",
      "5040/5040 [==============================] - 1s 145us/sample - loss: 0.0199 - acc: 0.9914 - val_loss: 0.2622 - val_acc: 0.9318\n",
      "Epoch 46/100\n",
      "5040/5040 [==============================] - 1s 147us/sample - loss: 0.0207 - acc: 0.9917 - val_loss: 0.2684 - val_acc: 0.9324\n",
      "Epoch 47/100\n",
      "5040/5040 [==============================] - 1s 146us/sample - loss: 0.0211 - acc: 0.9909 - val_loss: 0.2611 - val_acc: 0.9323\n",
      "Epoch 48/100\n",
      "5040/5040 [==============================] - 1s 150us/sample - loss: 0.0197 - acc: 0.9912 - val_loss: 0.2660 - val_acc: 0.9320\n",
      "Epoch 49/100\n",
      "5040/5040 [==============================] - 1s 151us/sample - loss: 0.0204 - acc: 0.9910 - val_loss: 0.2646 - val_acc: 0.9318\n",
      "Epoch 50/100\n",
      "5040/5040 [==============================] - 1s 145us/sample - loss: 0.0185 - acc: 0.9919 - val_loss: 0.2700 - val_acc: 0.9327\n",
      "Epoch 51/100\n",
      "5040/5040 [==============================] - 1s 149us/sample - loss: 0.0189 - acc: 0.9918 - val_loss: 0.2698 - val_acc: 0.9322\n",
      "Epoch 52/100\n",
      "5040/5040 [==============================] - 1s 151us/sample - loss: 0.0183 - acc: 0.9924 - val_loss: 0.2792 - val_acc: 0.9314\n",
      "Epoch 53/100\n",
      "5040/5040 [==============================] - 1s 149us/sample - loss: 0.0179 - acc: 0.9920 - val_loss: 0.2771 - val_acc: 0.9309\n",
      "Epoch 54/100\n",
      "5040/5040 [==============================] - 1s 151us/sample - loss: 0.0179 - acc: 0.9922 - val_loss: 0.2743 - val_acc: 0.9329\n",
      "Epoch 55/100\n",
      "5040/5040 [==============================] - 1s 153us/sample - loss: 0.0202 - acc: 0.9915 - val_loss: 0.2691 - val_acc: 0.9332\n",
      "Epoch 56/100\n",
      "5040/5040 [==============================] - 1s 151us/sample - loss: 0.0196 - acc: 0.9921 - val_loss: 0.2706 - val_acc: 0.9324\n",
      "Epoch 57/100\n",
      "5040/5040 [==============================] - 1s 150us/sample - loss: 0.0185 - acc: 0.9920 - val_loss: 0.2728 - val_acc: 0.9322\n",
      "Epoch 58/100\n",
      "5040/5040 [==============================] - 1s 157us/sample - loss: 0.0182 - acc: 0.9921 - val_loss: 0.2712 - val_acc: 0.9333\n",
      "Epoch 59/100\n"
     ]
    },
    {
     "name": "stdout",
     "output_type": "stream",
     "text": [
      "5040/5040 [==============================] - 1s 153us/sample - loss: 0.0192 - acc: 0.9917 - val_loss: 0.2709 - val_acc: 0.9329\n",
      "Epoch 60/100\n",
      "5040/5040 [==============================] - 1s 155us/sample - loss: 0.0198 - acc: 0.9913 - val_loss: 0.2725 - val_acc: 0.9332\n",
      "Epoch 61/100\n",
      "5040/5040 [==============================] - 1s 144us/sample - loss: 0.0194 - acc: 0.9913 - val_loss: 0.2749 - val_acc: 0.9334\n",
      "Epoch 62/100\n",
      "5040/5040 [==============================] - 1s 152us/sample - loss: 0.0177 - acc: 0.9919 - val_loss: 0.2810 - val_acc: 0.9312\n",
      "Epoch 63/100\n",
      "5040/5040 [==============================] - 1s 149us/sample - loss: 0.0184 - acc: 0.9915 - val_loss: 0.2718 - val_acc: 0.9333\n",
      "Epoch 64/100\n",
      "5040/5040 [==============================] - 1s 149us/sample - loss: 0.0208 - acc: 0.9906 - val_loss: 0.2724 - val_acc: 0.9303\n",
      "Epoch 65/100\n",
      "5040/5040 [==============================] - 1s 147us/sample - loss: 0.0171 - acc: 0.9924 - val_loss: 0.2785 - val_acc: 0.9310\n",
      "Epoch 66/100\n",
      "5040/5040 [==============================] - 1s 145us/sample - loss: 0.0165 - acc: 0.9927 - val_loss: 0.2785 - val_acc: 0.9316\n",
      "Epoch 67/100\n",
      "5040/5040 [==============================] - 1s 161us/sample - loss: 0.0167 - acc: 0.9916 - val_loss: 0.2826 - val_acc: 0.9312\n",
      "Epoch 68/100\n",
      "5040/5040 [==============================] - 1s 153us/sample - loss: 0.0181 - acc: 0.9910 - val_loss: 0.2757 - val_acc: 0.9309\n",
      "Epoch 69/100\n",
      "5040/5040 [==============================] - 1s 151us/sample - loss: 0.0184 - acc: 0.9920 - val_loss: 0.2769 - val_acc: 0.9314\n",
      "Epoch 70/100\n",
      "5040/5040 [==============================] - 1s 154us/sample - loss: 0.0182 - acc: 0.9917 - val_loss: 0.2773 - val_acc: 0.9326\n",
      "Epoch 71/100\n",
      "5040/5040 [==============================] - 1s 156us/sample - loss: 0.0169 - acc: 0.9920 - val_loss: 0.2838 - val_acc: 0.9323\n",
      "Epoch 72/100\n",
      "5040/5040 [==============================] - 1s 152us/sample - loss: 0.0187 - acc: 0.9915 - val_loss: 0.2863 - val_acc: 0.9329\n",
      "Epoch 73/100\n",
      "5040/5040 [==============================] - 1s 151us/sample - loss: 0.0169 - acc: 0.9917 - val_loss: 0.2793 - val_acc: 0.9326\n",
      "Epoch 74/100\n",
      "5040/5040 [==============================] - 1s 161us/sample - loss: 0.0175 - acc: 0.9922 - val_loss: 0.2824 - val_acc: 0.9330\n",
      "Epoch 75/100\n",
      "5040/5040 [==============================] - 1s 155us/sample - loss: 0.0171 - acc: 0.9919 - val_loss: 0.2902 - val_acc: 0.9324\n",
      "Epoch 76/100\n",
      "5040/5040 [==============================] - 1s 149us/sample - loss: 0.0180 - acc: 0.9910 - val_loss: 0.2874 - val_acc: 0.9325\n",
      "Epoch 77/100\n",
      "5040/5040 [==============================] - 1s 158us/sample - loss: 0.0191 - acc: 0.9913 - val_loss: 0.2803 - val_acc: 0.9321\n",
      "Epoch 78/100\n",
      "5040/5040 [==============================] - 1s 148us/sample - loss: 0.0173 - acc: 0.9916 - val_loss: 0.2784 - val_acc: 0.9328\n",
      "Epoch 79/100\n",
      "5040/5040 [==============================] - 1s 148us/sample - loss: 0.0185 - acc: 0.9910 - val_loss: 0.2780 - val_acc: 0.9326\n",
      "Epoch 80/100\n",
      "5040/5040 [==============================] - 1s 155us/sample - loss: 0.0190 - acc: 0.9913 - val_loss: 0.2876 - val_acc: 0.9308\n",
      "Epoch 81/100\n",
      "5040/5040 [==============================] - 1s 149us/sample - loss: 0.0183 - acc: 0.9915 - val_loss: 0.2846 - val_acc: 0.9321\n",
      "Epoch 82/100\n",
      "5040/5040 [==============================] - 1s 151us/sample - loss: 0.0170 - acc: 0.9918 - val_loss: 0.2875 - val_acc: 0.9319\n",
      "Epoch 83/100\n",
      "5040/5040 [==============================] - 1s 152us/sample - loss: 0.0174 - acc: 0.9917 - val_loss: 0.2867 - val_acc: 0.9334\n",
      "Epoch 84/100\n",
      "5040/5040 [==============================] - 1s 149us/sample - loss: 0.0173 - acc: 0.9912 - val_loss: 0.2863 - val_acc: 0.9329\n",
      "Epoch 85/100\n",
      "5040/5040 [==============================] - 1s 150us/sample - loss: 0.0161 - acc: 0.9918 - val_loss: 0.2879 - val_acc: 0.9323\n",
      "Epoch 86/100\n",
      "5040/5040 [==============================] - 1s 152us/sample - loss: 0.0171 - acc: 0.9914 - val_loss: 0.2868 - val_acc: 0.9330\n",
      "Epoch 87/100\n",
      "5040/5040 [==============================] - 1s 146us/sample - loss: 0.0164 - acc: 0.9920 - val_loss: 0.2892 - val_acc: 0.9327\n",
      "Epoch 88/100\n",
      "5040/5040 [==============================] - 1s 144us/sample - loss: 0.0171 - acc: 0.9915 - val_loss: 0.2924 - val_acc: 0.9325\n",
      "Epoch 89/100\n",
      "5040/5040 [==============================] - 1s 144us/sample - loss: 0.0155 - acc: 0.9918 - val_loss: 0.2971 - val_acc: 0.9312\n",
      "Epoch 90/100\n",
      "5040/5040 [==============================] - 1s 147us/sample - loss: 0.0165 - acc: 0.9912 - val_loss: 0.2953 - val_acc: 0.9324\n",
      "Epoch 91/100\n",
      "5040/5040 [==============================] - 1s 148us/sample - loss: 0.0171 - acc: 0.9918 - val_loss: 0.2980 - val_acc: 0.9326\n",
      "Epoch 92/100\n",
      "5040/5040 [==============================] - 1s 148us/sample - loss: 0.0185 - acc: 0.9911 - val_loss: 0.2939 - val_acc: 0.9309\n",
      "Epoch 93/100\n",
      "5040/5040 [==============================] - 1s 146us/sample - loss: 0.0182 - acc: 0.9910 - val_loss: 0.2901 - val_acc: 0.9331\n",
      "Epoch 94/100\n",
      "5040/5040 [==============================] - 1s 144us/sample - loss: 0.0172 - acc: 0.9920 - val_loss: 0.2992 - val_acc: 0.9306\n",
      "Epoch 95/100\n",
      "5040/5040 [==============================] - 1s 145us/sample - loss: 0.0176 - acc: 0.9916 - val_loss: 0.2920 - val_acc: 0.9326\n",
      "Epoch 96/100\n",
      "5040/5040 [==============================] - 1s 145us/sample - loss: 0.0162 - acc: 0.9924 - val_loss: 0.2962 - val_acc: 0.9315\n",
      "Epoch 97/100\n",
      "5040/5040 [==============================] - 1s 145us/sample - loss: 0.0158 - acc: 0.9918 - val_loss: 0.2933 - val_acc: 0.9335\n",
      "Epoch 98/100\n",
      "5040/5040 [==============================] - 1s 145us/sample - loss: 0.0178 - acc: 0.9910 - val_loss: 0.2981 - val_acc: 0.9310\n",
      "Epoch 99/100\n",
      "5040/5040 [==============================] - 1s 154us/sample - loss: 0.0160 - acc: 0.9918 - val_loss: 0.2935 - val_acc: 0.9341\n",
      "Epoch 100/100\n",
      "5040/5040 [==============================] - 1s 162us/sample - loss: 0.0172 - acc: 0.9910 - val_loss: 0.2986 - val_acc: 0.9324\n"
     ]
    },
    {
     "data": {
      "text/plain": [
       "<tensorflow.python.keras.callbacks.History at 0x223e7a36b38>"
      ]
     },
     "execution_count": 41,
     "metadata": {},
     "output_type": "execute_result"
    }
   ],
   "source": [
    "model.fit(x_train, \n",
    "          y_train, \n",
    "          validation_data=(x_test, y_test), \n",
    "          epochs=100, \n",
    "          batch_size=128,\n",
    "          shuffle=True,\n",
    "          callbacks=callbacks_list)"
   ]
  },
  {
   "cell_type": "code",
   "execution_count": 42,
   "metadata": {},
   "outputs": [],
   "source": [
    "optmz       = optimizers.RMSprop(lr=0.0001)"
   ]
  },
  {
   "cell_type": "code",
   "execution_count": 43,
   "metadata": {},
   "outputs": [],
   "source": [
    "modelGo.load_weights(filepath)\n",
    "modelGo.compile(loss='categorical_crossentropy', \n",
    "                optimizer=optmz, \n",
    "                metrics=['accuracy'])"
   ]
  },
  {
   "cell_type": "code",
   "execution_count": 44,
   "metadata": {},
   "outputs": [],
   "source": [
    "# Make classification on the test dataset\n",
    "predicts    = modelGo.predict(x_test)\n",
    "\n",
    "# Prepare the classification output\n",
    "# for the classification report\n",
    "predout     = np.argmax(predicts,axis=1)\n",
    "testout     = np.argmax(y_test,axis=1)\n",
    "\n",
    "# the labels for the classfication report\n",
    "testScores  = metrics.accuracy_score(testout,predout)\n",
    "confusion   = metrics.confusion_matrix(testout,predout)"
   ]
  },
  {
   "cell_type": "code",
   "execution_count": 45,
   "metadata": {},
   "outputs": [
    {
     "name": "stdout",
     "output_type": "stream",
     "text": [
      "Best accuracy (on testing dataset): 80.69%\n",
      "              precision    recall  f1-score   support\n",
      "\n",
      "   Singapore     0.7342    0.6270    0.6764       370\n",
      "      Sports     0.8439    0.8764    0.8598       364\n",
      "   Lifestyle     0.8502    0.7765    0.8117       358\n",
      "       World     0.9605    0.9664    0.9634       327\n",
      "    Business     0.7476    0.8342    0.7886       380\n",
      "  Technology     0.7280    0.7784    0.7523       361\n",
      "\n",
      "    accuracy                         0.8069      2160\n",
      "   macro avg     0.8107    0.8098    0.8087      2160\n",
      "weighted avg     0.8075    0.8069    0.8056      2160\n",
      "\n",
      "[[232   7  15   1  64  51]\n",
      " [  4 319  12   3  12  14]\n",
      " [ 29  15 278   4  16  16]\n",
      " [  0   2   0 316   1   8]\n",
      " [ 23   8  16   0 317  16]\n",
      " [ 28  27   6   5  14 281]]\n"
     ]
    }
   ],
   "source": [
    "print(\"Best accuracy (on testing dataset): %.2f%%\" % (testScores*100))\n",
    "print(metrics.classification_report(testout,predout,target_names=category_mapping,digits=4))\n",
    "print(confusion)"
   ]
  },
  {
   "cell_type": "code",
   "execution_count": 46,
   "metadata": {},
   "outputs": [
    {
     "data": {
      "image/png": "[encoded data removed]",
      "text/plain": [
       "<Figure size 921.6x432 with 2 Axes>"
      ]
     },
     "metadata": {
      "needs_background": "light"
     },
     "output_type": "display_data"
    }
   ],
   "source": [
    "conf_matrix = confusion_matrix(testout, predout)\n",
    "plt.figure(figsize=(12.8,6))\n",
    "sns.heatmap(conf_matrix, \n",
    "            annot=True,\n",
    "            xticklabels=category_mapping, \n",
    "            yticklabels=category_mapping,\n",
    "            cmap=\"Greens\")\n",
    "plt.ylabel('Predicted')\n",
    "plt.xlabel('Actual')\n",
    "plt.title('Confusion matrix')\n",
    "plt.show()"
   ]
  }
 ],
 "metadata": {
  "kernelspec": {
   "display_name": "Python 3",
   "language": "python",
   "name": "python3"
  },
  "language_info": {
   "codemirror_mode": {
    "name": "ipython",
    "version": 3
   },
   "file_extension": ".py",
   "mimetype": "text/x-python",
   "name": "python",
   "nbconvert_exporter": "python",
   "pygments_lexer": "ipython3",
   "version": "3.7.0"
  }
 },
 "nbformat": 4,
 "nbformat_minor": 2
}
