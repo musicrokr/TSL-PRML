{
 "cells": [
  {
   "cell_type": "code",
   "execution_count": 1,
   "metadata": {},
   "outputs": [],
   "source": [
    "import pandas as pd\n",
    "import nltk\n",
    "from nltk.corpus import stopwords\n",
    "from nltk.stem import WordNetLemmatizer\n",
    "from sklearn.feature_extraction.text import TfidfVectorizer\n",
    "from sklearn.model_selection import train_test_split\n",
    "import matplotlib.pyplot as plt\n",
    "import seaborn as sns\n",
    "import pickle\n",
    "\n",
    "%matplotlib inline"
   ]
  },
  {
   "cell_type": "markdown",
   "metadata": {},
   "source": [
    "##for multiple files\n",
    "folderDirectory = r'./Input/articles/'\n",
    "all_files = glob.glob(folderDirectory + \"/*.xls\")\n",
    "\n",
    "li = []\n",
    "\n",
    "for filename in all_files:\n",
    "    df = pd.read_excel(filename, index_col=None, header=0)\n",
    "    li.append(df)\n",
    "    df['File']=filename\n",
    "    df['File']=df['File'].str.split('\\\\').str[1]\n",
    "\n",
    "rawData = pd.concat(li, axis=0, ignore_index=True)"
   ]
  },
  {
   "cell_type": "code",
   "execution_count": 2,
   "metadata": {},
   "outputs": [],
   "source": [
    "path_df = \"./Pickles/articles.pickle\"\n",
    "\n",
    "with open(path_df, 'rb') as data:\n",
    "    rawData = pickle.load(data)"
   ]
  },
  {
   "cell_type": "code",
   "execution_count": 3,
   "metadata": {},
   "outputs": [],
   "source": [
    "proceessedData = rawData"
   ]
  },
  {
   "cell_type": "code",
   "execution_count": 4,
   "metadata": {},
   "outputs": [
    {
     "data": {
      "text/html": [
       "<div>\n",
       "<style scoped>\n",
       "    .dataframe tbody tr th:only-of-type {\n",
       "        vertical-align: middle;\n",
       "    }\n",
       "\n",
       "    .dataframe tbody tr th {\n",
       "        vertical-align: top;\n",
       "    }\n",
       "\n",
       "    .dataframe thead th {\n",
       "        text-align: right;\n",
       "    }\n",
       "</style>\n",
       "<table border=\"1\" class=\"dataframe\">\n",
       "  <thead>\n",
       "    <tr style=\"text-align: right;\">\n",
       "      <th></th>\n",
       "      <th>article</th>\n",
       "    </tr>\n",
       "  </thead>\n",
       "  <tbody>\n",
       "    <tr>\n",
       "      <th>0</th>\n",
       "      <td>SINGAPORE - A man's body was found on the grou...</td>\n",
       "    </tr>\n",
       "    <tr>\n",
       "      <th>1</th>\n",
       "      <td>London (AFP) - Thai Formula One driver Alexand...</td>\n",
       "    </tr>\n",
       "    <tr>\n",
       "      <th>2</th>\n",
       "      <td>SINGAPORE - The Straits Times bagged eight awa...</td>\n",
       "    </tr>\n",
       "    <tr>\n",
       "      <th>3</th>\n",
       "      <td>Ready for a challenge? Try out daily Sudoku an...</td>\n",
       "    </tr>\n",
       "    <tr>\n",
       "      <th>4</th>\n",
       "      <td>HONG KONG (BLOOMBERG) – Hong Kong airport auth...</td>\n",
       "    </tr>\n",
       "  </tbody>\n",
       "</table>\n",
       "</div>"
      ],
      "text/plain": [
       "                                             article\n",
       "0  SINGAPORE - A man's body was found on the grou...\n",
       "1  London (AFP) - Thai Formula One driver Alexand...\n",
       "2  SINGAPORE - The Straits Times bagged eight awa...\n",
       "3  Ready for a challenge? Try out daily Sudoku an...\n",
       "4  HONG KONG (BLOOMBERG) – Hong Kong airport auth..."
      ]
     },
     "execution_count": 4,
     "metadata": {},
     "output_type": "execute_result"
    }
   ],
   "source": [
    "article_text = proceessedData[['article']]\n",
    "article_text.head()"
   ]
  },
  {
   "cell_type": "markdown",
   "metadata": {},
   "source": [
    "# Data Exploration"
   ]
  },
  {
   "cell_type": "code",
   "execution_count": 5,
   "metadata": {},
   "outputs": [
    {
     "name": "stderr",
     "output_type": "stream",
     "text": [
      "C:\\Users\\User\\Anaconda3\\lib\\site-packages\\ipykernel_launcher.py:1: SettingWithCopyWarning: \n",
      "A value is trying to be set on a copy of a slice from a DataFrame.\n",
      "Try using .loc[row_indexer,col_indexer] = value instead\n",
      "\n",
      "See the caveats in the documentation: http://pandas.pydata.org/pandas-docs/stable/user_guide/indexing.html#returning-a-view-versus-a-copy\n",
      "  \"\"\"Entry point for launching an IPython kernel.\n"
     ]
    },
    {
     "data": {
      "text/html": [
       "<div>\n",
       "<style scoped>\n",
       "    .dataframe tbody tr th:only-of-type {\n",
       "        vertical-align: middle;\n",
       "    }\n",
       "\n",
       "    .dataframe tbody tr th {\n",
       "        vertical-align: top;\n",
       "    }\n",
       "\n",
       "    .dataframe thead th {\n",
       "        text-align: right;\n",
       "    }\n",
       "</style>\n",
       "<table border=\"1\" class=\"dataframe\">\n",
       "  <thead>\n",
       "    <tr style=\"text-align: right;\">\n",
       "      <th></th>\n",
       "      <th>article</th>\n",
       "      <th>length</th>\n",
       "    </tr>\n",
       "  </thead>\n",
       "  <tbody>\n",
       "    <tr>\n",
       "      <th>0</th>\n",
       "      <td>SINGAPORE - A man's body was found on the grou...</td>\n",
       "      <td>581</td>\n",
       "    </tr>\n",
       "    <tr>\n",
       "      <th>1</th>\n",
       "      <td>London (AFP) - Thai Formula One driver Alexand...</td>\n",
       "      <td>1208</td>\n",
       "    </tr>\n",
       "    <tr>\n",
       "      <th>2</th>\n",
       "      <td>SINGAPORE - The Straits Times bagged eight awa...</td>\n",
       "      <td>4026</td>\n",
       "    </tr>\n",
       "    <tr>\n",
       "      <th>3</th>\n",
       "      <td>Ready for a challenge? Try out daily Sudoku an...</td>\n",
       "      <td>400</td>\n",
       "    </tr>\n",
       "    <tr>\n",
       "      <th>4</th>\n",
       "      <td>HONG KONG (BLOOMBERG) – Hong Kong airport auth...</td>\n",
       "      <td>7814</td>\n",
       "    </tr>\n",
       "  </tbody>\n",
       "</table>\n",
       "</div>"
      ],
      "text/plain": [
       "                                             article  length\n",
       "0  SINGAPORE - A man's body was found on the grou...     581\n",
       "1  London (AFP) - Thai Formula One driver Alexand...    1208\n",
       "2  SINGAPORE - The Straits Times bagged eight awa...    4026\n",
       "3  Ready for a challenge? Try out daily Sudoku an...     400\n",
       "4  HONG KONG (BLOOMBERG) – Hong Kong airport auth...    7814"
      ]
     },
     "execution_count": 5,
     "metadata": {},
     "output_type": "execute_result"
    }
   ],
   "source": [
    "article_text['length'] = article_text['article'].apply(len)\n",
    "article_text.head()"
   ]
  },
  {
   "cell_type": "code",
   "execution_count": 6,
   "metadata": {},
   "outputs": [
    {
     "data": {
      "text/plain": [
       "<matplotlib.axes._subplots.AxesSubplot at 0x1b9cd1007b8>"
      ]
     },
     "execution_count": 6,
     "metadata": {},
     "output_type": "execute_result"
    },
    {
     "data": {
      "image/png": "[encoded data removed]",
      "text/plain": [
       "<Figure size 432x288 with 1 Axes>"
      ]
     },
     "metadata": {
      "needs_background": "light"
     },
     "output_type": "display_data"
    }
   ],
   "source": [
    "article_text['length'].plot(bins=50, kind='hist') "
   ]
  },
  {
   "cell_type": "markdown",
   "metadata": {},
   "source": [
    "# Data Cleaning"
   ]
  },
  {
   "cell_type": "markdown",
   "metadata": {},
   "source": [
    "The following data cleaning was performed.\n",
    "<ol>\n",
    "    <li>Convert all articles to lower case</li>\n",
    "    <li>Remove special breakline characters</li>\n",
    "    <li>Removal of Stopwords</li>\n",
    "    <li>Lemmatization of text</li>\n",
    "</ol>"
   ]
  },
  {
   "cell_type": "code",
   "execution_count": 7,
   "metadata": {},
   "outputs": [
    {
     "name": "stderr",
     "output_type": "stream",
     "text": [
      "C:\\Users\\User\\Anaconda3\\lib\\site-packages\\ipykernel_launcher.py:1: SettingWithCopyWarning: \n",
      "A value is trying to be set on a copy of a slice from a DataFrame.\n",
      "Try using .loc[row_indexer,col_indexer] = value instead\n",
      "\n",
      "See the caveats in the documentation: http://pandas.pydata.org/pandas-docs/stable/user_guide/indexing.html#returning-a-view-versus-a-copy\n",
      "  \"\"\"Entry point for launching an IPython kernel.\n"
     ]
    }
   ],
   "source": [
    "article_text['article']=article_text['article'].str.lower()"
   ]
  },
  {
   "cell_type": "code",
   "execution_count": 8,
   "metadata": {},
   "outputs": [
    {
     "data": {
      "text/plain": [
       "0    singapore - a man's body was found on the grou...\n",
       "0    the nanyang technological university (ntu) is ...\n",
       "0    bangkok: thailand plans to distribute about 10...\n",
       "Name: article, dtype: object"
      ]
     },
     "execution_count": 8,
     "metadata": {},
     "output_type": "execute_result"
    }
   ],
   "source": [
    "article_text['article'][0]"
   ]
  },
  {
   "cell_type": "code",
   "execution_count": 9,
   "metadata": {},
   "outputs": [
    {
     "name": "stderr",
     "output_type": "stream",
     "text": [
      "C:\\Users\\User\\Anaconda3\\lib\\site-packages\\ipykernel_launcher.py:1: SettingWithCopyWarning: \n",
      "A value is trying to be set on a copy of a slice from a DataFrame.\n",
      "Try using .loc[row_indexer,col_indexer] = value instead\n",
      "\n",
      "See the caveats in the documentation: http://pandas.pydata.org/pandas-docs/stable/user_guide/indexing.html#returning-a-view-versus-a-copy\n",
      "  \"\"\"Entry point for launching an IPython kernel.\n"
     ]
    }
   ],
   "source": [
    "article_text['article']=article_text['article'].str.replace(\"\\n\", \" \")"
   ]
  },
  {
   "cell_type": "code",
   "execution_count": 10,
   "metadata": {},
   "outputs": [
    {
     "data": {
      "text/plain": [
       "0    singapore - a man's body was found on the grou...\n",
       "0    the nanyang technological university (ntu) is ...\n",
       "0    bangkok: thailand plans to distribute about 10...\n",
       "Name: article, dtype: object"
      ]
     },
     "execution_count": 10,
     "metadata": {},
     "output_type": "execute_result"
    }
   ],
   "source": [
    "article_text['article'][0]"
   ]
  },
  {
   "cell_type": "markdown",
   "metadata": {},
   "source": [
    "## Stopwords Removal"
   ]
  },
  {
   "cell_type": "code",
   "execution_count": 11,
   "metadata": {},
   "outputs": [
    {
     "name": "stdout",
     "output_type": "stream",
     "text": [
      "[nltk_data] Downloading package stopwords to\n",
      "[nltk_data]     C:\\Users\\User\\AppData\\Roaming\\nltk_data...\n",
      "[nltk_data]   Package stopwords is already up-to-date!\n"
     ]
    },
    {
     "data": {
      "text/plain": [
       "True"
      ]
     },
     "execution_count": 11,
     "metadata": {},
     "output_type": "execute_result"
    }
   ],
   "source": [
    "nltk.download('stopwords')"
   ]
  },
  {
   "cell_type": "code",
   "execution_count": 12,
   "metadata": {},
   "outputs": [],
   "source": [
    "stop_words = list(stopwords.words('english'))"
   ]
  },
  {
   "cell_type": "code",
   "execution_count": 13,
   "metadata": {},
   "outputs": [
    {
     "data": {
      "text/plain": [
       "['i', 'me', 'my', 'myself', 'we', 'our', 'ours', 'ourselves', 'you', \"you're\"]"
      ]
     },
     "execution_count": 13,
     "metadata": {},
     "output_type": "execute_result"
    }
   ],
   "source": [
    "from nltk.corpus import stopwords\n",
    "stop_words[0:10] # Show some stop words"
   ]
  },
  {
   "cell_type": "code",
   "execution_count": 14,
   "metadata": {},
   "outputs": [],
   "source": [
    "def process_text(mess):\n",
    "    \"\"\"\n",
    "    Takes in a string of text, then performs the following:\n",
    "    1. Remove all punctuation\n",
    "    2. Remove all stopwords\n",
    "    3. Returns a list of the cleaned text\n",
    "    \"\"\"\n",
    "    # Check characters to see if they are in punctuation\n",
    "    nopunc=mess.replace(r'[^\\w\\s]+', '')\n",
    "\n",
    "    # Join the characters again to form the string.\n",
    "    nopunc = ''.join(nopunc)\n",
    "    \n",
    "    # Now just remove any stopwords\n",
    "    return [word for word in nopunc.split() if word.lower() not in stop_words]"
   ]
  },
  {
   "cell_type": "code",
   "execution_count": 15,
   "metadata": {},
   "outputs": [
    {
     "data": {
      "text/plain": [
       "0    [singapore, -, man's, body, found, ground, flo...\n",
       "1    [london, (afp), -, thai, formula, one, driver,...\n",
       "2    [singapore, -, straits, times, bagged, eight, ...\n",
       "3    [ready, challenge?, try, daily, sudoku, crossw...\n",
       "4    [hong, kong, (bloomberg), –, hong, kong, airpo...\n",
       "Name: article, dtype: object"
      ]
     },
     "execution_count": 15,
     "metadata": {},
     "output_type": "execute_result"
    }
   ],
   "source": [
    "article_text['article'].head(5).apply(process_text)"
   ]
  },
  {
   "cell_type": "markdown",
   "metadata": {},
   "source": [
    "# Text Representation"
   ]
  },
  {
   "cell_type": "markdown",
   "metadata": {},
   "source": [
    "## Vectorization"
   ]
  },
  {
   "cell_type": "code",
   "execution_count": 16,
   "metadata": {},
   "outputs": [],
   "source": [
    "from sklearn.feature_extraction.text import CountVectorizer"
   ]
  },
  {
   "cell_type": "code",
   "execution_count": 17,
   "metadata": {},
   "outputs": [
    {
     "name": "stdout",
     "output_type": "stream",
     "text": [
      "120455\n"
     ]
    }
   ],
   "source": [
    "bow_transformer = CountVectorizer(analyzer=process_text).fit(article_text['article'])\n",
    "print(len(bow_transformer.vocabulary_))"
   ]
  },
  {
   "cell_type": "code",
   "execution_count": 18,
   "metadata": {},
   "outputs": [
    {
     "name": "stdout",
     "output_type": "stream",
     "text": [
      "3    ready for a challenge? try out daily sudoku an...\n",
      "3    an argument in a whatsapp group chat led to a ...\n",
      "3    yangon: raids on jungle drug labs have been me...\n",
      "Name: article, dtype: object\n"
     ]
    }
   ],
   "source": [
    "message4 = article_text['article'][3]\n",
    "print(message4)"
   ]
  },
  {
   "cell_type": "code",
   "execution_count": 19,
   "metadata": {},
   "outputs": [
    {
     "name": "stdout",
     "output_type": "stream",
     "text": [
      "  (0, 143)\t1\n",
      "  (0, 1332)\t2\n",
      "  (0, 1441)\t1\n",
      "  (0, 5930)\t1\n",
      "  (0, 8010)\t1\n",
      "  (0, 8529)\t7\n",
      "  (0, 8840)\t1\n",
      "  (0, 8948)\t1\n",
      "  (0, 9328)\t1\n",
      "  (0, 9340)\t1\n",
      "  (0, 11167)\t1\n",
      "  (0, 11460)\t1\n",
      "  (0, 11656)\t1\n",
      "  (0, 12220)\t1\n",
      "  (0, 12286)\t1\n",
      "  (0, 12564)\t2\n",
      "  (0, 13199)\t1\n",
      "  (0, 13783)\t1\n",
      "  (0, 14874)\t1\n",
      "  (0, 15313)\t1\n",
      "  (0, 16379)\t1\n",
      "  (0, 16465)\t2\n",
      "  (0, 16534)\t1\n",
      "  (0, 16623)\t1\n",
      "  (0, 16835)\t1\n",
      "  :\t:\n",
      "  (0, 112108)\t1\n",
      "  (0, 112474)\t1\n",
      "  (0, 112485)\t1\n",
      "  (0, 112829)\t1\n",
      "  (0, 113456)\t2\n",
      "  (0, 113981)\t1\n",
      "  (0, 114067)\t2\n",
      "  (0, 114531)\t1\n",
      "  (0, 115031)\t1\n",
      "  (0, 115084)\t1\n",
      "  (0, 115190)\t1\n",
      "  (0, 115384)\t1\n",
      "  (0, 115519)\t1\n",
      "  (0, 115645)\t1\n",
      "  (0, 116322)\t1\n",
      "  (0, 116540)\t1\n",
      "  (0, 116688)\t2\n",
      "  (0, 116804)\t2\n",
      "  (0, 116813)\t1\n",
      "  (0, 117189)\t2\n",
      "  (0, 117265)\t1\n",
      "  (0, 117355)\t1\n",
      "  (0, 117413)\t1\n",
      "  (0, 117515)\t1\n",
      "  (0, 117776)\t1\n",
      "(1, 120455)\n"
     ]
    }
   ],
   "source": [
    "bow4 = bow_transformer.transform([message4])\n",
    "print(bow4)\n",
    "print(bow4.shape)"
   ]
  },
  {
   "cell_type": "code",
   "execution_count": 20,
   "metadata": {},
   "outputs": [
    {
     "name": "stdout",
     "output_type": "stream",
     "text": [
      "#photography\n",
      "11.18\n"
     ]
    }
   ],
   "source": [
    "print(bow_transformer.get_feature_names()[4073])\n",
    "print(bow_transformer.get_feature_names()[9570])"
   ]
  },
  {
   "cell_type": "code",
   "execution_count": 21,
   "metadata": {},
   "outputs": [],
   "source": [
    "messages_bow = bow_transformer.transform(article_text['article'])"
   ]
  },
  {
   "cell_type": "code",
   "execution_count": 22,
   "metadata": {},
   "outputs": [
    {
     "name": "stdout",
     "output_type": "stream",
     "text": [
      "Shape of Sparse Matrix:  (6608, 120455)\n",
      "Amount of Non-Zero occurences:  1373166\n"
     ]
    }
   ],
   "source": [
    "print('Shape of Sparse Matrix: ', messages_bow.shape)\n",
    "print('Amount of Non-Zero occurences: ', messages_bow.nnz)"
   ]
  },
  {
   "cell_type": "markdown",
   "metadata": {},
   "source": [
    "Bag of Words methods will be used"
   ]
  },
  {
   "cell_type": "markdown",
   "metadata": {},
   "source": [
    "## TD-IDF"
   ]
  },
  {
   "cell_type": "code",
   "execution_count": 23,
   "metadata": {},
   "outputs": [
    {
     "name": "stdout",
     "output_type": "stream",
     "text": [
      "  (0, 117776)\t0.04445659805848013\n",
      "  (0, 117515)\t0.039060835559209195\n",
      "  (0, 117413)\t0.020019697130673007\n",
      "  (0, 117355)\t0.014539938960929864\n",
      "  (0, 117265)\t0.040864174571517434\n",
      "  (0, 117189)\t0.10940097816514954\n",
      "  (0, 116813)\t0.011306419621946489\n",
      "  (0, 116804)\t0.04676021699803271\n",
      "  (0, 116688)\t0.041617471126754284\n",
      "  (0, 116540)\t0.045662435299420746\n",
      "  (0, 116322)\t0.018333273189017188\n",
      "  (0, 115645)\t0.033874760596229424\n",
      "  (0, 115519)\t0.021205807068228593\n",
      "  (0, 115384)\t0.015854551433403936\n",
      "  (0, 115190)\t0.04029145236121106\n",
      "  (0, 115084)\t0.041840756513862785\n",
      "  (0, 115031)\t0.029852128338479052\n",
      "  (0, 114531)\t0.035008011544220445\n",
      "  (0, 114067)\t0.0717183889299477\n",
      "  (0, 113981)\t0.031253398578057034\n",
      "  (0, 113456)\t0.05566050975590387\n",
      "  (0, 112829)\t0.023839296305536384\n",
      "  (0, 112485)\t0.017220048872634387\n",
      "  (0, 112474)\t0.017805707654227974\n",
      "  (0, 112108)\t0.04919446596605558\n",
      "  :\t:\n",
      "  (0, 16835)\t0.01724949055349175\n",
      "  (0, 16623)\t0.018541866264791478\n",
      "  (0, 16534)\t0.039768597947825085\n",
      "  (0, 16465)\t0.042007984294773995\n",
      "  (0, 16379)\t0.014450361624484551\n",
      "  (0, 15313)\t0.043933743645094156\n",
      "  (0, 14874)\t0.05470048908257477\n",
      "  (0, 13783)\t0.04637019768803663\n",
      "  (0, 13199)\t0.038039906293498495\n",
      "  (0, 12564)\t0.04366012029467373\n",
      "  (0, 12286)\t0.033874760596229424\n",
      "  (0, 12220)\t0.032763555784164754\n",
      "  (0, 11656)\t0.02814752102517947\n",
      "  (0, 11460)\t0.03612630666394199\n",
      "  (0, 11167)\t0.04637019768803663\n",
      "  (0, 9340)\t0.023699545005823636\n",
      "  (0, 9328)\t0.052264035039632284\n",
      "  (0, 8948)\t0.05470048908257477\n",
      "  (0, 8840)\t0.04002434016224292\n",
      "  (0, 8529)\t0.08744260387538692\n",
      "  (0, 8010)\t0.05470048908257477\n",
      "  (0, 5930)\t0.012618823339096393\n",
      "  (0, 1441)\t0.04919446596605558\n",
      "  (0, 1332)\t0.09838893193211116\n",
      "  (0, 143)\t0.05470048908257477\n"
     ]
    }
   ],
   "source": [
    "from sklearn.feature_extraction.text import TfidfTransformer\n",
    "\n",
    "tfidf_transformer = TfidfTransformer().fit(messages_bow)\n",
    "tfidf4 = tfidf_transformer.transform(bow4)\n",
    "print(tfidf4)"
   ]
  },
  {
   "cell_type": "code",
   "execution_count": 24,
   "metadata": {},
   "outputs": [
    {
     "name": "stdout",
     "output_type": "stream",
     "text": [
      "4.056394723291218\n"
     ]
    }
   ],
   "source": [
    "print(tfidf_transformer.idf_[bow_transformer.vocabulary_['university']])"
   ]
  },
  {
   "cell_type": "code",
   "execution_count": 25,
   "metadata": {},
   "outputs": [
    {
     "name": "stdout",
     "output_type": "stream",
     "text": [
      "(6608, 120455)\n"
     ]
    }
   ],
   "source": [
    "messages_tfidf = tfidf_transformer.transform(messages_bow)\n",
    "print(messages_tfidf.shape)"
   ]
  },
  {
   "cell_type": "code",
   "execution_count": 26,
   "metadata": {},
   "outputs": [
    {
     "data": {
      "text/plain": [
       "<6608x120455 sparse matrix of type '<class 'numpy.float64'>'\n",
       "\twith 1373166 stored elements in Compressed Sparse Row format>"
      ]
     },
     "execution_count": 26,
     "metadata": {},
     "output_type": "execute_result"
    }
   ],
   "source": [
    "messages_tfidf"
   ]
  },
  {
   "cell_type": "markdown",
   "metadata": {},
   "source": [
    "# TfidfVectorizer"
   ]
  },
  {
   "cell_type": "code",
   "execution_count": 27,
   "metadata": {},
   "outputs": [],
   "source": [
    "# settings that you use for count vectorizer will go here\n",
    "tfidf_vectorizer=TfidfVectorizer(use_idf=True)\n",
    " \n",
    "tfidf_vectorizer_vectors=tfidf_vectorizer.fit_transform(article_text['article'])"
   ]
  },
  {
   "cell_type": "code",
   "execution_count": 28,
   "metadata": {},
   "outputs": [
    {
     "data": {
      "text/html": [
       "<div>\n",
       "<style scoped>\n",
       "    .dataframe tbody tr th:only-of-type {\n",
       "        vertical-align: middle;\n",
       "    }\n",
       "\n",
       "    .dataframe tbody tr th {\n",
       "        vertical-align: top;\n",
       "    }\n",
       "\n",
       "    .dataframe thead th {\n",
       "        text-align: right;\n",
       "    }\n",
       "</style>\n",
       "<table border=\"1\" class=\"dataframe\">\n",
       "  <thead>\n",
       "    <tr style=\"text-align: right;\">\n",
       "      <th></th>\n",
       "      <th>tfidf</th>\n",
       "    </tr>\n",
       "  </thead>\n",
       "  <tbody>\n",
       "    <tr>\n",
       "      <th>the</th>\n",
       "      <td>0.282083</td>\n",
       "    </tr>\n",
       "    <tr>\n",
       "      <th>man</th>\n",
       "      <td>0.222316</td>\n",
       "    </tr>\n",
       "    <tr>\n",
       "      <th>block</th>\n",
       "      <td>0.209365</td>\n",
       "    </tr>\n",
       "    <tr>\n",
       "      <th>found</th>\n",
       "      <td>0.193543</td>\n",
       "    </tr>\n",
       "    <tr>\n",
       "      <th>she</th>\n",
       "      <td>0.189731</td>\n",
       "    </tr>\n",
       "    <tr>\n",
       "      <th>police</th>\n",
       "      <td>0.188297</td>\n",
       "    </tr>\n",
       "    <tr>\n",
       "      <th>677</th>\n",
       "      <td>0.184313</td>\n",
       "    </tr>\n",
       "    <tr>\n",
       "      <th>chute</th>\n",
       "      <td>0.181177</td>\n",
       "    </tr>\n",
       "    <tr>\n",
       "      <th>05pm</th>\n",
       "      <td>0.163480</td>\n",
       "    </tr>\n",
       "    <tr>\n",
       "      <th>cordoned</th>\n",
       "      <td>0.162138</td>\n",
       "    </tr>\n",
       "    <tr>\n",
       "      <th>unnatural</th>\n",
       "      <td>0.159664</td>\n",
       "    </tr>\n",
       "    <tr>\n",
       "      <th>low</th>\n",
       "      <td>0.158920</td>\n",
       "    </tr>\n",
       "    <tr>\n",
       "      <th>vivian</th>\n",
       "      <td>0.158519</td>\n",
       "    </tr>\n",
       "    <tr>\n",
       "      <th>area</th>\n",
       "      <td>0.158459</td>\n",
       "    </tr>\n",
       "    <tr>\n",
       "      <th>motionless</th>\n",
       "      <td>0.157427</td>\n",
       "    </tr>\n",
       "    <tr>\n",
       "      <th>paramedics</th>\n",
       "      <td>0.157427</td>\n",
       "    </tr>\n",
       "    <tr>\n",
       "      <th>photographer</th>\n",
       "      <td>0.155384</td>\n",
       "    </tr>\n",
       "    <tr>\n",
       "      <th>rubbish</th>\n",
       "      <td>0.150145</td>\n",
       "    </tr>\n",
       "    <tr>\n",
       "      <th>cleaning</th>\n",
       "      <td>0.141692</td>\n",
       "    </tr>\n",
       "    <tr>\n",
       "      <th>pronounced</th>\n",
       "      <td>0.139604</td>\n",
       "    </tr>\n",
       "    <tr>\n",
       "      <th>12</th>\n",
       "      <td>0.135258</td>\n",
       "    </tr>\n",
       "    <tr>\n",
       "      <th>walked</th>\n",
       "      <td>0.128947</td>\n",
       "    </tr>\n",
       "    <tr>\n",
       "      <th>noticed</th>\n",
       "      <td>0.124091</td>\n",
       "    </tr>\n",
       "    <tr>\n",
       "      <th>avenue</th>\n",
       "      <td>0.123581</td>\n",
       "    </tr>\n",
       "    <tr>\n",
       "      <th>crew</th>\n",
       "      <td>0.123581</td>\n",
       "    </tr>\n",
       "    <tr>\n",
       "      <th>alerted</th>\n",
       "      <td>0.122836</td>\n",
       "    </tr>\n",
       "    <tr>\n",
       "      <th>woodlands</th>\n",
       "      <td>0.120289</td>\n",
       "    </tr>\n",
       "    <tr>\n",
       "      <th>investigating</th>\n",
       "      <td>0.117597</td>\n",
       "    </tr>\n",
       "    <tr>\n",
       "      <th>64</th>\n",
       "      <td>0.117402</td>\n",
       "    </tr>\n",
       "    <tr>\n",
       "      <th>estate</th>\n",
       "      <td>0.115359</td>\n",
       "    </tr>\n",
       "    <tr>\n",
       "      <th>...</th>\n",
       "      <td>...</td>\n",
       "    </tr>\n",
       "    <tr>\n",
       "      <th>felder</th>\n",
       "      <td>0.000000</td>\n",
       "    </tr>\n",
       "    <tr>\n",
       "      <th>felice</th>\n",
       "      <td>0.000000</td>\n",
       "    </tr>\n",
       "    <tr>\n",
       "      <th>felicia</th>\n",
       "      <td>0.000000</td>\n",
       "    </tr>\n",
       "    <tr>\n",
       "      <th>feeds</th>\n",
       "      <td>0.000000</td>\n",
       "    </tr>\n",
       "    <tr>\n",
       "      <th>feedings</th>\n",
       "      <td>0.000000</td>\n",
       "    </tr>\n",
       "    <tr>\n",
       "      <th>fed</th>\n",
       "      <td>0.000000</td>\n",
       "    </tr>\n",
       "    <tr>\n",
       "      <th>federico</th>\n",
       "      <td>0.000000</td>\n",
       "    </tr>\n",
       "    <tr>\n",
       "      <th>federal</th>\n",
       "      <td>0.000000</td>\n",
       "    </tr>\n",
       "    <tr>\n",
       "      <th>federalism</th>\n",
       "      <td>0.000000</td>\n",
       "    </tr>\n",
       "    <tr>\n",
       "      <th>federally</th>\n",
       "      <td>0.000000</td>\n",
       "    </tr>\n",
       "    <tr>\n",
       "      <th>federated</th>\n",
       "      <td>0.000000</td>\n",
       "    </tr>\n",
       "    <tr>\n",
       "      <th>federation</th>\n",
       "      <td>0.000000</td>\n",
       "    </tr>\n",
       "    <tr>\n",
       "      <th>federations</th>\n",
       "      <td>0.000000</td>\n",
       "    </tr>\n",
       "    <tr>\n",
       "      <th>federationâ</th>\n",
       "      <td>0.000000</td>\n",
       "    </tr>\n",
       "    <tr>\n",
       "      <th>federative</th>\n",
       "      <td>0.000000</td>\n",
       "    </tr>\n",
       "    <tr>\n",
       "      <th>federer</th>\n",
       "      <td>0.000000</td>\n",
       "    </tr>\n",
       "    <tr>\n",
       "      <th>federica</th>\n",
       "      <td>0.000000</td>\n",
       "    </tr>\n",
       "    <tr>\n",
       "      <th>fedex</th>\n",
       "      <td>0.000000</td>\n",
       "    </tr>\n",
       "    <tr>\n",
       "      <th>feeding</th>\n",
       "      <td>0.000000</td>\n",
       "    </tr>\n",
       "    <tr>\n",
       "      <th>fedexcup</th>\n",
       "      <td>0.000000</td>\n",
       "    </tr>\n",
       "    <tr>\n",
       "      <th>fedora</th>\n",
       "      <td>0.000000</td>\n",
       "    </tr>\n",
       "    <tr>\n",
       "      <th>fedrick</th>\n",
       "      <td>0.000000</td>\n",
       "    </tr>\n",
       "    <tr>\n",
       "      <th>fedwatch</th>\n",
       "      <td>0.000000</td>\n",
       "    </tr>\n",
       "    <tr>\n",
       "      <th>fedâ</th>\n",
       "      <td>0.000000</td>\n",
       "    </tr>\n",
       "    <tr>\n",
       "      <th>fee</th>\n",
       "      <td>0.000000</td>\n",
       "    </tr>\n",
       "    <tr>\n",
       "      <th>feeble</th>\n",
       "      <td>0.000000</td>\n",
       "    </tr>\n",
       "    <tr>\n",
       "      <th>feed</th>\n",
       "      <td>0.000000</td>\n",
       "    </tr>\n",
       "    <tr>\n",
       "      <th>feedback</th>\n",
       "      <td>0.000000</td>\n",
       "    </tr>\n",
       "    <tr>\n",
       "      <th>feeder</th>\n",
       "      <td>0.000000</td>\n",
       "    </tr>\n",
       "    <tr>\n",
       "      <th>𝔹𝕒𝕝𝕒𝕕𝕒𝕕</th>\n",
       "      <td>0.000000</td>\n",
       "    </tr>\n",
       "  </tbody>\n",
       "</table>\n",
       "<p>54290 rows × 1 columns</p>\n",
       "</div>"
      ],
      "text/plain": [
       "             tfidf\n",
       "the       0.282083\n",
       "man       0.222316\n",
       "block     0.209365\n",
       "found     0.193543\n",
       "she       0.189731\n",
       "...            ...\n",
       "feeble    0.000000\n",
       "feed      0.000000\n",
       "feedback  0.000000\n",
       "feeder    0.000000\n",
       "𝔹𝕒𝕝𝕒𝕕𝕒𝕕   0.000000\n",
       "\n",
       "[54290 rows x 1 columns]"
      ]
     },
     "execution_count": 28,
     "metadata": {},
     "output_type": "execute_result"
    }
   ],
   "source": [
    "# get the first vector out (for the first document)\n",
    "first_vector_tfidfvectorizer=tfidf_vectorizer_vectors[0]\n",
    " \n",
    "# place tf-idf values in a pandas data frame\n",
    "df = pd.DataFrame(first_vector_tfidfvectorizer.T.todense(), index=tfidf_vectorizer.get_feature_names(), columns=[\"tfidf\"])\n",
    "df.sort_values(by=[\"tfidf\"],ascending=False)"
   ]
  },
  {
   "cell_type": "code",
   "execution_count": 29,
   "metadata": {},
   "outputs": [],
   "source": [
    "# TF-IDF object\n",
    "with open('Pickles/tfidf.pickle', 'wb') as output:\n",
    "    pickle.dump(messages_tfidf, output)"
   ]
  },
  {
   "cell_type": "code",
   "execution_count": 30,
   "metadata": {},
   "outputs": [
    {
     "data": {
      "text/html": [
       "<div>\n",
       "<style scoped>\n",
       "    .dataframe tbody tr th:only-of-type {\n",
       "        vertical-align: middle;\n",
       "    }\n",
       "\n",
       "    .dataframe tbody tr th {\n",
       "        vertical-align: top;\n",
       "    }\n",
       "\n",
       "    .dataframe thead th {\n",
       "        text-align: right;\n",
       "    }\n",
       "</style>\n",
       "<table border=\"1\" class=\"dataframe\">\n",
       "  <thead>\n",
       "    <tr style=\"text-align: right;\">\n",
       "      <th></th>\n",
       "      <th>article</th>\n",
       "      <th>category</th>\n",
       "      <th>Category_Code</th>\n",
       "    </tr>\n",
       "  </thead>\n",
       "  <tbody>\n",
       "    <tr>\n",
       "      <th>0</th>\n",
       "      <td>SINGAPORE - A man's body was found on the grou...</td>\n",
       "      <td>Singapore</td>\n",
       "      <td>3</td>\n",
       "    </tr>\n",
       "    <tr>\n",
       "      <th>1</th>\n",
       "      <td>London (AFP) - Thai Formula One driver Alexand...</td>\n",
       "      <td>Sport</td>\n",
       "      <td>4</td>\n",
       "    </tr>\n",
       "    <tr>\n",
       "      <th>2</th>\n",
       "      <td>SINGAPORE - The Straits Times bagged eight awa...</td>\n",
       "      <td>Singapore</td>\n",
       "      <td>3</td>\n",
       "    </tr>\n",
       "    <tr>\n",
       "      <th>3</th>\n",
       "      <td>Ready for a challenge? Try out daily Sudoku an...</td>\n",
       "      <td>Lifestyle</td>\n",
       "      <td>0</td>\n",
       "    </tr>\n",
       "    <tr>\n",
       "      <th>4</th>\n",
       "      <td>HONG KONG (BLOOMBERG) – Hong Kong airport auth...</td>\n",
       "      <td>World</td>\n",
       "      <td>2</td>\n",
       "    </tr>\n",
       "    <tr>\n",
       "      <th>5</th>\n",
       "      <td>HONG KONG - A meal at Dragon Centre mall has b...</td>\n",
       "      <td>World</td>\n",
       "      <td>2</td>\n",
       "    </tr>\n",
       "    <tr>\n",
       "      <th>6</th>\n",
       "      <td>SINGAPORE - Six flights from Singapore to Hong...</td>\n",
       "      <td>Singapore</td>\n",
       "      <td>3</td>\n",
       "    </tr>\n",
       "    <tr>\n",
       "      <th>7</th>\n",
       "      <td>HONG KONG (AGENCE FRANCE-PRESSE, REUTERS) - Ch...</td>\n",
       "      <td>World</td>\n",
       "      <td>2</td>\n",
       "    </tr>\n",
       "    <tr>\n",
       "      <th>8</th>\n",
       "      <td>MERSING - Malaysian authorities on Monday (Aug...</td>\n",
       "      <td>Singapore</td>\n",
       "      <td>3</td>\n",
       "    </tr>\n",
       "    <tr>\n",
       "      <th>9</th>\n",
       "      <td>Can't Be Tamed singer Miley Cyrus will not be ...</td>\n",
       "      <td>Lifestyle</td>\n",
       "      <td>0</td>\n",
       "    </tr>\n",
       "    <tr>\n",
       "      <th>10</th>\n",
       "      <td>Rain has returned to much of Asia, including t...</td>\n",
       "      <td>World</td>\n",
       "      <td>2</td>\n",
       "    </tr>\n",
       "    <tr>\n",
       "      <th>11</th>\n",
       "      <td>HONG KONG - A meal at Dragon Centre mall has b...</td>\n",
       "      <td>World</td>\n",
       "      <td>2</td>\n",
       "    </tr>\n",
       "    <tr>\n",
       "      <th>12</th>\n",
       "      <td>SINGAPORE - The deadline for personal mobility...</td>\n",
       "      <td>Singapore</td>\n",
       "      <td>3</td>\n",
       "    </tr>\n",
       "    <tr>\n",
       "      <th>13</th>\n",
       "      <td>In today’s bulletin: UN report warns of the im...</td>\n",
       "      <td>World</td>\n",
       "      <td>2</td>\n",
       "    </tr>\n",
       "    <tr>\n",
       "      <th>14</th>\n",
       "      <td>The owner of a $14 million Sentosa Cove waterf...</td>\n",
       "      <td>Singapore</td>\n",
       "      <td>3</td>\n",
       "    </tr>\n",
       "    <tr>\n",
       "      <th>15</th>\n",
       "      <td>SINGAPORE - Global upheavals have produced gra...</td>\n",
       "      <td>Singapore</td>\n",
       "      <td>3</td>\n",
       "    </tr>\n",
       "    <tr>\n",
       "      <th>16</th>\n",
       "      <td>AMSTERDAM (DPA) - Dutch authorities are lookin...</td>\n",
       "      <td>World</td>\n",
       "      <td>2</td>\n",
       "    </tr>\n",
       "    <tr>\n",
       "      <th>17</th>\n",
       "      <td>REVIEW/CONCERT\\n\\nWESTLIFE THE TWENTY TOUR\\n\\n...</td>\n",
       "      <td>Lifestyle</td>\n",
       "      <td>0</td>\n",
       "    </tr>\n",
       "    <tr>\n",
       "      <th>18</th>\n",
       "      <td>TOKYO (THE YOMIURI SHIMBUN/ASIA NEWS NETWORK) ...</td>\n",
       "      <td>World</td>\n",
       "      <td>2</td>\n",
       "    </tr>\n",
       "    <tr>\n",
       "      <th>22</th>\n",
       "      <td>Thailand's Future Forward Party, a progressive...</td>\n",
       "      <td>World</td>\n",
       "      <td>2</td>\n",
       "    </tr>\n",
       "    <tr>\n",
       "      <th>23</th>\n",
       "      <td>SINGAPORE - Singapore's oldest practising lawy...</td>\n",
       "      <td>Singapore</td>\n",
       "      <td>3</td>\n",
       "    </tr>\n",
       "    <tr>\n",
       "      <th>24</th>\n",
       "      <td>It was World Elephant Day yesterday, and Singa...</td>\n",
       "      <td>Singapore</td>\n",
       "      <td>3</td>\n",
       "    </tr>\n",
       "    <tr>\n",
       "      <th>25</th>\n",
       "      <td>SINGAPORE - Singapore shares opened sharply lo...</td>\n",
       "      <td>Business</td>\n",
       "      <td>1</td>\n",
       "    </tr>\n",
       "    <tr>\n",
       "      <th>26</th>\n",
       "      <td>TOKYO (REUTERS) - Asian shares slumped on Tues...</td>\n",
       "      <td>Business</td>\n",
       "      <td>1</td>\n",
       "    </tr>\n",
       "    <tr>\n",
       "      <th>27</th>\n",
       "      <td>Singapore's racial and religious diversity can...</td>\n",
       "      <td>Singapore</td>\n",
       "      <td>3</td>\n",
       "    </tr>\n",
       "    <tr>\n",
       "      <th>28</th>\n",
       "      <td>We have been experiencing some problems with s...</td>\n",
       "      <td>Singapore</td>\n",
       "      <td>3</td>\n",
       "    </tr>\n",
       "    <tr>\n",
       "      <th>29</th>\n",
       "      <td>Robots are often spotted in factories and ware...</td>\n",
       "      <td>Business</td>\n",
       "      <td>1</td>\n",
       "    </tr>\n",
       "    <tr>\n",
       "      <th>30</th>\n",
       "      <td>LONDON (REUTERS) - A majority of Britons belie...</td>\n",
       "      <td>World</td>\n",
       "      <td>2</td>\n",
       "    </tr>\n",
       "    <tr>\n",
       "      <th>31</th>\n",
       "      <td>BEIJING • A monster storm that smashed its way...</td>\n",
       "      <td>World</td>\n",
       "      <td>2</td>\n",
       "    </tr>\n",
       "    <tr>\n",
       "      <th>32</th>\n",
       "      <td>SINGAPORE - A Scoot flight from Singapore to H...</td>\n",
       "      <td>Singapore</td>\n",
       "      <td>3</td>\n",
       "    </tr>\n",
       "    <tr>\n",
       "      <th>...</th>\n",
       "      <td>...</td>\n",
       "      <td>...</td>\n",
       "      <td>...</td>\n",
       "    </tr>\n",
       "    <tr>\n",
       "      <th>6012</th>\n",
       "      <td>MEXICO CITY: Residents of Mexico City who are ...</td>\n",
       "      <td>World</td>\n",
       "      <td>2</td>\n",
       "    </tr>\n",
       "    <tr>\n",
       "      <th>6013</th>\n",
       "      <td>REUTERS: U.S. Senate Finance Committee Chairma...</td>\n",
       "      <td>World</td>\n",
       "      <td>2</td>\n",
       "    </tr>\n",
       "    <tr>\n",
       "      <th>6014</th>\n",
       "      <td>ON BOARD THE OCEAN VIKING - French charities S...</td>\n",
       "      <td>World</td>\n",
       "      <td>2</td>\n",
       "    </tr>\n",
       "    <tr>\n",
       "      <th>6015</th>\n",
       "      <td>LONDON: A majority of Britons believe Prime Mi...</td>\n",
       "      <td>World</td>\n",
       "      <td>2</td>\n",
       "    </tr>\n",
       "    <tr>\n",
       "      <th>6016</th>\n",
       "      <td>WASHINGTON: Democratic presidential hopeful Tu...</td>\n",
       "      <td>World</td>\n",
       "      <td>2</td>\n",
       "    </tr>\n",
       "    <tr>\n",
       "      <th>6017</th>\n",
       "      <td>BUENOS AIRES: Argentine President Mauricio Mac...</td>\n",
       "      <td>World</td>\n",
       "      <td>2</td>\n",
       "    </tr>\n",
       "    <tr>\n",
       "      <th>6018</th>\n",
       "      <td>Walk into any emergency room in the U.S. and y...</td>\n",
       "      <td>World</td>\n",
       "      <td>2</td>\n",
       "    </tr>\n",
       "    <tr>\n",
       "      <th>6019</th>\n",
       "      <td>A growing number of Americans treated at hospi...</td>\n",
       "      <td>World</td>\n",
       "      <td>2</td>\n",
       "    </tr>\n",
       "    <tr>\n",
       "      <th>6020</th>\n",
       "      <td>LONDON: US National Security Advisor John Bolt...</td>\n",
       "      <td>World</td>\n",
       "      <td>2</td>\n",
       "    </tr>\n",
       "    <tr>\n",
       "      <th>6021</th>\n",
       "      <td>LONDON: British warship HMS Kent set sail for ...</td>\n",
       "      <td>World</td>\n",
       "      <td>2</td>\n",
       "    </tr>\n",
       "    <tr>\n",
       "      <th>6022</th>\n",
       "      <td>CENTERVILLE, Massachusetts: A private funeral ...</td>\n",
       "      <td>World</td>\n",
       "      <td>2</td>\n",
       "    </tr>\n",
       "    <tr>\n",
       "      <th>6023</th>\n",
       "      <td>EL PASO, Texas: US-based Latinos voiced their ...</td>\n",
       "      <td>World</td>\n",
       "      <td>2</td>\n",
       "    </tr>\n",
       "    <tr>\n",
       "      <th>6024</th>\n",
       "      <td>MELBOURNE: Unwanted facial and body hair can a...</td>\n",
       "      <td>World</td>\n",
       "      <td>2</td>\n",
       "    </tr>\n",
       "    <tr>\n",
       "      <th>6025</th>\n",
       "      <td>In extreme heat, electric fans may offer some ...</td>\n",
       "      <td>World</td>\n",
       "      <td>2</td>\n",
       "    </tr>\n",
       "    <tr>\n",
       "      <th>6026</th>\n",
       "      <td>NEW YORK: A supporter of President Donald Trum...</td>\n",
       "      <td>World</td>\n",
       "      <td>2</td>\n",
       "    </tr>\n",
       "    <tr>\n",
       "      <th>6027</th>\n",
       "      <td>American families with military health insuran...</td>\n",
       "      <td>World</td>\n",
       "      <td>2</td>\n",
       "    </tr>\n",
       "    <tr>\n",
       "      <th>6028</th>\n",
       "      <td>BEIJING: Chinese companies have stopped buying...</td>\n",
       "      <td>World</td>\n",
       "      <td>2</td>\n",
       "    </tr>\n",
       "    <tr>\n",
       "      <th>6029</th>\n",
       "      <td>WASHINGTON: President Donald Trump on Monday (...</td>\n",
       "      <td>World</td>\n",
       "      <td>2</td>\n",
       "    </tr>\n",
       "    <tr>\n",
       "      <th>6030</th>\n",
       "      <td>WASHINGTON: Walmart Inc said on Monday (Aug 5)...</td>\n",
       "      <td>World</td>\n",
       "      <td>2</td>\n",
       "    </tr>\n",
       "    <tr>\n",
       "      <th>6031</th>\n",
       "      <td>Older women who are under a lot of social stra...</td>\n",
       "      <td>World</td>\n",
       "      <td>2</td>\n",
       "    </tr>\n",
       "    <tr>\n",
       "      <th>6032</th>\n",
       "      <td>SYDNEY: The United States no longer has milita...</td>\n",
       "      <td>World</td>\n",
       "      <td>2</td>\n",
       "    </tr>\n",
       "    <tr>\n",
       "      <th>6033</th>\n",
       "      <td>KUALA LUMPUR: Malaysian Prime Minister Mahathi...</td>\n",
       "      <td>World</td>\n",
       "      <td>2</td>\n",
       "    </tr>\n",
       "    <tr>\n",
       "      <th>6034</th>\n",
       "      <td>SOPRON, Hungary: German Chancellor Angela Merk...</td>\n",
       "      <td>World</td>\n",
       "      <td>2</td>\n",
       "    </tr>\n",
       "    <tr>\n",
       "      <th>6035</th>\n",
       "      <td>VENICE: The star-studded Venice film festival ...</td>\n",
       "      <td>World</td>\n",
       "      <td>2</td>\n",
       "    </tr>\n",
       "    <tr>\n",
       "      <th>6036</th>\n",
       "      <td>MONTANA ALTA, Spain: A wildfire raged out of c...</td>\n",
       "      <td>World</td>\n",
       "      <td>2</td>\n",
       "    </tr>\n",
       "    <tr>\n",
       "      <th>6037</th>\n",
       "      <td>TOKYO: Japan's politically sensitive trade sur...</td>\n",
       "      <td>World</td>\n",
       "      <td>2</td>\n",
       "    </tr>\n",
       "    <tr>\n",
       "      <th>6038</th>\n",
       "      <td>WASHINGTON: You may have seen it among your ow...</td>\n",
       "      <td>World</td>\n",
       "      <td>2</td>\n",
       "    </tr>\n",
       "    <tr>\n",
       "      <th>6039</th>\n",
       "      <td>OTTAWA: China's embassy in Ottawa warned Canad...</td>\n",
       "      <td>World</td>\n",
       "      <td>2</td>\n",
       "    </tr>\n",
       "    <tr>\n",
       "      <th>6040</th>\n",
       "      <td>AUCKLAND: What did we do before smartphones? O...</td>\n",
       "      <td>World</td>\n",
       "      <td>2</td>\n",
       "    </tr>\n",
       "    <tr>\n",
       "      <th>6041</th>\n",
       "      <td>WASHINGTON: US President Donald Trump on Sunda...</td>\n",
       "      <td>World</td>\n",
       "      <td>2</td>\n",
       "    </tr>\n",
       "  </tbody>\n",
       "</table>\n",
       "<p>6608 rows × 3 columns</p>\n",
       "</div>"
      ],
      "text/plain": [
       "                                                article   category  \\\n",
       "0     SINGAPORE - A man's body was found on the grou...  Singapore   \n",
       "1     London (AFP) - Thai Formula One driver Alexand...      Sport   \n",
       "2     SINGAPORE - The Straits Times bagged eight awa...  Singapore   \n",
       "3     Ready for a challenge? Try out daily Sudoku an...  Lifestyle   \n",
       "4     HONG KONG (BLOOMBERG) – Hong Kong airport auth...      World   \n",
       "...                                                 ...        ...   \n",
       "6037  TOKYO: Japan's politically sensitive trade sur...      World   \n",
       "6038  WASHINGTON: You may have seen it among your ow...      World   \n",
       "6039  OTTAWA: China's embassy in Ottawa warned Canad...      World   \n",
       "6040  AUCKLAND: What did we do before smartphones? O...      World   \n",
       "6041  WASHINGTON: US President Donald Trump on Sunda...      World   \n",
       "\n",
       "     Category_Code  \n",
       "0                3  \n",
       "1                4  \n",
       "2                3  \n",
       "3                0  \n",
       "4                2  \n",
       "...            ...  \n",
       "6037             2  \n",
       "6038             2  \n",
       "6039             2  \n",
       "6040             2  \n",
       "6041             2  \n",
       "\n",
       "[6608 rows x 3 columns]"
      ]
     },
     "execution_count": 30,
     "metadata": {},
     "output_type": "execute_result"
    }
   ],
   "source": [
    "proceessedData"
   ]
  },
  {
   "cell_type": "code",
   "execution_count": 31,
   "metadata": {},
   "outputs": [],
   "source": [
    "X_train, X_test, y_train, y_test = train_test_split(proceessedData['article'], proceessedData['Category_Code'], test_size=0.3, random_state=8)"
   ]
  },
  {
   "cell_type": "code",
   "execution_count": 32,
   "metadata": {},
   "outputs": [],
   "source": [
    "# Parameter election\n",
    "ngram_range = (1,2)\n",
    "min_df = 10\n",
    "max_df = 1.\n",
    "max_features = 300"
   ]
  },
  {
   "cell_type": "code",
   "execution_count": 34,
   "metadata": {},
   "outputs": [
    {
     "name": "stdout",
     "output_type": "stream",
     "text": [
      "(4625, 300)\n",
      "(1983, 300)\n"
     ]
    }
   ],
   "source": [
    "tfidf = TfidfVectorizer(encoding='utf-8',\n",
    "                        ngram_range=ngram_range,\n",
    "                        stop_words=None,\n",
    "                        lowercase=False,\n",
    "                        max_df=max_df,\n",
    "                        min_df=min_df,\n",
    "                        max_features=max_features,\n",
    "                        norm='l2',\n",
    "                        sublinear_tf=True)\n",
    "                        \n",
    "training_features = tfidf.fit_transform(X_train).toarray()\n",
    "training_labels = y_train\n",
    "print(training_features.shape)\n",
    "\n",
    "test_features = tfidf.transform(X_test).toarray()\n",
    "test_labels = y_test\n",
    "print(test_features.shape)"
   ]
  },
  {
   "cell_type": "code",
   "execution_count": 35,
   "metadata": {},
   "outputs": [],
   "source": [
    "#Training Features\n",
    "with open('Pickles/training_features.pickle', 'wb') as output:\n",
    "    pickle.dump(training_features, output)\n",
    "    \n",
    "#Training Labels\n",
    "with open('Pickles/training_labels.pickle', 'wb') as output:\n",
    "    pickle.dump(training_labels, output)\n",
    "    \n",
    "#Test Features\n",
    "with open('Pickles/test_features.pickle', 'wb') as output:\n",
    "    pickle.dump(test_features, output)\n",
    "    \n",
    "#Test Labels\n",
    "with open('Pickles/test_labels.pickle', 'wb') as output:\n",
    "    pickle.dump(test_labels, output)"
   ]
  },
  {
   "cell_type": "code",
   "execution_count": null,
   "metadata": {},
   "outputs": [],
   "source": []
  }
 ],
 "metadata": {
  "kernelspec": {
   "display_name": "Python 3",
   "language": "python",
   "name": "python3"
  },
  "language_info": {
   "codemirror_mode": {
    "name": "ipython",
    "version": 3
   },
   "file_extension": ".py",
   "mimetype": "text/x-python",
   "name": "python",
   "nbconvert_exporter": "python",
   "pygments_lexer": "ipython3",
   "version": "3.7.0"
  }
 },
 "nbformat": 4,
 "nbformat_minor": 2
}
