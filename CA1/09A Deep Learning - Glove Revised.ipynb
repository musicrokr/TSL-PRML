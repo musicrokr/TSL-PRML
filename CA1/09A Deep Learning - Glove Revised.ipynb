{
 "cells": [
  {
   "cell_type": "markdown",
   "metadata": {},
   "source": [
    "https://www.kaggle.com/carlosaguayo/deep-learning-for-text-classification"
   ]
  },
  {
   "cell_type": "code",
   "execution_count": 1,
   "metadata": {},
   "outputs": [],
   "source": [
    "import pickle\n",
    "import os\n",
    "import numpy as np\n",
    "import sklearn.metrics as metrics\n",
    "import matplotlib.pyplot as plt\n",
    "\n",
    "from sklearn.model_selection import train_test_split\n",
    "\n",
    "from tensorflow.keras.models import Sequential\n",
    "from tensorflow.keras.callbacks import ModelCheckpoint,CSVLogger\n",
    "from tensorflow.keras.models import Model\n",
    "from tensorflow.keras.layers import Input\n",
    "from tensorflow.keras.layers import Dense\n",
    "from tensorflow.keras.layers import Flatten\n",
    "from tensorflow.keras.layers import Conv1D\n",
    "from tensorflow.keras.layers import Conv2D\n",
    "from tensorflow.keras.layers import Dropout\n",
    "from tensorflow.keras.layers import MaxPooling2D\n",
    "from tensorflow.keras.layers import MaxPooling1D\n",
    "\n",
    "from tensorflow.keras.layers import BatchNormalization\n",
    "from tensorflow.keras.layers import Activation\n",
    "from tensorflow.keras.utils import to_categorical\n",
    "from tensorflow.keras.datasets import cifar10\n",
    "from tensorflow.keras import optimizers\n",
    "from tensorflow.keras import regularizers\n",
    "from tensorflow.keras.preprocessing.text import Tokenizer\n",
    "from tensorflow.keras.preprocessing.sequence import pad_sequences\n",
    "from tensorflow.keras import layers"
   ]
  },
  {
   "cell_type": "code",
   "execution_count": 2,
   "metadata": {},
   "outputs": [],
   "source": [
    "#Processed Data Frame [ Do Not Use this, Use the Training, Tesing and Validation Data Sets Instead]\n",
    "data_path = \"./Pickles/all_articles_processed.pickle\"\n",
    "with open(data_path, 'rb') as data:\n",
    "    all_articles = pickle.load(data)"
   ]
  },
  {
   "cell_type": "code",
   "execution_count": 3,
   "metadata": {},
   "outputs": [
    {
     "data": {
      "text/html": [
       "<div>\n",
       "<style scoped>\n",
       "    .dataframe tbody tr th:only-of-type {\n",
       "        vertical-align: middle;\n",
       "    }\n",
       "\n",
       "    .dataframe tbody tr th {\n",
       "        vertical-align: top;\n",
       "    }\n",
       "\n",
       "    .dataframe thead th {\n",
       "        text-align: right;\n",
       "    }\n",
       "</style>\n",
       "<table border=\"1\" class=\"dataframe\">\n",
       "  <thead>\n",
       "    <tr style=\"text-align: right;\">\n",
       "      <th></th>\n",
       "      <th>source</th>\n",
       "      <th>title</th>\n",
       "      <th>article</th>\n",
       "      <th>category</th>\n",
       "      <th>length_characters</th>\n",
       "      <th>length_words</th>\n",
       "      <th>category_code</th>\n",
       "    </tr>\n",
       "  </thead>\n",
       "  <tbody>\n",
       "    <tr>\n",
       "      <th>0</th>\n",
       "      <td>The Straits Times</td>\n",
       "      <td>Myth, magic and memoirs at storytelling festival</td>\n",
       "      <td>singapore  complicate life story mexican pain...</td>\n",
       "      <td>Lifestyle</td>\n",
       "      <td>3603</td>\n",
       "      <td>589</td>\n",
       "      <td>3</td>\n",
       "    </tr>\n",
       "    <tr>\n",
       "      <th>1</th>\n",
       "      <td>AsiaOne</td>\n",
       "      <td>Beyond the ski slopes: Why the wealthy have ey...</td>\n",
       "      <td>hot sunny day im look hokkaidos mighty usu vol...</td>\n",
       "      <td>Lifestyle</td>\n",
       "      <td>9642</td>\n",
       "      <td>1500</td>\n",
       "      <td>3</td>\n",
       "    </tr>\n",
       "    <tr>\n",
       "      <th>2</th>\n",
       "      <td>The Straits Times</td>\n",
       "      <td>Critics gush over the spectacle and story of A...</td>\n",
       "      <td>los angeles unite state reuters  film critics...</td>\n",
       "      <td>Lifestyle</td>\n",
       "      <td>2390</td>\n",
       "      <td>374</td>\n",
       "      <td>3</td>\n",
       "    </tr>\n",
       "    <tr>\n",
       "      <th>3</th>\n",
       "      <td>AsiaOne</td>\n",
       "      <td>Spaces we love: Singaporean homes washed in na...</td>\n",
       "      <td>want home bath light adjustments need make get...</td>\n",
       "      <td>Lifestyle</td>\n",
       "      <td>1645</td>\n",
       "      <td>286</td>\n",
       "      <td>3</td>\n",
       "    </tr>\n",
       "    <tr>\n",
       "      <th>4</th>\n",
       "      <td>Channel News Asia</td>\n",
       "      <td>NaN</td>\n",
       "      <td>amid colossal portraits clean line black white...</td>\n",
       "      <td>Lifestyle</td>\n",
       "      <td>1985</td>\n",
       "      <td>300</td>\n",
       "      <td>3</td>\n",
       "    </tr>\n",
       "  </tbody>\n",
       "</table>\n",
       "</div>"
      ],
      "text/plain": [
       "              source                                              title  \\\n",
       "0  The Straits Times   Myth, magic and memoirs at storytelling festival   \n",
       "1            AsiaOne  Beyond the ski slopes: Why the wealthy have ey...   \n",
       "2  The Straits Times  Critics gush over the spectacle and story of A...   \n",
       "3            AsiaOne  Spaces we love: Singaporean homes washed in na...   \n",
       "4  Channel News Asia                                                NaN   \n",
       "\n",
       "                                             article   category  \\\n",
       "0   singapore  complicate life story mexican pain...  Lifestyle   \n",
       "1  hot sunny day im look hokkaidos mighty usu vol...  Lifestyle   \n",
       "2   los angeles unite state reuters  film critics...  Lifestyle   \n",
       "3  want home bath light adjustments need make get...  Lifestyle   \n",
       "4  amid colossal portraits clean line black white...  Lifestyle   \n",
       "\n",
       "   length_characters  length_words  category_code  \n",
       "0               3603           589              3  \n",
       "1               9642          1500              3  \n",
       "2               2390           374              3  \n",
       "3               1645           286              3  \n",
       "4               1985           300              3  "
      ]
     },
     "execution_count": 3,
     "metadata": {},
     "output_type": "execute_result"
    }
   ],
   "source": [
    "df = all_articles\n",
    "df.head()"
   ]
  },
  {
   "cell_type": "code",
   "execution_count": 4,
   "metadata": {},
   "outputs": [
    {
     "data": {
      "text/plain": [
       "array(['Lifestyle', 'World', 'Technology', 'Business', 'Singapore',\n",
       "       'Sports'], dtype=object)"
      ]
     },
     "execution_count": 4,
     "metadata": {},
     "output_type": "execute_result"
    }
   ],
   "source": [
    "df['category'].unique()"
   ]
  },
  {
   "cell_type": "code",
   "execution_count": 5,
   "metadata": {},
   "outputs": [
    {
     "data": {
      "text/plain": [
       "6000"
      ]
     },
     "execution_count": 5,
     "metadata": {},
     "output_type": "execute_result"
    }
   ],
   "source": [
    "len(df)"
   ]
  },
  {
   "cell_type": "markdown",
   "metadata": {},
   "source": [
    "# GloVe embeddings"
   ]
  },
  {
   "cell_type": "code",
   "execution_count": 6,
   "metadata": {},
   "outputs": [],
   "source": [
    "texts = df['article'] #Extract text\n",
    "target = df['category'] # Extract target"
   ]
  },
  {
   "cell_type": "code",
   "execution_count": 7,
   "metadata": {},
   "outputs": [
    {
     "data": {
      "text/plain": [
       "0     singapore  complicate life story mexican pain...\n",
       "1    hot sunny day im look hokkaidos mighty usu vol...\n",
       "2     los angeles unite state reuters  film critics...\n",
       "3    want home bath light adjustments need make get...\n",
       "4    amid colossal portraits clean line black white...\n",
       "Name: article, dtype: object"
      ]
     },
     "execution_count": 7,
     "metadata": {},
     "output_type": "execute_result"
    }
   ],
   "source": [
    "texts.head()"
   ]
  },
  {
   "cell_type": "code",
   "execution_count": 8,
   "metadata": {},
   "outputs": [
    {
     "data": {
      "text/plain": [
       "0    Lifestyle\n",
       "1    Lifestyle\n",
       "2    Lifestyle\n",
       "3    Lifestyle\n",
       "4    Lifestyle\n",
       "Name: category, dtype: object"
      ]
     },
     "execution_count": 8,
     "metadata": {},
     "output_type": "execute_result"
    }
   ],
   "source": [
    "target.head()"
   ]
  },
  {
   "cell_type": "code",
   "execution_count": 9,
   "metadata": {},
   "outputs": [],
   "source": [
    "vocab_size = 20000\n",
    "\n",
    "tokenizer = Tokenizer(num_words=vocab_size) # Setup tokenizer\n",
    "tokenizer.fit_on_texts(df['article'])\n",
    "sequences = tokenizer.texts_to_sequences(df['article']) # Generate sequences"
   ]
  },
  {
   "cell_type": "code",
   "execution_count": 10,
   "metadata": {},
   "outputs": [
    {
     "name": "stdout",
     "output_type": "stream",
     "text": [
      "[[]]\n"
     ]
    }
   ],
   "source": [
    "print (tokenizer.texts_to_sequences(['how are you?']))"
   ]
  },
  {
   "cell_type": "code",
   "execution_count": 11,
   "metadata": {},
   "outputs": [
    {
     "name": "stdout",
     "output_type": "stream",
     "text": [
      "[4, 3230, 205, 87, 4867, 11724, 19508, 14373, 2811, 17326, 1385, 213, 1917, 820, 10518, 961, 484, 2259, 6378, 643, 6072, 961, 116, 1797, 183, 281, 760, 20, 653, 916, 431, 17327, 903, 10519, 5942, 3579, 1225, 2487, 17327, 11725, 4434, 307, 6860, 369, 205, 307, 5814, 1123, 212, 13318, 1320, 38, 860, 37, 1002, 14373, 1970, 975, 288, 37, 22, 2215, 385, 101, 14373, 158, 177, 1698, 3231, 366, 288, 37, 1455, 19508, 14373, 61, 105, 661, 591, 508, 1622, 1395, 10015, 1, 1007, 594, 6536, 1787, 2036, 1, 2025, 215, 285, 15, 10, 1088, 1008, 760, 3004, 1208, 3764, 20, 398, 343, 3, 3333, 2928, 9186, 2929, 1508, 1, 6537, 48, 3579, 381, 1508, 885, 2290, 35, 45, 240, 371, 8, 837, 23, 5943, 2, 53, 12457, 2893, 32, 68, 917, 369, 48, 137, 7, 304, 435, 82, 7274, 44, 8, 1093, 658, 506, 977, 1703, 115, 6379, 9187, 1061, 672, 961, 20, 347, 694, 9187, 367, 17328, 315, 1124, 132, 168, 276, 275, 847, 20, 330, 87, 8870, 1311, 1204, 106, 3050, 442, 192, 3985, 3189, 6216, 476, 233, 4, 1811, 10016, 2143, 2930, 4145, 923, 7275, 55, 639, 10520, 374, 2674, 1003, 535, 3415, 1080, 1374, 14374, 3765, 168, 477, 6536, 16, 3416, 10518, 2811, 13319, 3450, 8245, 396, 1004, 470, 7747, 1312, 2152, 2341, 8245, 4559, 8535, 345, 2341, 376, 2060, 106, 13319, 3450, 421, 66, 111, 8245, 4259, 1226, 83, 588, 3190, 2811, 20, 6073, 17326, 15629, 11726, 87, 2974, 4435, 14374, 4972, 2694, 4086, 3541, 5691, 3, 106, 86, 5692, 7, 17326, 18, 48, 369, 14374, 1, 297, 2861, 441, 68, 9188, 1231, 643, 17327, 12458, 177, 47, 938, 2762, 476, 1797, 183, 482, 777, 2975, 281, 842, 8, 3073, 842, 73, 3986]\n"
     ]
    }
   ],
   "source": [
    "print (sequences[0])"
   ]
  },
  {
   "cell_type": "code",
   "execution_count": 12,
   "metadata": {},
   "outputs": [
    {
     "name": "stdout",
     "output_type": "stream",
     "text": [
      "Found 65,992 unique words.\n"
     ]
    }
   ],
   "source": [
    "word_index = tokenizer.word_index\n",
    "print('Found {:,} unique words.'.format(len(word_index)))"
   ]
  },
  {
   "cell_type": "code",
   "execution_count": 13,
   "metadata": {},
   "outputs": [
    {
     "name": "stdout",
     "output_type": "stream",
     "text": [
      "singapore complicate life story mexican painter frida kahlo exhibition effigies female third edition annual storytelling festival aim disrupt notion single narrative festival run arts house june program include asian premier american storyteller david rendition ancient epic reflect brazilian storyteller ana maria line weave stories life line fascinate ability turn adversity art since child show picture kahlo paint class create show go mexico visit place kahlo live talk artists locals process create show inspire frida kahlo help another understand death important remember celebrate ancestors say email message festivals creative producer say audience grow begin last year attend ticket program observe increasingly audiences include parent children also professionals keen hone communication skills say somebody tell epic minutes skills apply pitch market find spend lot time wait people dictate us see visualise imagine add want type stories tell allow make believe access part imagination give time connect front something bear weve become distract disconnect certain devices festival include free programme disconnect digital detox space visitors ask put away phone activities include big story tent establish emerge hold sessions room read library homegrown publisher book six singapore theatre practitioners tay grace journalist present tales relate region javanese term maritime southeast asia showcase addition artist zarina muhammad put together festivals first visual storytelling exhibition accredit agents poison title refer british physician john text malay poison charm cure write malay women generally hold accredit agents rate many case poison naturally cook leave almost entirely exhibition include clay effigies embroider cloth story spell jar zarina assemble ingredients spice expire medication also hold public workshop make effigies use tell stories zarina say interest desire body want destabilise voice single storyteller negate talk back extend conversation book arts house old parliament lane june various time admission various price info "
     ]
    }
   ],
   "source": [
    "# Create inverse index mapping numbers to words\n",
    "inv_index = {v: k for k, v in tokenizer.word_index.items()}\n",
    "\n",
    "# Print out text again\n",
    "for w in sequences[0]:\n",
    "    x = inv_index.get(w)\n",
    "    print(x,end = ' ')"
   ]
  },
  {
   "cell_type": "code",
   "execution_count": 14,
   "metadata": {},
   "outputs": [
    {
     "data": {
      "text/plain": [
       "(244.54333333333332, 166.86667469037144)"
      ]
     },
     "execution_count": 14,
     "metadata": {},
     "output_type": "execute_result"
    }
   ],
   "source": [
    "# Get the average length of a text\n",
    "avg = sum(map(len, sequences)) / len(sequences)\n",
    "\n",
    "# Get the standard deviation of the sequence length\n",
    "std = np.sqrt(sum(map(lambda x: (len(x) - avg)**2, sequences)) / len(sequences))\n",
    "\n",
    "avg,std"
   ]
  },
  {
   "cell_type": "code",
   "execution_count": 15,
   "metadata": {},
   "outputs": [
    {
     "name": "stdout",
     "output_type": "stream",
     "text": [
      "[[0 0 1 2 3]]\n",
      "[[2 3 4 5 6]]\n"
     ]
    }
   ],
   "source": [
    "print(pad_sequences([[1,2,3]], maxlen=5))\n",
    "print(pad_sequences([[1,2,3,4,5,6]], maxlen=5))"
   ]
  },
  {
   "cell_type": "code",
   "execution_count": 16,
   "metadata": {},
   "outputs": [],
   "source": [
    "max_length = 100\n",
    "data = pad_sequences(sequences, maxlen=max_length)"
   ]
  },
  {
   "cell_type": "code",
   "execution_count": 17,
   "metadata": {},
   "outputs": [
    {
     "name": "stdout",
     "output_type": "stream",
     "text": [
      "Shape of data: (6000, 100)\n",
      "Shape of labels: (6000, 7)\n",
      "3\n",
      "[0. 0. 0. 1. 0. 0. 0.]\n"
     ]
    },
    {
     "name": "stderr",
     "output_type": "stream",
     "text": [
      "Using TensorFlow backend.\n"
     ]
    }
   ],
   "source": [
    "from keras.utils import to_categorical\n",
    "labels = to_categorical(np.asarray(df['category_code']))\n",
    "print('Shape of data:', data.shape)\n",
    "print('Shape of labels:', labels.shape)\n",
    "\n",
    "print (df['category_code'][0])\n",
    "print (labels[0])"
   ]
  },
  {
   "cell_type": "code",
   "execution_count": 18,
   "metadata": {},
   "outputs": [
    {
     "name": "stdout",
     "output_type": "stream",
     "text": [
      "Found 400,000 word vectors in GloVe.\n"
     ]
    }
   ],
   "source": [
    "glove_dir = './Glove' # This is the folder with the dataset\n",
    "\n",
    "embeddings_index = {} # We create a dictionary of word -> embedding\n",
    "\n",
    "with open(os.path.join(glove_dir, 'glove.6B.100d.txt'), encoding=\"utf8\") as f:\n",
    "    for line in f:\n",
    "        values = line.split()\n",
    "        word = values[0] # The first value is the word, the rest are the values of the embedding\n",
    "        embedding = np.asarray(values[1:], dtype='float32') # Load embedding\n",
    "        embeddings_index[word] = embedding # Add embedding to our embedding dictionary\n",
    "\n",
    "print('Found {:,} word vectors in GloVe.'.format(len(embeddings_index)))"
   ]
  },
  {
   "cell_type": "code",
   "execution_count": 19,
   "metadata": {},
   "outputs": [
    {
     "name": "stdout",
     "output_type": "stream",
     "text": [
      "[ 0.043084   0.53233    0.54254   -0.076952  -0.29673    0.52986\n",
      "  0.21379    0.15789   -0.3952    -0.91889   -0.6585     0.68706\n",
      "  0.10821   -0.10694   -0.3401     1.044      0.12775    0.51157\n",
      "  0.60314    0.71366   -0.5374     0.37737    0.12186    0.60891\n",
      "  0.50107    2.0215    -0.47318    0.46953    0.12542    0.60207\n",
      "  0.11007    0.37587    1.0137    -0.2478     0.65748    0.12801\n",
      " -0.57647   -0.25754    0.62426    0.010864  -0.40681    0.16173\n",
      " -0.84695   -0.24603    0.29078    0.8546    -0.067021   0.69331\n",
      " -0.71545   -0.25184   -0.74741   -0.26507    0.4873     0.41991\n",
      " -0.86741   -0.5235    -0.44774   -0.044584   0.033836   0.29909\n",
      "  0.73754    0.81651    0.69431    0.80453    0.29276   -0.025244\n",
      " -0.30453   -0.34329    0.11933   -0.29655    0.1072    -0.18946\n",
      "  0.18501   -0.7548    -0.25628    0.34438   -0.016743   0.0040503\n",
      "  0.39342    0.99404   -0.32159   -0.49434    0.41708   -0.011019\n",
      " -0.16613   -0.20839    0.28152   -0.82996    0.79839    0.61645\n",
      "  0.31537   -0.27629   -0.54592    0.23026    0.023473  -0.15934\n",
      " -1.4389    -0.75359    0.5149    -0.52552  ]\n",
      "100\n"
     ]
    }
   ],
   "source": [
    "print (embeddings_index['frog'])\n",
    "print (len(embeddings_index['frog']))"
   ]
  },
  {
   "cell_type": "code",
   "execution_count": 20,
   "metadata": {},
   "outputs": [
    {
     "name": "stdout",
     "output_type": "stream",
     "text": [
      "3.364068\n",
      "5.197995\n",
      "4.1249743\n",
      "6.794355\n",
      "7.311559\n",
      "6.5261207\n",
      "7.450874\n"
     ]
    }
   ],
   "source": [
    "print (np.linalg.norm(embeddings_index['man'] - embeddings_index['woman']))\n",
    "print (np.linalg.norm(embeddings_index['man'] - embeddings_index['cat']))\n",
    "\n",
    "# https://nlp.stanford.edu/projects/glove/\n",
    "print (np.linalg.norm(embeddings_index['frog'] - embeddings_index['toad']))\n",
    "print (np.linalg.norm(embeddings_index['frog'] - embeddings_index['man']))\n",
    "\n",
    "print (np.linalg.norm(embeddings_index['frog'] - embeddings_index['fog']))\n",
    "\n",
    "print (np.linalg.norm(embeddings_index['frog'] - embeddings_index['fork']))\n",
    "print (np.linalg.norm(embeddings_index['frog'] - embeddings_index['skyscraper']))"
   ]
  },
  {
   "cell_type": "code",
   "execution_count": 21,
   "metadata": {},
   "outputs": [],
   "source": [
    "embedding_dim = 100 # We use 100 dimensional glove vectors\n",
    "\n",
    "word_index = tokenizer.word_index\n",
    "nb_words = min(vocab_size, len(word_index)) # How many words are there actually\n",
    "\n",
    "embedding_matrix = np.zeros((nb_words, embedding_dim))\n",
    "\n",
    "# The vectors need to be in the same position as their index. \n",
    "# Meaning a word with token 1 needs to be in the second row (rows start with zero) and so on\n",
    "\n",
    "# Loop over all words in the word index\n",
    "for word, i in word_index.items():\n",
    "    # If we are above the amount of words we want to use we do nothing\n",
    "    if i >= vocab_size: \n",
    "        continue\n",
    "    # Get the embedding vector for the word\n",
    "    embedding_vector = embeddings_index.get(word)\n",
    "    # If there is an embedding vector, put it in the embedding matrix\n",
    "    if embedding_vector is not None: \n",
    "        embedding_matrix[i] = embedding_vector"
   ]
  },
  {
   "cell_type": "code",
   "execution_count": 22,
   "metadata": {},
   "outputs": [
    {
     "name": "stdout",
     "output_type": "stream",
     "text": [
      "[ 3.44169997e-02 -7.82779977e-02 -2.69580007e-01 -2.81430006e-01\n",
      " -4.50519994e-02 -7.56359994e-01 -1.23109996e-01 -1.15690000e-01\n",
      "  2.18899995e-01 -2.21110005e-02  2.33830005e-01 -4.70330000e-01\n",
      "  5.46620011e-01 -1.41939998e-01 -5.79029977e-01 -3.28819990e-01\n",
      "  4.39529985e-01 -3.45509984e-02  5.36479987e-02  2.45269999e-01\n",
      " -1.87130004e-01  5.14840007e-01  3.49200010e-01 -2.11070001e-01\n",
      " -2.76659995e-01 -2.20459998e-01  3.01820010e-01 -3.45099986e-01\n",
      " -6.26320004e-01 -6.41919971e-02 -2.94559985e-01  1.27149999e+00\n",
      " -8.71800035e-02 -9.83359993e-01 -5.45090020e-01  6.23600006e-01\n",
      " -2.04889998e-01  5.89120016e-03 -1.81439996e-01 -4.35829997e-01\n",
      " -6.64070025e-02 -1.01530004e+00 -2.64450014e-01 -1.88119993e-01\n",
      " -4.02749985e-01 -3.83049995e-01  5.82799986e-02 -4.92610000e-02\n",
      "  2.80600011e-01 -6.15300000e-01 -2.86119998e-01  8.50169978e-04\n",
      " -2.92280000e-02  7.64869988e-01  3.09940010e-01 -2.25909996e+00\n",
      " -2.05290005e-01 -1.96730003e-01  2.43309999e+00  3.63420010e-01\n",
      " -2.05809996e-01  1.88630000e-01 -4.04749990e-01 -2.73550004e-01\n",
      "  9.42660030e-03 -1.35199994e-01  6.65409982e-01  1.41409993e-01\n",
      "  1.07089996e+00  2.10610002e-01 -3.77059996e-01  8.41199979e-03\n",
      " -4.87560004e-01 -6.36699975e-01 -1.63010001e-01 -5.11300027e-01\n",
      "  1.39339998e-01 -1.60329998e-01 -9.35840011e-01 -1.64370000e-01\n",
      "  6.50740027e-01  3.86240005e-01 -8.46399963e-02  3.35599989e-01\n",
      " -1.44879997e+00 -6.52010024e-01 -3.29400003e-01 -8.65679979e-01\n",
      " -1.52600005e-01 -1.13000000e+00  4.02599990e-01  1.74229994e-01\n",
      "  4.61320013e-01 -4.86790001e-01 -3.25569987e-01  5.42360008e-01\n",
      "  2.61079997e-01 -3.79070014e-01  1.41149998e+00  6.38199985e-01]\n"
     ]
    }
   ],
   "source": [
    "print (embedding_matrix[100])"
   ]
  },
  {
   "cell_type": "code",
   "execution_count": 23,
   "metadata": {},
   "outputs": [],
   "source": [
    "def createModel():\n",
    "    model = Sequential()\n",
    "    model.add(layers.Embedding(vocab_size, \n",
    "                        embedding_dim, \n",
    "                        input_length=max_length, \n",
    "                        weights = [embedding_matrix], \n",
    "                        trainable = True))\n",
    "    model.add(Conv1D(128, 3, activation='relu'))\n",
    "    model.add(MaxPooling1D(3))\n",
    "    model.add(Conv1D(128, 3, activation='relu'))\n",
    "    model.add(MaxPooling1D(3))\n",
    "    model.add(Conv1D(128, 3, activation='relu'))\n",
    "    model.add(MaxPooling1D(3))\n",
    "    model.add(Flatten())\n",
    "    model.add(Dense(128, activation='relu'))\n",
    "    model.add(Dense(7, activation='softmax'))\n",
    "    model.compile(loss='categorical_crossentropy',\n",
    "    optimizer='rmsprop',\n",
    "    metrics=['accuracy'])    \n",
    "    return model"
   ]
  },
  {
   "cell_type": "code",
   "execution_count": 24,
   "metadata": {},
   "outputs": [
    {
     "name": "stdout",
     "output_type": "stream",
     "text": [
      "Model: \"sequential\"\n",
      "_________________________________________________________________\n",
      "Layer (type)                 Output Shape              Param #   \n",
      "=================================================================\n",
      "embedding (Embedding)        (None, 100, 100)          2000000   \n",
      "_________________________________________________________________\n",
      "conv1d (Conv1D)              (None, 98, 128)           38528     \n",
      "_________________________________________________________________\n",
      "max_pooling1d (MaxPooling1D) (None, 32, 128)           0         \n",
      "_________________________________________________________________\n",
      "conv1d_1 (Conv1D)            (None, 30, 128)           49280     \n",
      "_________________________________________________________________\n",
      "max_pooling1d_1 (MaxPooling1 (None, 10, 128)           0         \n",
      "_________________________________________________________________\n",
      "conv1d_2 (Conv1D)            (None, 8, 128)            49280     \n",
      "_________________________________________________________________\n",
      "max_pooling1d_2 (MaxPooling1 (None, 2, 128)            0         \n",
      "_________________________________________________________________\n",
      "flatten (Flatten)            (None, 256)               0         \n",
      "_________________________________________________________________\n",
      "dense (Dense)                (None, 128)               32896     \n",
      "_________________________________________________________________\n",
      "dense_1 (Dense)              (None, 7)                 903       \n",
      "=================================================================\n",
      "Total params: 2,170,887\n",
      "Trainable params: 2,170,887\n",
      "Non-trainable params: 0\n",
      "_________________________________________________________________\n"
     ]
    }
   ],
   "source": [
    "# Setup the models\n",
    "model       = createModel() # This is meant for training\n",
    "modelGo     = createModel() # This is used for final testing\n",
    "\n",
    "model.summary()"
   ]
  },
  {
   "cell_type": "code",
   "execution_count": 25,
   "metadata": {},
   "outputs": [],
   "source": [
    "modelname   = 'deeplearning_glove'\n",
    "filepath        = './Models/'+modelname + \".hdf5\"\n",
    "checkpoint      = ModelCheckpoint(filepath, \n",
    "                                  monitor='val_acc', \n",
    "                                  verbose=0, \n",
    "                                  save_best_only=True, \n",
    "                                  mode='max')\n",
    "\n",
    "                            # Log the epoch detail into csv\n",
    "csv_logger      = CSVLogger('./Models/'+modelname +'.csv')\n",
    "callbacks_list  = [checkpoint,csv_logger]\n"
   ]
  },
  {
   "cell_type": "code",
   "execution_count": 26,
   "metadata": {},
   "outputs": [],
   "source": [
    "trDat, tsDat, trLbl, tsLbl = train_test_split(data, labels, test_size=0.33, random_state=42)"
   ]
  },
  {
   "cell_type": "code",
   "execution_count": 34,
   "metadata": {},
   "outputs": [
    {
     "name": "stdout",
     "output_type": "stream",
     "text": [
      "Train on 4020 samples, validate on 1980 samples\n",
      "Epoch 1/100\n",
      "3968/4020 [============================>.] - ETA: 0s - loss: 0.0722 - accuracy: 0.9779"
     ]
    },
    {
     "name": "stderr",
     "output_type": "stream",
     "text": [
      "W0916 21:41:14.899619 13068 callbacks.py:989] Can save best model only with val_acc available, skipping.\n"
     ]
    },
    {
     "name": "stdout",
     "output_type": "stream",
     "text": [
      "4020/4020 [==============================] - 2s 562us/sample - loss: 0.0719 - accuracy: 0.9779 - val_loss: 0.2359 - val_accuracy: 0.9214\n",
      "Epoch 2/100\n",
      "3968/4020 [============================>.] - ETA: 0s - loss: 0.0223 - accuracy: 0.9923"
     ]
    },
    {
     "name": "stderr",
     "output_type": "stream",
     "text": [
      "W0916 21:41:16.388123 13068 callbacks.py:989] Can save best model only with val_acc available, skipping.\n"
     ]
    },
    {
     "name": "stdout",
     "output_type": "stream",
     "text": [
      "4020/4020 [==============================] - 1s 370us/sample - loss: 0.0225 - accuracy: 0.9922 - val_loss: 0.2681 - val_accuracy: 0.9198\n",
      "Epoch 3/100\n",
      "3968/4020 [============================>.] - ETA: 0s - loss: 0.0193 - accuracy: 0.9925"
     ]
    },
    {
     "name": "stderr",
     "output_type": "stream",
     "text": [
      "W0916 21:41:17.874656 13068 callbacks.py:989] Can save best model only with val_acc available, skipping.\n"
     ]
    },
    {
     "name": "stdout",
     "output_type": "stream",
     "text": [
      "4020/4020 [==============================] - 1s 370us/sample - loss: 0.0194 - accuracy: 0.9925 - val_loss: 0.2651 - val_accuracy: 0.9234\n",
      "Epoch 4/100\n",
      "3968/4020 [============================>.] - ETA: 0s - loss: 0.0202 - accuracy: 0.9933"
     ]
    },
    {
     "name": "stderr",
     "output_type": "stream",
     "text": [
      "W0916 21:41:19.359688 13068 callbacks.py:989] Can save best model only with val_acc available, skipping.\n"
     ]
    },
    {
     "name": "stdout",
     "output_type": "stream",
     "text": [
      "4020/4020 [==============================] - 1s 369us/sample - loss: 0.0201 - accuracy: 0.9933 - val_loss: 0.2630 - val_accuracy: 0.9236\n",
      "Epoch 5/100\n",
      "3968/4020 [============================>.] - ETA: 0s - loss: 0.0175 - accuracy: 0.9940"
     ]
    },
    {
     "name": "stderr",
     "output_type": "stream",
     "text": [
      "W0916 21:41:20.841236 13068 callbacks.py:989] Can save best model only with val_acc available, skipping.\n"
     ]
    },
    {
     "name": "stdout",
     "output_type": "stream",
     "text": [
      "4020/4020 [==============================] - 1s 368us/sample - loss: 0.0175 - accuracy: 0.9941 - val_loss: 0.2714 - val_accuracy: 0.9206\n",
      "Epoch 6/100\n",
      "3968/4020 [============================>.] - ETA: 0s - loss: 0.0179 - accuracy: 0.9934"
     ]
    },
    {
     "name": "stderr",
     "output_type": "stream",
     "text": [
      "W0916 21:41:22.361174 13068 callbacks.py:989] Can save best model only with val_acc available, skipping.\n"
     ]
    },
    {
     "name": "stdout",
     "output_type": "stream",
     "text": [
      "4020/4020 [==============================] - 2s 378us/sample - loss: 0.0188 - accuracy: 0.9931 - val_loss: 0.2813 - val_accuracy: 0.9219\n",
      "Epoch 7/100\n",
      "3840/4020 [===========================>..] - ETA: 0s - loss: 0.0186 - accuracy: 0.9933"
     ]
    },
    {
     "name": "stderr",
     "output_type": "stream",
     "text": [
      "W0916 21:41:23.915187 13068 callbacks.py:989] Can save best model only with val_acc available, skipping.\n"
     ]
    },
    {
     "name": "stdout",
     "output_type": "stream",
     "text": [
      "4020/4020 [==============================] - 2s 386us/sample - loss: 0.0190 - accuracy: 0.9931 - val_loss: 0.2642 - val_accuracy: 0.9232\n",
      "Epoch 8/100\n",
      "3968/4020 [============================>.] - ETA: 0s - loss: 0.0193 - accuracy: 0.9927"
     ]
    },
    {
     "name": "stderr",
     "output_type": "stream",
     "text": [
      "W0916 21:41:25.446514 13068 callbacks.py:989] Can save best model only with val_acc available, skipping.\n"
     ]
    },
    {
     "name": "stdout",
     "output_type": "stream",
     "text": [
      "4020/4020 [==============================] - 2s 381us/sample - loss: 0.0193 - accuracy: 0.9926 - val_loss: 0.2763 - val_accuracy: 0.9176\n",
      "Epoch 9/100\n",
      "3968/4020 [============================>.] - ETA: 0s - loss: 0.0184 - accuracy: 0.9933"
     ]
    },
    {
     "name": "stderr",
     "output_type": "stream",
     "text": [
      "W0916 21:41:26.988404 13068 callbacks.py:989] Can save best model only with val_acc available, skipping.\n"
     ]
    },
    {
     "name": "stdout",
     "output_type": "stream",
     "text": [
      "4020/4020 [==============================] - 2s 383us/sample - loss: 0.0186 - accuracy: 0.9932 - val_loss: 0.2620 - val_accuracy: 0.9258\n",
      "Epoch 10/100\n",
      "3968/4020 [============================>.] - ETA: 0s - loss: 0.0185 - accuracy: 0.9929"
     ]
    },
    {
     "name": "stderr",
     "output_type": "stream",
     "text": [
      "W0916 21:41:28.485559 13068 callbacks.py:989] Can save best model only with val_acc available, skipping.\n"
     ]
    },
    {
     "name": "stdout",
     "output_type": "stream",
     "text": [
      "4020/4020 [==============================] - 1s 372us/sample - loss: 0.0186 - accuracy: 0.9929 - val_loss: 0.2960 - val_accuracy: 0.9181\n",
      "Epoch 11/100\n",
      "3968/4020 [============================>.] - ETA: 0s - loss: 0.0199 - accuracy: 0.9937"
     ]
    },
    {
     "name": "stderr",
     "output_type": "stream",
     "text": [
      "W0916 21:41:29.995033 13068 callbacks.py:989] Can save best model only with val_acc available, skipping.\n"
     ]
    },
    {
     "name": "stdout",
     "output_type": "stream",
     "text": [
      "4020/4020 [==============================] - 2s 375us/sample - loss: 0.0199 - accuracy: 0.9937 - val_loss: 0.2960 - val_accuracy: 0.9167\n",
      "Epoch 12/100\n",
      "3968/4020 [============================>.] - ETA: 0s - loss: 0.0167 - accuracy: 0.9939"
     ]
    },
    {
     "name": "stderr",
     "output_type": "stream",
     "text": [
      "W0916 21:41:31.527449 13068 callbacks.py:989] Can save best model only with val_acc available, skipping.\n"
     ]
    },
    {
     "name": "stdout",
     "output_type": "stream",
     "text": [
      "4020/4020 [==============================] - 2s 381us/sample - loss: 0.0173 - accuracy: 0.9938 - val_loss: 0.2817 - val_accuracy: 0.9222\n",
      "Epoch 13/100\n",
      "3968/4020 [============================>.] - ETA: 0s - loss: 0.0178 - accuracy: 0.9930"
     ]
    },
    {
     "name": "stderr",
     "output_type": "stream",
     "text": [
      "W0916 21:41:33.082764 13068 callbacks.py:989] Can save best model only with val_acc available, skipping.\n"
     ]
    },
    {
     "name": "stdout",
     "output_type": "stream",
     "text": [
      "4020/4020 [==============================] - 2s 387us/sample - loss: 0.0181 - accuracy: 0.9929 - val_loss: 0.2855 - val_accuracy: 0.9218\n",
      "Epoch 14/100\n",
      "3968/4020 [============================>.] - ETA: 0s - loss: 0.0162 - accuracy: 0.9938"
     ]
    },
    {
     "name": "stderr",
     "output_type": "stream",
     "text": [
      "W0916 21:41:34.603016 13068 callbacks.py:989] Can save best model only with val_acc available, skipping.\n"
     ]
    },
    {
     "name": "stdout",
     "output_type": "stream",
     "text": [
      "4020/4020 [==============================] - 2s 378us/sample - loss: 0.0168 - accuracy: 0.9936 - val_loss: 0.2837 - val_accuracy: 0.9243\n",
      "Epoch 15/100\n",
      "3968/4020 [============================>.] - ETA: 0s - loss: 0.0161 - accuracy: 0.9934"
     ]
    },
    {
     "name": "stderr",
     "output_type": "stream",
     "text": [
      "W0916 21:41:36.119568 13068 callbacks.py:989] Can save best model only with val_acc available, skipping.\n"
     ]
    },
    {
     "name": "stdout",
     "output_type": "stream",
     "text": [
      "4020/4020 [==============================] - 2s 377us/sample - loss: 0.0167 - accuracy: 0.9932 - val_loss: 0.2907 - val_accuracy: 0.9200\n",
      "Epoch 16/100\n",
      "3968/4020 [============================>.] - ETA: 0s - loss: 0.0158 - accuracy: 0.9936"
     ]
    },
    {
     "name": "stderr",
     "output_type": "stream",
     "text": [
      "W0916 21:41:37.629332 13068 callbacks.py:989] Can save best model only with val_acc available, skipping.\n"
     ]
    },
    {
     "name": "stdout",
     "output_type": "stream",
     "text": [
      "4020/4020 [==============================] - 2s 375us/sample - loss: 0.0162 - accuracy: 0.9936 - val_loss: 0.3163 - val_accuracy: 0.9154\n",
      "Epoch 17/100\n",
      "3968/4020 [============================>.] - ETA: 0s - loss: 0.0157 - accuracy: 0.9934"
     ]
    },
    {
     "name": "stderr",
     "output_type": "stream",
     "text": [
      "W0916 21:41:39.144245 13068 callbacks.py:989] Can save best model only with val_acc available, skipping.\n"
     ]
    },
    {
     "name": "stdout",
     "output_type": "stream",
     "text": [
      "4020/4020 [==============================] - 2s 377us/sample - loss: 0.0160 - accuracy: 0.9934 - val_loss: 0.3162 - val_accuracy: 0.9211\n",
      "Epoch 18/100\n",
      "3968/4020 [============================>.] - ETA: 0s - loss: 0.0158 - accuracy: 0.9930"
     ]
    },
    {
     "name": "stderr",
     "output_type": "stream",
     "text": [
      "W0916 21:41:40.660839 13068 callbacks.py:989] Can save best model only with val_acc available, skipping.\n"
     ]
    },
    {
     "name": "stdout",
     "output_type": "stream",
     "text": [
      "4020/4020 [==============================] - 2s 377us/sample - loss: 0.0158 - accuracy: 0.9929 - val_loss: 0.2816 - val_accuracy: 0.9211\n",
      "Epoch 19/100\n",
      "3968/4020 [============================>.] - ETA: 0s - loss: 0.0152 - accuracy: 0.9931"
     ]
    },
    {
     "name": "stderr",
     "output_type": "stream",
     "text": [
      "W0916 21:41:42.174762 13068 callbacks.py:989] Can save best model only with val_acc available, skipping.\n"
     ]
    },
    {
     "name": "stdout",
     "output_type": "stream",
     "text": [
      "4020/4020 [==============================] - 2s 376us/sample - loss: 0.0153 - accuracy: 0.9930 - val_loss: 0.2999 - val_accuracy: 0.9226\n",
      "Epoch 20/100\n",
      "3968/4020 [============================>.] - ETA: 0s - loss: 0.0152 - accuracy: 0.9931"
     ]
    },
    {
     "name": "stderr",
     "output_type": "stream",
     "text": [
      "W0916 21:41:43.694705 13068 callbacks.py:989] Can save best model only with val_acc available, skipping.\n"
     ]
    },
    {
     "name": "stdout",
     "output_type": "stream",
     "text": [
      "4020/4020 [==============================] - 2s 378us/sample - loss: 0.0151 - accuracy: 0.9931 - val_loss: 0.3009 - val_accuracy: 0.9186\n",
      "Epoch 21/100\n",
      "3968/4020 [============================>.] - ETA: 0s - loss: 0.0148 - accuracy: 0.9931"
     ]
    },
    {
     "name": "stderr",
     "output_type": "stream",
     "text": [
      "W0916 21:41:45.191948 13068 callbacks.py:989] Can save best model only with val_acc available, skipping.\n"
     ]
    },
    {
     "name": "stdout",
     "output_type": "stream",
     "text": [
      "4020/4020 [==============================] - 1s 372us/sample - loss: 0.0149 - accuracy: 0.9930 - val_loss: 0.3347 - val_accuracy: 0.9146\n",
      "Epoch 22/100\n",
      "3968/4020 [============================>.] - ETA: 0s - loss: 0.0168 - accuracy: 0.9932"
     ]
    },
    {
     "name": "stderr",
     "output_type": "stream",
     "text": [
      "W0916 21:41:46.716248 13068 callbacks.py:989] Can save best model only with val_acc available, skipping.\n"
     ]
    },
    {
     "name": "stdout",
     "output_type": "stream",
     "text": [
      "4020/4020 [==============================] - 2s 379us/sample - loss: 0.0167 - accuracy: 0.9932 - val_loss: 0.2829 - val_accuracy: 0.9251\n",
      "Epoch 23/100\n",
      "3968/4020 [============================>.] - ETA: 0s - loss: 0.0144 - accuracy: 0.9929"
     ]
    },
    {
     "name": "stderr",
     "output_type": "stream",
     "text": [
      "W0916 21:41:48.243349 13068 callbacks.py:989] Can save best model only with val_acc available, skipping.\n"
     ]
    },
    {
     "name": "stdout",
     "output_type": "stream",
     "text": [
      "4020/4020 [==============================] - 2s 380us/sample - loss: 0.0144 - accuracy: 0.9928 - val_loss: 0.3115 - val_accuracy: 0.9211\n",
      "Epoch 24/100\n",
      "3968/4020 [============================>.] - ETA: 0s - loss: 0.0137 - accuracy: 0.9934"
     ]
    },
    {
     "name": "stderr",
     "output_type": "stream",
     "text": [
      "W0916 21:41:49.762295 13068 callbacks.py:989] Can save best model only with val_acc available, skipping.\n"
     ]
    },
    {
     "name": "stdout",
     "output_type": "stream",
     "text": [
      "4020/4020 [==============================] - 2s 378us/sample - loss: 0.0139 - accuracy: 0.9934 - val_loss: 0.3083 - val_accuracy: 0.9236\n",
      "Epoch 25/100\n",
      "3968/4020 [============================>.] - ETA: 0s - loss: 0.0139 - accuracy: 0.9926"
     ]
    },
    {
     "name": "stderr",
     "output_type": "stream",
     "text": [
      "W0916 21:41:51.279430 13068 callbacks.py:989] Can save best model only with val_acc available, skipping.\n"
     ]
    },
    {
     "name": "stdout",
     "output_type": "stream",
     "text": [
      "4020/4020 [==============================] - 2s 377us/sample - loss: 0.0137 - accuracy: 0.9927 - val_loss: 0.2905 - val_accuracy: 0.9223\n",
      "Epoch 26/100\n",
      "3968/4020 [============================>.] - ETA: 0s - loss: 0.0125 - accuracy: 0.9935"
     ]
    },
    {
     "name": "stderr",
     "output_type": "stream",
     "text": [
      "W0916 21:41:52.836674 13068 callbacks.py:989] Can save best model only with val_acc available, skipping.\n"
     ]
    },
    {
     "name": "stdout",
     "output_type": "stream",
     "text": [
      "4020/4020 [==============================] - 2s 387us/sample - loss: 0.0124 - accuracy: 0.9935 - val_loss: 0.3188 - val_accuracy: 0.9188\n",
      "Epoch 27/100\n",
      "3968/4020 [============================>.] - ETA: 0s - loss: 0.0129 - accuracy: 0.9933"
     ]
    },
    {
     "name": "stderr",
     "output_type": "stream",
     "text": [
      "W0916 21:41:54.379893 13068 callbacks.py:989] Can save best model only with val_acc available, skipping.\n"
     ]
    },
    {
     "name": "stdout",
     "output_type": "stream",
     "text": [
      "4020/4020 [==============================] - 2s 384us/sample - loss: 0.0129 - accuracy: 0.9932 - val_loss: 0.2947 - val_accuracy: 0.9222\n",
      "Epoch 28/100\n",
      "3968/4020 [============================>.] - ETA: 0s - loss: 0.0130 - accuracy: 0.9934"
     ]
    },
    {
     "name": "stderr",
     "output_type": "stream",
     "text": [
      "W0916 21:41:55.890241 13068 callbacks.py:989] Can save best model only with val_acc available, skipping.\n"
     ]
    },
    {
     "name": "stdout",
     "output_type": "stream",
     "text": [
      "4020/4020 [==============================] - 2s 375us/sample - loss: 0.0133 - accuracy: 0.9930 - val_loss: 0.3291 - val_accuracy: 0.9223\n",
      "Epoch 29/100\n",
      "3968/4020 [============================>.] - ETA: 0s - loss: 0.0136 - accuracy: 0.9927"
     ]
    },
    {
     "name": "stderr",
     "output_type": "stream",
     "text": [
      "W0916 21:41:57.415039 13068 callbacks.py:989] Can save best model only with val_acc available, skipping.\n"
     ]
    },
    {
     "name": "stdout",
     "output_type": "stream",
     "text": [
      "4020/4020 [==============================] - 2s 379us/sample - loss: 0.0137 - accuracy: 0.9928 - val_loss: 0.2864 - val_accuracy: 0.9242\n",
      "Epoch 30/100\n",
      "3968/4020 [============================>.] - ETA: 0s - loss: 0.0127 - accuracy: 0.9931"
     ]
    },
    {
     "name": "stderr",
     "output_type": "stream",
     "text": [
      "W0916 21:41:58.964896 13068 callbacks.py:989] Can save best model only with val_acc available, skipping.\n"
     ]
    },
    {
     "name": "stdout",
     "output_type": "stream",
     "text": [
      "4020/4020 [==============================] - 2s 385us/sample - loss: 0.0127 - accuracy: 0.9931 - val_loss: 0.3206 - val_accuracy: 0.9268\n",
      "Epoch 31/100\n",
      "3968/4020 [============================>.] - ETA: 0s - loss: 0.0127 - accuracy: 0.9934"
     ]
    },
    {
     "name": "stderr",
     "output_type": "stream",
     "text": [
      "W0916 21:42:00.481907 13068 callbacks.py:989] Can save best model only with val_acc available, skipping.\n"
     ]
    },
    {
     "name": "stdout",
     "output_type": "stream",
     "text": [
      "4020/4020 [==============================] - 2s 377us/sample - loss: 0.0128 - accuracy: 0.9933 - val_loss: 0.3007 - val_accuracy: 0.9238\n",
      "Epoch 32/100\n",
      "3968/4020 [============================>.] - ETA: 0s - loss: 0.0117 - accuracy: 0.9932"
     ]
    },
    {
     "name": "stderr",
     "output_type": "stream",
     "text": [
      "W0916 21:42:02.048246 13068 callbacks.py:989] Can save best model only with val_acc available, skipping.\n"
     ]
    },
    {
     "name": "stdout",
     "output_type": "stream",
     "text": [
      "4020/4020 [==============================] - 2s 389us/sample - loss: 0.0116 - accuracy: 0.9933 - val_loss: 0.3272 - val_accuracy: 0.9200\n",
      "Epoch 33/100\n",
      "3968/4020 [============================>.] - ETA: 0s - loss: 0.0120 - accuracy: 0.9936"
     ]
    },
    {
     "name": "stderr",
     "output_type": "stream",
     "text": [
      "W0916 21:42:03.614567 13068 callbacks.py:989] Can save best model only with val_acc available, skipping.\n"
     ]
    },
    {
     "name": "stdout",
     "output_type": "stream",
     "text": [
      "4020/4020 [==============================] - 2s 389us/sample - loss: 0.0120 - accuracy: 0.9935 - val_loss: 0.3251 - val_accuracy: 0.9185\n",
      "Epoch 34/100\n",
      "3968/4020 [============================>.] - ETA: 0s - loss: 0.0122 - accuracy: 0.9925"
     ]
    },
    {
     "name": "stderr",
     "output_type": "stream",
     "text": [
      "W0916 21:42:05.154959 13068 callbacks.py:989] Can save best model only with val_acc available, skipping.\n"
     ]
    },
    {
     "name": "stdout",
     "output_type": "stream",
     "text": [
      "4020/4020 [==============================] - 2s 383us/sample - loss: 0.0120 - accuracy: 0.9926 - val_loss: 0.3063 - val_accuracy: 0.9254\n",
      "Epoch 35/100\n",
      "3968/4020 [============================>.] - ETA: 0s - loss: 0.0118 - accuracy: 0.9925"
     ]
    },
    {
     "name": "stderr",
     "output_type": "stream",
     "text": [
      "W0916 21:42:06.669909 13068 callbacks.py:989] Can save best model only with val_acc available, skipping.\n"
     ]
    },
    {
     "name": "stdout",
     "output_type": "stream",
     "text": [
      "4020/4020 [==============================] - 2s 377us/sample - loss: 0.0119 - accuracy: 0.9925 - val_loss: 0.3070 - val_accuracy: 0.9206\n",
      "Epoch 36/100\n",
      "3968/4020 [============================>.] - ETA: 0s - loss: 0.0121 - accuracy: 0.9932"
     ]
    },
    {
     "name": "stderr",
     "output_type": "stream",
     "text": [
      "W0916 21:42:08.180861 13068 callbacks.py:989] Can save best model only with val_acc available, skipping.\n"
     ]
    },
    {
     "name": "stdout",
     "output_type": "stream",
     "text": [
      "4020/4020 [==============================] - 2s 376us/sample - loss: 0.0121 - accuracy: 0.9932 - val_loss: 0.3191 - val_accuracy: 0.9162\n",
      "Epoch 37/100\n",
      "3968/4020 [============================>.] - ETA: 0s - loss: 0.0109 - accuracy: 0.9931"
     ]
    },
    {
     "name": "stderr",
     "output_type": "stream",
     "text": [
      "W0916 21:42:09.696719 13068 callbacks.py:989] Can save best model only with val_acc available, skipping.\n"
     ]
    },
    {
     "name": "stdout",
     "output_type": "stream",
     "text": [
      "4020/4020 [==============================] - 2s 377us/sample - loss: 0.0109 - accuracy: 0.9931 - val_loss: 0.3221 - val_accuracy: 0.9231\n",
      "Epoch 38/100\n",
      "3968/4020 [============================>.] - ETA: 0s - loss: 0.0108 - accuracy: 0.9937"
     ]
    },
    {
     "name": "stderr",
     "output_type": "stream",
     "text": [
      "W0916 21:42:11.222656 13068 callbacks.py:989] Can save best model only with val_acc available, skipping.\n"
     ]
    },
    {
     "name": "stdout",
     "output_type": "stream",
     "text": [
      "4020/4020 [==============================] - 2s 379us/sample - loss: 0.0108 - accuracy: 0.9937 - val_loss: 0.3186 - val_accuracy: 0.9249\n",
      "Epoch 39/100\n",
      "3968/4020 [============================>.] - ETA: 0s - loss: 0.0115 - accuracy: 0.9930"
     ]
    },
    {
     "name": "stderr",
     "output_type": "stream",
     "text": [
      "W0916 21:42:12.758552 13068 callbacks.py:989] Can save best model only with val_acc available, skipping.\n"
     ]
    },
    {
     "name": "stdout",
     "output_type": "stream",
     "text": [
      "4020/4020 [==============================] - 2s 382us/sample - loss: 0.0114 - accuracy: 0.9931 - val_loss: 0.3042 - val_accuracy: 0.9230\n",
      "Epoch 40/100\n",
      "3840/4020 [===========================>..] - ETA: 0s - loss: 0.0107 - accuracy: 0.9934"
     ]
    },
    {
     "name": "stderr",
     "output_type": "stream",
     "text": [
      "W0916 21:42:14.312765 13068 callbacks.py:989] Can save best model only with val_acc available, skipping.\n"
     ]
    },
    {
     "name": "stdout",
     "output_type": "stream",
     "text": [
      "4020/4020 [==============================] - 2s 386us/sample - loss: 0.0107 - accuracy: 0.9933 - val_loss: 0.3526 - val_accuracy: 0.9240\n",
      "Epoch 41/100\n",
      "3840/4020 [===========================>..] - ETA: 0s - loss: 0.0114 - accuracy: 0.9923"
     ]
    },
    {
     "name": "stderr",
     "output_type": "stream",
     "text": [
      "W0916 21:42:15.859647 13068 callbacks.py:989] Can save best model only with val_acc available, skipping.\n"
     ]
    },
    {
     "name": "stdout",
     "output_type": "stream",
     "text": [
      "4020/4020 [==============================] - 2s 385us/sample - loss: 0.0114 - accuracy: 0.9923 - val_loss: 0.3057 - val_accuracy: 0.9253\n",
      "Epoch 42/100\n",
      "3968/4020 [============================>.] - ETA: 0s - loss: 0.0105 - accuracy: 0.9937"
     ]
    },
    {
     "name": "stderr",
     "output_type": "stream",
     "text": [
      "W0916 21:42:17.416533 13068 callbacks.py:989] Can save best model only with val_acc available, skipping.\n"
     ]
    },
    {
     "name": "stdout",
     "output_type": "stream",
     "text": [
      "4020/4020 [==============================] - 2s 387us/sample - loss: 0.0105 - accuracy: 0.9937 - val_loss: 0.3241 - val_accuracy: 0.9190\n",
      "Epoch 43/100\n",
      "3968/4020 [============================>.] - ETA: 0s - loss: 0.0104 - accuracy: 0.9928"
     ]
    },
    {
     "name": "stderr",
     "output_type": "stream",
     "text": [
      "W0916 21:42:18.935581 13068 callbacks.py:989] Can save best model only with val_acc available, skipping.\n"
     ]
    },
    {
     "name": "stdout",
     "output_type": "stream",
     "text": [
      "4020/4020 [==============================] - 2s 378us/sample - loss: 0.0103 - accuracy: 0.9929 - val_loss: 0.3373 - val_accuracy: 0.9215\n",
      "Epoch 44/100\n",
      "3968/4020 [============================>.] - ETA: 0s - loss: 0.0104 - accuracy: 0.9932"
     ]
    },
    {
     "name": "stderr",
     "output_type": "stream",
     "text": [
      "W0916 21:42:20.449206 13068 callbacks.py:989] Can save best model only with val_acc available, skipping.\n"
     ]
    },
    {
     "name": "stdout",
     "output_type": "stream",
     "text": [
      "4020/4020 [==============================] - 2s 376us/sample - loss: 0.0105 - accuracy: 0.9931 - val_loss: 0.3265 - val_accuracy: 0.9227\n",
      "Epoch 45/100\n",
      "3968/4020 [============================>.] - ETA: 0s - loss: 0.0108 - accuracy: 0.9932"
     ]
    },
    {
     "name": "stderr",
     "output_type": "stream",
     "text": [
      "W0916 21:42:21.969550 13068 callbacks.py:989] Can save best model only with val_acc available, skipping.\n"
     ]
    },
    {
     "name": "stdout",
     "output_type": "stream",
     "text": [
      "4020/4020 [==============================] - 2s 378us/sample - loss: 0.0108 - accuracy: 0.9932 - val_loss: 0.3047 - val_accuracy: 0.9249\n",
      "Epoch 46/100\n",
      "3840/4020 [===========================>..] - ETA: 0s - loss: 0.0104 - accuracy: 0.9933"
     ]
    },
    {
     "name": "stderr",
     "output_type": "stream",
     "text": [
      "W0916 21:42:23.579034 13068 callbacks.py:989] Can save best model only with val_acc available, skipping.\n"
     ]
    },
    {
     "name": "stdout",
     "output_type": "stream",
     "text": [
      "4020/4020 [==============================] - 2s 400us/sample - loss: 0.0103 - accuracy: 0.9933 - val_loss: 0.3477 - val_accuracy: 0.9219\n",
      "Epoch 47/100\n",
      "3968/4020 [============================>.] - ETA: 0s - loss: 0.0101 - accuracy: 0.9934"
     ]
    },
    {
     "name": "stderr",
     "output_type": "stream",
     "text": [
      "W0916 21:42:25.168785 13068 callbacks.py:989] Can save best model only with val_acc available, skipping.\n"
     ]
    },
    {
     "name": "stdout",
     "output_type": "stream",
     "text": [
      "4020/4020 [==============================] - 2s 395us/sample - loss: 0.0101 - accuracy: 0.9934 - val_loss: 0.3346 - val_accuracy: 0.9232\n",
      "Epoch 48/100\n",
      "3968/4020 [============================>.] - ETA: 0s - loss: 0.0099 - accuracy: 0.9937"
     ]
    },
    {
     "name": "stderr",
     "output_type": "stream",
     "text": [
      "W0916 21:42:26.758314 13068 callbacks.py:989] Can save best model only with val_acc available, skipping.\n"
     ]
    },
    {
     "name": "stdout",
     "output_type": "stream",
     "text": [
      "4020/4020 [==============================] - 2s 395us/sample - loss: 0.0098 - accuracy: 0.9937 - val_loss: 0.3506 - val_accuracy: 0.9186\n",
      "Epoch 49/100\n",
      "3968/4020 [============================>.] - ETA: 0s - loss: 0.0094 - accuracy: 0.9932"
     ]
    },
    {
     "name": "stderr",
     "output_type": "stream",
     "text": [
      "W0916 21:42:28.324160 13068 callbacks.py:989] Can save best model only with val_acc available, skipping.\n"
     ]
    },
    {
     "name": "stdout",
     "output_type": "stream",
     "text": [
      "4020/4020 [==============================] - 2s 389us/sample - loss: 0.0095 - accuracy: 0.9931 - val_loss: 0.3421 - val_accuracy: 0.9237\n",
      "Epoch 50/100\n",
      "3968/4020 [============================>.] - ETA: 0s - loss: 0.0094 - accuracy: 0.9935"
     ]
    },
    {
     "name": "stderr",
     "output_type": "stream",
     "text": [
      "W0916 21:42:29.825148 13068 callbacks.py:989] Can save best model only with val_acc available, skipping.\n"
     ]
    },
    {
     "name": "stdout",
     "output_type": "stream",
     "text": [
      "4020/4020 [==============================] - 1s 373us/sample - loss: 0.0095 - accuracy: 0.9934 - val_loss: 0.3655 - val_accuracy: 0.9242\n",
      "Epoch 51/100\n",
      "3968/4020 [============================>.] - ETA: 0s - loss: 0.0100 - accuracy: 0.9923"
     ]
    },
    {
     "name": "stderr",
     "output_type": "stream",
     "text": [
      "W0916 21:42:31.327895 13068 callbacks.py:989] Can save best model only with val_acc available, skipping.\n"
     ]
    },
    {
     "name": "stdout",
     "output_type": "stream",
     "text": [
      "4020/4020 [==============================] - 2s 374us/sample - loss: 0.0099 - accuracy: 0.9924 - val_loss: 0.3575 - val_accuracy: 0.9194\n",
      "Epoch 52/100\n",
      "3968/4020 [============================>.] - ETA: 0s - loss: 0.0095 - accuracy: 0.9938"
     ]
    },
    {
     "name": "stderr",
     "output_type": "stream",
     "text": [
      "W0916 21:42:32.832383 13068 callbacks.py:989] Can save best model only with val_acc available, skipping.\n"
     ]
    },
    {
     "name": "stdout",
     "output_type": "stream",
     "text": [
      "4020/4020 [==============================] - 2s 374us/sample - loss: 0.0095 - accuracy: 0.9938 - val_loss: 0.3596 - val_accuracy: 0.9185\n",
      "Epoch 53/100\n",
      "3968/4020 [============================>.] - ETA: 0s - loss: 0.0095 - accuracy: 0.9932"
     ]
    },
    {
     "name": "stderr",
     "output_type": "stream",
     "text": [
      "W0916 21:42:34.335594 13068 callbacks.py:989] Can save best model only with val_acc available, skipping.\n"
     ]
    },
    {
     "name": "stdout",
     "output_type": "stream",
     "text": [
      "4020/4020 [==============================] - 2s 373us/sample - loss: 0.0094 - accuracy: 0.9932 - val_loss: 0.3314 - val_accuracy: 0.9220\n",
      "Epoch 54/100\n",
      "3968/4020 [============================>.] - ETA: 0s - loss: 0.0091 - accuracy: 0.9930"
     ]
    },
    {
     "name": "stderr",
     "output_type": "stream",
     "text": [
      "W0916 21:42:35.858033 13068 callbacks.py:989] Can save best model only with val_acc available, skipping.\n"
     ]
    },
    {
     "name": "stdout",
     "output_type": "stream",
     "text": [
      "4020/4020 [==============================] - 2s 378us/sample - loss: 0.0090 - accuracy: 0.9931 - val_loss: 0.3692 - val_accuracy: 0.9250\n",
      "Epoch 55/100\n",
      "3968/4020 [============================>.] - ETA: 0s - loss: 0.0093 - accuracy: 0.9928"
     ]
    },
    {
     "name": "stderr",
     "output_type": "stream",
     "text": [
      "W0916 21:42:37.360751 13068 callbacks.py:989] Can save best model only with val_acc available, skipping.\n"
     ]
    },
    {
     "name": "stdout",
     "output_type": "stream",
     "text": [
      "4020/4020 [==============================] - 2s 374us/sample - loss: 0.0092 - accuracy: 0.9929 - val_loss: 0.3452 - val_accuracy: 0.9250\n",
      "Epoch 56/100\n",
      "3968/4020 [============================>.] - ETA: 0s - loss: 0.0090 - accuracy: 0.9933"
     ]
    },
    {
     "name": "stderr",
     "output_type": "stream",
     "text": [
      "W0916 21:42:38.901150 13068 callbacks.py:989] Can save best model only with val_acc available, skipping.\n"
     ]
    },
    {
     "name": "stdout",
     "output_type": "stream",
     "text": [
      "4020/4020 [==============================] - 2s 383us/sample - loss: 0.0091 - accuracy: 0.9932 - val_loss: 0.3469 - val_accuracy: 0.9204\n",
      "Epoch 57/100\n",
      "3840/4020 [===========================>..] - ETA: 0s - loss: 0.0089 - accuracy: 0.9931"
     ]
    },
    {
     "name": "stderr",
     "output_type": "stream",
     "text": [
      "W0916 21:42:40.448282 13068 callbacks.py:989] Can save best model only with val_acc available, skipping.\n"
     ]
    },
    {
     "name": "stdout",
     "output_type": "stream",
     "text": [
      "4020/4020 [==============================] - 2s 385us/sample - loss: 0.0089 - accuracy: 0.9931 - val_loss: 0.3493 - val_accuracy: 0.9237\n",
      "Epoch 58/100\n",
      "3968/4020 [============================>.] - ETA: 0s - loss: 0.0088 - accuracy: 0.9932"
     ]
    },
    {
     "name": "stderr",
     "output_type": "stream",
     "text": [
      "W0916 21:42:41.981586 13068 callbacks.py:989] Can save best model only with val_acc available, skipping.\n"
     ]
    },
    {
     "name": "stdout",
     "output_type": "stream",
     "text": [
      "4020/4020 [==============================] - 2s 381us/sample - loss: 0.0088 - accuracy: 0.9932 - val_loss: 0.3540 - val_accuracy: 0.9263\n",
      "Epoch 59/100\n",
      "3968/4020 [============================>.] - ETA: 0s - loss: 0.0089 - accuracy: 0.9934"
     ]
    },
    {
     "name": "stderr",
     "output_type": "stream",
     "text": [
      "W0916 21:42:43.485567 13068 callbacks.py:989] Can save best model only with val_acc available, skipping.\n"
     ]
    },
    {
     "name": "stdout",
     "output_type": "stream",
     "text": [
      "4020/4020 [==============================] - 2s 374us/sample - loss: 0.0090 - accuracy: 0.9933 - val_loss: 0.3736 - val_accuracy: 0.9232\n",
      "Epoch 60/100\n",
      "3968/4020 [============================>.] - ETA: 0s - loss: 0.0088 - accuracy: 0.9936"
     ]
    },
    {
     "name": "stderr",
     "output_type": "stream",
     "text": [
      "W0916 21:42:44.985669 13068 callbacks.py:989] Can save best model only with val_acc available, skipping.\n"
     ]
    },
    {
     "name": "stdout",
     "output_type": "stream",
     "text": [
      "4020/4020 [==============================] - 1s 373us/sample - loss: 0.0088 - accuracy: 0.9936 - val_loss: 0.3535 - val_accuracy: 0.9219\n",
      "Epoch 61/100\n",
      "3968/4020 [============================>.] - ETA: 0s - loss: 0.0089 - accuracy: 0.9934"
     ]
    },
    {
     "name": "stderr",
     "output_type": "stream",
     "text": [
      "W0916 21:42:46.577626 13068 callbacks.py:989] Can save best model only with val_acc available, skipping.\n"
     ]
    },
    {
     "name": "stdout",
     "output_type": "stream",
     "text": [
      "4020/4020 [==============================] - 2s 396us/sample - loss: 0.0088 - accuracy: 0.9934 - val_loss: 0.3849 - val_accuracy: 0.9192\n",
      "Epoch 62/100\n",
      "3968/4020 [============================>.] - ETA: 0s - loss: 0.0088 - accuracy: 0.9933"
     ]
    },
    {
     "name": "stderr",
     "output_type": "stream",
     "text": [
      "W0916 21:42:48.175034 13068 callbacks.py:989] Can save best model only with val_acc available, skipping.\n"
     ]
    },
    {
     "name": "stdout",
     "output_type": "stream",
     "text": [
      "4020/4020 [==============================] - 2s 397us/sample - loss: 0.0090 - accuracy: 0.9932 - val_loss: 0.3762 - val_accuracy: 0.9242\n",
      "Epoch 63/100\n",
      "3968/4020 [============================>.] - ETA: 0s - loss: 0.0089 - accuracy: 0.9936"
     ]
    },
    {
     "name": "stderr",
     "output_type": "stream",
     "text": [
      "W0916 21:42:49.706484 13068 callbacks.py:989] Can save best model only with val_acc available, skipping.\n"
     ]
    },
    {
     "name": "stdout",
     "output_type": "stream",
     "text": [
      "4020/4020 [==============================] - 2s 381us/sample - loss: 0.0088 - accuracy: 0.9936 - val_loss: 0.4129 - val_accuracy: 0.9253\n",
      "Epoch 64/100\n",
      "3968/4020 [============================>.] - ETA: 0s - loss: 0.0088 - accuracy: 0.9942"
     ]
    },
    {
     "name": "stderr",
     "output_type": "stream",
     "text": [
      "W0916 21:42:51.304756 13068 callbacks.py:989] Can save best model only with val_acc available, skipping.\n"
     ]
    },
    {
     "name": "stdout",
     "output_type": "stream",
     "text": [
      "4020/4020 [==============================] - 2s 397us/sample - loss: 0.0088 - accuracy: 0.9942 - val_loss: 0.3908 - val_accuracy: 0.9216\n",
      "Epoch 65/100\n",
      "3968/4020 [============================>.] - ETA: 0s - loss: 0.0090 - accuracy: 0.9931"
     ]
    },
    {
     "name": "stderr",
     "output_type": "stream",
     "text": [
      "W0916 21:42:52.859798 13068 callbacks.py:989] Can save best model only with val_acc available, skipping.\n"
     ]
    },
    {
     "name": "stdout",
     "output_type": "stream",
     "text": [
      "4020/4020 [==============================] - 2s 386us/sample - loss: 0.0090 - accuracy: 0.9930 - val_loss: 0.3674 - val_accuracy: 0.9238\n",
      "Epoch 66/100\n",
      "3968/4020 [============================>.] - ETA: 0s - loss: 0.0085 - accuracy: 0.9933"
     ]
    },
    {
     "name": "stderr",
     "output_type": "stream",
     "text": [
      "W0916 21:42:54.405305 13068 callbacks.py:989] Can save best model only with val_acc available, skipping.\n"
     ]
    },
    {
     "name": "stdout",
     "output_type": "stream",
     "text": [
      "4020/4020 [==============================] - 2s 384us/sample - loss: 0.0084 - accuracy: 0.9934 - val_loss: 0.4154 - val_accuracy: 0.9237\n",
      "Epoch 67/100\n",
      "3968/4020 [============================>.] - ETA: 0s - loss: 0.0086 - accuracy: 0.9938"
     ]
    },
    {
     "name": "stderr",
     "output_type": "stream",
     "text": [
      "W0916 21:42:55.944700 13068 callbacks.py:989] Can save best model only with val_acc available, skipping.\n"
     ]
    },
    {
     "name": "stdout",
     "output_type": "stream",
     "text": [
      "4020/4020 [==============================] - 2s 383us/sample - loss: 0.0087 - accuracy: 0.9938 - val_loss: 0.3538 - val_accuracy: 0.9176\n",
      "Epoch 68/100\n",
      "3968/4020 [============================>.] - ETA: 0s - loss: 0.0087 - accuracy: 0.9936"
     ]
    },
    {
     "name": "stderr",
     "output_type": "stream",
     "text": [
      "W0916 21:42:57.471272 13068 callbacks.py:989] Can save best model only with val_acc available, skipping.\n"
     ]
    },
    {
     "name": "stdout",
     "output_type": "stream",
     "text": [
      "4020/4020 [==============================] - 2s 379us/sample - loss: 0.0086 - accuracy: 0.9936 - val_loss: 0.4398 - val_accuracy: 0.9214\n",
      "Epoch 69/100\n",
      "3968/4020 [============================>.] - ETA: 0s - loss: 0.0096 - accuracy: 0.9938"
     ]
    },
    {
     "name": "stderr",
     "output_type": "stream",
     "text": [
      "W0916 21:42:58.981279 13068 callbacks.py:989] Can save best model only with val_acc available, skipping.\n"
     ]
    },
    {
     "name": "stdout",
     "output_type": "stream",
     "text": [
      "4020/4020 [==============================] - 2s 375us/sample - loss: 0.0097 - accuracy: 0.9937 - val_loss: 0.4375 - val_accuracy: 0.9194\n",
      "Epoch 70/100\n",
      "3968/4020 [============================>.] - ETA: 0s - loss: 0.0089 - accuracy: 0.9934"
     ]
    },
    {
     "name": "stderr",
     "output_type": "stream",
     "text": [
      "W0916 21:43:00.475601 13068 callbacks.py:989] Can save best model only with val_acc available, skipping.\n"
     ]
    },
    {
     "name": "stdout",
     "output_type": "stream",
     "text": [
      "4020/4020 [==============================] - 1s 371us/sample - loss: 0.0090 - accuracy: 0.9935 - val_loss: 0.4230 - val_accuracy: 0.9216\n",
      "Epoch 71/100\n",
      "3968/4020 [============================>.] - ETA: 0s - loss: 0.0087 - accuracy: 0.9937"
     ]
    },
    {
     "name": "stderr",
     "output_type": "stream",
     "text": [
      "W0916 21:43:01.963779 13068 callbacks.py:989] Can save best model only with val_acc available, skipping.\n"
     ]
    },
    {
     "name": "stdout",
     "output_type": "stream",
     "text": [
      "4020/4020 [==============================] - 1s 370us/sample - loss: 0.0086 - accuracy: 0.9937 - val_loss: 0.3940 - val_accuracy: 0.9196\n",
      "Epoch 72/100\n",
      "3968/4020 [============================>.] - ETA: 0s - loss: 0.0085 - accuracy: 0.9937"
     ]
    },
    {
     "name": "stderr",
     "output_type": "stream",
     "text": [
      "W0916 21:43:03.452308 13068 callbacks.py:989] Can save best model only with val_acc available, skipping.\n"
     ]
    },
    {
     "name": "stdout",
     "output_type": "stream",
     "text": [
      "4020/4020 [==============================] - 1s 370us/sample - loss: 0.0085 - accuracy: 0.9936 - val_loss: 0.4413 - val_accuracy: 0.9248\n",
      "Epoch 73/100\n",
      "3968/4020 [============================>.] - ETA: 0s - loss: 0.0086 - accuracy: 0.9928"
     ]
    },
    {
     "name": "stderr",
     "output_type": "stream",
     "text": [
      "W0916 21:43:04.935851 13068 callbacks.py:989] Can save best model only with val_acc available, skipping.\n"
     ]
    },
    {
     "name": "stdout",
     "output_type": "stream",
     "text": [
      "4020/4020 [==============================] - 1s 369us/sample - loss: 0.0085 - accuracy: 0.9929 - val_loss: 0.3827 - val_accuracy: 0.9237\n",
      "Epoch 74/100\n",
      "3968/4020 [============================>.] - ETA: 0s - loss: 0.0082 - accuracy: 0.9936"
     ]
    },
    {
     "name": "stderr",
     "output_type": "stream",
     "text": [
      "W0916 21:43:06.422385 13068 callbacks.py:989] Can save best model only with val_acc available, skipping.\n"
     ]
    },
    {
     "name": "stdout",
     "output_type": "stream",
     "text": [
      "4020/4020 [==============================] - 1s 370us/sample - loss: 0.0083 - accuracy: 0.9935 - val_loss: 0.3951 - val_accuracy: 0.9227\n",
      "Epoch 75/100\n",
      "3968/4020 [============================>.] - ETA: 0s - loss: 0.0085 - accuracy: 0.9933"
     ]
    },
    {
     "name": "stderr",
     "output_type": "stream",
     "text": [
      "W0916 21:43:07.909380 13068 callbacks.py:989] Can save best model only with val_acc available, skipping.\n"
     ]
    },
    {
     "name": "stdout",
     "output_type": "stream",
     "text": [
      "4020/4020 [==============================] - 1s 369us/sample - loss: 0.0086 - accuracy: 0.9934 - val_loss: 0.4413 - val_accuracy: 0.9213\n",
      "Epoch 76/100\n",
      "3968/4020 [============================>.] - ETA: 0s - loss: 0.0083 - accuracy: 0.9933"
     ]
    },
    {
     "name": "stderr",
     "output_type": "stream",
     "text": [
      "W0916 21:43:09.404728 13068 callbacks.py:989] Can save best model only with val_acc available, skipping.\n"
     ]
    },
    {
     "name": "stdout",
     "output_type": "stream",
     "text": [
      "4020/4020 [==============================] - 1s 372us/sample - loss: 0.0084 - accuracy: 0.9932 - val_loss: 0.4007 - val_accuracy: 0.9227\n",
      "Epoch 77/100\n",
      "3968/4020 [============================>.] - ETA: 0s - loss: 0.0083 - accuracy: 0.9938"
     ]
    },
    {
     "name": "stderr",
     "output_type": "stream",
     "text": [
      "W0916 21:43:10.909960 13068 callbacks.py:989] Can save best model only with val_acc available, skipping.\n"
     ]
    },
    {
     "name": "stdout",
     "output_type": "stream",
     "text": [
      "4020/4020 [==============================] - 2s 374us/sample - loss: 0.0084 - accuracy: 0.9937 - val_loss: 0.3919 - val_accuracy: 0.9214\n",
      "Epoch 78/100\n",
      "3968/4020 [============================>.] - ETA: 0s - loss: 0.0082 - accuracy: 0.9934"
     ]
    },
    {
     "name": "stderr",
     "output_type": "stream",
     "text": [
      "W0916 21:43:12.407986 13068 callbacks.py:989] Can save best model only with val_acc available, skipping.\n"
     ]
    },
    {
     "name": "stdout",
     "output_type": "stream",
     "text": [
      "4020/4020 [==============================] - 1s 372us/sample - loss: 0.0083 - accuracy: 0.9934 - val_loss: 0.4502 - val_accuracy: 0.9224\n",
      "Epoch 79/100\n",
      "3968/4020 [============================>.] - ETA: 0s - loss: 0.0084 - accuracy: 0.9934"
     ]
    },
    {
     "name": "stderr",
     "output_type": "stream",
     "text": [
      "W0916 21:43:13.892539 13068 callbacks.py:989] Can save best model only with val_acc available, skipping.\n"
     ]
    },
    {
     "name": "stdout",
     "output_type": "stream",
     "text": [
      "4020/4020 [==============================] - 1s 369us/sample - loss: 0.0084 - accuracy: 0.9934 - val_loss: 0.4023 - val_accuracy: 0.9226\n",
      "Epoch 80/100\n",
      "3968/4020 [============================>.] - ETA: 0s - loss: 0.0084 - accuracy: 0.9934"
     ]
    },
    {
     "name": "stderr",
     "output_type": "stream",
     "text": [
      "W0916 21:43:15.386164 13068 callbacks.py:989] Can save best model only with val_acc available, skipping.\n"
     ]
    },
    {
     "name": "stdout",
     "output_type": "stream",
     "text": [
      "4020/4020 [==============================] - 1s 371us/sample - loss: 0.0084 - accuracy: 0.9934 - val_loss: 0.3979 - val_accuracy: 0.9224\n",
      "Epoch 81/100\n",
      "3968/4020 [============================>.] - ETA: 0s - loss: 0.0082 - accuracy: 0.9935"
     ]
    },
    {
     "name": "stderr",
     "output_type": "stream",
     "text": [
      "W0916 21:43:16.878862 13068 callbacks.py:989] Can save best model only with val_acc available, skipping.\n"
     ]
    },
    {
     "name": "stdout",
     "output_type": "stream",
     "text": [
      "4020/4020 [==============================] - 1s 371us/sample - loss: 0.0083 - accuracy: 0.9934 - val_loss: 0.4205 - val_accuracy: 0.9229\n",
      "Epoch 82/100\n",
      "3968/4020 [============================>.] - ETA: 0s - loss: 0.0084 - accuracy: 0.9931"
     ]
    },
    {
     "name": "stderr",
     "output_type": "stream",
     "text": [
      "W0916 21:43:18.365705 13068 callbacks.py:989] Can save best model only with val_acc available, skipping.\n"
     ]
    },
    {
     "name": "stdout",
     "output_type": "stream",
     "text": [
      "4020/4020 [==============================] - 1s 370us/sample - loss: 0.0083 - accuracy: 0.9932 - val_loss: 0.4221 - val_accuracy: 0.9232\n",
      "Epoch 83/100\n",
      "3968/4020 [============================>.] - ETA: 0s - loss: 0.0082 - accuracy: 0.9934"
     ]
    },
    {
     "name": "stderr",
     "output_type": "stream",
     "text": [
      "W0916 21:43:19.853012 13068 callbacks.py:989] Can save best model only with val_acc available, skipping.\n"
     ]
    },
    {
     "name": "stdout",
     "output_type": "stream",
     "text": [
      "4020/4020 [==============================] - 1s 370us/sample - loss: 0.0084 - accuracy: 0.9932 - val_loss: 0.3948 - val_accuracy: 0.9231\n",
      "Epoch 84/100\n",
      "3968/4020 [============================>.] - ETA: 0s - loss: 0.0084 - accuracy: 0.9936"
     ]
    },
    {
     "name": "stderr",
     "output_type": "stream",
     "text": [
      "W0916 21:43:21.346781 13068 callbacks.py:989] Can save best model only with val_acc available, skipping.\n"
     ]
    },
    {
     "name": "stdout",
     "output_type": "stream",
     "text": [
      "4020/4020 [==============================] - 1s 371us/sample - loss: 0.0084 - accuracy: 0.9936 - val_loss: 0.4459 - val_accuracy: 0.9224\n",
      "Epoch 85/100\n",
      "3968/4020 [============================>.] - ETA: 0s - loss: 0.0084 - accuracy: 0.9932"
     ]
    },
    {
     "name": "stderr",
     "output_type": "stream",
     "text": [
      "W0916 21:43:22.832615 13068 callbacks.py:989] Can save best model only with val_acc available, skipping.\n"
     ]
    },
    {
     "name": "stdout",
     "output_type": "stream",
     "text": [
      "4020/4020 [==============================] - 1s 369us/sample - loss: 0.0083 - accuracy: 0.9932 - val_loss: 0.4107 - val_accuracy: 0.9234\n",
      "Epoch 86/100\n",
      "3968/4020 [============================>.] - ETA: 0s - loss: 0.0083 - accuracy: 0.9935"
     ]
    },
    {
     "name": "stderr",
     "output_type": "stream",
     "text": [
      "W0916 21:43:24.320638 13068 callbacks.py:989] Can save best model only with val_acc available, skipping.\n"
     ]
    },
    {
     "name": "stdout",
     "output_type": "stream",
     "text": [
      "4020/4020 [==============================] - 1s 370us/sample - loss: 0.0082 - accuracy: 0.9936 - val_loss: 0.4193 - val_accuracy: 0.9227\n",
      "Epoch 87/100\n",
      "3968/4020 [============================>.] - ETA: 0s - loss: 0.0082 - accuracy: 0.9929"
     ]
    },
    {
     "name": "stderr",
     "output_type": "stream",
     "text": [
      "W0916 21:43:25.810164 13068 callbacks.py:989] Can save best model only with val_acc available, skipping.\n"
     ]
    },
    {
     "name": "stdout",
     "output_type": "stream",
     "text": [
      "4020/4020 [==============================] - 1s 370us/sample - loss: 0.0082 - accuracy: 0.9928 - val_loss: 0.4341 - val_accuracy: 0.9231\n",
      "Epoch 88/100\n",
      "3968/4020 [============================>.] - ETA: 0s - loss: 0.0082 - accuracy: 0.9940"
     ]
    },
    {
     "name": "stderr",
     "output_type": "stream",
     "text": [
      "W0916 21:43:27.297694 13068 callbacks.py:989] Can save best model only with val_acc available, skipping.\n"
     ]
    },
    {
     "name": "stdout",
     "output_type": "stream",
     "text": [
      "4020/4020 [==============================] - 1s 370us/sample - loss: 0.0081 - accuracy: 0.9941 - val_loss: 0.4318 - val_accuracy: 0.9231\n",
      "Epoch 89/100\n",
      "3968/4020 [============================>.] - ETA: 0s - loss: 0.0081 - accuracy: 0.9938"
     ]
    },
    {
     "name": "stderr",
     "output_type": "stream",
     "text": [
      "W0916 21:43:28.790216 13068 callbacks.py:989] Can save best model only with val_acc available, skipping.\n"
     ]
    },
    {
     "name": "stdout",
     "output_type": "stream",
     "text": [
      "4020/4020 [==============================] - 1s 371us/sample - loss: 0.0082 - accuracy: 0.9937 - val_loss: 0.4273 - val_accuracy: 0.9218\n",
      "Epoch 90/100\n",
      "3968/4020 [============================>.] - ETA: 0s - loss: 0.0082 - accuracy: 0.9940"
     ]
    },
    {
     "name": "stderr",
     "output_type": "stream",
     "text": [
      "W0916 21:43:30.278773 13068 callbacks.py:989] Can save best model only with val_acc available, skipping.\n"
     ]
    },
    {
     "name": "stdout",
     "output_type": "stream",
     "text": [
      "4020/4020 [==============================] - 1s 370us/sample - loss: 0.0082 - accuracy: 0.9940 - val_loss: 0.4604 - val_accuracy: 0.9204\n",
      "Epoch 91/100\n",
      "3968/4020 [============================>.] - ETA: 0s - loss: 0.0087 - accuracy: 0.9937"
     ]
    },
    {
     "name": "stderr",
     "output_type": "stream",
     "text": [
      "W0916 21:43:31.768790 13068 callbacks.py:989] Can save best model only with val_acc available, skipping.\n"
     ]
    },
    {
     "name": "stdout",
     "output_type": "stream",
     "text": [
      "4020/4020 [==============================] - 1s 370us/sample - loss: 0.0087 - accuracy: 0.9937 - val_loss: 0.4545 - val_accuracy: 0.9220\n",
      "Epoch 92/100\n",
      "3968/4020 [============================>.] - ETA: 0s - loss: 0.0081 - accuracy: 0.9936"
     ]
    },
    {
     "name": "stderr",
     "output_type": "stream",
     "text": [
      "W0916 21:43:33.255297 13068 callbacks.py:989] Can save best model only with val_acc available, skipping.\n"
     ]
    },
    {
     "name": "stdout",
     "output_type": "stream",
     "text": [
      "4020/4020 [==============================] - 1s 370us/sample - loss: 0.0082 - accuracy: 0.9935 - val_loss: 0.4299 - val_accuracy: 0.9237\n",
      "Epoch 93/100\n",
      "3968/4020 [============================>.] - ETA: 0s - loss: 0.0085 - accuracy: 0.9926"
     ]
    },
    {
     "name": "stderr",
     "output_type": "stream",
     "text": [
      "W0916 21:43:34.749304 13068 callbacks.py:989] Can save best model only with val_acc available, skipping.\n"
     ]
    },
    {
     "name": "stdout",
     "output_type": "stream",
     "text": [
      "4020/4020 [==============================] - 1s 371us/sample - loss: 0.0084 - accuracy: 0.9927 - val_loss: 0.4057 - val_accuracy: 0.9224\n",
      "Epoch 94/100\n",
      "3968/4020 [============================>.] - ETA: 0s - loss: 0.0080 - accuracy: 0.9933"
     ]
    },
    {
     "name": "stderr",
     "output_type": "stream",
     "text": [
      "W0916 21:43:36.239321 13068 callbacks.py:989] Can save best model only with val_acc available, skipping.\n"
     ]
    },
    {
     "name": "stdout",
     "output_type": "stream",
     "text": [
      "4020/4020 [==============================] - 1s 370us/sample - loss: 0.0081 - accuracy: 0.9931 - val_loss: 0.4800 - val_accuracy: 0.9249\n",
      "Epoch 95/100\n",
      "3968/4020 [============================>.] - ETA: 0s - loss: 0.0082 - accuracy: 0.9934"
     ]
    },
    {
     "name": "stderr",
     "output_type": "stream",
     "text": [
      "W0916 21:43:37.731334 13068 callbacks.py:989] Can save best model only with val_acc available, skipping.\n"
     ]
    },
    {
     "name": "stdout",
     "output_type": "stream",
     "text": [
      "4020/4020 [==============================] - 1s 371us/sample - loss: 0.0082 - accuracy: 0.9933 - val_loss: 0.4476 - val_accuracy: 0.9242\n",
      "Epoch 96/100\n",
      "3968/4020 [============================>.] - ETA: 0s - loss: 0.0082 - accuracy: 0.9933"
     ]
    },
    {
     "name": "stderr",
     "output_type": "stream",
     "text": [
      "W0916 21:43:39.220354 13068 callbacks.py:989] Can save best model only with val_acc available, skipping.\n"
     ]
    },
    {
     "name": "stdout",
     "output_type": "stream",
     "text": [
      "4020/4020 [==============================] - 1s 370us/sample - loss: 0.0081 - accuracy: 0.9934 - val_loss: 0.4252 - val_accuracy: 0.9245\n",
      "Epoch 97/100\n",
      "3968/4020 [============================>.] - ETA: 0s - loss: 0.0082 - accuracy: 0.9933"
     ]
    },
    {
     "name": "stderr",
     "output_type": "stream",
     "text": [
      "W0916 21:43:40.705915 13068 callbacks.py:989] Can save best model only with val_acc available, skipping.\n"
     ]
    },
    {
     "name": "stdout",
     "output_type": "stream",
     "text": [
      "4020/4020 [==============================] - 1s 369us/sample - loss: 0.0081 - accuracy: 0.9933 - val_loss: 0.4608 - val_accuracy: 0.9242\n",
      "Epoch 98/100\n",
      "3968/4020 [============================>.] - ETA: 0s - loss: 0.0081 - accuracy: 0.9935"
     ]
    },
    {
     "name": "stderr",
     "output_type": "stream",
     "text": [
      "W0916 21:43:42.195983 13068 callbacks.py:989] Can save best model only with val_acc available, skipping.\n"
     ]
    },
    {
     "name": "stdout",
     "output_type": "stream",
     "text": [
      "4020/4020 [==============================] - 1s 371us/sample - loss: 0.0082 - accuracy: 0.9934 - val_loss: 0.4093 - val_accuracy: 0.9204\n",
      "Epoch 99/100\n",
      "3968/4020 [============================>.] - ETA: 0s - loss: 0.0081 - accuracy: 0.9938"
     ]
    },
    {
     "name": "stderr",
     "output_type": "stream",
     "text": [
      "W0916 21:43:43.686657 13068 callbacks.py:989] Can save best model only with val_acc available, skipping.\n"
     ]
    },
    {
     "name": "stdout",
     "output_type": "stream",
     "text": [
      "4020/4020 [==============================] - 1s 370us/sample - loss: 0.0081 - accuracy: 0.9938 - val_loss: 0.4550 - val_accuracy: 0.9222\n",
      "Epoch 100/100\n",
      "3968/4020 [============================>.] - ETA: 0s - loss: 0.0081 - accuracy: 0.9938"
     ]
    },
    {
     "name": "stderr",
     "output_type": "stream",
     "text": [
      "W0916 21:43:45.170200 13068 callbacks.py:989] Can save best model only with val_acc available, skipping.\n"
     ]
    },
    {
     "name": "stdout",
     "output_type": "stream",
     "text": [
      "\b\b\b\b\b\b\b\b\b\b\b\b\b\b\b\b\b\b\b\b\b\b\b\b\b\b\b\b\b\b\b\b\b\b\b\b\b\b\b\b\b\b\b\b\b\b\b\b\b\b\b\b\b\b\b\b\b\b\b\b\b\b\b\b\b\b\b\b\b\b\b\b\b\b\b\b\b\b\b\b\b\b\b\b\b\b\r",
      "4020/4020 [==============================] - 1s 369us/sample - loss: 0.0081 - accuracy: 0.9939 - val_loss: 0.4346 - val_accuracy: 0.9245\n"
     ]
    },
    {
     "data": {
      "text/plain": [
       "<tensorflow.python.keras.callbacks.History at 0x1d51b549588>"
      ]
     },
     "execution_count": 34,
     "metadata": {},
     "output_type": "execute_result"
    }
   ],
   "source": [
    "# model.compile(optimizer='adam',\n",
    "#               loss='binary_crossentropy',  # https://stackoverflow.com/questions/42081257/keras-binary-crossentropy-vs-categorical-crossentropy-performance\n",
    "#               metrics=['accuracy'])\n",
    "\n",
    "# https://stackoverflow.com/questions/42081257/keras-binary-crossentropy-vs-categorical-crossentropy-performance\n",
    "model.compile(loss='binary_crossentropy', optimizer='adam', metrics=['accuracy'])\n",
    "\n",
    "#model.fit(data, labels, validation_split=0.2, epochs=10)\n",
    "\n",
    "\n",
    "model.fit(trDat, \n",
    "          trLbl, \n",
    "          validation_data=(tsDat, tsLbl), \n",
    "          epochs=100, \n",
    "          batch_size=128,\n",
    "          shuffle=True,\n",
    "          callbacks=callbacks_list)\n"
   ]
  },
  {
   "cell_type": "code",
   "execution_count": 35,
   "metadata": {},
   "outputs": [],
   "source": [
    "predicts    = modelGo.predict(tsDat)"
   ]
  },
  {
   "cell_type": "code",
   "execution_count": 37,
   "metadata": {},
   "outputs": [],
   "source": [
    "predout     = np.argmax(predicts,axis=1)\n",
    "testout     = np.argmax(tsLbl,axis=1)"
   ]
  },
  {
   "cell_type": "code",
   "execution_count": 38,
   "metadata": {},
   "outputs": [],
   "source": [
    "labelname   = ['Singapore', 'Sport', 'Lifestyle', 'World', 'Business', 'Tech']"
   ]
  },
  {
   "cell_type": "code",
   "execution_count": 39,
   "metadata": {},
   "outputs": [],
   "source": [
    "testScores  = metrics.accuracy_score(testout,predout)\n",
    "confusion   = metrics.confusion_matrix(testout,predout)"
   ]
  },
  {
   "cell_type": "code",
   "execution_count": 40,
   "metadata": {},
   "outputs": [
    {
     "name": "stdout",
     "output_type": "stream",
     "text": [
      "Best accuracy (on testing dataset): 15.30%\n",
      "              precision    recall  f1-score   support\n",
      "\n",
      "           0     0.0000    0.0000    0.0000         0\n",
      "           1     0.0781    0.0153    0.0256       326\n",
      "           2     0.1546    0.9486    0.2659       311\n",
      "           3     1.0000    0.0028    0.0056       358\n",
      "           4     0.0000    0.0000    0.0000       338\n",
      "           5     0.0000    0.0000    0.0000       330\n",
      "           6     0.3333    0.0063    0.0124       317\n",
      "\n",
      "    accuracy                         0.1530      1980\n",
      "   macro avg     0.2237    0.1390    0.0442      1980\n",
      "weighted avg     0.2713    0.1530    0.0490      1980\n",
      "\n",
      "[[  0   0   0   0   0   0   0]\n",
      " [  0   5 321   0   0   0   0]\n",
      " [  0  13 295   0   0   0   3]\n",
      " [  1   8 347   1   0   0   1]\n",
      " [  0   8 330   0   0   0   0]\n",
      " [  0  13 317   0   0   0   0]\n",
      " [  0  17 298   0   0   0   2]]\n"
     ]
    },
    {
     "name": "stderr",
     "output_type": "stream",
     "text": [
      "C:\\ProgramData\\Anaconda3\\lib\\site-packages\\sklearn\\metrics\\classification.py:1437: UndefinedMetricWarning: Precision and F-score are ill-defined and being set to 0.0 in labels with no predicted samples.\n",
      "  'precision', 'predicted', average, warn_for)\n",
      "C:\\ProgramData\\Anaconda3\\lib\\site-packages\\sklearn\\metrics\\classification.py:1439: UndefinedMetricWarning: Recall and F-score are ill-defined and being set to 0.0 in labels with no true samples.\n",
      "  'recall', 'true', average, warn_for)\n"
     ]
    }
   ],
   "source": [
    "print(\"Best accuracy (on testing dataset): %.2f%%\" % (testScores*100))\n",
    "print(metrics.classification_report(testout,predout,digits=4))\n",
    "print(confusion)"
   ]
  },
  {
   "cell_type": "code",
   "execution_count": 33,
   "metadata": {},
   "outputs": [
    {
     "ename": "KeyError",
     "evalue": "'val_acc'",
     "output_type": "error",
     "traceback": [
      "\u001b[1;31m---------------------------------------------------------------------------\u001b[0m",
      "\u001b[1;31mKeyError\u001b[0m                                  Traceback (most recent call last)",
      "\u001b[1;32mC:\\ProgramData\\Anaconda3\\lib\\site-packages\\pandas\\core\\indexes\\base.py\u001b[0m in \u001b[0;36mget_loc\u001b[1;34m(self, key, method, tolerance)\u001b[0m\n\u001b[0;32m   2656\u001b[0m             \u001b[1;32mtry\u001b[0m\u001b[1;33m:\u001b[0m\u001b[1;33m\u001b[0m\u001b[1;33m\u001b[0m\u001b[0m\n\u001b[1;32m-> 2657\u001b[1;33m                 \u001b[1;32mreturn\u001b[0m \u001b[0mself\u001b[0m\u001b[1;33m.\u001b[0m\u001b[0m_engine\u001b[0m\u001b[1;33m.\u001b[0m\u001b[0mget_loc\u001b[0m\u001b[1;33m(\u001b[0m\u001b[0mkey\u001b[0m\u001b[1;33m)\u001b[0m\u001b[1;33m\u001b[0m\u001b[1;33m\u001b[0m\u001b[0m\n\u001b[0m\u001b[0;32m   2658\u001b[0m             \u001b[1;32mexcept\u001b[0m \u001b[0mKeyError\u001b[0m\u001b[1;33m:\u001b[0m\u001b[1;33m\u001b[0m\u001b[1;33m\u001b[0m\u001b[0m\n",
      "\u001b[1;32mpandas/_libs/index.pyx\u001b[0m in \u001b[0;36mpandas._libs.index.IndexEngine.get_loc\u001b[1;34m()\u001b[0m\n",
      "\u001b[1;32mpandas/_libs/index.pyx\u001b[0m in \u001b[0;36mpandas._libs.index.IndexEngine.get_loc\u001b[1;34m()\u001b[0m\n",
      "\u001b[1;32mpandas/_libs/hashtable_class_helper.pxi\u001b[0m in \u001b[0;36mpandas._libs.hashtable.PyObjectHashTable.get_item\u001b[1;34m()\u001b[0m\n",
      "\u001b[1;32mpandas/_libs/hashtable_class_helper.pxi\u001b[0m in \u001b[0;36mpandas._libs.hashtable.PyObjectHashTable.get_item\u001b[1;34m()\u001b[0m\n",
      "\u001b[1;31mKeyError\u001b[0m: 'val_acc'",
      "\nDuring handling of the above exception, another exception occurred:\n",
      "\u001b[1;31mKeyError\u001b[0m                                  Traceback (most recent call last)",
      "\u001b[1;32m<ipython-input-33-7636f3bbc1c8>\u001b[0m in \u001b[0;36m<module>\u001b[1;34m\u001b[0m\n\u001b[0;32m     15\u001b[0m \u001b[1;33m\u001b[0m\u001b[0m\n\u001b[0;32m     16\u001b[0m \u001b[0mplt\u001b[0m\u001b[1;33m.\u001b[0m\u001b[0msubplot\u001b[0m\u001b[1;33m(\u001b[0m\u001b[1;36m212\u001b[0m\u001b[1;33m)\u001b[0m\u001b[1;33m\u001b[0m\u001b[1;33m\u001b[0m\u001b[0m\n\u001b[1;32m---> 17\u001b[1;33m \u001b[0mplt\u001b[0m\u001b[1;33m.\u001b[0m\u001b[0mplot\u001b[0m\u001b[1;33m(\u001b[0m\u001b[0mrecords\u001b[0m\u001b[1;33m[\u001b[0m\u001b[1;34m'val_acc'\u001b[0m\u001b[1;33m]\u001b[0m\u001b[1;33m)\u001b[0m\u001b[1;33m\u001b[0m\u001b[1;33m\u001b[0m\u001b[0m\n\u001b[0m\u001b[0;32m     18\u001b[0m \u001b[0mplt\u001b[0m\u001b[1;33m.\u001b[0m\u001b[0mplot\u001b[0m\u001b[1;33m(\u001b[0m\u001b[0mrecords\u001b[0m\u001b[1;33m[\u001b[0m\u001b[1;34m'acc'\u001b[0m\u001b[1;33m]\u001b[0m\u001b[1;33m)\u001b[0m\u001b[1;33m\u001b[0m\u001b[1;33m\u001b[0m\u001b[0m\n\u001b[0;32m     19\u001b[0m \u001b[0mplt\u001b[0m\u001b[1;33m.\u001b[0m\u001b[0myticks\u001b[0m\u001b[1;33m(\u001b[0m\u001b[1;33m[\u001b[0m\u001b[1;36m0.6\u001b[0m\u001b[1;33m,\u001b[0m\u001b[1;36m0.7\u001b[0m\u001b[1;33m,\u001b[0m\u001b[1;36m0.8\u001b[0m\u001b[1;33m,\u001b[0m\u001b[1;36m0.9\u001b[0m\u001b[1;33m,\u001b[0m\u001b[1;36m1.0\u001b[0m\u001b[1;33m]\u001b[0m\u001b[1;33m)\u001b[0m\u001b[1;33m\u001b[0m\u001b[1;33m\u001b[0m\u001b[0m\n",
      "\u001b[1;32mC:\\ProgramData\\Anaconda3\\lib\\site-packages\\pandas\\core\\frame.py\u001b[0m in \u001b[0;36m__getitem__\u001b[1;34m(self, key)\u001b[0m\n\u001b[0;32m   2925\u001b[0m             \u001b[1;32mif\u001b[0m \u001b[0mself\u001b[0m\u001b[1;33m.\u001b[0m\u001b[0mcolumns\u001b[0m\u001b[1;33m.\u001b[0m\u001b[0mnlevels\u001b[0m \u001b[1;33m>\u001b[0m \u001b[1;36m1\u001b[0m\u001b[1;33m:\u001b[0m\u001b[1;33m\u001b[0m\u001b[1;33m\u001b[0m\u001b[0m\n\u001b[0;32m   2926\u001b[0m                 \u001b[1;32mreturn\u001b[0m \u001b[0mself\u001b[0m\u001b[1;33m.\u001b[0m\u001b[0m_getitem_multilevel\u001b[0m\u001b[1;33m(\u001b[0m\u001b[0mkey\u001b[0m\u001b[1;33m)\u001b[0m\u001b[1;33m\u001b[0m\u001b[1;33m\u001b[0m\u001b[0m\n\u001b[1;32m-> 2927\u001b[1;33m             \u001b[0mindexer\u001b[0m \u001b[1;33m=\u001b[0m \u001b[0mself\u001b[0m\u001b[1;33m.\u001b[0m\u001b[0mcolumns\u001b[0m\u001b[1;33m.\u001b[0m\u001b[0mget_loc\u001b[0m\u001b[1;33m(\u001b[0m\u001b[0mkey\u001b[0m\u001b[1;33m)\u001b[0m\u001b[1;33m\u001b[0m\u001b[1;33m\u001b[0m\u001b[0m\n\u001b[0m\u001b[0;32m   2928\u001b[0m             \u001b[1;32mif\u001b[0m \u001b[0mis_integer\u001b[0m\u001b[1;33m(\u001b[0m\u001b[0mindexer\u001b[0m\u001b[1;33m)\u001b[0m\u001b[1;33m:\u001b[0m\u001b[1;33m\u001b[0m\u001b[1;33m\u001b[0m\u001b[0m\n\u001b[0;32m   2929\u001b[0m                 \u001b[0mindexer\u001b[0m \u001b[1;33m=\u001b[0m \u001b[1;33m[\u001b[0m\u001b[0mindexer\u001b[0m\u001b[1;33m]\u001b[0m\u001b[1;33m\u001b[0m\u001b[1;33m\u001b[0m\u001b[0m\n",
      "\u001b[1;32mC:\\ProgramData\\Anaconda3\\lib\\site-packages\\pandas\\core\\indexes\\base.py\u001b[0m in \u001b[0;36mget_loc\u001b[1;34m(self, key, method, tolerance)\u001b[0m\n\u001b[0;32m   2657\u001b[0m                 \u001b[1;32mreturn\u001b[0m \u001b[0mself\u001b[0m\u001b[1;33m.\u001b[0m\u001b[0m_engine\u001b[0m\u001b[1;33m.\u001b[0m\u001b[0mget_loc\u001b[0m\u001b[1;33m(\u001b[0m\u001b[0mkey\u001b[0m\u001b[1;33m)\u001b[0m\u001b[1;33m\u001b[0m\u001b[1;33m\u001b[0m\u001b[0m\n\u001b[0;32m   2658\u001b[0m             \u001b[1;32mexcept\u001b[0m \u001b[0mKeyError\u001b[0m\u001b[1;33m:\u001b[0m\u001b[1;33m\u001b[0m\u001b[1;33m\u001b[0m\u001b[0m\n\u001b[1;32m-> 2659\u001b[1;33m                 \u001b[1;32mreturn\u001b[0m \u001b[0mself\u001b[0m\u001b[1;33m.\u001b[0m\u001b[0m_engine\u001b[0m\u001b[1;33m.\u001b[0m\u001b[0mget_loc\u001b[0m\u001b[1;33m(\u001b[0m\u001b[0mself\u001b[0m\u001b[1;33m.\u001b[0m\u001b[0m_maybe_cast_indexer\u001b[0m\u001b[1;33m(\u001b[0m\u001b[0mkey\u001b[0m\u001b[1;33m)\u001b[0m\u001b[1;33m)\u001b[0m\u001b[1;33m\u001b[0m\u001b[1;33m\u001b[0m\u001b[0m\n\u001b[0m\u001b[0;32m   2660\u001b[0m         \u001b[0mindexer\u001b[0m \u001b[1;33m=\u001b[0m \u001b[0mself\u001b[0m\u001b[1;33m.\u001b[0m\u001b[0mget_indexer\u001b[0m\u001b[1;33m(\u001b[0m\u001b[1;33m[\u001b[0m\u001b[0mkey\u001b[0m\u001b[1;33m]\u001b[0m\u001b[1;33m,\u001b[0m \u001b[0mmethod\u001b[0m\u001b[1;33m=\u001b[0m\u001b[0mmethod\u001b[0m\u001b[1;33m,\u001b[0m \u001b[0mtolerance\u001b[0m\u001b[1;33m=\u001b[0m\u001b[0mtolerance\u001b[0m\u001b[1;33m)\u001b[0m\u001b[1;33m\u001b[0m\u001b[1;33m\u001b[0m\u001b[0m\n\u001b[0;32m   2661\u001b[0m         \u001b[1;32mif\u001b[0m \u001b[0mindexer\u001b[0m\u001b[1;33m.\u001b[0m\u001b[0mndim\u001b[0m \u001b[1;33m>\u001b[0m \u001b[1;36m1\u001b[0m \u001b[1;32mor\u001b[0m \u001b[0mindexer\u001b[0m\u001b[1;33m.\u001b[0m\u001b[0msize\u001b[0m \u001b[1;33m>\u001b[0m \u001b[1;36m1\u001b[0m\u001b[1;33m:\u001b[0m\u001b[1;33m\u001b[0m\u001b[1;33m\u001b[0m\u001b[0m\n",
      "\u001b[1;32mpandas/_libs/index.pyx\u001b[0m in \u001b[0;36mpandas._libs.index.IndexEngine.get_loc\u001b[1;34m()\u001b[0m\n",
      "\u001b[1;32mpandas/_libs/index.pyx\u001b[0m in \u001b[0;36mpandas._libs.index.IndexEngine.get_loc\u001b[1;34m()\u001b[0m\n",
      "\u001b[1;32mpandas/_libs/hashtable_class_helper.pxi\u001b[0m in \u001b[0;36mpandas._libs.hashtable.PyObjectHashTable.get_item\u001b[1;34m()\u001b[0m\n",
      "\u001b[1;32mpandas/_libs/hashtable_class_helper.pxi\u001b[0m in \u001b[0;36mpandas._libs.hashtable.PyObjectHashTable.get_item\u001b[1;34m()\u001b[0m\n",
      "\u001b[1;31mKeyError\u001b[0m: 'val_acc'"
     ]
    },
    {
     "data": {
      "image/png": "[encoded data removed]",
      "text/plain": [
       "<Figure size 432x288 with 2 Axes>"
      ]
     },
     "metadata": {
      "needs_background": "light"
     },
     "output_type": "display_data"
    }
   ],
   "source": [
    "import pandas as pd\n",
    "\n",
    "records     = pd.read_csv('./Models/'+modelname +'.csv')\n",
    "plt.figure()\n",
    "plt.subplot(211)\n",
    "plt.plot(records['val_loss'])\n",
    "plt.plot(records['loss'])\n",
    "plt.yticks([0,0.20,0.40,0.60,0.80,1.00])\n",
    "plt.title('Loss value',fontsize=12)\n",
    "\n",
    "ax          = plt.gca()\n",
    "ax.set_xticklabels([])\n",
    "\n",
    "\n",
    "\n",
    "plt.subplot(212)\n",
    "plt.plot(records['val_acc'])\n",
    "plt.plot(records['acc'])\n",
    "plt.yticks([0.6,0.7,0.8,0.9,1.0])\n",
    "plt.title('Accuracy',fontsize=12)\n",
    "plt.show()\n"
   ]
  },
  {
   "cell_type": "code",
   "execution_count": null,
   "metadata": {},
   "outputs": [],
   "source": [
    "example = data[400] # get the tokens\n",
    "print (df['article'][400])\n",
    "\n",
    "# Print tokens as text\n",
    "for w in example:\n",
    "    x = inv_index.get(w)\n",
    "    print(x,end = ' ')"
   ]
  },
  {
   "cell_type": "code",
   "execution_count": null,
   "metadata": {},
   "outputs": [],
   "source": [
    "# Get prediction\n",
    "pred = model.predict(example.reshape(1,100))"
   ]
  },
  {
   "cell_type": "code",
   "execution_count": null,
   "metadata": {},
   "outputs": [],
   "source": [
    "# Output predicted category\n",
    "df['category'][np.argmax(pred)]"
   ]
  },
  {
   "cell_type": "code",
   "execution_count": null,
   "metadata": {},
   "outputs": [],
   "source": []
  },
  {
   "cell_type": "code",
   "execution_count": null,
   "metadata": {},
   "outputs": [],
   "source": []
  },
  {
   "cell_type": "markdown",
   "metadata": {},
   "source": [
    "# Hyperparameters Optimization"
   ]
  },
  {
   "cell_type": "code",
   "execution_count": null,
   "metadata": {},
   "outputs": [],
   "source": []
  },
  {
   "cell_type": "code",
   "execution_count": null,
   "metadata": {},
   "outputs": [],
   "source": []
  },
  {
   "cell_type": "code",
   "execution_count": null,
   "metadata": {},
   "outputs": [],
   "source": []
  },
  {
   "cell_type": "code",
   "execution_count": null,
   "metadata": {},
   "outputs": [],
   "source": [
    "with open('Models/decisionTree_best_model.pickle', 'wb') as output:\n",
    "    pickle.dump(best_lrc, output)\n",
    "    \n",
    "with open('Models/decisionTree_best_model_details.pickle', 'wb') as output:\n",
    "    pickle.dump(df_models_lrc, output)"
   ]
  },
  {
   "cell_type": "code",
   "execution_count": null,
   "metadata": {},
   "outputs": [],
   "source": []
  },
  {
   "cell_type": "code",
   "execution_count": null,
   "metadata": {},
   "outputs": [],
   "source": []
  }
 ],
 "metadata": {
  "kernelspec": {
   "display_name": "Python 3",
   "language": "python",
   "name": "python3"
  },
  "language_info": {
   "codemirror_mode": {
    "name": "ipython",
    "version": 3
   },
   "file_extension": ".py",
   "mimetype": "text/x-python",
   "name": "python",
   "nbconvert_exporter": "python",
   "pygments_lexer": "ipython3",
   "version": "3.7.3"
  }
 },
 "nbformat": 4,
 "nbformat_minor": 2
}
