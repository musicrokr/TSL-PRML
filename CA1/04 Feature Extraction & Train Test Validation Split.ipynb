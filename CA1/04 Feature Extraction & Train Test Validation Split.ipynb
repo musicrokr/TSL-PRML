{
 "cells": [
  {
   "cell_type": "markdown",
   "metadata": {},
   "source": [
    "# Feature Extraction & Train Test Validation Split"
   ]
  },
  {
   "cell_type": "markdown",
   "metadata": {},
   "source": [
    "Bag of Words and Sequence Vectors Feature Extraction"
   ]
  },
  {
   "cell_type": "code",
   "execution_count": 1,
   "metadata": {},
   "outputs": [],
   "source": [
    "import pandas as pd\n",
    "\n",
    "from sklearn.feature_extraction.text import TfidfVectorizer\n",
    "from sklearn.model_selection import train_test_split\n",
    "from sklearn.feature_selection import SelectKBest\n",
    "from sklearn.feature_selection import f_classif\n",
    "\n",
    "from tensorflow.python.keras.preprocessing import sequence\n",
    "from tensorflow.python.keras.preprocessing import text\n",
    "\n",
    "import matplotlib.pyplot as plt\n",
    "import seaborn as sns\n",
    "import pickle\n",
    "\n",
    "%matplotlib inline"
   ]
  },
  {
   "cell_type": "code",
   "execution_count": 2,
   "metadata": {},
   "outputs": [],
   "source": [
    "path_df = \"./Pickles/all_articles_processed.pickle\"\n",
    "\n",
    "with open(path_df, 'rb') as data:\n",
    "    articles = pickle.load(data)"
   ]
  },
  {
   "cell_type": "code",
   "execution_count": 3,
   "metadata": {},
   "outputs": [
    {
     "data": {
      "text/html": [
       "<div>\n",
       "<style scoped>\n",
       "    .dataframe tbody tr th:only-of-type {\n",
       "        vertical-align: middle;\n",
       "    }\n",
       "\n",
       "    .dataframe tbody tr th {\n",
       "        vertical-align: top;\n",
       "    }\n",
       "\n",
       "    .dataframe thead th {\n",
       "        text-align: right;\n",
       "    }\n",
       "</style>\n",
       "<table border=\"1\" class=\"dataframe\">\n",
       "  <thead>\n",
       "    <tr style=\"text-align: right;\">\n",
       "      <th></th>\n",
       "      <th>source</th>\n",
       "      <th>title</th>\n",
       "      <th>article</th>\n",
       "      <th>category</th>\n",
       "      <th>category_code</th>\n",
       "    </tr>\n",
       "  </thead>\n",
       "  <tbody>\n",
       "    <tr>\n",
       "      <th>0</th>\n",
       "      <td>The Straits Times</td>\n",
       "      <td>Body found in garbage chute area of Woodlands ...</td>\n",
       "      <td>singapore  man body find grind floor rubbish c...</td>\n",
       "      <td>Singapore</td>\n",
       "      <td>1</td>\n",
       "    </tr>\n",
       "    <tr>\n",
       "      <th>1</th>\n",
       "      <td>The Straits Times</td>\n",
       "      <td>Formula One: Thai Alexander Albon given chance...</td>\n",
       "      <td>london afp  thai formula one driver alexander ...</td>\n",
       "      <td>Sports</td>\n",
       "      <td>2</td>\n",
       "    </tr>\n",
       "    <tr>\n",
       "      <th>2</th>\n",
       "      <td>The Straits Times</td>\n",
       "      <td>The Straits Times bags 8 wins at Asian Digital...</td>\n",
       "      <td>singapore  straits time bag eight award 8th as...</td>\n",
       "      <td>Singapore</td>\n",
       "      <td>1</td>\n",
       "    </tr>\n",
       "    <tr>\n",
       "      <th>3</th>\n",
       "      <td>The Straits Times</td>\n",
       "      <td>Games</td>\n",
       "      <td>ready challenge try daily sudoku crossword puz...</td>\n",
       "      <td>Lifestyle</td>\n",
       "      <td>3</td>\n",
       "    </tr>\n",
       "    <tr>\n",
       "      <th>4</th>\n",
       "      <td>The Straits Times</td>\n",
       "      <td>Hong Kong cancels all remaining Monday flights...</td>\n",
       "      <td>hong kong bloomberg  hong kong airport authori...</td>\n",
       "      <td>World</td>\n",
       "      <td>4</td>\n",
       "    </tr>\n",
       "  </tbody>\n",
       "</table>\n",
       "</div>"
      ],
      "text/plain": [
       "              source                                              title  \\\n",
       "0  The Straits Times  Body found in garbage chute area of Woodlands ...   \n",
       "1  The Straits Times  Formula One: Thai Alexander Albon given chance...   \n",
       "2  The Straits Times  The Straits Times bags 8 wins at Asian Digital...   \n",
       "3  The Straits Times                                              Games   \n",
       "4  The Straits Times  Hong Kong cancels all remaining Monday flights...   \n",
       "\n",
       "                                             article   category  category_code  \n",
       "0  singapore  man body find grind floor rubbish c...  Singapore              1  \n",
       "1  london afp  thai formula one driver alexander ...     Sports              2  \n",
       "2  singapore  straits time bag eight award 8th as...  Singapore              1  \n",
       "3  ready challenge try daily sudoku crossword puz...  Lifestyle              3  \n",
       "4  hong kong bloomberg  hong kong airport authori...      World              4  "
      ]
     },
     "execution_count": 3,
     "metadata": {},
     "output_type": "execute_result"
    }
   ],
   "source": [
    "articles.head()"
   ]
  },
  {
   "cell_type": "markdown",
   "metadata": {},
   "source": [
    "## Train Test Validation Split"
   ]
  },
  {
   "cell_type": "code",
   "execution_count": 4,
   "metadata": {},
   "outputs": [],
   "source": [
    "X_train, X_test, y_train, y_test = train_test_split(articles['article'], articles['category_code'], test_size=0.2, random_state=1)\n",
    "X_test, X_validation, y_test, y_validation = train_test_split(X_test, y_test, test_size=0.5, random_state=1)"
   ]
  },
  {
   "cell_type": "code",
   "execution_count": 5,
   "metadata": {},
   "outputs": [
    {
     "name": "stdout",
     "output_type": "stream",
     "text": [
      "Articles in Training Dataset: 5373 80.0 %\n",
      "Articles in Testing Dataset: 672 10.0 %\n",
      "Articles in Validation Dataset: 672 10.0 %\n",
      "Total Number of Articles: 6717\n"
     ]
    }
   ],
   "source": [
    "all_article_count = len(X_train)+len(X_test)+len(X_validation)\n",
    "print('Articles in Training Dataset:',len(X_train),round(len(X_train)/all_article_count,2)*100,\"%\")\n",
    "print('Articles in Testing Dataset:',len(X_test),round(len(X_test)/all_article_count,2)*100,\"%\")\n",
    "print('Articles in Validation Dataset:',len(X_validation),round(len(X_validation)/all_article_count,2)*100,\"%\")\n",
    "print('Total Number of Articles:',all_article_count)"
   ]
  },
  {
   "cell_type": "markdown",
   "metadata": {},
   "source": [
    "# Tf-idf Encoding (Bag of Words)"
   ]
  },
  {
   "cell_type": "code",
   "execution_count": 6,
   "metadata": {},
   "outputs": [],
   "source": [
    "# Vectorization parameters\n",
    "# Range (inclusive) of n-gram sizes for tokenizing text.\n",
    "NGRAM_RANGE = (1, 2)\n",
    "\n",
    "# Limit on the number of features. We use the top 20K features.\n",
    "TOP_K = 20000\n",
    "\n",
    "# Whether text should be split into word or character n-grams.\n",
    "# One of 'word', 'char'.\n",
    "TOKEN_MODE = 'word'\n",
    "\n",
    "# Minimum document/corpus frequency below which a token will be discarded.\n",
    "MIN_DOCUMENT_FREQUENCY = 2\n",
    "\n",
    "# Create keyword arguments to pass to the 'tf-idf' vectorizer.\n",
    "kwargs = {\n",
    "        'ngram_range': NGRAM_RANGE,  # Use 1-grams + 2-grams.\n",
    "        'dtype': 'int32',\n",
    "        'strip_accents': 'unicode',\n",
    "        'decode_error': 'replace',\n",
    "        'analyzer': TOKEN_MODE,  # Split text into word tokens.\n",
    "        'min_df': MIN_DOCUMENT_FREQUENCY,\n",
    "}"
   ]
  },
  {
   "cell_type": "code",
   "execution_count": 7,
   "metadata": {},
   "outputs": [],
   "source": [
    "vectorizer = TfidfVectorizer(**kwargs)"
   ]
  },
  {
   "cell_type": "code",
   "execution_count": 8,
   "metadata": {},
   "outputs": [
    {
     "name": "stderr",
     "output_type": "stream",
     "text": [
      "C:\\ProgramData\\Anaconda3\\lib\\site-packages\\sklearn\\feature_extraction\\text.py:1616: UserWarning: Only (<class 'numpy.float64'>, <class 'numpy.float32'>, <class 'numpy.float16'>) 'dtype' should be used. int32 'dtype' will be converted to np.float64.\n",
      "  UserWarning)\n"
     ]
    }
   ],
   "source": [
    "# Learn vocabulary from training texts and vectorize training texts.\n",
    "tdidf_features_train = vectorizer.fit_transform(X_train)\n",
    "\n",
    "# Vectorize testing texts.\n",
    "tdidf_features_test = vectorizer.transform(X_test)\n",
    "\n",
    "# Vectorize validation texts.\n",
    "tdidf_features_validation = vectorizer.transform(X_validation)"
   ]
  },
  {
   "cell_type": "code",
   "execution_count": 9,
   "metadata": {},
   "outputs": [
    {
     "name": "stdout",
     "output_type": "stream",
     "text": [
      "Training Matrix: (5373, 20000)\n",
      "Test Matrix: (672, 20000)\n",
      "Validation Matrix: (672, 20000)\n"
     ]
    }
   ],
   "source": [
    "# Select top 'k' of the vectorized features.\n",
    "selector = SelectKBest(f_classif, k=min(TOP_K, tdidf_features_train.shape[1]))\n",
    "selector.fit(tdidf_features_train, y_train)\n",
    "\n",
    "tdidf_features_train = selector.transform(tdidf_features_train).astype('float32')\n",
    "print('Training Matrix:',tdidf_features_train.shape)\n",
    "\n",
    "tdidf_features_test = selector.transform(tdidf_features_test).astype('float32')\n",
    "print('Test Matrix:',tdidf_features_test.shape)\n",
    "\n",
    "tdidf_features_validation = selector.transform(tdidf_features_validation).astype('float32')\n",
    "print('Validation Matrix:',tdidf_features_validation.shape)"
   ]
  },
  {
   "cell_type": "code",
   "execution_count": 10,
   "metadata": {},
   "outputs": [],
   "source": [
    "#Training Features\n",
    "with open('Pickles/tdidf_training_features.pickle', 'wb') as output:\n",
    "    pickle.dump(tdidf_features_train, output)\n",
    "    \n",
    "#Training Labels\n",
    "with open('Pickles/tdidf_training_labels.pickle', 'wb') as output:\n",
    "    pickle.dump(y_train, output)\n",
    "    \n",
    "#Test Features\n",
    "with open('Pickles/tdidf_test_features.pickle', 'wb') as output:\n",
    "    pickle.dump(tdidf_features_test, output)\n",
    "    \n",
    "#Test Labels\n",
    "with open('Pickles/tdidf_test_labels.pickle', 'wb') as output:\n",
    "    pickle.dump(y_test, output)\n",
    "    \n",
    "#Test Features\n",
    "with open('Pickles/tdidf_validation_features.pickle', 'wb') as output:\n",
    "    pickle.dump(tdidf_features_validation, output)\n",
    "    \n",
    "#Test Labels\n",
    "with open('Pickles/tdidf_validation_labels.pickle', 'wb') as output:\n",
    "    pickle.dump(y_validation, output)"
   ]
  },
  {
   "cell_type": "markdown",
   "metadata": {},
   "source": [
    "# Sequence Vectors"
   ]
  },
  {
   "cell_type": "code",
   "execution_count": 11,
   "metadata": {},
   "outputs": [],
   "source": [
    "# Vectorization parameters\n",
    "# Limit on the number of features. We use the top 20K features.\n",
    "TOP_K = 20000\n",
    "\n",
    "# Limit on the length of text sequences. Sequences longer than this\n",
    "# will be truncated.\n",
    "MAX_SEQUENCE_LENGTH = 500"
   ]
  },
  {
   "cell_type": "code",
   "execution_count": 12,
   "metadata": {},
   "outputs": [],
   "source": [
    "# Create vocabulary with training texts.\n",
    "tokenizer = text.Tokenizer(num_words=TOP_K)\n",
    "tokenizer.fit_on_texts(X_train)"
   ]
  },
  {
   "cell_type": "code",
   "execution_count": 13,
   "metadata": {},
   "outputs": [
    {
     "data": {
      "text/plain": [
       "[[11648], [4566], [17898], [17898], [], [], [9060], [], [8210], [17898], []]"
      ]
     },
     "execution_count": 13,
     "metadata": {},
     "output_type": "execute_result"
    }
   ],
   "source": [
    "tokenizer.texts_to_sequences(\"Hello World\")"
   ]
  },
  {
   "cell_type": "code",
   "execution_count": 14,
   "metadata": {},
   "outputs": [],
   "source": [
    "# Learn vocabulary from training texts and vectorize training texts.\n",
    "sv_features_train = tokenizer.texts_to_sequences(X_train)\n",
    "\n",
    "# Vectorize testing texts.\n",
    "sv_features_test = tokenizer.texts_to_sequences(X_test)\n",
    "\n",
    "# Vectorize validation texts.\n",
    "sv_features_validation = tokenizer.texts_to_sequences(X_validation)"
   ]
  },
  {
   "cell_type": "code",
   "execution_count": 15,
   "metadata": {},
   "outputs": [],
   "source": [
    "# Get max sequence length.\n",
    "max_length = len(max(sv_features_train, key=len))\n",
    "if max_length > MAX_SEQUENCE_LENGTH:\n",
    "    max_length = MAX_SEQUENCE_LENGTH"
   ]
  },
  {
   "cell_type": "code",
   "execution_count": 16,
   "metadata": {},
   "outputs": [],
   "source": [
    "# Fix sequence length to max value. Sequences shorter than the length are\n",
    "# padded in the beginning and sequences longer are truncated\n",
    "# at the beginning.\n",
    "sv_features_train = sequence.pad_sequences(sv_features_train, maxlen=max_length)\n",
    "sv_features_test = sequence.pad_sequences(sv_features_test, maxlen=max_length)\n",
    "sv_features_validation = sequence.pad_sequences(sv_features_validation, maxlen=max_length)"
   ]
  },
  {
   "cell_type": "code",
   "execution_count": 17,
   "metadata": {},
   "outputs": [
    {
     "name": "stdout",
     "output_type": "stream",
     "text": [
      "Sequence Vector Training Matrix: (5373, 500)\n",
      "Sequence Vector Testing Matrix: (672, 500)\n",
      "Sequence Vector Validation Matrix: (672, 500)\n"
     ]
    }
   ],
   "source": [
    "print('Sequence Vector Training Matrix:',sv_features_train.shape)\n",
    "print('Sequence Vector Testing Matrix:',sv_features_test.shape)\n",
    "print('Sequence Vector Validation Matrix:',sv_features_validation.shape)"
   ]
  },
  {
   "cell_type": "code",
   "execution_count": 18,
   "metadata": {},
   "outputs": [],
   "source": [
    "#Training Features\n",
    "with open('Pickles/sv_training_features.pickle', 'wb') as output:\n",
    "    pickle.dump(sv_features_train, output)\n",
    "    \n",
    "#Training Labels\n",
    "with open('Pickles/sv_training_labels.pickle', 'wb') as output:\n",
    "    pickle.dump(y_train, output)\n",
    "    \n",
    "#Test Features\n",
    "with open('Pickles/sv_test_features.pickle', 'wb') as output:\n",
    "    pickle.dump(sv_features_test, output)\n",
    "    \n",
    "#Test Labels\n",
    "with open('Pickles/sv_test_labels.pickle', 'wb') as output:\n",
    "    pickle.dump(y_test, output)\n",
    "    \n",
    "#Test Features\n",
    "with open('Pickles/sv_validation_features.pickle', 'wb') as output:\n",
    "    pickle.dump(sv_features_validation, output)\n",
    "    \n",
    "#Test Labels\n",
    "with open('Pickles/sv_validation_labels.pickle', 'wb') as output:\n",
    "    pickle.dump(y_validation, output)"
   ]
  },
  {
   "cell_type": "code",
   "execution_count": null,
   "metadata": {},
   "outputs": [],
   "source": []
  }
 ],
 "metadata": {
  "kernelspec": {
   "display_name": "Python 3",
   "language": "python",
   "name": "python3"
  },
  "language_info": {
   "codemirror_mode": {
    "name": "ipython",
    "version": 3
   },
   "file_extension": ".py",
   "mimetype": "text/x-python",
   "name": "python",
   "nbconvert_exporter": "python",
   "pygments_lexer": "ipython3",
   "version": "3.7.3"
  }
 },
 "nbformat": 4,
 "nbformat_minor": 2
}
