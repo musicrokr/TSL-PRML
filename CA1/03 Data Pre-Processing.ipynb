{
 "cells": [
  {
   "cell_type": "markdown",
   "metadata": {},
   "source": [
    "# Data Pre-Processing"
   ]
  },
  {
   "cell_type": "markdown",
   "metadata": {},
   "source": [
    "Perform data cleaning on the consolidated dataset, including the following:\n",
    "<ol>\n",
    "    <li>Convert all text to Lower Case</li>\n",
    "    <li>Remove special breakline characters</li>\n",
    "    <li>Remove Numbers</li>\n",
    "    <li>Lemmatization of text</li>\n",
    "    <li>Remove Stopwords</li>\n",
    "    <li>Category Encoding</li>\n",
    "</ol>\n",
    "\n",
    "The output is a cleaned dataset."
   ]
  },
  {
   "cell_type": "code",
   "execution_count": 1,
   "metadata": {},
   "outputs": [
    {
     "name": "stderr",
     "output_type": "stream",
     "text": [
      "[nltk_data] Downloading package stopwords to\n",
      "[nltk_data]     C:\\Users\\darry\\AppData\\Roaming\\nltk_data...\n",
      "[nltk_data]   Package stopwords is already up-to-date!\n"
     ]
    }
   ],
   "source": [
    "import pandas as pd\n",
    "import pickle\n",
    "import re\n",
    "\n",
    "import nltk\n",
    "from nltk.corpus import stopwords\n",
    "from nltk.stem import WordNetLemmatizer\n",
    "nltk.download('stopwords')\n",
    "\n",
    "%matplotlib inline"
   ]
  },
  {
   "cell_type": "code",
   "execution_count": 2,
   "metadata": {},
   "outputs": [],
   "source": [
    "path_df = \"./Pickles/sampled_articles_raw.pickle\"\n",
    "\n",
    "with open(path_df, 'rb') as data:\n",
    "    articles = pickle.load(data)"
   ]
  },
  {
   "cell_type": "markdown",
   "metadata": {},
   "source": [
    "## 1. Convert All text to Lower Case"
   ]
  },
  {
   "cell_type": "code",
   "execution_count": 3,
   "metadata": {},
   "outputs": [],
   "source": [
    "articles['article']=articles['article'].str.lower()"
   ]
  },
  {
   "cell_type": "code",
   "execution_count": 4,
   "metadata": {},
   "outputs": [
    {
     "data": {
      "text/plain": [
       "'\\nsingapore - from the complicated life story of mexican painter frida kahlo to an exhibition on effigies and the mythic female, the third edition of annual storytelling festival storyfest aims to disrupt and deconstruct the notion of a single narrative.\\nthe festival will run at the arts house from june 21 to 24 with 22 programmes.\\nthese include the asian premieres of american storyteller david novak\\'s rendition of the ancient sumerian epic, gilgamesh, and reflecting fridas, in which brazilian storyteller ana maria lines weaves stories from kahlo\\'s life with her own.\\n\\n\\n\\n\\nlines, 55, has been fascinated by kahlo\\'s ability to turn adversity into art since she was a child and was shown a picture of a kahlo painting in class. to create the show, she went to mexico to visit the places where kahlo lived and talk to artists and locals about her.\\n\"the process of creating a show inspired by frida kahlo helped me to have another understanding about death and how important it is to remember and celebrate our ancestors,\" she says in an e-mail message.\\nthe festival\\'s creative producer, kamini ramachandran, 50, says its audience has grown from 680 in 2017, when it began, to more than 1,900 last year, of which more than 860 attended ticketed programmes.\\n\\n\\n\\n\\n\\nshe has observed that increasingly, audiences include not just parents with children, but also professionals keen on honing their communication skills.\\nshe says: \"if somebody can tell you an epic for 90 minutes, these are the same skills you can apply for pitching or marketing.\\n\"i find we are spending a lot of time waiting for other people to dictate to us what we should see, visualise and imagine.\\nshe adds: \"i want the types of stories we are telling to allow you to make believe, to access those parts of your imagination that have not been given time to connect with what is in front of you.\\n\"this is something we were born with, but we\\'ve become distracted and disconnected because of certain devices we have.\"\\nthe festival includes free programme dis/connect: digital detox, a space in which visitors are asked to put away their phones.\\nactivities there include the big story tent, in which established and emerging storytellers will hold sessions, and room to read, a picture-book library by home-grown publisher asiapac books.\\nsix singapore storytellers - from theatre practitioners verena tay and grace kalaiselvi to journalist akshita nanda - will present tales related to the nusantara region (a javanese term for maritime south-east asia) at a showcase.\\nin addition, artist zarina muhammad is putting together the festival\\'s first visual storytelling exhibition, pharmacopeias for accredited agents of poisoning.\\nthe title refers to british physician john gimlette\\'s 1915 text, malay poisons and charm cures, in which he writes that malay women are \"generally held to be the accredited agents, at any rate, in many cases of poisoning, because naturally the cooking is left almost entirely to them\".\\nthe exhibition will include clay effigies, embroidered cloth and \"story spell jars\" that zarina, 37, has assembled from ingredients such as spices and expired medication. she will also be holding a public workshop on making effigies and using them to tell stories.\\nzarina says: \"i am interested in the demonised and desired body.\\n\"i want to destabilise the voice of the single storyteller - not negate them, but talk back and extend the conversation.\"\\nbook it / storyfest\\nwhere: the arts house, 1 old parliament lane\\nwhen: june 21 to 24, various times\\nadmission: various prices, from storyfest.peatix.com\\ninfo: storyfestsg.com\\n'"
      ]
     },
     "execution_count": 4,
     "metadata": {},
     "output_type": "execute_result"
    }
   ],
   "source": [
    "articles['article'].iloc[0]"
   ]
  },
  {
   "cell_type": "markdown",
   "metadata": {},
   "source": [
    "## 2. Remove special breakline characters and Punctuation"
   ]
  },
  {
   "cell_type": "code",
   "execution_count": 5,
   "metadata": {},
   "outputs": [],
   "source": [
    "articles['article']=articles['article'].str.replace(\"\\n\", \" \")\n",
    "articles['article']=articles['article'].str.replace(r'[^\\w\\s]+', '')"
   ]
  },
  {
   "cell_type": "code",
   "execution_count": 6,
   "metadata": {},
   "outputs": [
    {
     "data": {
      "text/plain": [
       "' singapore  from the complicated life story of mexican painter frida kahlo to an exhibition on effigies and the mythic female the third edition of annual storytelling festival storyfest aims to disrupt and deconstruct the notion of a single narrative the festival will run at the arts house from june 21 to 24 with 22 programmes these include the asian premieres of american storyteller david novaks rendition of the ancient sumerian epic gilgamesh and reflecting fridas in which brazilian storyteller ana maria lines weaves stories from kahlos life with her own     lines 55 has been fascinated by kahlos ability to turn adversity into art since she was a child and was shown a picture of a kahlo painting in class to create the show she went to mexico to visit the places where kahlo lived and talk to artists and locals about her the process of creating a show inspired by frida kahlo helped me to have another understanding about death and how important it is to remember and celebrate our ancestors she says in an email message the festivals creative producer kamini ramachandran 50 says its audience has grown from 680 in 2017 when it began to more than 1900 last year of which more than 860 attended ticketed programmes      she has observed that increasingly audiences include not just parents with children but also professionals keen on honing their communication skills she says if somebody can tell you an epic for 90 minutes these are the same skills you can apply for pitching or marketing i find we are spending a lot of time waiting for other people to dictate to us what we should see visualise and imagine she adds i want the types of stories we are telling to allow you to make believe to access those parts of your imagination that have not been given time to connect with what is in front of you this is something we were born with but weve become distracted and disconnected because of certain devices we have the festival includes free programme disconnect digital detox a space in which visitors are asked to put away their phones activities there include the big story tent in which established and emerging storytellers will hold sessions and room to read a picturebook library by homegrown publisher asiapac books six singapore storytellers  from theatre practitioners verena tay and grace kalaiselvi to journalist akshita nanda  will present tales related to the nusantara region a javanese term for maritime southeast asia at a showcase in addition artist zarina muhammad is putting together the festivals first visual storytelling exhibition pharmacopeias for accredited agents of poisoning the title refers to british physician john gimlettes 1915 text malay poisons and charm cures in which he writes that malay women are generally held to be the accredited agents at any rate in many cases of poisoning because naturally the cooking is left almost entirely to them the exhibition will include clay effigies embroidered cloth and story spell jars that zarina 37 has assembled from ingredients such as spices and expired medication she will also be holding a public workshop on making effigies and using them to tell stories zarina says i am interested in the demonised and desired body i want to destabilise the voice of the single storyteller  not negate them but talk back and extend the conversation book it  storyfest where the arts house 1 old parliament lane when june 21 to 24 various times admission various prices from storyfestpeatixcom info storyfestsgcom '"
      ]
     },
     "execution_count": 6,
     "metadata": {},
     "output_type": "execute_result"
    }
   ],
   "source": [
    "articles['article'].iloc[0]"
   ]
  },
  {
   "cell_type": "markdown",
   "metadata": {},
   "source": [
    "## 3. Remove Numbers"
   ]
  },
  {
   "cell_type": "code",
   "execution_count": 7,
   "metadata": {},
   "outputs": [],
   "source": [
    "articles['article'] = articles['article'].str.replace('\\d+', '')"
   ]
  },
  {
   "cell_type": "code",
   "execution_count": 8,
   "metadata": {},
   "outputs": [
    {
     "data": {
      "text/plain": [
       "' singapore  from the complicated life story of mexican painter frida kahlo to an exhibition on effigies and the mythic female the third edition of annual storytelling festival storyfest aims to disrupt and deconstruct the notion of a single narrative the festival will run at the arts house from june  to  with  programmes these include the asian premieres of american storyteller david novaks rendition of the ancient sumerian epic gilgamesh and reflecting fridas in which brazilian storyteller ana maria lines weaves stories from kahlos life with her own     lines  has been fascinated by kahlos ability to turn adversity into art since she was a child and was shown a picture of a kahlo painting in class to create the show she went to mexico to visit the places where kahlo lived and talk to artists and locals about her the process of creating a show inspired by frida kahlo helped me to have another understanding about death and how important it is to remember and celebrate our ancestors she says in an email message the festivals creative producer kamini ramachandran  says its audience has grown from  in  when it began to more than  last year of which more than  attended ticketed programmes      she has observed that increasingly audiences include not just parents with children but also professionals keen on honing their communication skills she says if somebody can tell you an epic for  minutes these are the same skills you can apply for pitching or marketing i find we are spending a lot of time waiting for other people to dictate to us what we should see visualise and imagine she adds i want the types of stories we are telling to allow you to make believe to access those parts of your imagination that have not been given time to connect with what is in front of you this is something we were born with but weve become distracted and disconnected because of certain devices we have the festival includes free programme disconnect digital detox a space in which visitors are asked to put away their phones activities there include the big story tent in which established and emerging storytellers will hold sessions and room to read a picturebook library by homegrown publisher asiapac books six singapore storytellers  from theatre practitioners verena tay and grace kalaiselvi to journalist akshita nanda  will present tales related to the nusantara region a javanese term for maritime southeast asia at a showcase in addition artist zarina muhammad is putting together the festivals first visual storytelling exhibition pharmacopeias for accredited agents of poisoning the title refers to british physician john gimlettes  text malay poisons and charm cures in which he writes that malay women are generally held to be the accredited agents at any rate in many cases of poisoning because naturally the cooking is left almost entirely to them the exhibition will include clay effigies embroidered cloth and story spell jars that zarina  has assembled from ingredients such as spices and expired medication she will also be holding a public workshop on making effigies and using them to tell stories zarina says i am interested in the demonised and desired body i want to destabilise the voice of the single storyteller  not negate them but talk back and extend the conversation book it  storyfest where the arts house  old parliament lane when june  to  various times admission various prices from storyfestpeatixcom info storyfestsgcom '"
      ]
     },
     "execution_count": 8,
     "metadata": {},
     "output_type": "execute_result"
    }
   ],
   "source": [
    "articles['article'].iloc[0]"
   ]
  },
  {
   "cell_type": "markdown",
   "metadata": {},
   "source": [
    "## 4. Lemmatization of text"
   ]
  },
  {
   "cell_type": "code",
   "execution_count": 9,
   "metadata": {},
   "outputs": [],
   "source": [
    "lemmatizer = WordNetLemmatizer() "
   ]
  },
  {
   "cell_type": "code",
   "execution_count": 10,
   "metadata": {},
   "outputs": [],
   "source": [
    "def lemmatize_text(raw_text):\n",
    "    raw_text_words = raw_text.split(\" \")\n",
    "    \n",
    "    lemmatized_text_list = []\n",
    "    \n",
    "    for word in raw_text_words:\n",
    "        lemmatized_text_list.append(lemmatizer.lemmatize(word, pos=\"v\"))\n",
    "        \n",
    "    lemmatized_text = \" \".join(lemmatized_text_list)\n",
    "    \n",
    "    return lemmatized_text"
   ]
  },
  {
   "cell_type": "code",
   "execution_count": 11,
   "metadata": {},
   "outputs": [],
   "source": [
    "articles['article']=articles['article'].apply(lemmatize_text)"
   ]
  },
  {
   "cell_type": "code",
   "execution_count": 12,
   "metadata": {},
   "outputs": [
    {
     "data": {
      "text/plain": [
       "' singapore  from the complicate life story of mexican painter frida kahlo to an exhibition on effigies and the mythic female the third edition of annual storytelling festival storyfest aim to disrupt and deconstruct the notion of a single narrative the festival will run at the arts house from june  to  with  program these include the asian premier of american storyteller david novaks rendition of the ancient sumerian epic gilgamesh and reflect fridas in which brazilian storyteller ana maria line weave stories from kahlos life with her own     line  have be fascinate by kahlos ability to turn adversity into art since she be a child and be show a picture of a kahlo paint in class to create the show she go to mexico to visit the place where kahlo live and talk to artists and locals about her the process of create a show inspire by frida kahlo help me to have another understand about death and how important it be to remember and celebrate our ancestors she say in an email message the festivals creative producer kamini ramachandran  say its audience have grow from  in  when it begin to more than  last year of which more than  attend ticket program      she have observe that increasingly audiences include not just parent with children but also professionals keen on hone their communication skills she say if somebody can tell you an epic for  minutes these be the same skills you can apply for pitch or market i find we be spend a lot of time wait for other people to dictate to us what we should see visualise and imagine she add i want the type of stories we be tell to allow you to make believe to access those part of your imagination that have not be give time to connect with what be in front of you this be something we be bear with but weve become distract and disconnect because of certain devices we have the festival include free programme disconnect digital detox a space in which visitors be ask to put away their phone activities there include the big story tent in which establish and emerge storytellers will hold sessions and room to read a picturebook library by homegrown publisher asiapac book six singapore storytellers  from theatre practitioners verena tay and grace kalaiselvi to journalist akshita nanda  will present tales relate to the nusantara region a javanese term for maritime southeast asia at a showcase in addition artist zarina muhammad be put together the festivals first visual storytelling exhibition pharmacopeias for accredit agents of poison the title refer to british physician john gimlettes  text malay poison and charm cure in which he write that malay women be generally hold to be the accredit agents at any rate in many case of poison because naturally the cook be leave almost entirely to them the exhibition will include clay effigies embroider cloth and story spell jar that zarina  have assemble from ingredients such as spice and expire medication she will also be hold a public workshop on make effigies and use them to tell stories zarina say i be interest in the demonise and desire body i want to destabilise the voice of the single storyteller  not negate them but talk back and extend the conversation book it  storyfest where the arts house  old parliament lane when june  to  various time admission various price from storyfestpeatixcom info storyfestsgcom '"
      ]
     },
     "execution_count": 12,
     "metadata": {},
     "output_type": "execute_result"
    }
   ],
   "source": [
    "articles['article'].iloc[0]"
   ]
  },
  {
   "cell_type": "markdown",
   "metadata": {},
   "source": [
    "## 5. Remove Stopwords"
   ]
  },
  {
   "cell_type": "code",
   "execution_count": 13,
   "metadata": {},
   "outputs": [],
   "source": [
    "stop_words = list(stopwords.words('english'))"
   ]
  },
  {
   "cell_type": "code",
   "execution_count": 14,
   "metadata": {},
   "outputs": [],
   "source": [
    "def remove_stopwords(raw_text):\n",
    "    \n",
    "    raw_text_words = raw_text.split(\" \")\n",
    "    \n",
    "    stopwords_removed_text_list = []\n",
    "    \n",
    "    for word in raw_text_words:\n",
    "        if word.lower() not in stop_words:\n",
    "            stopwords_removed_text_list.append(word)\n",
    "        \n",
    "    stopwords_removed_text = \" \".join(stopwords_removed_text_list)\n",
    "    \n",
    "    return stopwords_removed_text"
   ]
  },
  {
   "cell_type": "code",
   "execution_count": 15,
   "metadata": {},
   "outputs": [],
   "source": [
    "articles['article']=articles['article'].apply(remove_stopwords)"
   ]
  },
  {
   "cell_type": "code",
   "execution_count": 16,
   "metadata": {},
   "outputs": [
    {
     "data": {
      "text/plain": [
       "' singapore  complicate life story mexican painter frida kahlo exhibition effigies mythic female third edition annual storytelling festival storyfest aim disrupt deconstruct notion single narrative festival run arts house june    program include asian premier american storyteller david novaks rendition ancient sumerian epic gilgamesh reflect fridas brazilian storyteller ana maria line weave stories kahlos life     line  fascinate kahlos ability turn adversity art since child show picture kahlo paint class create show go mexico visit place kahlo live talk artists locals process create show inspire frida kahlo help another understand death important remember celebrate ancestors say email message festivals creative producer kamini ramachandran  say audience grow   begin  last year  attend ticket program      observe increasingly audiences include parent children also professionals keen hone communication skills say somebody tell epic  minutes skills apply pitch market find spend lot time wait people dictate us see visualise imagine add want type stories tell allow make believe access part imagination give time connect front something bear weve become distract disconnect certain devices festival include free programme disconnect digital detox space visitors ask put away phone activities include big story tent establish emerge storytellers hold sessions room read picturebook library homegrown publisher asiapac book six singapore storytellers  theatre practitioners verena tay grace kalaiselvi journalist akshita nanda  present tales relate nusantara region javanese term maritime southeast asia showcase addition artist zarina muhammad put together festivals first visual storytelling exhibition pharmacopeias accredit agents poison title refer british physician john gimlettes  text malay poison charm cure write malay women generally hold accredit agents rate many case poison naturally cook leave almost entirely exhibition include clay effigies embroider cloth story spell jar zarina  assemble ingredients spice expire medication also hold public workshop make effigies use tell stories zarina say interest demonise desire body want destabilise voice single storyteller  negate talk back extend conversation book  storyfest arts house  old parliament lane june   various time admission various price storyfestpeatixcom info storyfestsgcom '"
      ]
     },
     "execution_count": 16,
     "metadata": {},
     "output_type": "execute_result"
    }
   ],
   "source": [
    "articles['article'].iloc[0]"
   ]
  },
  {
   "cell_type": "markdown",
   "metadata": {},
   "source": [
    "## 6. Category Encoding"
   ]
  },
  {
   "cell_type": "code",
   "execution_count": 17,
   "metadata": {},
   "outputs": [
    {
     "data": {
      "text/plain": [
       "array(['Lifestyle', 'World', 'Technology', 'Business', 'Singapore',\n",
       "       'Sports'], dtype=object)"
      ]
     },
     "execution_count": 17,
     "metadata": {},
     "output_type": "execute_result"
    }
   ],
   "source": [
    "articles['category'].unique()"
   ]
  },
  {
   "cell_type": "code",
   "execution_count": 18,
   "metadata": {},
   "outputs": [],
   "source": [
    "category_mapping = {\n",
    "    'Singapore': 1,\n",
    "    'Sports': 2,\n",
    "    'Lifestyle': 3,\n",
    "    'World': 4,\n",
    "    'Business': 5,\n",
    "    'Technology': 6\n",
    "}"
   ]
  },
  {
   "cell_type": "code",
   "execution_count": 19,
   "metadata": {},
   "outputs": [
    {
     "data": {
      "text/html": [
       "<div>\n",
       "<style scoped>\n",
       "    .dataframe tbody tr th:only-of-type {\n",
       "        vertical-align: middle;\n",
       "    }\n",
       "\n",
       "    .dataframe tbody tr th {\n",
       "        vertical-align: top;\n",
       "    }\n",
       "\n",
       "    .dataframe thead th {\n",
       "        text-align: right;\n",
       "    }\n",
       "</style>\n",
       "<table border=\"1\" class=\"dataframe\">\n",
       "  <thead>\n",
       "    <tr style=\"text-align: right;\">\n",
       "      <th></th>\n",
       "      <th>source</th>\n",
       "      <th>title</th>\n",
       "      <th>article</th>\n",
       "      <th>category</th>\n",
       "      <th>length_characters</th>\n",
       "      <th>length_words</th>\n",
       "      <th>category_code</th>\n",
       "    </tr>\n",
       "  </thead>\n",
       "  <tbody>\n",
       "    <tr>\n",
       "      <th>0</th>\n",
       "      <td>The Straits Times</td>\n",
       "      <td>Myth, magic and memoirs at storytelling festival</td>\n",
       "      <td>singapore  complicate life story mexican pain...</td>\n",
       "      <td>Lifestyle</td>\n",
       "      <td>3603</td>\n",
       "      <td>589</td>\n",
       "      <td>3</td>\n",
       "    </tr>\n",
       "    <tr>\n",
       "      <th>1</th>\n",
       "      <td>AsiaOne</td>\n",
       "      <td>Beyond the ski slopes: Why the wealthy have ey...</td>\n",
       "      <td>hot sunny day im look hokkaidos mighty usu vol...</td>\n",
       "      <td>Lifestyle</td>\n",
       "      <td>9642</td>\n",
       "      <td>1500</td>\n",
       "      <td>3</td>\n",
       "    </tr>\n",
       "    <tr>\n",
       "      <th>2</th>\n",
       "      <td>The Straits Times</td>\n",
       "      <td>Critics gush over the spectacle and story of A...</td>\n",
       "      <td>los angeles unite state reuters  film critics...</td>\n",
       "      <td>Lifestyle</td>\n",
       "      <td>2390</td>\n",
       "      <td>374</td>\n",
       "      <td>3</td>\n",
       "    </tr>\n",
       "    <tr>\n",
       "      <th>3</th>\n",
       "      <td>AsiaOne</td>\n",
       "      <td>Spaces we love: Singaporean homes washed in na...</td>\n",
       "      <td>want home bath light adjustments need make get...</td>\n",
       "      <td>Lifestyle</td>\n",
       "      <td>1645</td>\n",
       "      <td>286</td>\n",
       "      <td>3</td>\n",
       "    </tr>\n",
       "    <tr>\n",
       "      <th>4</th>\n",
       "      <td>Channel News Asia</td>\n",
       "      <td>NaN</td>\n",
       "      <td>amid colossal portraits clean line black white...</td>\n",
       "      <td>Lifestyle</td>\n",
       "      <td>1985</td>\n",
       "      <td>300</td>\n",
       "      <td>3</td>\n",
       "    </tr>\n",
       "  </tbody>\n",
       "</table>\n",
       "</div>"
      ],
      "text/plain": [
       "              source                                              title  \\\n",
       "0  The Straits Times   Myth, magic and memoirs at storytelling festival   \n",
       "1            AsiaOne  Beyond the ski slopes: Why the wealthy have ey...   \n",
       "2  The Straits Times  Critics gush over the spectacle and story of A...   \n",
       "3            AsiaOne  Spaces we love: Singaporean homes washed in na...   \n",
       "4  Channel News Asia                                                NaN   \n",
       "\n",
       "                                             article   category  \\\n",
       "0   singapore  complicate life story mexican pain...  Lifestyle   \n",
       "1  hot sunny day im look hokkaidos mighty usu vol...  Lifestyle   \n",
       "2   los angeles unite state reuters  film critics...  Lifestyle   \n",
       "3  want home bath light adjustments need make get...  Lifestyle   \n",
       "4  amid colossal portraits clean line black white...  Lifestyle   \n",
       "\n",
       "   length_characters  length_words  category_code  \n",
       "0               3603           589              3  \n",
       "1               9642          1500              3  \n",
       "2               2390           374              3  \n",
       "3               1645           286              3  \n",
       "4               1985           300              3  "
      ]
     },
     "execution_count": 19,
     "metadata": {},
     "output_type": "execute_result"
    }
   ],
   "source": [
    "articles['category_code']=articles['category']\n",
    "processed_articles = articles.replace({'category_code':category_mapping})\n",
    "processed_articles=processed_articles.reset_index(drop=True)\n",
    "processed_articles.head()"
   ]
  },
  {
   "cell_type": "code",
   "execution_count": 20,
   "metadata": {},
   "outputs": [],
   "source": [
    "#Export to Serialized Object\n",
    "with open('Pickles/all_articles_processed.pickle', 'wb') as output:\n",
    "    pickle.dump(processed_articles, output)"
   ]
  },
  {
   "cell_type": "code",
   "execution_count": null,
   "metadata": {},
   "outputs": [],
   "source": []
  }
 ],
 "metadata": {
  "kernelspec": {
   "display_name": "Python 3",
   "language": "python",
   "name": "python3"
  },
  "language_info": {
   "codemirror_mode": {
    "name": "ipython",
    "version": 3
   },
   "file_extension": ".py",
   "mimetype": "text/x-python",
   "name": "python",
   "nbconvert_exporter": "python",
   "pygments_lexer": "ipython3",
   "version": "3.7.3"
  }
 },
 "nbformat": 4,
 "nbformat_minor": 2
}
