{
 "cells": [
  {
   "cell_type": "markdown",
   "metadata": {},
   "source": [
    "# Data Pre-Processing"
   ]
  },
  {
   "cell_type": "markdown",
   "metadata": {},
   "source": [
    "Perform data cleaning on the consolidated dataset, including the following:\n",
    "<ol>\n",
    "    <li>Convert all text to Lower Case</li>\n",
    "    <li>Remove special breakline characters</li>\n",
    "    <li>Lemmatization of text</li>\n",
    "    <li>Remove Stopwords</li>\n",
    "    <li>Category Encoding</li>\n",
    "</ol>\n",
    "\n",
    "The output is a cleaned dataset."
   ]
  },
  {
   "cell_type": "code",
   "execution_count": 1,
   "metadata": {},
   "outputs": [
    {
     "name": "stderr",
     "output_type": "stream",
     "text": [
      "[nltk_data] Downloading package wordnet to\n",
      "[nltk_data]     C:\\Users\\darry\\AppData\\Roaming\\nltk_data...\n",
      "[nltk_data]   Package wordnet is already up-to-date!\n"
     ]
    }
   ],
   "source": [
    "import pandas as pd\n",
    "import pickle\n",
    "\n",
    "import nltk\n",
    "from nltk.corpus import stopwords\n",
    "from nltk.stem import WordNetLemmatizer\n",
    "nltk.download('wordnet')\n",
    "\n",
    "%matplotlib inline"
   ]
  },
  {
   "cell_type": "code",
   "execution_count": 2,
   "metadata": {},
   "outputs": [],
   "source": [
    "path_df = \"./Pickles/all_articles_raw.pickle\"\n",
    "\n",
    "with open(path_df, 'rb') as data:\n",
    "    articles = pickle.load(data)"
   ]
  },
  {
   "cell_type": "markdown",
   "metadata": {},
   "source": [
    "## 1. Convert All text to Lower Case"
   ]
  },
  {
   "cell_type": "code",
   "execution_count": 3,
   "metadata": {},
   "outputs": [],
   "source": [
    "articles['article']=articles['article'].str.lower()"
   ]
  },
  {
   "cell_type": "code",
   "execution_count": 4,
   "metadata": {},
   "outputs": [
    {
     "data": {
      "text/plain": [
       "\"singapore - a man's body was found on the ground floor rubbish chute area at block 677 woodlands avenue 6 on monday afternoon (aug 12).\\n\\nthe police said they were alerted to a case of unnatural death at 12.05pm.\\n\\na 64-year-old man was found motionless and was pronounced dead by paramedics at the scene, the police said.\\n\\nphotographer vivian low said she noticed the cordoned area when she walked past the block.\\n\\nms low, 29, added that she heard the housing estate's cleaning crew found the man when they opened the door in the morning.\\n\\nthe police are investigating the incident.\""
      ]
     },
     "execution_count": 4,
     "metadata": {},
     "output_type": "execute_result"
    }
   ],
   "source": [
    "articles['article'].iloc[0]"
   ]
  },
  {
   "cell_type": "markdown",
   "metadata": {},
   "source": [
    "## 2. Remove special breakline characters and Punctuation"
   ]
  },
  {
   "cell_type": "code",
   "execution_count": 5,
   "metadata": {},
   "outputs": [],
   "source": [
    "articles['article']=articles['article'].str.replace(\"\\n\", \" \")\n",
    "articles['article']=articles['article'].str.replace(r'[^\\w\\s]+', '')"
   ]
  },
  {
   "cell_type": "code",
   "execution_count": 6,
   "metadata": {},
   "outputs": [
    {
     "data": {
      "text/plain": [
       "'singapore  a mans body was found on the ground floor rubbish chute area at block 677 woodlands avenue 6 on monday afternoon aug 12  the police said they were alerted to a case of unnatural death at 1205pm  a 64yearold man was found motionless and was pronounced dead by paramedics at the scene the police said  photographer vivian low said she noticed the cordoned area when she walked past the block  ms low 29 added that she heard the housing estates cleaning crew found the man when they opened the door in the morning  the police are investigating the incident'"
      ]
     },
     "execution_count": 6,
     "metadata": {},
     "output_type": "execute_result"
    }
   ],
   "source": [
    "articles['article'].iloc[0]"
   ]
  },
  {
   "cell_type": "markdown",
   "metadata": {},
   "source": [
    "## 3. Lemmatization of text"
   ]
  },
  {
   "cell_type": "code",
   "execution_count": 7,
   "metadata": {},
   "outputs": [],
   "source": [
    "lemmatizer = WordNetLemmatizer() "
   ]
  },
  {
   "cell_type": "code",
   "execution_count": 8,
   "metadata": {},
   "outputs": [],
   "source": [
    "def lemmatize_text(raw_text):\n",
    "    raw_text_words = raw_text.split(\" \")\n",
    "    \n",
    "    lemmatized_text_list = []\n",
    "    \n",
    "    for word in raw_text_words:\n",
    "        lemmatized_text_list.append(lemmatizer.lemmatize(word, pos=\"v\"))\n",
    "        \n",
    "    lemmatized_text = \" \".join(lemmatized_text_list)\n",
    "    \n",
    "    return lemmatized_text"
   ]
  },
  {
   "cell_type": "code",
   "execution_count": 9,
   "metadata": {},
   "outputs": [],
   "source": [
    "articles['article']=articles['article'].apply(lemmatize_text)"
   ]
  },
  {
   "cell_type": "code",
   "execution_count": 10,
   "metadata": {},
   "outputs": [
    {
     "data": {
      "text/plain": [
       "'singapore  a man body be find on the grind floor rubbish chute area at block 677 woodlands avenue 6 on monday afternoon aug 12  the police say they be alert to a case of unnatural death at 1205pm  a 64yearold man be find motionless and be pronounce dead by paramedics at the scene the police say  photographer vivian low say she notice the cordoned area when she walk past the block  ms low 29 add that she hear the house estates clean crew find the man when they open the door in the morning  the police be investigate the incident'"
      ]
     },
     "execution_count": 10,
     "metadata": {},
     "output_type": "execute_result"
    }
   ],
   "source": [
    "articles['article'].iloc[0]"
   ]
  },
  {
   "cell_type": "markdown",
   "metadata": {},
   "source": [
    "## 4. Remove Stopwords"
   ]
  },
  {
   "cell_type": "code",
   "execution_count": 11,
   "metadata": {},
   "outputs": [],
   "source": [
    "stop_words = list(stopwords.words('english'))"
   ]
  },
  {
   "cell_type": "code",
   "execution_count": 12,
   "metadata": {},
   "outputs": [],
   "source": [
    "def remove_stopwords(raw_text):\n",
    "    \n",
    "    raw_text_words = raw_text.split(\" \")\n",
    "    \n",
    "    stopwords_removed_text_list = []\n",
    "    \n",
    "    for word in raw_text_words:\n",
    "        if word.lower() not in stop_words:\n",
    "            stopwords_removed_text_list.append(word)\n",
    "        \n",
    "    stopwords_removed_text = \" \".join(stopwords_removed_text_list)\n",
    "    \n",
    "    return stopwords_removed_text"
   ]
  },
  {
   "cell_type": "code",
   "execution_count": 13,
   "metadata": {},
   "outputs": [],
   "source": [
    "articles['article']=articles['article'].apply(remove_stopwords)"
   ]
  },
  {
   "cell_type": "code",
   "execution_count": 14,
   "metadata": {},
   "outputs": [
    {
     "data": {
      "text/plain": [
       "'singapore  man body find grind floor rubbish chute area block 677 woodlands avenue 6 monday afternoon aug 12  police say alert case unnatural death 1205pm  64yearold man find motionless pronounce dead paramedics scene police say  photographer vivian low say notice cordoned area walk past block  ms low 29 add hear house estates clean crew find man open door morning  police investigate incident'"
      ]
     },
     "execution_count": 14,
     "metadata": {},
     "output_type": "execute_result"
    }
   ],
   "source": [
    "articles['article'].iloc[0]"
   ]
  },
  {
   "cell_type": "markdown",
   "metadata": {},
   "source": [
    "## 5. Category Encoding"
   ]
  },
  {
   "cell_type": "code",
   "execution_count": 15,
   "metadata": {},
   "outputs": [
    {
     "data": {
      "text/plain": [
       "array(['Singapore', 'Sports', 'Lifestyle', 'World', 'Business',\n",
       "       'Technology'], dtype=object)"
      ]
     },
     "execution_count": 15,
     "metadata": {},
     "output_type": "execute_result"
    }
   ],
   "source": [
    "articles['category'].unique()"
   ]
  },
  {
   "cell_type": "code",
   "execution_count": 18,
   "metadata": {},
   "outputs": [],
   "source": [
    "category_mapping = {\n",
    "    'Singapore': 1,\n",
    "    'Sports': 2,\n",
    "    'Lifestyle': 3,\n",
    "    'World': 4,\n",
    "    'Business': 5,\n",
    "    'Technology': 4\n",
    "}"
   ]
  },
  {
   "cell_type": "code",
   "execution_count": 23,
   "metadata": {},
   "outputs": [
    {
     "data": {
      "text/html": [
       "<div>\n",
       "<style scoped>\n",
       "    .dataframe tbody tr th:only-of-type {\n",
       "        vertical-align: middle;\n",
       "    }\n",
       "\n",
       "    .dataframe tbody tr th {\n",
       "        vertical-align: top;\n",
       "    }\n",
       "\n",
       "    .dataframe thead th {\n",
       "        text-align: right;\n",
       "    }\n",
       "</style>\n",
       "<table border=\"1\" class=\"dataframe\">\n",
       "  <thead>\n",
       "    <tr style=\"text-align: right;\">\n",
       "      <th></th>\n",
       "      <th>source</th>\n",
       "      <th>title</th>\n",
       "      <th>article</th>\n",
       "      <th>category</th>\n",
       "      <th>category_code</th>\n",
       "    </tr>\n",
       "  </thead>\n",
       "  <tbody>\n",
       "    <tr>\n",
       "      <th>0</th>\n",
       "      <td>The Straits Times</td>\n",
       "      <td>Body found in garbage chute area of Woodlands ...</td>\n",
       "      <td>singapore  man body find grind floor rubbish c...</td>\n",
       "      <td>Singapore</td>\n",
       "      <td>1</td>\n",
       "    </tr>\n",
       "    <tr>\n",
       "      <th>1</th>\n",
       "      <td>The Straits Times</td>\n",
       "      <td>Formula One: Thai Alexander Albon given chance...</td>\n",
       "      <td>london afp  thai formula one driver alexander ...</td>\n",
       "      <td>Sports</td>\n",
       "      <td>2</td>\n",
       "    </tr>\n",
       "    <tr>\n",
       "      <th>2</th>\n",
       "      <td>The Straits Times</td>\n",
       "      <td>The Straits Times bags 8 wins at Asian Digital...</td>\n",
       "      <td>singapore  straits time bag eight award 8th as...</td>\n",
       "      <td>Singapore</td>\n",
       "      <td>1</td>\n",
       "    </tr>\n",
       "    <tr>\n",
       "      <th>3</th>\n",
       "      <td>The Straits Times</td>\n",
       "      <td>Games</td>\n",
       "      <td>ready challenge try daily sudoku crossword puz...</td>\n",
       "      <td>Lifestyle</td>\n",
       "      <td>3</td>\n",
       "    </tr>\n",
       "    <tr>\n",
       "      <th>4</th>\n",
       "      <td>The Straits Times</td>\n",
       "      <td>Hong Kong cancels all remaining Monday flights...</td>\n",
       "      <td>hong kong bloomberg  hong kong airport authori...</td>\n",
       "      <td>World</td>\n",
       "      <td>4</td>\n",
       "    </tr>\n",
       "  </tbody>\n",
       "</table>\n",
       "</div>"
      ],
      "text/plain": [
       "              source                                              title  \\\n",
       "0  The Straits Times  Body found in garbage chute area of Woodlands ...   \n",
       "1  The Straits Times  Formula One: Thai Alexander Albon given chance...   \n",
       "2  The Straits Times  The Straits Times bags 8 wins at Asian Digital...   \n",
       "3  The Straits Times                                              Games   \n",
       "4  The Straits Times  Hong Kong cancels all remaining Monday flights...   \n",
       "\n",
       "                                             article   category  category_code  \n",
       "0  singapore  man body find grind floor rubbish c...  Singapore              1  \n",
       "1  london afp  thai formula one driver alexander ...     Sports              2  \n",
       "2  singapore  straits time bag eight award 8th as...  Singapore              1  \n",
       "3  ready challenge try daily sudoku crossword puz...  Lifestyle              3  \n",
       "4  hong kong bloomberg  hong kong airport authori...      World              4  "
      ]
     },
     "execution_count": 23,
     "metadata": {},
     "output_type": "execute_result"
    }
   ],
   "source": [
    "articles['category_code']=articles['category']\n",
    "processed_articles = articles.replace({'category_code':category_mapping})\n",
    "processed_articles.head()"
   ]
  },
  {
   "cell_type": "code",
   "execution_count": 24,
   "metadata": {},
   "outputs": [],
   "source": [
    "#Export to Serialized Object\n",
    "with open('Pickles/all_articles_processed.pickle', 'wb') as output:\n",
    "    pickle.dump(processed_articles, output)"
   ]
  },
  {
   "cell_type": "code",
   "execution_count": null,
   "metadata": {},
   "outputs": [],
   "source": []
  }
 ],
 "metadata": {
  "kernelspec": {
   "display_name": "Python 3",
   "language": "python",
   "name": "python3"
  },
  "language_info": {
   "codemirror_mode": {
    "name": "ipython",
    "version": 3
   },
   "file_extension": ".py",
   "mimetype": "text/x-python",
   "name": "python",
   "nbconvert_exporter": "python",
   "pygments_lexer": "ipython3",
   "version": "3.7.3"
  }
 },
 "nbformat": 4,
 "nbformat_minor": 2
}
