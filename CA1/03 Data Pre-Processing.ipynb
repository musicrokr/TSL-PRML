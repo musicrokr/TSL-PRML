{
 "cells": [
  {
   "cell_type": "markdown",
   "metadata": {},
   "source": [
    "# Data Pre-Processing"
   ]
  },
  {
   "cell_type": "markdown",
   "metadata": {},
   "source": [
    "Perform data cleaning on the consolidated dataset, including the following:\n",
    "<ol>\n",
    "    <li>Convert all text to Lower Case</li>\n",
    "    <li>Remove special breakline characters</li>\n",
    "    <li>Remove Numbers</li>\n",
    "    <li>Lemmatization of text</li>\n",
    "    <li>Remove Stopwords</li>\n",
    "    <li>Category Encoding</li>\n",
    "</ol>\n",
    "\n",
    "The output is a cleaned dataset."
   ]
  },
  {
   "cell_type": "code",
   "execution_count": 1,
   "metadata": {},
   "outputs": [
    {
     "name": "stderr",
     "output_type": "stream",
     "text": [
      "[nltk_data] Downloading package stopwords to\n",
      "[nltk_data]     C:\\Users\\darry\\AppData\\Roaming\\nltk_data...\n",
      "[nltk_data]   Package stopwords is already up-to-date!\n"
     ]
    }
   ],
   "source": [
    "import pandas as pd\n",
    "import pickle\n",
    "import re\n",
    "\n",
    "import nltk\n",
    "from nltk.corpus import stopwords\n",
    "from nltk.stem import WordNetLemmatizer\n",
    "nltk.download('stopwords')\n",
    "\n",
    "%matplotlib inline"
   ]
  },
  {
   "cell_type": "code",
   "execution_count": 2,
   "metadata": {},
   "outputs": [],
   "source": [
    "path_df = \"./Pickles/sampled_articles_raw.pickle\"\n",
    "\n",
    "with open(path_df, 'rb') as data:\n",
    "    articles = pickle.load(data)"
   ]
  },
  {
   "cell_type": "markdown",
   "metadata": {},
   "source": [
    "## 1. Convert All text to Lower Case"
   ]
  },
  {
   "cell_type": "code",
   "execution_count": 3,
   "metadata": {},
   "outputs": [],
   "source": [
    "articles['article']=articles['article'].str.lower()"
   ]
  },
  {
   "cell_type": "code",
   "execution_count": 4,
   "metadata": {},
   "outputs": [
    {
     "data": {
      "text/plain": [
       "\"whether you’re buying an hdb resale flat as a first-timer or just looking to “upgrade” now that your first bto has passed the 5 year mark, choosing a resale home can be a daunting affair.\\nunlike the hdb bto route where you basically don’t have a say in anything, now the options are literally endless.\\xa0\\n\\n\\nbut that doesn’t mean you shouldn’t spend an entire year searching for your dream home. \\n\\n\\nbecause after your 12th or 13th viewing, everything will look the same to you.\\ninstead, you should make a list of as many criteria as possible to narrow down your search. (and no, silly, we don’t mean en bloc potential.) here’s a list of key factors to look at when choosing a resale flat.\\n1. price\\nthe very first thing to consider when hunting for a resale flat is your budget. if your budget is $400,000, that’s going to impact a lot of other factors: location, flat size, age and so on.\\nof course, what counts as “within budget” really varies from person to person. some people want a home that’s roughly the equivalent of the proceeds from their freshly-sold bto, while others don’t mind increasing their home loans.\\xa0\\n\\n\\n\\n\\nread also\\n\\n\\n\\n\\n\\n\\n\\ncan you afford a hdb flat when you're 35 and single?\\n\\n\\n\\nbear in mind, though, that you probably don’t want to overstretch yourself as you might have a lot of financial commitments (kids growing up, parents growing old) coming up at this point.\\nand stick to your budget! sure, your property agent might upsell you some luxurious $1 million dbss unit, but is he going to pay the extra $600,000 out of his pocket? yeah, didn’t think so.\\nwhen thinking about your budget, also consider the subsidies available to resale flat buyers. for first-timers, you can get $40,000 or $50,000 in grants, while all hdb resale flat buyers can get a $20,000 grant to live within 4km of their family members.\\nmy partner and i qualified for $70,000 in grants when we started looking for a resale flat last year, and this helped to stretch our budget of $400,000 to $470,000. this boost helped a lot, as it opened up more options in mature estates like ang mo kio and bedok.\\n2. location\\nwhile you don’t get much location options with an hdb bto flat, all of a sudden you will have plenty to choose from when shopping for a resale flat.\\nbefore you get too carried away with your dreams of living in expensive hdb estates like queenstown or tanjong pagar, bear in mind that your budget will seriously impact your location options.\\nfor example, while a $500,000 budget would get you a comfortable 4- or 5-room flat in a suburban estate like bukit panjang, it’d be a lot harder to find options in more central places like kallang or tiong bahru.\\xa0if you die-die must stay in one of these estates, be prepared to settle for a much older 3-room flat.\\nfor those considering taking up hdb’s proximity grant of $20,000 to live within 4km of your parents or married children, that’s a good way to narrow down the options. you can use a search tool like 99.co to search by radius.\\nonce you’ve narrowed down the areas you can afford, it’s time to consider the details.\\xa0\\nfor me, having spent a decade waiting for feeder buses, my one criteria was to find a place within walking distance of an mrt station. i don’t mind a good 20-minute walk, as long as i don’t have to rot at the bus stop.\\nif you’re the type who doesn’t want the sun to mess with your carefully cultivated gothic pallor, look for a place with sheltered walkways; if you drive, it’s a definite plus to be located close to an expressway entrance.\\n3.\\xa0amenities\\nalthough the ubiquity of grabfood\\xa0and redmart\\xa0makes it a lot more convenient to live further than spitting distance of the nearest eatery or supermarket, it’s still nice to have at least a kopitiam, supermarket and atm nearby.\\n\\n\\n\\n\\nread also\\n\\n\\n\\n\\n\\n\\n\\nhow to prevent your hdb flat from flooding\\n\\n\\n\\napart from the basic amenities listed above, you’ll also want to look for the ones that are more tailored to your lifestyle.\\nobsessed with working out? make sure there’s a gym or sporting complex nearby so you don’t have to drag your sorry ass all the way to tanjong pagar when you feel the urge to lift weights.\\nhave a high-maintenance dog that requires monthly grooming? find a place with a vet, groomer and pet supply store, so you don’t blow all your money on ferrying lil bow wow across the island every time he needs a trim.\\ngot a serious 4d habit? find a unit with a singapore pools downstairs so you can scratch that itch anytime… j/k, actually please consider living as far as possible from it.\\n4. coolness\\nsingapore faces sunny weather almost year round, so unless you enjoy coming back to a free sauna, you’d want to consider units that are naturally cooler.\\nmost of us are familiar with the 2 rules of thumb: “no low floor” and “no west-facing units”.\\ni wouldn’t dismiss all low floor units, but it’s true that higher ones tend to get more wind. that said, the floor isn’t everything — there’s also the matter of how obstructed the unit is. if you have a view of your neighbour’s utility yard or the industrial building next door, that probably translates to poor ventilation.\\xa0\\nusually, good views = good breeze, but if you go too high up and opt for a “penthouse”, it might get too hot since you bear the full brunt of the sun.\\nas for “no west-facing”, this is to avoid getting the afternoon sun shining directly into your flat. even if you’re home only in the evenings, you might find it warm and stuffy (it’s said that concrete walls trap heat).\\nif you get a unit that faces east, on the other hand, you’ll still get some sun in the morning, but there’s the rest of the day for your apartment to cool down.\\nwhen viewing a flat, try to visit in the afternoon so that you can see where the sun shines. make sure there’s no air con on, and open all the windows so you can feel the air flow for yourself. even if the unit ticks all the boxes, you might still feel warm if the windows are facing the wrong way.\\n5. flat size/ specs\\nlike i mentioned, your budget would probably affect the type of flat you can afford. for example,\\xa03-room flats are typically a lot cheaper than 4-room and above in the same estate. so if you absolutely have to live in a certain central estate, you may want to consider a smaller flat.\\nof course, this is only if the living space is feasible for your family. i personally love tiny homes, but even so, it could be a real nightmare to be all up in your spouse and kids’ faces 24/7.\\n3-room hdb flats also usually come with just 1 bathroom, which is doable if you’re a couple, but not so much a family with kids who fight for the loo before school. for 2 bathrooms, you’d usually have to opt for a 4-room flat and above.\\xa0\\nanother thing to note that 4-room and 5-room hdb flats usually have the same number of bedrooms, i.e. 3 bedrooms. so before you pay a premium for a 5-room, bear in mind that it’s not going to translate into more bedrooms for your kids.\\xa0\\xa0most 5-room flats simply have larger bedrooms and a bigger living space compared to their 4-room counterparts.\\xa0\\n6. environment\\nthis is a catch-all word that describes all the non-quantitative things that don’t fit into any one category, but make a difference nonetheless.\\xa0obviously, this is going to be highly personal.\\xa0\\n\\n\\n\\n\\nread also\\n\\n\\n\\n\\n\\n\\n\\nmake the most of your 5-room hdb with fresh layout ideas\\n\\n\\n\\nsome people prize the exterior facade of the building, finding it important to have nice landscaping, well-maintained lifts and an eye-pleasing building design.\\nothers, perhaps helicopter parents, care more about the safety of the neighbourhood. cigarette butts on the floor and unsavoury characters sitting on the staircases are a no-no.\\nme, i don’t really care about all that stuff, but it was a major plus that my flat faces a park. it’s quiet and peaceful — i distinctly remember hearing only the sounds of\\xa0chirping birds and rustling trees during the visit. elsewhere in the same block, a unit facing the main road would have been a very different story.\\nwhatever the non-tangibles are, it’s hard to know what you want or don’t want at the start, but you’ll get an idea after a few viewings.\\nnotice that i didn’t include the furnishing and fittings of the place, because it varies from person to person. if you’re not terribly fussy about your living space, it’s a definite plus to find a place that’s reasonably nicely done up so you can move in with minimal or no renovation.\\nhowever, if you want every inch of your home to be bespoke, then it doesn’t even matter if the interior of the flat is in shambles. just be sure you include a budget for the renovation to get rid of the seller’s horrible maroon walls and linkin park poster collection.\\n7. remaining lease\\nit’d be ideal if your resale flat could be your forever home, but nonetheless, it’s good to take note of the remaining lease, just in case you have to sell it one day.\\nhdb flats start with 99 years on the lease when they are first built, so that means freshly mop-ed resale flats would have 94 years left. that’s the absolute longest remaining lease you can get for a resale flat.\\nas they age, though, most resale flats lose value, typically around the 30 to 40 year mark. (just like in real life, huh? ok not funny.)\\xa0\\nthis means that if you buy a flat that’s currently pretty old, you may have to resell it at a loss in the future. to avoid this, you might want to limit your search to flats that have at least about 80 years’ lease left. these newer flats are also more modern, typically requiring less renovation work.\\non the other hand, if you’re aware of the “lease decay” issue, by all means go for an older flat. these are currently quite a bit cheaper than their newer counterparts, so it might be a worthwhile trade-off.\\nthis article was first published in  moneysmart .\\n\""
      ]
     },
     "execution_count": 4,
     "metadata": {},
     "output_type": "execute_result"
    }
   ],
   "source": [
    "articles['article'].iloc[0]"
   ]
  },
  {
   "cell_type": "markdown",
   "metadata": {},
   "source": [
    "## 2. Remove special breakline characters and Punctuation"
   ]
  },
  {
   "cell_type": "code",
   "execution_count": 5,
   "metadata": {},
   "outputs": [],
   "source": [
    "articles['article']=articles['article'].str.replace(\"\\n\", \" \")\n",
    "articles['article']=articles['article'].str.replace(r'[^\\w\\s]+', '')"
   ]
  },
  {
   "cell_type": "code",
   "execution_count": 6,
   "metadata": {},
   "outputs": [
    {
     "data": {
      "text/plain": [
       "'whether youre buying an hdb resale flat as a firsttimer or just looking to upgrade now that your first bto has passed the 5 year mark choosing a resale home can be a daunting affair unlike the hdb bto route where you basically dont have a say in anything now the options are literally endless\\xa0   but that doesnt mean you shouldnt spend an entire year searching for your dream home    because after your 12th or 13th viewing everything will look the same to you instead you should make a list of as many criteria as possible to narrow down your search and no silly we dont mean en bloc potential heres a list of key factors to look at when choosing a resale flat 1 price the very first thing to consider when hunting for a resale flat is your budget if your budget is 400000 thats going to impact a lot of other factors location flat size age and so on of course what counts as within budget really varies from person to person some people want a home thats roughly the equivalent of the proceeds from their freshlysold bto while others dont mind increasing their home loans\\xa0     read also        can you afford a hdb flat when youre 35 and single    bear in mind though that you probably dont want to overstretch yourself as you might have a lot of financial commitments kids growing up parents growing old coming up at this point and stick to your budget sure your property agent might upsell you some luxurious 1 million dbss unit but is he going to pay the extra 600000 out of his pocket yeah didnt think so when thinking about your budget also consider the subsidies available to resale flat buyers for firsttimers you can get 40000 or 50000 in grants while all hdb resale flat buyers can get a 20000 grant to live within 4km of their family members my partner and i qualified for 70000 in grants when we started looking for a resale flat last year and this helped to stretch our budget of 400000 to 470000 this boost helped a lot as it opened up more options in mature estates like ang mo kio and bedok 2 location while you dont get much location options with an hdb bto flat all of a sudden you will have plenty to choose from when shopping for a resale flat before you get too carried away with your dreams of living in expensive hdb estates like queenstown or tanjong pagar bear in mind that your budget will seriously impact your location options for example while a 500000 budget would get you a comfortable 4 or 5room flat in a suburban estate like bukit panjang itd be a lot harder to find options in more central places like kallang or tiong bahru\\xa0if you diedie must stay in one of these estates be prepared to settle for a much older 3room flat for those considering taking up hdbs proximity grant of 20000 to live within 4km of your parents or married children thats a good way to narrow down the options you can use a search tool like 99co to search by radius once youve narrowed down the areas you can afford its time to consider the details\\xa0 for me having spent a decade waiting for feeder buses my one criteria was to find a place within walking distance of an mrt station i dont mind a good 20minute walk as long as i dont have to rot at the bus stop if youre the type who doesnt want the sun to mess with your carefully cultivated gothic pallor look for a place with sheltered walkways if you drive its a definite plus to be located close to an expressway entrance 3\\xa0amenities although the ubiquity of grabfood\\xa0and redmart\\xa0makes it a lot more convenient to live further than spitting distance of the nearest eatery or supermarket its still nice to have at least a kopitiam supermarket and atm nearby     read also        how to prevent your hdb flat from flooding    apart from the basic amenities listed above youll also want to look for the ones that are more tailored to your lifestyle obsessed with working out make sure theres a gym or sporting complex nearby so you dont have to drag your sorry ass all the way to tanjong pagar when you feel the urge to lift weights have a highmaintenance dog that requires monthly grooming find a place with a vet groomer and pet supply store so you dont blow all your money on ferrying lil bow wow across the island every time he needs a trim got a serious 4d habit find a unit with a singapore pools downstairs so you can scratch that itch anytime jk actually please consider living as far as possible from it 4 coolness singapore faces sunny weather almost year round so unless you enjoy coming back to a free sauna youd want to consider units that are naturally cooler most of us are familiar with the 2 rules of thumb no low floor and no westfacing units i wouldnt dismiss all low floor units but its true that higher ones tend to get more wind that said the floor isnt everything  theres also the matter of how obstructed the unit is if you have a view of your neighbours utility yard or the industrial building next door that probably translates to poor ventilation\\xa0 usually good views  good breeze but if you go too high up and opt for a penthouse it might get too hot since you bear the full brunt of the sun as for no westfacing this is to avoid getting the afternoon sun shining directly into your flat even if youre home only in the evenings you might find it warm and stuffy its said that concrete walls trap heat if you get a unit that faces east on the other hand youll still get some sun in the morning but theres the rest of the day for your apartment to cool down when viewing a flat try to visit in the afternoon so that you can see where the sun shines make sure theres no air con on and open all the windows so you can feel the air flow for yourself even if the unit ticks all the boxes you might still feel warm if the windows are facing the wrong way 5 flat size specs like i mentioned your budget would probably affect the type of flat you can afford for example\\xa03room flats are typically a lot cheaper than 4room and above in the same estate so if you absolutely have to live in a certain central estate you may want to consider a smaller flat of course this is only if the living space is feasible for your family i personally love tiny homes but even so it could be a real nightmare to be all up in your spouse and kids faces 247 3room hdb flats also usually come with just 1 bathroom which is doable if youre a couple but not so much a family with kids who fight for the loo before school for 2 bathrooms youd usually have to opt for a 4room flat and above\\xa0 another thing to note that 4room and 5room hdb flats usually have the same number of bedrooms ie 3 bedrooms so before you pay a premium for a 5room bear in mind that its not going to translate into more bedrooms for your kids\\xa0\\xa0most 5room flats simply have larger bedrooms and a bigger living space compared to their 4room counterparts\\xa0 6 environment this is a catchall word that describes all the nonquantitative things that dont fit into any one category but make a difference nonetheless\\xa0obviously this is going to be highly personal\\xa0     read also        make the most of your 5room hdb with fresh layout ideas    some people prize the exterior facade of the building finding it important to have nice landscaping wellmaintained lifts and an eyepleasing building design others perhaps helicopter parents care more about the safety of the neighbourhood cigarette butts on the floor and unsavoury characters sitting on the staircases are a nono me i dont really care about all that stuff but it was a major plus that my flat faces a park its quiet and peaceful  i distinctly remember hearing only the sounds of\\xa0chirping birds and rustling trees during the visit elsewhere in the same block a unit facing the main road would have been a very different story whatever the nontangibles are its hard to know what you want or dont want at the start but youll get an idea after a few viewings notice that i didnt include the furnishing and fittings of the place because it varies from person to person if youre not terribly fussy about your living space its a definite plus to find a place thats reasonably nicely done up so you can move in with minimal or no renovation however if you want every inch of your home to be bespoke then it doesnt even matter if the interior of the flat is in shambles just be sure you include a budget for the renovation to get rid of the sellers horrible maroon walls and linkin park poster collection 7 remaining lease itd be ideal if your resale flat could be your forever home but nonetheless its good to take note of the remaining lease just in case you have to sell it one day hdb flats start with 99 years on the lease when they are first built so that means freshly moped resale flats would have 94 years left thats the absolute longest remaining lease you can get for a resale flat as they age though most resale flats lose value typically around the 30 to 40 year mark just like in real life huh ok not funny\\xa0 this means that if you buy a flat thats currently pretty old you may have to resell it at a loss in the future to avoid this you might want to limit your search to flats that have at least about 80 years lease left these newer flats are also more modern typically requiring less renovation work on the other hand if youre aware of the lease decay issue by all means go for an older flat these are currently quite a bit cheaper than their newer counterparts so it might be a worthwhile tradeoff this article was first published in  moneysmart  '"
      ]
     },
     "execution_count": 6,
     "metadata": {},
     "output_type": "execute_result"
    }
   ],
   "source": [
    "articles['article'].iloc[0]"
   ]
  },
  {
   "cell_type": "markdown",
   "metadata": {},
   "source": [
    "## 3. Remove Numbers"
   ]
  },
  {
   "cell_type": "code",
   "execution_count": 7,
   "metadata": {},
   "outputs": [],
   "source": [
    "articles['article'] = articles['article'].str.replace('\\d+', '')"
   ]
  },
  {
   "cell_type": "code",
   "execution_count": 8,
   "metadata": {},
   "outputs": [
    {
     "data": {
      "text/plain": [
       "'whether youre buying an hdb resale flat as a firsttimer or just looking to upgrade now that your first bto has passed the  year mark choosing a resale home can be a daunting affair unlike the hdb bto route where you basically dont have a say in anything now the options are literally endless\\xa0   but that doesnt mean you shouldnt spend an entire year searching for your dream home    because after your th or th viewing everything will look the same to you instead you should make a list of as many criteria as possible to narrow down your search and no silly we dont mean en bloc potential heres a list of key factors to look at when choosing a resale flat  price the very first thing to consider when hunting for a resale flat is your budget if your budget is  thats going to impact a lot of other factors location flat size age and so on of course what counts as within budget really varies from person to person some people want a home thats roughly the equivalent of the proceeds from their freshlysold bto while others dont mind increasing their home loans\\xa0     read also        can you afford a hdb flat when youre  and single    bear in mind though that you probably dont want to overstretch yourself as you might have a lot of financial commitments kids growing up parents growing old coming up at this point and stick to your budget sure your property agent might upsell you some luxurious  million dbss unit but is he going to pay the extra  out of his pocket yeah didnt think so when thinking about your budget also consider the subsidies available to resale flat buyers for firsttimers you can get  or  in grants while all hdb resale flat buyers can get a  grant to live within km of their family members my partner and i qualified for  in grants when we started looking for a resale flat last year and this helped to stretch our budget of  to  this boost helped a lot as it opened up more options in mature estates like ang mo kio and bedok  location while you dont get much location options with an hdb bto flat all of a sudden you will have plenty to choose from when shopping for a resale flat before you get too carried away with your dreams of living in expensive hdb estates like queenstown or tanjong pagar bear in mind that your budget will seriously impact your location options for example while a  budget would get you a comfortable  or room flat in a suburban estate like bukit panjang itd be a lot harder to find options in more central places like kallang or tiong bahru\\xa0if you diedie must stay in one of these estates be prepared to settle for a much older room flat for those considering taking up hdbs proximity grant of  to live within km of your parents or married children thats a good way to narrow down the options you can use a search tool like co to search by radius once youve narrowed down the areas you can afford its time to consider the details\\xa0 for me having spent a decade waiting for feeder buses my one criteria was to find a place within walking distance of an mrt station i dont mind a good minute walk as long as i dont have to rot at the bus stop if youre the type who doesnt want the sun to mess with your carefully cultivated gothic pallor look for a place with sheltered walkways if you drive its a definite plus to be located close to an expressway entrance \\xa0amenities although the ubiquity of grabfood\\xa0and redmart\\xa0makes it a lot more convenient to live further than spitting distance of the nearest eatery or supermarket its still nice to have at least a kopitiam supermarket and atm nearby     read also        how to prevent your hdb flat from flooding    apart from the basic amenities listed above youll also want to look for the ones that are more tailored to your lifestyle obsessed with working out make sure theres a gym or sporting complex nearby so you dont have to drag your sorry ass all the way to tanjong pagar when you feel the urge to lift weights have a highmaintenance dog that requires monthly grooming find a place with a vet groomer and pet supply store so you dont blow all your money on ferrying lil bow wow across the island every time he needs a trim got a serious d habit find a unit with a singapore pools downstairs so you can scratch that itch anytime jk actually please consider living as far as possible from it  coolness singapore faces sunny weather almost year round so unless you enjoy coming back to a free sauna youd want to consider units that are naturally cooler most of us are familiar with the  rules of thumb no low floor and no westfacing units i wouldnt dismiss all low floor units but its true that higher ones tend to get more wind that said the floor isnt everything  theres also the matter of how obstructed the unit is if you have a view of your neighbours utility yard or the industrial building next door that probably translates to poor ventilation\\xa0 usually good views  good breeze but if you go too high up and opt for a penthouse it might get too hot since you bear the full brunt of the sun as for no westfacing this is to avoid getting the afternoon sun shining directly into your flat even if youre home only in the evenings you might find it warm and stuffy its said that concrete walls trap heat if you get a unit that faces east on the other hand youll still get some sun in the morning but theres the rest of the day for your apartment to cool down when viewing a flat try to visit in the afternoon so that you can see where the sun shines make sure theres no air con on and open all the windows so you can feel the air flow for yourself even if the unit ticks all the boxes you might still feel warm if the windows are facing the wrong way  flat size specs like i mentioned your budget would probably affect the type of flat you can afford for example\\xa0room flats are typically a lot cheaper than room and above in the same estate so if you absolutely have to live in a certain central estate you may want to consider a smaller flat of course this is only if the living space is feasible for your family i personally love tiny homes but even so it could be a real nightmare to be all up in your spouse and kids faces  room hdb flats also usually come with just  bathroom which is doable if youre a couple but not so much a family with kids who fight for the loo before school for  bathrooms youd usually have to opt for a room flat and above\\xa0 another thing to note that room and room hdb flats usually have the same number of bedrooms ie  bedrooms so before you pay a premium for a room bear in mind that its not going to translate into more bedrooms for your kids\\xa0\\xa0most room flats simply have larger bedrooms and a bigger living space compared to their room counterparts\\xa0  environment this is a catchall word that describes all the nonquantitative things that dont fit into any one category but make a difference nonetheless\\xa0obviously this is going to be highly personal\\xa0     read also        make the most of your room hdb with fresh layout ideas    some people prize the exterior facade of the building finding it important to have nice landscaping wellmaintained lifts and an eyepleasing building design others perhaps helicopter parents care more about the safety of the neighbourhood cigarette butts on the floor and unsavoury characters sitting on the staircases are a nono me i dont really care about all that stuff but it was a major plus that my flat faces a park its quiet and peaceful  i distinctly remember hearing only the sounds of\\xa0chirping birds and rustling trees during the visit elsewhere in the same block a unit facing the main road would have been a very different story whatever the nontangibles are its hard to know what you want or dont want at the start but youll get an idea after a few viewings notice that i didnt include the furnishing and fittings of the place because it varies from person to person if youre not terribly fussy about your living space its a definite plus to find a place thats reasonably nicely done up so you can move in with minimal or no renovation however if you want every inch of your home to be bespoke then it doesnt even matter if the interior of the flat is in shambles just be sure you include a budget for the renovation to get rid of the sellers horrible maroon walls and linkin park poster collection  remaining lease itd be ideal if your resale flat could be your forever home but nonetheless its good to take note of the remaining lease just in case you have to sell it one day hdb flats start with  years on the lease when they are first built so that means freshly moped resale flats would have  years left thats the absolute longest remaining lease you can get for a resale flat as they age though most resale flats lose value typically around the  to  year mark just like in real life huh ok not funny\\xa0 this means that if you buy a flat thats currently pretty old you may have to resell it at a loss in the future to avoid this you might want to limit your search to flats that have at least about  years lease left these newer flats are also more modern typically requiring less renovation work on the other hand if youre aware of the lease decay issue by all means go for an older flat these are currently quite a bit cheaper than their newer counterparts so it might be a worthwhile tradeoff this article was first published in  moneysmart  '"
      ]
     },
     "execution_count": 8,
     "metadata": {},
     "output_type": "execute_result"
    }
   ],
   "source": [
    "articles['article'].iloc[0]"
   ]
  },
  {
   "cell_type": "markdown",
   "metadata": {},
   "source": [
    "## 4. Lemmatization of text"
   ]
  },
  {
   "cell_type": "code",
   "execution_count": 9,
   "metadata": {},
   "outputs": [],
   "source": [
    "lemmatizer = WordNetLemmatizer() "
   ]
  },
  {
   "cell_type": "code",
   "execution_count": 10,
   "metadata": {},
   "outputs": [],
   "source": [
    "def lemmatize_text(raw_text):\n",
    "    raw_text_words = raw_text.split(\" \")\n",
    "    \n",
    "    lemmatized_text_list = []\n",
    "    \n",
    "    for word in raw_text_words:\n",
    "        lemmatized_text_list.append(lemmatizer.lemmatize(word, pos=\"v\"))\n",
    "        \n",
    "    lemmatized_text = \" \".join(lemmatized_text_list)\n",
    "    \n",
    "    return lemmatized_text"
   ]
  },
  {
   "cell_type": "code",
   "execution_count": 11,
   "metadata": {},
   "outputs": [],
   "source": [
    "articles['article']=articles['article'].apply(lemmatize_text)"
   ]
  },
  {
   "cell_type": "code",
   "execution_count": 12,
   "metadata": {},
   "outputs": [
    {
     "data": {
      "text/plain": [
       "'whether youre buy an hdb resale flat as a firsttimer or just look to upgrade now that your first bto have pass the  year mark choose a resale home can be a daunt affair unlike the hdb bto route where you basically dont have a say in anything now the options be literally endless\\xa0   but that doesnt mean you shouldnt spend an entire year search for your dream home    because after your th or th view everything will look the same to you instead you should make a list of as many criteria as possible to narrow down your search and no silly we dont mean en bloc potential heres a list of key factor to look at when choose a resale flat  price the very first thing to consider when hunt for a resale flat be your budget if your budget be  thats go to impact a lot of other factor location flat size age and so on of course what count as within budget really vary from person to person some people want a home thats roughly the equivalent of the proceed from their freshlysold bto while others dont mind increase their home loans\\xa0     read also        can you afford a hdb flat when youre  and single    bear in mind though that you probably dont want to overstretch yourself as you might have a lot of financial commitments kid grow up parent grow old come up at this point and stick to your budget sure your property agent might upsell you some luxurious  million dbss unit but be he go to pay the extra  out of his pocket yeah didnt think so when think about your budget also consider the subsidies available to resale flat buyers for firsttimers you can get  or  in grant while all hdb resale flat buyers can get a  grant to live within km of their family members my partner and i qualify for  in grant when we start look for a resale flat last year and this help to stretch our budget of  to  this boost help a lot as it open up more options in mature estates like ang mo kio and bedok  location while you dont get much location options with an hdb bto flat all of a sudden you will have plenty to choose from when shop for a resale flat before you get too carry away with your dream of live in expensive hdb estates like queenstown or tanjong pagar bear in mind that your budget will seriously impact your location options for example while a  budget would get you a comfortable  or room flat in a suburban estate like bukit panjang itd be a lot harder to find options in more central place like kallang or tiong bahru\\xa0if you diedie must stay in one of these estates be prepare to settle for a much older room flat for those consider take up hdbs proximity grant of  to live within km of your parent or marry children thats a good way to narrow down the options you can use a search tool like co to search by radius once youve narrow down the areas you can afford its time to consider the details\\xa0 for me have spend a decade wait for feeder bus my one criteria be to find a place within walk distance of an mrt station i dont mind a good minute walk as long as i dont have to rot at the bus stop if youre the type who doesnt want the sun to mess with your carefully cultivate gothic pallor look for a place with shelter walkways if you drive its a definite plus to be locate close to an expressway entrance \\xa0amenities although the ubiquity of grabfood\\xa0and redmart\\xa0makes it a lot more convenient to live further than spit distance of the nearest eatery or supermarket its still nice to have at least a kopitiam supermarket and atm nearby     read also        how to prevent your hdb flat from flood    apart from the basic amenities list above youll also want to look for the ones that be more tailor to your lifestyle obsess with work out make sure theres a gym or sport complex nearby so you dont have to drag your sorry ass all the way to tanjong pagar when you feel the urge to lift weight have a highmaintenance dog that require monthly groom find a place with a vet groomer and pet supply store so you dont blow all your money on ferry lil bow wow across the island every time he need a trim get a serious d habit find a unit with a singapore pool downstairs so you can scratch that itch anytime jk actually please consider live as far as possible from it  coolness singapore face sunny weather almost year round so unless you enjoy come back to a free sauna youd want to consider units that be naturally cooler most of us be familiar with the  rule of thumb no low floor and no westfacing units i wouldnt dismiss all low floor units but its true that higher ones tend to get more wind that say the floor isnt everything  theres also the matter of how obstruct the unit be if you have a view of your neighbour utility yard or the industrial build next door that probably translate to poor ventilation\\xa0 usually good view  good breeze but if you go too high up and opt for a penthouse it might get too hot since you bear the full brunt of the sun as for no westfacing this be to avoid get the afternoon sun shin directly into your flat even if youre home only in the even you might find it warm and stuffy its say that concrete wall trap heat if you get a unit that face east on the other hand youll still get some sun in the morning but theres the rest of the day for your apartment to cool down when view a flat try to visit in the afternoon so that you can see where the sun shin make sure theres no air con on and open all the windows so you can feel the air flow for yourself even if the unit tick all the box you might still feel warm if the windows be face the wrong way  flat size specs like i mention your budget would probably affect the type of flat you can afford for example\\xa0room flats be typically a lot cheaper than room and above in the same estate so if you absolutely have to live in a certain central estate you may want to consider a smaller flat of course this be only if the live space be feasible for your family i personally love tiny home but even so it could be a real nightmare to be all up in your spouse and kid face  room hdb flats also usually come with just  bathroom which be doable if youre a couple but not so much a family with kid who fight for the loo before school for  bathrooms youd usually have to opt for a room flat and above\\xa0 another thing to note that room and room hdb flats usually have the same number of bedrooms ie  bedrooms so before you pay a premium for a room bear in mind that its not go to translate into more bedrooms for your kids\\xa0\\xa0most room flats simply have larger bedrooms and a bigger live space compare to their room counterparts\\xa0  environment this be a catchall word that describe all the nonquantitative things that dont fit into any one category but make a difference nonetheless\\xa0obviously this be go to be highly personal\\xa0     read also        make the most of your room hdb with fresh layout ideas    some people prize the exterior facade of the build find it important to have nice landscape wellmaintained lift and an eyepleasing build design others perhaps helicopter parent care more about the safety of the neighbourhood cigarette butt on the floor and unsavoury character sit on the staircases be a nono me i dont really care about all that stuff but it be a major plus that my flat face a park its quiet and peaceful  i distinctly remember hear only the sound of\\xa0chirping bird and rustle tree during the visit elsewhere in the same block a unit face the main road would have be a very different story whatever the nontangibles be its hard to know what you want or dont want at the start but youll get an idea after a few view notice that i didnt include the furnish and fittings of the place because it vary from person to person if youre not terribly fussy about your live space its a definite plus to find a place thats reasonably nicely do up so you can move in with minimal or no renovation however if you want every inch of your home to be bespeak then it doesnt even matter if the interior of the flat be in shamble just be sure you include a budget for the renovation to get rid of the sellers horrible maroon wall and linkin park poster collection  remain lease itd be ideal if your resale flat could be your forever home but nonetheless its good to take note of the remain lease just in case you have to sell it one day hdb flats start with  years on the lease when they be first build so that mean freshly mop resale flats would have  years leave thats the absolute longest remain lease you can get for a resale flat as they age though most resale flats lose value typically around the  to  year mark just like in real life huh ok not funny\\xa0 this mean that if you buy a flat thats currently pretty old you may have to resell it at a loss in the future to avoid this you might want to limit your search to flats that have at least about  years lease leave these newer flats be also more modern typically require less renovation work on the other hand if youre aware of the lease decay issue by all mean go for an older flat these be currently quite a bite cheaper than their newer counterparts so it might be a worthwhile tradeoff this article be first publish in  moneysmart  '"
      ]
     },
     "execution_count": 12,
     "metadata": {},
     "output_type": "execute_result"
    }
   ],
   "source": [
    "articles['article'].iloc[0]"
   ]
  },
  {
   "cell_type": "markdown",
   "metadata": {},
   "source": [
    "## 5. Remove Stopwords"
   ]
  },
  {
   "cell_type": "code",
   "execution_count": 13,
   "metadata": {},
   "outputs": [],
   "source": [
    "stop_words = list(stopwords.words('english'))"
   ]
  },
  {
   "cell_type": "code",
   "execution_count": 14,
   "metadata": {},
   "outputs": [],
   "source": [
    "def remove_stopwords(raw_text):\n",
    "    \n",
    "    raw_text_words = raw_text.split(\" \")\n",
    "    \n",
    "    stopwords_removed_text_list = []\n",
    "    \n",
    "    for word in raw_text_words:\n",
    "        if word.lower() not in stop_words:\n",
    "            stopwords_removed_text_list.append(word)\n",
    "        \n",
    "    stopwords_removed_text = \" \".join(stopwords_removed_text_list)\n",
    "    \n",
    "    return stopwords_removed_text"
   ]
  },
  {
   "cell_type": "code",
   "execution_count": 15,
   "metadata": {},
   "outputs": [],
   "source": [
    "articles['article']=articles['article'].apply(remove_stopwords)"
   ]
  },
  {
   "cell_type": "code",
   "execution_count": 16,
   "metadata": {},
   "outputs": [
    {
     "data": {
      "text/plain": [
       "'whether youre buy hdb resale flat firsttimer look upgrade first bto pass  year mark choose resale home daunt affair unlike hdb bto route basically dont say anything options literally endless\\xa0   doesnt mean shouldnt spend entire year search dream home    th th view everything look instead make list many criteria possible narrow search silly dont mean en bloc potential heres list key factor look choose resale flat  price first thing consider hunt resale flat budget budget  thats go impact lot factor location flat size age course count within budget really vary person person people want home thats roughly equivalent proceed freshlysold bto others dont mind increase home loans\\xa0     read also        afford hdb flat youre  single    bear mind though probably dont want overstretch might lot financial commitments kid grow parent grow old come point stick budget sure property agent might upsell luxurious  million dbss unit go pay extra  pocket yeah didnt think think budget also consider subsidies available resale flat buyers firsttimers get   grant hdb resale flat buyers get  grant live within km family members partner qualify  grant start look resale flat last year help stretch budget   boost help lot open options mature estates like ang mo kio bedok  location dont get much location options hdb bto flat sudden plenty choose shop resale flat get carry away dream live expensive hdb estates like queenstown tanjong pagar bear mind budget seriously impact location options example  budget would get comfortable  room flat suburban estate like bukit panjang itd lot harder find options central place like kallang tiong bahru\\xa0if diedie must stay one estates prepare settle much older room flat consider take hdbs proximity grant  live within km parent marry children thats good way narrow options use search tool like co search radius youve narrow areas afford time consider details\\xa0 spend decade wait feeder bus one criteria find place within walk distance mrt station dont mind good minute walk long dont rot bus stop youre type doesnt want sun mess carefully cultivate gothic pallor look place shelter walkways drive definite plus locate close expressway entrance \\xa0amenities although ubiquity grabfood\\xa0and redmart\\xa0makes lot convenient live spit distance nearest eatery supermarket still nice least kopitiam supermarket atm nearby     read also        prevent hdb flat flood    apart basic amenities list youll also want look ones tailor lifestyle obsess work make sure theres gym sport complex nearby dont drag sorry ass way tanjong pagar feel urge lift weight highmaintenance dog require monthly groom find place vet groomer pet supply store dont blow money ferry lil bow wow across island every time need trim get serious habit find unit singapore pool downstairs scratch itch anytime jk actually please consider live far possible  coolness singapore face sunny weather almost year round unless enjoy come back free sauna youd want consider units naturally cooler us familiar  rule thumb low floor westfacing units wouldnt dismiss low floor units true higher ones tend get wind say floor isnt everything  theres also matter obstruct unit view neighbour utility yard industrial build next door probably translate poor ventilation\\xa0 usually good view  good breeze go high opt penthouse might get hot since bear full brunt sun westfacing avoid get afternoon sun shin directly flat even youre home even might find warm stuffy say concrete wall trap heat get unit face east hand youll still get sun morning theres rest day apartment cool view flat try visit afternoon see sun shin make sure theres air con open windows feel air flow even unit tick box might still feel warm windows face wrong way  flat size specs like mention budget would probably affect type flat afford example\\xa0room flats typically lot cheaper room estate absolutely live certain central estate may want consider smaller flat course live space feasible family personally love tiny home even could real nightmare spouse kid face  room hdb flats also usually come  bathroom doable youre couple much family kid fight loo school  bathrooms youd usually opt room flat above\\xa0 another thing note room room hdb flats usually number bedrooms ie  bedrooms pay premium room bear mind go translate bedrooms kids\\xa0\\xa0most room flats simply larger bedrooms bigger live space compare room counterparts\\xa0  environment catchall word describe nonquantitative things dont fit one category make difference nonetheless\\xa0obviously go highly personal\\xa0     read also        make room hdb fresh layout ideas    people prize exterior facade build find important nice landscape wellmaintained lift eyepleasing build design others perhaps helicopter parent care safety neighbourhood cigarette butt floor unsavoury character sit staircases nono dont really care stuff major plus flat face park quiet peaceful  distinctly remember hear sound of\\xa0chirping bird rustle tree visit elsewhere block unit face main road would different story whatever nontangibles hard know want dont want start youll get idea view notice didnt include furnish fittings place vary person person youre terribly fussy live space definite plus find place thats reasonably nicely move minimal renovation however want every inch home bespeak doesnt even matter interior flat shamble sure include budget renovation get rid sellers horrible maroon wall linkin park poster collection  remain lease itd ideal resale flat could forever home nonetheless good take note remain lease case sell one day hdb flats start  years lease first build mean freshly mop resale flats would  years leave thats absolute longest remain lease get resale flat age though resale flats lose value typically around   year mark like real life huh ok funny\\xa0 mean buy flat thats currently pretty old may resell loss future avoid might want limit search flats least  years lease leave newer flats also modern typically require less renovation work hand youre aware lease decay issue mean go older flat currently quite bite cheaper newer counterparts might worthwhile tradeoff article first publish  moneysmart  '"
      ]
     },
     "execution_count": 16,
     "metadata": {},
     "output_type": "execute_result"
    }
   ],
   "source": [
    "articles['article'].iloc[0]"
   ]
  },
  {
   "cell_type": "markdown",
   "metadata": {},
   "source": [
    "## 6. Category Encoding"
   ]
  },
  {
   "cell_type": "code",
   "execution_count": 17,
   "metadata": {},
   "outputs": [
    {
     "data": {
      "text/plain": [
       "array(['Lifestyle', 'World', 'Technology', 'Business', 'Singapore',\n",
       "       'Sports'], dtype=object)"
      ]
     },
     "execution_count": 17,
     "metadata": {},
     "output_type": "execute_result"
    }
   ],
   "source": [
    "articles['category'].unique()"
   ]
  },
  {
   "cell_type": "code",
   "execution_count": 18,
   "metadata": {},
   "outputs": [],
   "source": [
    "category_mapping = {\n",
    "    'Singapore': 1,\n",
    "    'Sports': 2,\n",
    "    'Lifestyle': 3,\n",
    "    'World': 4,\n",
    "    'Business': 5,\n",
    "    'Technology': 6\n",
    "}"
   ]
  },
  {
   "cell_type": "code",
   "execution_count": 19,
   "metadata": {},
   "outputs": [
    {
     "data": {
      "text/html": [
       "<div>\n",
       "<style scoped>\n",
       "    .dataframe tbody tr th:only-of-type {\n",
       "        vertical-align: middle;\n",
       "    }\n",
       "\n",
       "    .dataframe tbody tr th {\n",
       "        vertical-align: top;\n",
       "    }\n",
       "\n",
       "    .dataframe thead th {\n",
       "        text-align: right;\n",
       "    }\n",
       "</style>\n",
       "<table border=\"1\" class=\"dataframe\">\n",
       "  <thead>\n",
       "    <tr style=\"text-align: right;\">\n",
       "      <th></th>\n",
       "      <th>source</th>\n",
       "      <th>title</th>\n",
       "      <th>article</th>\n",
       "      <th>category</th>\n",
       "      <th>length_characters</th>\n",
       "      <th>length_words</th>\n",
       "      <th>category_code</th>\n",
       "    </tr>\n",
       "  </thead>\n",
       "  <tbody>\n",
       "    <tr>\n",
       "      <th>0</th>\n",
       "      <td>AsiaOne</td>\n",
       "      <td>7 factors to consider when looking for an HDB ...</td>\n",
       "      <td>whether youre buy hdb resale flat firsttimer l...</td>\n",
       "      <td>Lifestyle</td>\n",
       "      <td>9771</td>\n",
       "      <td>1769</td>\n",
       "      <td>3</td>\n",
       "    </tr>\n",
       "    <tr>\n",
       "      <th>1</th>\n",
       "      <td>The Straits Times</td>\n",
       "      <td>Jung Joon-young first to be charged in K-pop s...</td>\n",
       "      <td>seoul  first arrest kpop scandal singer jung ...</td>\n",
       "      <td>Lifestyle</td>\n",
       "      <td>2162</td>\n",
       "      <td>324</td>\n",
       "      <td>3</td>\n",
       "    </tr>\n",
       "    <tr>\n",
       "      <th>2</th>\n",
       "      <td>The Straits Times</td>\n",
       "      <td>Music mogul Dr Dre gets flak over boast that h...</td>\n",
       "      <td>los angeles  look talk lack class netizens im...</td>\n",
       "      <td>Lifestyle</td>\n",
       "      <td>1108</td>\n",
       "      <td>182</td>\n",
       "      <td>3</td>\n",
       "    </tr>\n",
       "    <tr>\n",
       "      <th>3</th>\n",
       "      <td>Channel News Asia</td>\n",
       "      <td>NaN</td>\n",
       "      <td>think colonel sanders  quirky enough apparentl...</td>\n",
       "      <td>Lifestyle</td>\n",
       "      <td>1193</td>\n",
       "      <td>207</td>\n",
       "      <td>3</td>\n",
       "    </tr>\n",
       "    <tr>\n",
       "      <th>4</th>\n",
       "      <td>Channel News Asia</td>\n",
       "      <td>NaN</td>\n",
       "      <td>mexican government question louis vuittons use...</td>\n",
       "      <td>Lifestyle</td>\n",
       "      <td>1484</td>\n",
       "      <td>231</td>\n",
       "      <td>3</td>\n",
       "    </tr>\n",
       "  </tbody>\n",
       "</table>\n",
       "</div>"
      ],
      "text/plain": [
       "              source                                              title  \\\n",
       "0            AsiaOne  7 factors to consider when looking for an HDB ...   \n",
       "1  The Straits Times  Jung Joon-young first to be charged in K-pop s...   \n",
       "2  The Straits Times  Music mogul Dr Dre gets flak over boast that h...   \n",
       "3  Channel News Asia                                                NaN   \n",
       "4  Channel News Asia                                                NaN   \n",
       "\n",
       "                                             article   category  \\\n",
       "0  whether youre buy hdb resale flat firsttimer l...  Lifestyle   \n",
       "1   seoul  first arrest kpop scandal singer jung ...  Lifestyle   \n",
       "2   los angeles  look talk lack class netizens im...  Lifestyle   \n",
       "3  think colonel sanders  quirky enough apparentl...  Lifestyle   \n",
       "4  mexican government question louis vuittons use...  Lifestyle   \n",
       "\n",
       "   length_characters  length_words  category_code  \n",
       "0               9771          1769              3  \n",
       "1               2162           324              3  \n",
       "2               1108           182              3  \n",
       "3               1193           207              3  \n",
       "4               1484           231              3  "
      ]
     },
     "execution_count": 19,
     "metadata": {},
     "output_type": "execute_result"
    }
   ],
   "source": [
    "articles['category_code']=articles['category']\n",
    "processed_articles = articles.replace({'category_code':category_mapping})\n",
    "processed_articles=processed_articles.reset_index(drop=True)\n",
    "processed_articles.head()"
   ]
  },
  {
   "cell_type": "code",
   "execution_count": 20,
   "metadata": {},
   "outputs": [],
   "source": [
    "#Export to Serialized Object\n",
    "with open('Pickles/all_articles_processed.pickle', 'wb') as output:\n",
    "    pickle.dump(processed_articles, output)"
   ]
  },
  {
   "cell_type": "code",
   "execution_count": null,
   "metadata": {},
   "outputs": [],
   "source": []
  }
 ],
 "metadata": {
  "kernelspec": {
   "display_name": "Python 3",
   "language": "python",
   "name": "python3"
  },
  "language_info": {
   "codemirror_mode": {
    "name": "ipython",
    "version": 3
   },
   "file_extension": ".py",
   "mimetype": "text/x-python",
   "name": "python",
   "nbconvert_exporter": "python",
   "pygments_lexer": "ipython3",
   "version": "3.7.3"
  }
 },
 "nbformat": 4,
 "nbformat_minor": 2
}
